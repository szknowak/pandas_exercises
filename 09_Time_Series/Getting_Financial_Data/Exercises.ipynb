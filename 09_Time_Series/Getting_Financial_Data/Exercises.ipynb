{
 "cells": [
  {
   "cell_type": "markdown",
   "metadata": {},
   "source": [
    "# Getting Financial Data - Pandas Datareader"
   ]
  },
  {
   "cell_type": "markdown",
   "metadata": {},
   "source": [
    "### Introduction:\n",
    "\n",
    "This time you will get data from a website.\n",
    "\n",
    "\n",
    "### Step 1. Import the necessary libraries"
   ]
  },
  {
   "cell_type": "code",
   "execution_count": 18,
   "metadata": {},
   "outputs": [],
   "source": [
    "import pandas as pd \n",
    "import numpy as np\n",
    "import datetime as dt\n",
    "import pandas_datareader.data as web\n",
    "import os\n",
    "\n",
    "os.environ['ALPHA_VANTAGE_API_KEY'] = 'LKN0TO4B6BN5L8AH'"
   ]
  },
  {
   "cell_type": "markdown",
   "metadata": {},
   "source": [
    "### Step 2. Create your time range (start and end variables). The start date should be 01/01/2015 and the end should today (whatever your today is)."
   ]
  },
  {
   "cell_type": "code",
   "execution_count": 17,
   "metadata": {},
   "outputs": [],
   "source": [
    "start = dt.datetime(2015, 1, 1)\n",
    "end = dt.datetime(2025, 4, 24)"
   ]
  },
  {
   "cell_type": "markdown",
   "metadata": {},
   "source": [
    "### Step 3. Get an API key for one of the APIs that are supported by Pandas Datareader, preferably for AlphaVantage.\n",
    "\n",
    "If you do not have an API key for any of the supported APIs, it is easiest to get one for [AlphaVantage](https://www.alphavantage.co/support/#api-key). (Note that the API key is shown directly after the signup. You do *not* receive it via e-mail.)\n",
    "\n",
    "(For a full list of the APIs that are supported by Pandas Datareader, [see here](https://pydata.github.io/pandas-datareader/readers/index.html). As the APIs are provided by third parties, this list may change.)"
   ]
  },
  {
   "cell_type": "markdown",
   "metadata": {},
   "source": [
    "### Step 4. Use Pandas Datarader to read the daily time series for the Apple stock (ticker symbol AAPL) between 01/01/2015 and today, assign it to df_apple and print it."
   ]
  },
  {
   "cell_type": "code",
   "execution_count": 25,
   "metadata": {},
   "outputs": [
    {
     "data": {
      "application/vnd.microsoft.datawrangler.viewer.v0+json": {
       "columns": [
        {
         "name": "index",
         "rawType": "object",
         "type": "string"
        },
        {
         "name": "open",
         "rawType": "float64",
         "type": "float"
        },
        {
         "name": "high",
         "rawType": "float64",
         "type": "float"
        },
        {
         "name": "low",
         "rawType": "float64",
         "type": "float"
        },
        {
         "name": "close",
         "rawType": "float64",
         "type": "float"
        },
        {
         "name": "volume",
         "rawType": "int64",
         "type": "integer"
        }
       ],
       "conversionMethod": "pd.DataFrame",
       "ref": "41eb98ca-4901-418f-93a0-93238b7ef2ce",
       "rows": [
        [
         "2015-01-02",
         "111.39",
         "111.44",
         "107.35",
         "109.33",
         "53204626"
        ],
        [
         "2015-01-05",
         "108.29",
         "108.65",
         "105.41",
         "106.25",
         "64285491"
        ],
        [
         "2015-01-06",
         "106.54",
         "107.43",
         "104.63",
         "106.26",
         "65797116"
        ],
        [
         "2015-01-07",
         "107.2",
         "108.2",
         "106.695",
         "107.75",
         "40105934"
        ],
        [
         "2015-01-08",
         "109.23",
         "112.15",
         "108.7",
         "111.89",
         "59364547"
        ],
        [
         "2015-01-09",
         "112.67",
         "113.25",
         "110.21",
         "112.01",
         "53315099"
        ],
        [
         "2015-01-12",
         "112.6",
         "112.63",
         "108.8",
         "109.25",
         "49650790"
        ],
        [
         "2015-01-13",
         "111.43",
         "112.8",
         "108.91",
         "110.22",
         "67091928"
        ],
        [
         "2015-01-14",
         "109.04",
         "110.49",
         "108.5",
         "109.8",
         "48956588"
        ],
        [
         "2015-01-15",
         "110.0",
         "110.06",
         "106.66",
         "106.82",
         "60013996"
        ],
        [
         "2015-01-16",
         "107.03",
         "107.58",
         "105.2",
         "105.99",
         "78513345"
        ],
        [
         "2015-01-20",
         "107.84",
         "108.9667",
         "106.5",
         "108.72",
         "49899907"
        ],
        [
         "2015-01-21",
         "108.95",
         "111.06",
         "108.27",
         "109.55",
         "48575897"
        ],
        [
         "2015-01-22",
         "110.26",
         "112.47",
         "109.72",
         "112.4",
         "53796409"
        ],
        [
         "2015-01-23",
         "112.3",
         "113.75",
         "111.53",
         "112.98",
         "46464828"
        ],
        [
         "2015-01-26",
         "113.74",
         "114.3626",
         "112.8",
         "113.1",
         "55614979"
        ],
        [
         "2015-01-27",
         "112.42",
         "112.48",
         "109.03",
         "109.14",
         "95568749"
        ],
        [
         "2015-01-28",
         "117.625",
         "118.12",
         "115.31",
         "115.31",
         "146477063"
        ],
        [
         "2015-01-29",
         "116.32",
         "119.19",
         "115.56",
         "118.9",
         "84436432"
        ],
        [
         "2015-01-30",
         "118.4",
         "120.0",
         "116.85",
         "117.16",
         "83745461"
        ],
        [
         "2015-02-02",
         "118.05",
         "119.17",
         "116.08",
         "118.63",
         "62739100"
        ],
        [
         "2015-02-03",
         "118.5",
         "119.09",
         "117.61",
         "118.65",
         "51915749"
        ],
        [
         "2015-02-04",
         "118.5",
         "120.51",
         "118.309",
         "119.56",
         "70149743"
        ],
        [
         "2015-02-05",
         "120.02",
         "120.23",
         "119.25",
         "119.94",
         "42246245"
        ],
        [
         "2015-02-06",
         "120.02",
         "120.25",
         "118.45",
         "118.93",
         "43706567"
        ],
        [
         "2015-02-09",
         "118.55",
         "119.84",
         "118.43",
         "119.72",
         "38889797"
        ],
        [
         "2015-02-10",
         "120.17",
         "122.15",
         "120.16",
         "122.02",
         "62008506"
        ],
        [
         "2015-02-11",
         "122.77",
         "124.92",
         "122.5",
         "124.88",
         "73561797"
        ],
        [
         "2015-02-12",
         "126.06",
         "127.48",
         "125.57",
         "126.46",
         "74474466"
        ],
        [
         "2015-02-13",
         "127.28",
         "127.28",
         "125.65",
         "127.08",
         "54272219"
        ],
        [
         "2015-02-17",
         "127.49",
         "128.88",
         "126.92",
         "127.83",
         "63152405"
        ],
        [
         "2015-02-18",
         "127.625",
         "128.78",
         "127.45",
         "128.715",
         "44891737"
        ],
        [
         "2015-02-19",
         "128.48",
         "129.03",
         "128.33",
         "128.45",
         "37362381"
        ],
        [
         "2015-02-20",
         "128.62",
         "129.5",
         "128.05",
         "129.495",
         "48948419"
        ],
        [
         "2015-02-23",
         "130.02",
         "133.0",
         "129.66",
         "133.0",
         "70974110"
        ],
        [
         "2015-02-24",
         "132.94",
         "133.6",
         "131.17",
         "132.17",
         "69228130"
        ],
        [
         "2015-02-25",
         "131.56",
         "131.6",
         "128.15",
         "128.79",
         "74711746"
        ],
        [
         "2015-02-26",
         "128.785",
         "130.87",
         "126.61",
         "130.415",
         "91287529"
        ],
        [
         "2015-02-27",
         "130.0",
         "130.57",
         "128.24",
         "128.46",
         "62014847"
        ],
        [
         "2015-03-02",
         "129.25",
         "130.28",
         "128.3",
         "129.09",
         "48096663"
        ],
        [
         "2015-03-03",
         "128.96",
         "129.52",
         "128.09",
         "129.36",
         "37816283"
        ],
        [
         "2015-03-04",
         "129.1",
         "129.56",
         "128.32",
         "128.54",
         "31666340"
        ],
        [
         "2015-03-05",
         "128.58",
         "128.75",
         "125.76",
         "126.41",
         "56517146"
        ],
        [
         "2015-03-06",
         "128.4",
         "129.37",
         "126.26",
         "126.6",
         "72842060"
        ],
        [
         "2015-03-09",
         "127.96",
         "129.57",
         "125.06",
         "127.14",
         "88528487"
        ],
        [
         "2015-03-10",
         "126.41",
         "127.22",
         "123.8",
         "124.51",
         "68856582"
        ],
        [
         "2015-03-11",
         "124.75",
         "124.77",
         "122.11",
         "122.24",
         "68938974"
        ],
        [
         "2015-03-12",
         "122.31",
         "124.9",
         "121.63",
         "124.45",
         "48362719"
        ],
        [
         "2015-03-13",
         "124.4",
         "125.3951",
         "122.58",
         "123.59",
         "51827283"
        ],
        [
         "2015-03-16",
         "123.88",
         "124.95",
         "122.87",
         "124.95",
         "35874300"
        ]
       ],
       "shape": {
        "columns": 5,
        "rows": 2592
       }
      },
      "text/html": [
       "<div>\n",
       "<style scoped>\n",
       "    .dataframe tbody tr th:only-of-type {\n",
       "        vertical-align: middle;\n",
       "    }\n",
       "\n",
       "    .dataframe tbody tr th {\n",
       "        vertical-align: top;\n",
       "    }\n",
       "\n",
       "    .dataframe thead th {\n",
       "        text-align: right;\n",
       "    }\n",
       "</style>\n",
       "<table border=\"1\" class=\"dataframe\">\n",
       "  <thead>\n",
       "    <tr style=\"text-align: right;\">\n",
       "      <th></th>\n",
       "      <th>open</th>\n",
       "      <th>high</th>\n",
       "      <th>low</th>\n",
       "      <th>close</th>\n",
       "      <th>volume</th>\n",
       "    </tr>\n",
       "  </thead>\n",
       "  <tbody>\n",
       "    <tr>\n",
       "      <th>2015-01-02</th>\n",
       "      <td>111.390</td>\n",
       "      <td>111.4400</td>\n",
       "      <td>107.3500</td>\n",
       "      <td>109.33</td>\n",
       "      <td>53204626</td>\n",
       "    </tr>\n",
       "    <tr>\n",
       "      <th>2015-01-05</th>\n",
       "      <td>108.290</td>\n",
       "      <td>108.6500</td>\n",
       "      <td>105.4100</td>\n",
       "      <td>106.25</td>\n",
       "      <td>64285491</td>\n",
       "    </tr>\n",
       "    <tr>\n",
       "      <th>2015-01-06</th>\n",
       "      <td>106.540</td>\n",
       "      <td>107.4300</td>\n",
       "      <td>104.6300</td>\n",
       "      <td>106.26</td>\n",
       "      <td>65797116</td>\n",
       "    </tr>\n",
       "    <tr>\n",
       "      <th>2015-01-07</th>\n",
       "      <td>107.200</td>\n",
       "      <td>108.2000</td>\n",
       "      <td>106.6950</td>\n",
       "      <td>107.75</td>\n",
       "      <td>40105934</td>\n",
       "    </tr>\n",
       "    <tr>\n",
       "      <th>2015-01-08</th>\n",
       "      <td>109.230</td>\n",
       "      <td>112.1500</td>\n",
       "      <td>108.7000</td>\n",
       "      <td>111.89</td>\n",
       "      <td>59364547</td>\n",
       "    </tr>\n",
       "    <tr>\n",
       "      <th>...</th>\n",
       "      <td>...</td>\n",
       "      <td>...</td>\n",
       "      <td>...</td>\n",
       "      <td>...</td>\n",
       "      <td>...</td>\n",
       "    </tr>\n",
       "    <tr>\n",
       "      <th>2025-04-16</th>\n",
       "      <td>198.360</td>\n",
       "      <td>200.7000</td>\n",
       "      <td>192.3700</td>\n",
       "      <td>194.27</td>\n",
       "      <td>59732423</td>\n",
       "    </tr>\n",
       "    <tr>\n",
       "      <th>2025-04-17</th>\n",
       "      <td>197.200</td>\n",
       "      <td>198.8335</td>\n",
       "      <td>194.4200</td>\n",
       "      <td>196.98</td>\n",
       "      <td>52164675</td>\n",
       "    </tr>\n",
       "    <tr>\n",
       "      <th>2025-04-21</th>\n",
       "      <td>193.265</td>\n",
       "      <td>193.8000</td>\n",
       "      <td>189.8112</td>\n",
       "      <td>193.16</td>\n",
       "      <td>46742537</td>\n",
       "    </tr>\n",
       "    <tr>\n",
       "      <th>2025-04-22</th>\n",
       "      <td>196.120</td>\n",
       "      <td>201.5900</td>\n",
       "      <td>195.9700</td>\n",
       "      <td>199.74</td>\n",
       "      <td>52976371</td>\n",
       "    </tr>\n",
       "    <tr>\n",
       "      <th>2025-04-23</th>\n",
       "      <td>206.000</td>\n",
       "      <td>208.0000</td>\n",
       "      <td>202.7990</td>\n",
       "      <td>204.60</td>\n",
       "      <td>52929165</td>\n",
       "    </tr>\n",
       "  </tbody>\n",
       "</table>\n",
       "<p>2592 rows × 5 columns</p>\n",
       "</div>"
      ],
      "text/plain": [
       "               open      high       low   close    volume\n",
       "2015-01-02  111.390  111.4400  107.3500  109.33  53204626\n",
       "2015-01-05  108.290  108.6500  105.4100  106.25  64285491\n",
       "2015-01-06  106.540  107.4300  104.6300  106.26  65797116\n",
       "2015-01-07  107.200  108.2000  106.6950  107.75  40105934\n",
       "2015-01-08  109.230  112.1500  108.7000  111.89  59364547\n",
       "...             ...       ...       ...     ...       ...\n",
       "2025-04-16  198.360  200.7000  192.3700  194.27  59732423\n",
       "2025-04-17  197.200  198.8335  194.4200  196.98  52164675\n",
       "2025-04-21  193.265  193.8000  189.8112  193.16  46742537\n",
       "2025-04-22  196.120  201.5900  195.9700  199.74  52976371\n",
       "2025-04-23  206.000  208.0000  202.7990  204.60  52929165\n",
       "\n",
       "[2592 rows x 5 columns]"
      ]
     },
     "execution_count": 25,
     "metadata": {},
     "output_type": "execute_result"
    }
   ],
   "source": [
    "apple = web.DataReader(\"AAPL\",'av-daily', start=start, end=end, api_key=os.getenv('ALPHA_VANTAGE_API_KEY'))\n",
    "apple"
   ]
  },
  {
   "cell_type": "markdown",
   "metadata": {},
   "source": [
    "### Step 5. Add a new column \"stock\" to the dataframe and add the ticker symbol"
   ]
  },
  {
   "cell_type": "code",
   "execution_count": 28,
   "metadata": {},
   "outputs": [],
   "source": [
    "apple['stock'] = \"AAPL\""
   ]
  },
  {
   "cell_type": "markdown",
   "metadata": {},
   "source": [
    "### Step 6. Repeat the two previous steps for a few other stocks, always creating a new dataframe: Tesla, IBM and Microsoft. (Ticker symbols TSLA, IBM and MSFT.)"
   ]
  },
  {
   "cell_type": "code",
   "execution_count": 26,
   "metadata": {},
   "outputs": [],
   "source": [
    "tesla = web.DataReader(\"TSLA\",'av-daily', start=start, end=end, api_key=os.getenv('ALPHA_VANTAGE_API_KEY'))\n",
    "tesla['stock'] = \"TSLA\"\n",
    "ibm = web.DataReader(\"IBM\",'av-daily', start=start, end=end, api_key=os.getenv('ALPHA_VANTAGE_API_KEY'))\n",
    "ibm['stock'] = \"IBM\"\n",
    "microsoft = web.DataReader(\"AAPL\",'av-daily', start=start, end=end, api_key=os.getenv('ALPHA_VANTAGE_API_KEY'))\n",
    "microsoft['stock'] = \"MSFT\""
   ]
  },
  {
   "cell_type": "markdown",
   "metadata": {},
   "source": [
    "### Step 7. Combine the four separate dataFrames into one combined dataFrame df that holds the information for all four stocks"
   ]
  },
  {
   "cell_type": "code",
   "execution_count": 29,
   "metadata": {},
   "outputs": [
    {
     "data": {
      "application/vnd.microsoft.datawrangler.viewer.v0+json": {
       "columns": [
        {
         "name": "index",
         "rawType": "object",
         "type": "string"
        },
        {
         "name": "open",
         "rawType": "float64",
         "type": "float"
        },
        {
         "name": "high",
         "rawType": "float64",
         "type": "float"
        },
        {
         "name": "low",
         "rawType": "float64",
         "type": "float"
        },
        {
         "name": "close",
         "rawType": "float64",
         "type": "float"
        },
        {
         "name": "volume",
         "rawType": "int64",
         "type": "integer"
        },
        {
         "name": "stock",
         "rawType": "object",
         "type": "string"
        }
       ],
       "conversionMethod": "pd.DataFrame",
       "ref": "4ac80ee8-17af-4b9c-9739-3f0f9cdea51f",
       "rows": [
        [
         "2015-01-02",
         "111.39",
         "111.44",
         "107.35",
         "109.33",
         "53204626",
         "AAPL"
        ],
        [
         "2015-01-05",
         "108.29",
         "108.65",
         "105.41",
         "106.25",
         "64285491",
         "AAPL"
        ],
        [
         "2015-01-06",
         "106.54",
         "107.43",
         "104.63",
         "106.26",
         "65797116",
         "AAPL"
        ],
        [
         "2015-01-07",
         "107.2",
         "108.2",
         "106.695",
         "107.75",
         "40105934",
         "AAPL"
        ],
        [
         "2015-01-08",
         "109.23",
         "112.15",
         "108.7",
         "111.89",
         "59364547",
         "AAPL"
        ],
        [
         "2015-01-09",
         "112.67",
         "113.25",
         "110.21",
         "112.01",
         "53315099",
         "AAPL"
        ],
        [
         "2015-01-12",
         "112.6",
         "112.63",
         "108.8",
         "109.25",
         "49650790",
         "AAPL"
        ],
        [
         "2015-01-13",
         "111.43",
         "112.8",
         "108.91",
         "110.22",
         "67091928",
         "AAPL"
        ],
        [
         "2015-01-14",
         "109.04",
         "110.49",
         "108.5",
         "109.8",
         "48956588",
         "AAPL"
        ],
        [
         "2015-01-15",
         "110.0",
         "110.06",
         "106.66",
         "106.82",
         "60013996",
         "AAPL"
        ],
        [
         "2015-01-16",
         "107.03",
         "107.58",
         "105.2",
         "105.99",
         "78513345",
         "AAPL"
        ],
        [
         "2015-01-20",
         "107.84",
         "108.9667",
         "106.5",
         "108.72",
         "49899907",
         "AAPL"
        ],
        [
         "2015-01-21",
         "108.95",
         "111.06",
         "108.27",
         "109.55",
         "48575897",
         "AAPL"
        ],
        [
         "2015-01-22",
         "110.26",
         "112.47",
         "109.72",
         "112.4",
         "53796409",
         "AAPL"
        ],
        [
         "2015-01-23",
         "112.3",
         "113.75",
         "111.53",
         "112.98",
         "46464828",
         "AAPL"
        ],
        [
         "2015-01-26",
         "113.74",
         "114.3626",
         "112.8",
         "113.1",
         "55614979",
         "AAPL"
        ],
        [
         "2015-01-27",
         "112.42",
         "112.48",
         "109.03",
         "109.14",
         "95568749",
         "AAPL"
        ],
        [
         "2015-01-28",
         "117.625",
         "118.12",
         "115.31",
         "115.31",
         "146477063",
         "AAPL"
        ],
        [
         "2015-01-29",
         "116.32",
         "119.19",
         "115.56",
         "118.9",
         "84436432",
         "AAPL"
        ],
        [
         "2015-01-30",
         "118.4",
         "120.0",
         "116.85",
         "117.16",
         "83745461",
         "AAPL"
        ],
        [
         "2015-02-02",
         "118.05",
         "119.17",
         "116.08",
         "118.63",
         "62739100",
         "AAPL"
        ],
        [
         "2015-02-03",
         "118.5",
         "119.09",
         "117.61",
         "118.65",
         "51915749",
         "AAPL"
        ],
        [
         "2015-02-04",
         "118.5",
         "120.51",
         "118.309",
         "119.56",
         "70149743",
         "AAPL"
        ],
        [
         "2015-02-05",
         "120.02",
         "120.23",
         "119.25",
         "119.94",
         "42246245",
         "AAPL"
        ],
        [
         "2015-02-06",
         "120.02",
         "120.25",
         "118.45",
         "118.93",
         "43706567",
         "AAPL"
        ],
        [
         "2015-02-09",
         "118.55",
         "119.84",
         "118.43",
         "119.72",
         "38889797",
         "AAPL"
        ],
        [
         "2015-02-10",
         "120.17",
         "122.15",
         "120.16",
         "122.02",
         "62008506",
         "AAPL"
        ],
        [
         "2015-02-11",
         "122.77",
         "124.92",
         "122.5",
         "124.88",
         "73561797",
         "AAPL"
        ],
        [
         "2015-02-12",
         "126.06",
         "127.48",
         "125.57",
         "126.46",
         "74474466",
         "AAPL"
        ],
        [
         "2015-02-13",
         "127.28",
         "127.28",
         "125.65",
         "127.08",
         "54272219",
         "AAPL"
        ],
        [
         "2015-02-17",
         "127.49",
         "128.88",
         "126.92",
         "127.83",
         "63152405",
         "AAPL"
        ],
        [
         "2015-02-18",
         "127.625",
         "128.78",
         "127.45",
         "128.715",
         "44891737",
         "AAPL"
        ],
        [
         "2015-02-19",
         "128.48",
         "129.03",
         "128.33",
         "128.45",
         "37362381",
         "AAPL"
        ],
        [
         "2015-02-20",
         "128.62",
         "129.5",
         "128.05",
         "129.495",
         "48948419",
         "AAPL"
        ],
        [
         "2015-02-23",
         "130.02",
         "133.0",
         "129.66",
         "133.0",
         "70974110",
         "AAPL"
        ],
        [
         "2015-02-24",
         "132.94",
         "133.6",
         "131.17",
         "132.17",
         "69228130",
         "AAPL"
        ],
        [
         "2015-02-25",
         "131.56",
         "131.6",
         "128.15",
         "128.79",
         "74711746",
         "AAPL"
        ],
        [
         "2015-02-26",
         "128.785",
         "130.87",
         "126.61",
         "130.415",
         "91287529",
         "AAPL"
        ],
        [
         "2015-02-27",
         "130.0",
         "130.57",
         "128.24",
         "128.46",
         "62014847",
         "AAPL"
        ],
        [
         "2015-03-02",
         "129.25",
         "130.28",
         "128.3",
         "129.09",
         "48096663",
         "AAPL"
        ],
        [
         "2015-03-03",
         "128.96",
         "129.52",
         "128.09",
         "129.36",
         "37816283",
         "AAPL"
        ],
        [
         "2015-03-04",
         "129.1",
         "129.56",
         "128.32",
         "128.54",
         "31666340",
         "AAPL"
        ],
        [
         "2015-03-05",
         "128.58",
         "128.75",
         "125.76",
         "126.41",
         "56517146",
         "AAPL"
        ],
        [
         "2015-03-06",
         "128.4",
         "129.37",
         "126.26",
         "126.6",
         "72842060",
         "AAPL"
        ],
        [
         "2015-03-09",
         "127.96",
         "129.57",
         "125.06",
         "127.14",
         "88528487",
         "AAPL"
        ],
        [
         "2015-03-10",
         "126.41",
         "127.22",
         "123.8",
         "124.51",
         "68856582",
         "AAPL"
        ],
        [
         "2015-03-11",
         "124.75",
         "124.77",
         "122.11",
         "122.24",
         "68938974",
         "AAPL"
        ],
        [
         "2015-03-12",
         "122.31",
         "124.9",
         "121.63",
         "124.45",
         "48362719",
         "AAPL"
        ],
        [
         "2015-03-13",
         "124.4",
         "125.3951",
         "122.58",
         "123.59",
         "51827283",
         "AAPL"
        ],
        [
         "2015-03-16",
         "123.88",
         "124.95",
         "122.87",
         "124.95",
         "35874300",
         "AAPL"
        ]
       ],
       "shape": {
        "columns": 6,
        "rows": 10368
       }
      },
      "text/html": [
       "<div>\n",
       "<style scoped>\n",
       "    .dataframe tbody tr th:only-of-type {\n",
       "        vertical-align: middle;\n",
       "    }\n",
       "\n",
       "    .dataframe tbody tr th {\n",
       "        vertical-align: top;\n",
       "    }\n",
       "\n",
       "    .dataframe thead th {\n",
       "        text-align: right;\n",
       "    }\n",
       "</style>\n",
       "<table border=\"1\" class=\"dataframe\">\n",
       "  <thead>\n",
       "    <tr style=\"text-align: right;\">\n",
       "      <th></th>\n",
       "      <th>open</th>\n",
       "      <th>high</th>\n",
       "      <th>low</th>\n",
       "      <th>close</th>\n",
       "      <th>volume</th>\n",
       "      <th>stock</th>\n",
       "    </tr>\n",
       "  </thead>\n",
       "  <tbody>\n",
       "    <tr>\n",
       "      <th>2015-01-02</th>\n",
       "      <td>111.390</td>\n",
       "      <td>111.4400</td>\n",
       "      <td>107.3500</td>\n",
       "      <td>109.33</td>\n",
       "      <td>53204626</td>\n",
       "      <td>AAPL</td>\n",
       "    </tr>\n",
       "    <tr>\n",
       "      <th>2015-01-05</th>\n",
       "      <td>108.290</td>\n",
       "      <td>108.6500</td>\n",
       "      <td>105.4100</td>\n",
       "      <td>106.25</td>\n",
       "      <td>64285491</td>\n",
       "      <td>AAPL</td>\n",
       "    </tr>\n",
       "    <tr>\n",
       "      <th>2015-01-06</th>\n",
       "      <td>106.540</td>\n",
       "      <td>107.4300</td>\n",
       "      <td>104.6300</td>\n",
       "      <td>106.26</td>\n",
       "      <td>65797116</td>\n",
       "      <td>AAPL</td>\n",
       "    </tr>\n",
       "    <tr>\n",
       "      <th>2015-01-07</th>\n",
       "      <td>107.200</td>\n",
       "      <td>108.2000</td>\n",
       "      <td>106.6950</td>\n",
       "      <td>107.75</td>\n",
       "      <td>40105934</td>\n",
       "      <td>AAPL</td>\n",
       "    </tr>\n",
       "    <tr>\n",
       "      <th>2015-01-08</th>\n",
       "      <td>109.230</td>\n",
       "      <td>112.1500</td>\n",
       "      <td>108.7000</td>\n",
       "      <td>111.89</td>\n",
       "      <td>59364547</td>\n",
       "      <td>AAPL</td>\n",
       "    </tr>\n",
       "    <tr>\n",
       "      <th>...</th>\n",
       "      <td>...</td>\n",
       "      <td>...</td>\n",
       "      <td>...</td>\n",
       "      <td>...</td>\n",
       "      <td>...</td>\n",
       "      <td>...</td>\n",
       "    </tr>\n",
       "    <tr>\n",
       "      <th>2025-04-16</th>\n",
       "      <td>198.360</td>\n",
       "      <td>200.7000</td>\n",
       "      <td>192.3700</td>\n",
       "      <td>194.27</td>\n",
       "      <td>59732423</td>\n",
       "      <td>MSFT</td>\n",
       "    </tr>\n",
       "    <tr>\n",
       "      <th>2025-04-17</th>\n",
       "      <td>197.200</td>\n",
       "      <td>198.8335</td>\n",
       "      <td>194.4200</td>\n",
       "      <td>196.98</td>\n",
       "      <td>52164675</td>\n",
       "      <td>MSFT</td>\n",
       "    </tr>\n",
       "    <tr>\n",
       "      <th>2025-04-21</th>\n",
       "      <td>193.265</td>\n",
       "      <td>193.8000</td>\n",
       "      <td>189.8112</td>\n",
       "      <td>193.16</td>\n",
       "      <td>46742537</td>\n",
       "      <td>MSFT</td>\n",
       "    </tr>\n",
       "    <tr>\n",
       "      <th>2025-04-22</th>\n",
       "      <td>196.120</td>\n",
       "      <td>201.5900</td>\n",
       "      <td>195.9700</td>\n",
       "      <td>199.74</td>\n",
       "      <td>52976371</td>\n",
       "      <td>MSFT</td>\n",
       "    </tr>\n",
       "    <tr>\n",
       "      <th>2025-04-23</th>\n",
       "      <td>206.000</td>\n",
       "      <td>208.0000</td>\n",
       "      <td>202.7990</td>\n",
       "      <td>204.60</td>\n",
       "      <td>52929165</td>\n",
       "      <td>MSFT</td>\n",
       "    </tr>\n",
       "  </tbody>\n",
       "</table>\n",
       "<p>10368 rows × 6 columns</p>\n",
       "</div>"
      ],
      "text/plain": [
       "               open      high       low   close    volume stock\n",
       "2015-01-02  111.390  111.4400  107.3500  109.33  53204626  AAPL\n",
       "2015-01-05  108.290  108.6500  105.4100  106.25  64285491  AAPL\n",
       "2015-01-06  106.540  107.4300  104.6300  106.26  65797116  AAPL\n",
       "2015-01-07  107.200  108.2000  106.6950  107.75  40105934  AAPL\n",
       "2015-01-08  109.230  112.1500  108.7000  111.89  59364547  AAPL\n",
       "...             ...       ...       ...     ...       ...   ...\n",
       "2025-04-16  198.360  200.7000  192.3700  194.27  59732423  MSFT\n",
       "2025-04-17  197.200  198.8335  194.4200  196.98  52164675  MSFT\n",
       "2025-04-21  193.265  193.8000  189.8112  193.16  46742537  MSFT\n",
       "2025-04-22  196.120  201.5900  195.9700  199.74  52976371  MSFT\n",
       "2025-04-23  206.000  208.0000  202.7990  204.60  52929165  MSFT\n",
       "\n",
       "[10368 rows x 6 columns]"
      ]
     },
     "execution_count": 29,
     "metadata": {},
     "output_type": "execute_result"
    }
   ],
   "source": [
    "df = pd.concat([apple, tesla, ibm, microsoft], axis=0)\n",
    "df"
   ]
  },
  {
   "cell_type": "markdown",
   "metadata": {},
   "source": [
    "### Step 8. Shift the stock column into the index (making it a multi-level index consisting of the ticker symbol and the date)."
   ]
  },
  {
   "cell_type": "code",
   "execution_count": 33,
   "metadata": {},
   "outputs": [],
   "source": [
    "df.set_index('stock', append=True, inplace=True)"
   ]
  },
  {
   "cell_type": "markdown",
   "metadata": {},
   "source": [
    "### Step 7. Create a dataFrame called vol, with the volume values."
   ]
  },
  {
   "cell_type": "code",
   "execution_count": 34,
   "metadata": {},
   "outputs": [
    {
     "data": {
      "application/vnd.microsoft.datawrangler.viewer.v0+json": {
       "columns": [
        {
         "name": "(None, 'stock')",
         "rawType": "object",
         "type": "unknown"
        },
        {
         "name": "volume",
         "rawType": "int64",
         "type": "integer"
        }
       ],
       "conversionMethod": "pd.DataFrame",
       "ref": "7e107cc4-ddd8-4527-b08d-94a52da68454",
       "rows": [
        [
         "('2015-01-02', 'AAPL')",
         "53204626"
        ],
        [
         "('2015-01-05', 'AAPL')",
         "64285491"
        ],
        [
         "('2015-01-06', 'AAPL')",
         "65797116"
        ],
        [
         "('2015-01-07', 'AAPL')",
         "40105934"
        ],
        [
         "('2015-01-08', 'AAPL')",
         "59364547"
        ],
        [
         "('2015-01-09', 'AAPL')",
         "53315099"
        ],
        [
         "('2015-01-12', 'AAPL')",
         "49650790"
        ],
        [
         "('2015-01-13', 'AAPL')",
         "67091928"
        ],
        [
         "('2015-01-14', 'AAPL')",
         "48956588"
        ],
        [
         "('2015-01-15', 'AAPL')",
         "60013996"
        ],
        [
         "('2015-01-16', 'AAPL')",
         "78513345"
        ],
        [
         "('2015-01-20', 'AAPL')",
         "49899907"
        ],
        [
         "('2015-01-21', 'AAPL')",
         "48575897"
        ],
        [
         "('2015-01-22', 'AAPL')",
         "53796409"
        ],
        [
         "('2015-01-23', 'AAPL')",
         "46464828"
        ],
        [
         "('2015-01-26', 'AAPL')",
         "55614979"
        ],
        [
         "('2015-01-27', 'AAPL')",
         "95568749"
        ],
        [
         "('2015-01-28', 'AAPL')",
         "146477063"
        ],
        [
         "('2015-01-29', 'AAPL')",
         "84436432"
        ],
        [
         "('2015-01-30', 'AAPL')",
         "83745461"
        ],
        [
         "('2015-02-02', 'AAPL')",
         "62739100"
        ],
        [
         "('2015-02-03', 'AAPL')",
         "51915749"
        ],
        [
         "('2015-02-04', 'AAPL')",
         "70149743"
        ],
        [
         "('2015-02-05', 'AAPL')",
         "42246245"
        ],
        [
         "('2015-02-06', 'AAPL')",
         "43706567"
        ],
        [
         "('2015-02-09', 'AAPL')",
         "38889797"
        ],
        [
         "('2015-02-10', 'AAPL')",
         "62008506"
        ],
        [
         "('2015-02-11', 'AAPL')",
         "73561797"
        ],
        [
         "('2015-02-12', 'AAPL')",
         "74474466"
        ],
        [
         "('2015-02-13', 'AAPL')",
         "54272219"
        ],
        [
         "('2015-02-17', 'AAPL')",
         "63152405"
        ],
        [
         "('2015-02-18', 'AAPL')",
         "44891737"
        ],
        [
         "('2015-02-19', 'AAPL')",
         "37362381"
        ],
        [
         "('2015-02-20', 'AAPL')",
         "48948419"
        ],
        [
         "('2015-02-23', 'AAPL')",
         "70974110"
        ],
        [
         "('2015-02-24', 'AAPL')",
         "69228130"
        ],
        [
         "('2015-02-25', 'AAPL')",
         "74711746"
        ],
        [
         "('2015-02-26', 'AAPL')",
         "91287529"
        ],
        [
         "('2015-02-27', 'AAPL')",
         "62014847"
        ],
        [
         "('2015-03-02', 'AAPL')",
         "48096663"
        ],
        [
         "('2015-03-03', 'AAPL')",
         "37816283"
        ],
        [
         "('2015-03-04', 'AAPL')",
         "31666340"
        ],
        [
         "('2015-03-05', 'AAPL')",
         "56517146"
        ],
        [
         "('2015-03-06', 'AAPL')",
         "72842060"
        ],
        [
         "('2015-03-09', 'AAPL')",
         "88528487"
        ],
        [
         "('2015-03-10', 'AAPL')",
         "68856582"
        ],
        [
         "('2015-03-11', 'AAPL')",
         "68938974"
        ],
        [
         "('2015-03-12', 'AAPL')",
         "48362719"
        ],
        [
         "('2015-03-13', 'AAPL')",
         "51827283"
        ],
        [
         "('2015-03-16', 'AAPL')",
         "35874300"
        ]
       ],
       "shape": {
        "columns": 1,
        "rows": 10368
       }
      },
      "text/html": [
       "<div>\n",
       "<style scoped>\n",
       "    .dataframe tbody tr th:only-of-type {\n",
       "        vertical-align: middle;\n",
       "    }\n",
       "\n",
       "    .dataframe tbody tr th {\n",
       "        vertical-align: top;\n",
       "    }\n",
       "\n",
       "    .dataframe thead th {\n",
       "        text-align: right;\n",
       "    }\n",
       "</style>\n",
       "<table border=\"1\" class=\"dataframe\">\n",
       "  <thead>\n",
       "    <tr style=\"text-align: right;\">\n",
       "      <th></th>\n",
       "      <th></th>\n",
       "      <th>volume</th>\n",
       "    </tr>\n",
       "    <tr>\n",
       "      <th></th>\n",
       "      <th>stock</th>\n",
       "      <th></th>\n",
       "    </tr>\n",
       "  </thead>\n",
       "  <tbody>\n",
       "    <tr>\n",
       "      <th>2015-01-02</th>\n",
       "      <th>AAPL</th>\n",
       "      <td>53204626</td>\n",
       "    </tr>\n",
       "    <tr>\n",
       "      <th>2015-01-05</th>\n",
       "      <th>AAPL</th>\n",
       "      <td>64285491</td>\n",
       "    </tr>\n",
       "    <tr>\n",
       "      <th>2015-01-06</th>\n",
       "      <th>AAPL</th>\n",
       "      <td>65797116</td>\n",
       "    </tr>\n",
       "    <tr>\n",
       "      <th>2015-01-07</th>\n",
       "      <th>AAPL</th>\n",
       "      <td>40105934</td>\n",
       "    </tr>\n",
       "    <tr>\n",
       "      <th>2015-01-08</th>\n",
       "      <th>AAPL</th>\n",
       "      <td>59364547</td>\n",
       "    </tr>\n",
       "    <tr>\n",
       "      <th>...</th>\n",
       "      <th>...</th>\n",
       "      <td>...</td>\n",
       "    </tr>\n",
       "    <tr>\n",
       "      <th>2025-04-16</th>\n",
       "      <th>MSFT</th>\n",
       "      <td>59732423</td>\n",
       "    </tr>\n",
       "    <tr>\n",
       "      <th>2025-04-17</th>\n",
       "      <th>MSFT</th>\n",
       "      <td>52164675</td>\n",
       "    </tr>\n",
       "    <tr>\n",
       "      <th>2025-04-21</th>\n",
       "      <th>MSFT</th>\n",
       "      <td>46742537</td>\n",
       "    </tr>\n",
       "    <tr>\n",
       "      <th>2025-04-22</th>\n",
       "      <th>MSFT</th>\n",
       "      <td>52976371</td>\n",
       "    </tr>\n",
       "    <tr>\n",
       "      <th>2025-04-23</th>\n",
       "      <th>MSFT</th>\n",
       "      <td>52929165</td>\n",
       "    </tr>\n",
       "  </tbody>\n",
       "</table>\n",
       "<p>10368 rows × 1 columns</p>\n",
       "</div>"
      ],
      "text/plain": [
       "                    volume\n",
       "           stock          \n",
       "2015-01-02 AAPL   53204626\n",
       "2015-01-05 AAPL   64285491\n",
       "2015-01-06 AAPL   65797116\n",
       "2015-01-07 AAPL   40105934\n",
       "2015-01-08 AAPL   59364547\n",
       "...                    ...\n",
       "2025-04-16 MSFT   59732423\n",
       "2025-04-17 MSFT   52164675\n",
       "2025-04-21 MSFT   46742537\n",
       "2025-04-22 MSFT   52976371\n",
       "2025-04-23 MSFT   52929165\n",
       "\n",
       "[10368 rows x 1 columns]"
      ]
     },
     "execution_count": 34,
     "metadata": {},
     "output_type": "execute_result"
    }
   ],
   "source": [
    "vol = df[['volume']]\n",
    "vol"
   ]
  },
  {
   "cell_type": "markdown",
   "metadata": {},
   "source": [
    "### Step 8. Aggregate the data of volume to weekly.\n",
    "Hint: Be careful to not sum data from the same week of 2015 and other years."
   ]
  },
  {
   "cell_type": "code",
   "execution_count": 47,
   "metadata": {},
   "outputs": [],
   "source": [
    "vol.index = vol.index.set_levels(pd.to_datetime(vol.index.levels[0]), level=0)"
   ]
  },
  {
   "cell_type": "code",
   "execution_count": 57,
   "metadata": {},
   "outputs": [
    {
     "data": {
      "application/vnd.microsoft.datawrangler.viewer.v0+json": {
       "columns": [
        {
         "name": "(None, 'stock')",
         "rawType": "object",
         "type": "unknown"
        },
        {
         "name": "volume",
         "rawType": "int64",
         "type": "integer"
        }
       ],
       "conversionMethod": "pd.DataFrame",
       "ref": "acf56305-7be6-4396-8228-bd65424d73b1",
       "rows": [
        [
         "(Timestamp('2015-01-02 00:00:00'), 'AAPL')",
         "53204626"
        ],
        [
         "(Timestamp('2015-01-05 00:00:00'), 'AAPL')",
         "64285491"
        ],
        [
         "(Timestamp('2015-01-06 00:00:00'), 'AAPL')",
         "65797116"
        ],
        [
         "(Timestamp('2015-01-07 00:00:00'), 'AAPL')",
         "40105934"
        ],
        [
         "(Timestamp('2015-01-08 00:00:00'), 'AAPL')",
         "59364547"
        ],
        [
         "(Timestamp('2015-01-09 00:00:00'), 'AAPL')",
         "53315099"
        ],
        [
         "(Timestamp('2015-01-12 00:00:00'), 'AAPL')",
         "49650790"
        ],
        [
         "(Timestamp('2015-01-13 00:00:00'), 'AAPL')",
         "67091928"
        ],
        [
         "(Timestamp('2015-01-14 00:00:00'), 'AAPL')",
         "48956588"
        ],
        [
         "(Timestamp('2015-01-15 00:00:00'), 'AAPL')",
         "60013996"
        ],
        [
         "(Timestamp('2015-01-16 00:00:00'), 'AAPL')",
         "78513345"
        ],
        [
         "(Timestamp('2015-01-20 00:00:00'), 'AAPL')",
         "49899907"
        ],
        [
         "(Timestamp('2015-01-21 00:00:00'), 'AAPL')",
         "48575897"
        ],
        [
         "(Timestamp('2015-01-22 00:00:00'), 'AAPL')",
         "53796409"
        ],
        [
         "(Timestamp('2015-01-23 00:00:00'), 'AAPL')",
         "46464828"
        ],
        [
         "(Timestamp('2015-01-26 00:00:00'), 'AAPL')",
         "55614979"
        ],
        [
         "(Timestamp('2015-01-27 00:00:00'), 'AAPL')",
         "95568749"
        ],
        [
         "(Timestamp('2015-01-28 00:00:00'), 'AAPL')",
         "146477063"
        ],
        [
         "(Timestamp('2015-01-29 00:00:00'), 'AAPL')",
         "84436432"
        ],
        [
         "(Timestamp('2015-01-30 00:00:00'), 'AAPL')",
         "83745461"
        ],
        [
         "(Timestamp('2015-02-02 00:00:00'), 'AAPL')",
         "62739100"
        ],
        [
         "(Timestamp('2015-02-03 00:00:00'), 'AAPL')",
         "51915749"
        ],
        [
         "(Timestamp('2015-02-04 00:00:00'), 'AAPL')",
         "70149743"
        ],
        [
         "(Timestamp('2015-02-05 00:00:00'), 'AAPL')",
         "42246245"
        ],
        [
         "(Timestamp('2015-02-06 00:00:00'), 'AAPL')",
         "43706567"
        ],
        [
         "(Timestamp('2015-02-09 00:00:00'), 'AAPL')",
         "38889797"
        ],
        [
         "(Timestamp('2015-02-10 00:00:00'), 'AAPL')",
         "62008506"
        ],
        [
         "(Timestamp('2015-02-11 00:00:00'), 'AAPL')",
         "73561797"
        ],
        [
         "(Timestamp('2015-02-12 00:00:00'), 'AAPL')",
         "74474466"
        ],
        [
         "(Timestamp('2015-02-13 00:00:00'), 'AAPL')",
         "54272219"
        ],
        [
         "(Timestamp('2015-02-17 00:00:00'), 'AAPL')",
         "63152405"
        ],
        [
         "(Timestamp('2015-02-18 00:00:00'), 'AAPL')",
         "44891737"
        ],
        [
         "(Timestamp('2015-02-19 00:00:00'), 'AAPL')",
         "37362381"
        ],
        [
         "(Timestamp('2015-02-20 00:00:00'), 'AAPL')",
         "48948419"
        ],
        [
         "(Timestamp('2015-02-23 00:00:00'), 'AAPL')",
         "70974110"
        ],
        [
         "(Timestamp('2015-02-24 00:00:00'), 'AAPL')",
         "69228130"
        ],
        [
         "(Timestamp('2015-02-25 00:00:00'), 'AAPL')",
         "74711746"
        ],
        [
         "(Timestamp('2015-02-26 00:00:00'), 'AAPL')",
         "91287529"
        ],
        [
         "(Timestamp('2015-02-27 00:00:00'), 'AAPL')",
         "62014847"
        ],
        [
         "(Timestamp('2015-03-02 00:00:00'), 'AAPL')",
         "48096663"
        ],
        [
         "(Timestamp('2015-03-03 00:00:00'), 'AAPL')",
         "37816283"
        ],
        [
         "(Timestamp('2015-03-04 00:00:00'), 'AAPL')",
         "31666340"
        ],
        [
         "(Timestamp('2015-03-05 00:00:00'), 'AAPL')",
         "56517146"
        ],
        [
         "(Timestamp('2015-03-06 00:00:00'), 'AAPL')",
         "72842060"
        ],
        [
         "(Timestamp('2015-03-09 00:00:00'), 'AAPL')",
         "88528487"
        ],
        [
         "(Timestamp('2015-03-10 00:00:00'), 'AAPL')",
         "68856582"
        ],
        [
         "(Timestamp('2015-03-11 00:00:00'), 'AAPL')",
         "68938974"
        ],
        [
         "(Timestamp('2015-03-12 00:00:00'), 'AAPL')",
         "48362719"
        ],
        [
         "(Timestamp('2015-03-13 00:00:00'), 'AAPL')",
         "51827283"
        ],
        [
         "(Timestamp('2015-03-16 00:00:00'), 'AAPL')",
         "35874300"
        ]
       ],
       "shape": {
        "columns": 1,
        "rows": 10368
       }
      },
      "text/html": [
       "<div>\n",
       "<style scoped>\n",
       "    .dataframe tbody tr th:only-of-type {\n",
       "        vertical-align: middle;\n",
       "    }\n",
       "\n",
       "    .dataframe tbody tr th {\n",
       "        vertical-align: top;\n",
       "    }\n",
       "\n",
       "    .dataframe thead th {\n",
       "        text-align: right;\n",
       "    }\n",
       "</style>\n",
       "<table border=\"1\" class=\"dataframe\">\n",
       "  <thead>\n",
       "    <tr style=\"text-align: right;\">\n",
       "      <th></th>\n",
       "      <th></th>\n",
       "      <th>volume</th>\n",
       "    </tr>\n",
       "    <tr>\n",
       "      <th></th>\n",
       "      <th>stock</th>\n",
       "      <th></th>\n",
       "    </tr>\n",
       "  </thead>\n",
       "  <tbody>\n",
       "    <tr>\n",
       "      <th>2015-01-02</th>\n",
       "      <th>AAPL</th>\n",
       "      <td>53204626</td>\n",
       "    </tr>\n",
       "    <tr>\n",
       "      <th>2015-01-05</th>\n",
       "      <th>AAPL</th>\n",
       "      <td>64285491</td>\n",
       "    </tr>\n",
       "    <tr>\n",
       "      <th>2015-01-06</th>\n",
       "      <th>AAPL</th>\n",
       "      <td>65797116</td>\n",
       "    </tr>\n",
       "    <tr>\n",
       "      <th>2015-01-07</th>\n",
       "      <th>AAPL</th>\n",
       "      <td>40105934</td>\n",
       "    </tr>\n",
       "    <tr>\n",
       "      <th>2015-01-08</th>\n",
       "      <th>AAPL</th>\n",
       "      <td>59364547</td>\n",
       "    </tr>\n",
       "    <tr>\n",
       "      <th>...</th>\n",
       "      <th>...</th>\n",
       "      <td>...</td>\n",
       "    </tr>\n",
       "    <tr>\n",
       "      <th>2025-04-16</th>\n",
       "      <th>MSFT</th>\n",
       "      <td>59732423</td>\n",
       "    </tr>\n",
       "    <tr>\n",
       "      <th>2025-04-17</th>\n",
       "      <th>MSFT</th>\n",
       "      <td>52164675</td>\n",
       "    </tr>\n",
       "    <tr>\n",
       "      <th>2025-04-21</th>\n",
       "      <th>MSFT</th>\n",
       "      <td>46742537</td>\n",
       "    </tr>\n",
       "    <tr>\n",
       "      <th>2025-04-22</th>\n",
       "      <th>MSFT</th>\n",
       "      <td>52976371</td>\n",
       "    </tr>\n",
       "    <tr>\n",
       "      <th>2025-04-23</th>\n",
       "      <th>MSFT</th>\n",
       "      <td>52929165</td>\n",
       "    </tr>\n",
       "  </tbody>\n",
       "</table>\n",
       "<p>10368 rows × 1 columns</p>\n",
       "</div>"
      ],
      "text/plain": [
       "                    volume\n",
       "           stock          \n",
       "2015-01-02 AAPL   53204626\n",
       "2015-01-05 AAPL   64285491\n",
       "2015-01-06 AAPL   65797116\n",
       "2015-01-07 AAPL   40105934\n",
       "2015-01-08 AAPL   59364547\n",
       "...                    ...\n",
       "2025-04-16 MSFT   59732423\n",
       "2025-04-17 MSFT   52164675\n",
       "2025-04-21 MSFT   46742537\n",
       "2025-04-22 MSFT   52976371\n",
       "2025-04-23 MSFT   52929165\n",
       "\n",
       "[10368 rows x 1 columns]"
      ]
     },
     "execution_count": 57,
     "metadata": {},
     "output_type": "execute_result"
    }
   ],
   "source": [
    "vol"
   ]
  },
  {
   "cell_type": "code",
   "execution_count": 71,
   "metadata": {},
   "outputs": [
    {
     "data": {
      "application/vnd.microsoft.datawrangler.viewer.v0+json": {
       "columns": [
        {
         "name": "stock",
         "rawType": "object",
         "type": "string"
        },
        {
         "name": "('volume', Timestamp('2015-01-02 00:00:00'))",
         "rawType": "int64",
         "type": "integer"
        },
        {
         "name": "('volume', Timestamp('2015-01-05 00:00:00'))",
         "rawType": "int64",
         "type": "integer"
        },
        {
         "name": "('volume', Timestamp('2015-01-06 00:00:00'))",
         "rawType": "int64",
         "type": "integer"
        },
        {
         "name": "('volume', Timestamp('2015-01-07 00:00:00'))",
         "rawType": "int64",
         "type": "integer"
        },
        {
         "name": "('volume', Timestamp('2015-01-08 00:00:00'))",
         "rawType": "int64",
         "type": "integer"
        },
        {
         "name": "('volume', Timestamp('2015-01-09 00:00:00'))",
         "rawType": "int64",
         "type": "integer"
        },
        {
         "name": "('volume', Timestamp('2015-01-12 00:00:00'))",
         "rawType": "int64",
         "type": "integer"
        },
        {
         "name": "('volume', Timestamp('2015-01-13 00:00:00'))",
         "rawType": "int64",
         "type": "integer"
        },
        {
         "name": "('volume', Timestamp('2015-01-14 00:00:00'))",
         "rawType": "int64",
         "type": "integer"
        },
        {
         "name": "('volume', Timestamp('2015-01-15 00:00:00'))",
         "rawType": "int64",
         "type": "integer"
        },
        {
         "name": "('volume', Timestamp('2015-01-16 00:00:00'))",
         "rawType": "int64",
         "type": "integer"
        },
        {
         "name": "('volume', Timestamp('2015-01-20 00:00:00'))",
         "rawType": "int64",
         "type": "integer"
        },
        {
         "name": "('volume', Timestamp('2015-01-21 00:00:00'))",
         "rawType": "int64",
         "type": "integer"
        },
        {
         "name": "('volume', Timestamp('2015-01-22 00:00:00'))",
         "rawType": "int64",
         "type": "integer"
        },
        {
         "name": "('volume', Timestamp('2015-01-23 00:00:00'))",
         "rawType": "int64",
         "type": "integer"
        },
        {
         "name": "('volume', Timestamp('2015-01-26 00:00:00'))",
         "rawType": "int64",
         "type": "integer"
        },
        {
         "name": "('volume', Timestamp('2015-01-27 00:00:00'))",
         "rawType": "int64",
         "type": "integer"
        },
        {
         "name": "('volume', Timestamp('2015-01-28 00:00:00'))",
         "rawType": "int64",
         "type": "integer"
        },
        {
         "name": "('volume', Timestamp('2015-01-29 00:00:00'))",
         "rawType": "int64",
         "type": "integer"
        },
        {
         "name": "('volume', Timestamp('2015-01-30 00:00:00'))",
         "rawType": "int64",
         "type": "integer"
        },
        {
         "name": "('volume', Timestamp('2015-02-02 00:00:00'))",
         "rawType": "int64",
         "type": "integer"
        },
        {
         "name": "('volume', Timestamp('2015-02-03 00:00:00'))",
         "rawType": "int64",
         "type": "integer"
        },
        {
         "name": "('volume', Timestamp('2015-02-04 00:00:00'))",
         "rawType": "int64",
         "type": "integer"
        },
        {
         "name": "('volume', Timestamp('2015-02-05 00:00:00'))",
         "rawType": "int64",
         "type": "integer"
        },
        {
         "name": "('volume', Timestamp('2015-02-06 00:00:00'))",
         "rawType": "int64",
         "type": "integer"
        },
        {
         "name": "('volume', Timestamp('2015-02-09 00:00:00'))",
         "rawType": "int64",
         "type": "integer"
        },
        {
         "name": "('volume', Timestamp('2015-02-10 00:00:00'))",
         "rawType": "int64",
         "type": "integer"
        },
        {
         "name": "('volume', Timestamp('2015-02-11 00:00:00'))",
         "rawType": "int64",
         "type": "integer"
        },
        {
         "name": "('volume', Timestamp('2015-02-12 00:00:00'))",
         "rawType": "int64",
         "type": "integer"
        },
        {
         "name": "('volume', Timestamp('2015-02-13 00:00:00'))",
         "rawType": "int64",
         "type": "integer"
        },
        {
         "name": "('volume', Timestamp('2015-02-17 00:00:00'))",
         "rawType": "int64",
         "type": "integer"
        },
        {
         "name": "('volume', Timestamp('2015-02-18 00:00:00'))",
         "rawType": "int64",
         "type": "integer"
        },
        {
         "name": "('volume', Timestamp('2015-02-19 00:00:00'))",
         "rawType": "int64",
         "type": "integer"
        },
        {
         "name": "('volume', Timestamp('2015-02-20 00:00:00'))",
         "rawType": "int64",
         "type": "integer"
        },
        {
         "name": "('volume', Timestamp('2015-02-23 00:00:00'))",
         "rawType": "int64",
         "type": "integer"
        },
        {
         "name": "('volume', Timestamp('2015-02-24 00:00:00'))",
         "rawType": "int64",
         "type": "integer"
        },
        {
         "name": "('volume', Timestamp('2015-02-25 00:00:00'))",
         "rawType": "int64",
         "type": "integer"
        },
        {
         "name": "('volume', Timestamp('2015-02-26 00:00:00'))",
         "rawType": "int64",
         "type": "integer"
        },
        {
         "name": "('volume', Timestamp('2015-02-27 00:00:00'))",
         "rawType": "int64",
         "type": "integer"
        },
        {
         "name": "('volume', Timestamp('2015-03-02 00:00:00'))",
         "rawType": "int64",
         "type": "integer"
        },
        {
         "name": "('volume', Timestamp('2015-03-03 00:00:00'))",
         "rawType": "int64",
         "type": "integer"
        },
        {
         "name": "('volume', Timestamp('2015-03-04 00:00:00'))",
         "rawType": "int64",
         "type": "integer"
        },
        {
         "name": "('volume', Timestamp('2015-03-05 00:00:00'))",
         "rawType": "int64",
         "type": "integer"
        },
        {
         "name": "('volume', Timestamp('2015-03-06 00:00:00'))",
         "rawType": "int64",
         "type": "integer"
        },
        {
         "name": "('volume', Timestamp('2015-03-09 00:00:00'))",
         "rawType": "int64",
         "type": "integer"
        },
        {
         "name": "('volume', Timestamp('2015-03-10 00:00:00'))",
         "rawType": "int64",
         "type": "integer"
        },
        {
         "name": "('volume', Timestamp('2015-03-11 00:00:00'))",
         "rawType": "int64",
         "type": "integer"
        },
        {
         "name": "('volume', Timestamp('2015-03-12 00:00:00'))",
         "rawType": "int64",
         "type": "integer"
        },
        {
         "name": "('volume', Timestamp('2015-03-13 00:00:00'))",
         "rawType": "int64",
         "type": "integer"
        },
        {
         "name": "('volume', Timestamp('2015-03-16 00:00:00'))",
         "rawType": "int64",
         "type": "integer"
        },
        {
         "name": "('volume', Timestamp('2015-03-17 00:00:00'))",
         "rawType": "int64",
         "type": "integer"
        },
        {
         "name": "('volume', Timestamp('2015-03-18 00:00:00'))",
         "rawType": "int64",
         "type": "integer"
        },
        {
         "name": "('volume', Timestamp('2015-03-19 00:00:00'))",
         "rawType": "int64",
         "type": "integer"
        },
        {
         "name": "('volume', Timestamp('2015-03-20 00:00:00'))",
         "rawType": "int64",
         "type": "integer"
        },
        {
         "name": "('volume', Timestamp('2015-03-23 00:00:00'))",
         "rawType": "int64",
         "type": "integer"
        },
        {
         "name": "('volume', Timestamp('2015-03-24 00:00:00'))",
         "rawType": "int64",
         "type": "integer"
        },
        {
         "name": "('volume', Timestamp('2015-03-25 00:00:00'))",
         "rawType": "int64",
         "type": "integer"
        },
        {
         "name": "('volume', Timestamp('2015-03-26 00:00:00'))",
         "rawType": "int64",
         "type": "integer"
        },
        {
         "name": "('volume', Timestamp('2015-03-27 00:00:00'))",
         "rawType": "int64",
         "type": "integer"
        },
        {
         "name": "('volume', Timestamp('2015-03-30 00:00:00'))",
         "rawType": "int64",
         "type": "integer"
        },
        {
         "name": "('volume', Timestamp('2015-03-31 00:00:00'))",
         "rawType": "int64",
         "type": "integer"
        },
        {
         "name": "('volume', Timestamp('2015-04-01 00:00:00'))",
         "rawType": "int64",
         "type": "integer"
        },
        {
         "name": "('volume', Timestamp('2015-04-02 00:00:00'))",
         "rawType": "int64",
         "type": "integer"
        },
        {
         "name": "('volume', Timestamp('2015-04-06 00:00:00'))",
         "rawType": "int64",
         "type": "integer"
        },
        {
         "name": "('volume', Timestamp('2015-04-07 00:00:00'))",
         "rawType": "int64",
         "type": "integer"
        },
        {
         "name": "('volume', Timestamp('2015-04-08 00:00:00'))",
         "rawType": "int64",
         "type": "integer"
        },
        {
         "name": "('volume', Timestamp('2015-04-09 00:00:00'))",
         "rawType": "int64",
         "type": "integer"
        },
        {
         "name": "('volume', Timestamp('2015-04-10 00:00:00'))",
         "rawType": "int64",
         "type": "integer"
        },
        {
         "name": "('volume', Timestamp('2015-04-13 00:00:00'))",
         "rawType": "int64",
         "type": "integer"
        },
        {
         "name": "('volume', Timestamp('2015-04-14 00:00:00'))",
         "rawType": "int64",
         "type": "integer"
        },
        {
         "name": "('volume', Timestamp('2015-04-15 00:00:00'))",
         "rawType": "int64",
         "type": "integer"
        },
        {
         "name": "('volume', Timestamp('2015-04-16 00:00:00'))",
         "rawType": "int64",
         "type": "integer"
        },
        {
         "name": "('volume', Timestamp('2015-04-17 00:00:00'))",
         "rawType": "int64",
         "type": "integer"
        },
        {
         "name": "('volume', Timestamp('2015-04-20 00:00:00'))",
         "rawType": "int64",
         "type": "integer"
        },
        {
         "name": "('volume', Timestamp('2015-04-21 00:00:00'))",
         "rawType": "int64",
         "type": "integer"
        },
        {
         "name": "('volume', Timestamp('2015-04-22 00:00:00'))",
         "rawType": "int64",
         "type": "integer"
        },
        {
         "name": "('volume', Timestamp('2015-04-23 00:00:00'))",
         "rawType": "int64",
         "type": "integer"
        },
        {
         "name": "('volume', Timestamp('2015-04-24 00:00:00'))",
         "rawType": "int64",
         "type": "integer"
        },
        {
         "name": "('volume', Timestamp('2015-04-27 00:00:00'))",
         "rawType": "int64",
         "type": "integer"
        },
        {
         "name": "('volume', Timestamp('2015-04-28 00:00:00'))",
         "rawType": "int64",
         "type": "integer"
        },
        {
         "name": "('volume', Timestamp('2015-04-29 00:00:00'))",
         "rawType": "int64",
         "type": "integer"
        },
        {
         "name": "('volume', Timestamp('2015-04-30 00:00:00'))",
         "rawType": "int64",
         "type": "integer"
        },
        {
         "name": "('volume', Timestamp('2015-05-01 00:00:00'))",
         "rawType": "int64",
         "type": "integer"
        },
        {
         "name": "('volume', Timestamp('2015-05-04 00:00:00'))",
         "rawType": "int64",
         "type": "integer"
        },
        {
         "name": "('volume', Timestamp('2015-05-05 00:00:00'))",
         "rawType": "int64",
         "type": "integer"
        },
        {
         "name": "('volume', Timestamp('2015-05-06 00:00:00'))",
         "rawType": "int64",
         "type": "integer"
        },
        {
         "name": "('volume', Timestamp('2015-05-07 00:00:00'))",
         "rawType": "int64",
         "type": "integer"
        },
        {
         "name": "('volume', Timestamp('2015-05-08 00:00:00'))",
         "rawType": "int64",
         "type": "integer"
        },
        {
         "name": "('volume', Timestamp('2015-05-11 00:00:00'))",
         "rawType": "int64",
         "type": "integer"
        },
        {
         "name": "('volume', Timestamp('2015-05-12 00:00:00'))",
         "rawType": "int64",
         "type": "integer"
        },
        {
         "name": "('volume', Timestamp('2015-05-13 00:00:00'))",
         "rawType": "int64",
         "type": "integer"
        },
        {
         "name": "('volume', Timestamp('2015-05-14 00:00:00'))",
         "rawType": "int64",
         "type": "integer"
        },
        {
         "name": "('volume', Timestamp('2015-05-15 00:00:00'))",
         "rawType": "int64",
         "type": "integer"
        },
        {
         "name": "('volume', Timestamp('2015-05-18 00:00:00'))",
         "rawType": "int64",
         "type": "integer"
        },
        {
         "name": "('volume', Timestamp('2015-05-19 00:00:00'))",
         "rawType": "int64",
         "type": "integer"
        },
        {
         "name": "('volume', Timestamp('2015-05-20 00:00:00'))",
         "rawType": "int64",
         "type": "integer"
        },
        {
         "name": "('volume', Timestamp('2015-05-21 00:00:00'))",
         "rawType": "int64",
         "type": "integer"
        },
        {
         "name": "('volume', Timestamp('2015-05-22 00:00:00'))",
         "rawType": "int64",
         "type": "integer"
        },
        {
         "name": "('volume', Timestamp('2015-05-26 00:00:00'))",
         "rawType": "int64",
         "type": "integer"
        },
        {
         "name": "('volume', Timestamp('2015-05-27 00:00:00'))",
         "rawType": "int64",
         "type": "integer"
        },
        {
         "name": "('volume', Timestamp('2015-05-28 00:00:00'))",
         "rawType": "int64",
         "type": "integer"
        },
        {
         "name": "('volume', Timestamp('2015-05-29 00:00:00'))",
         "rawType": "int64",
         "type": "integer"
        },
        {
         "name": "('volume', Timestamp('2015-06-01 00:00:00'))",
         "rawType": "int64",
         "type": "integer"
        },
        {
         "name": "('volume', Timestamp('2015-06-02 00:00:00'))",
         "rawType": "int64",
         "type": "integer"
        },
        {
         "name": "('volume', Timestamp('2015-06-03 00:00:00'))",
         "rawType": "int64",
         "type": "integer"
        },
        {
         "name": "('volume', Timestamp('2015-06-04 00:00:00'))",
         "rawType": "int64",
         "type": "integer"
        },
        {
         "name": "('volume', Timestamp('2015-06-05 00:00:00'))",
         "rawType": "int64",
         "type": "integer"
        },
        {
         "name": "('volume', Timestamp('2015-06-08 00:00:00'))",
         "rawType": "int64",
         "type": "integer"
        },
        {
         "name": "('volume', Timestamp('2015-06-09 00:00:00'))",
         "rawType": "int64",
         "type": "integer"
        },
        {
         "name": "('volume', Timestamp('2015-06-10 00:00:00'))",
         "rawType": "int64",
         "type": "integer"
        },
        {
         "name": "('volume', Timestamp('2015-06-11 00:00:00'))",
         "rawType": "int64",
         "type": "integer"
        },
        {
         "name": "('volume', Timestamp('2015-06-12 00:00:00'))",
         "rawType": "int64",
         "type": "integer"
        },
        {
         "name": "('volume', Timestamp('2015-06-15 00:00:00'))",
         "rawType": "int64",
         "type": "integer"
        },
        {
         "name": "('volume', Timestamp('2015-06-16 00:00:00'))",
         "rawType": "int64",
         "type": "integer"
        },
        {
         "name": "('volume', Timestamp('2015-06-17 00:00:00'))",
         "rawType": "int64",
         "type": "integer"
        },
        {
         "name": "('volume', Timestamp('2015-06-18 00:00:00'))",
         "rawType": "int64",
         "type": "integer"
        },
        {
         "name": "('volume', Timestamp('2015-06-19 00:00:00'))",
         "rawType": "int64",
         "type": "integer"
        },
        {
         "name": "('volume', Timestamp('2015-06-22 00:00:00'))",
         "rawType": "int64",
         "type": "integer"
        },
        {
         "name": "('volume', Timestamp('2015-06-23 00:00:00'))",
         "rawType": "int64",
         "type": "integer"
        },
        {
         "name": "('volume', Timestamp('2015-06-24 00:00:00'))",
         "rawType": "int64",
         "type": "integer"
        },
        {
         "name": "('volume', Timestamp('2015-06-25 00:00:00'))",
         "rawType": "int64",
         "type": "integer"
        },
        {
         "name": "('volume', Timestamp('2015-06-26 00:00:00'))",
         "rawType": "int64",
         "type": "integer"
        },
        {
         "name": "('volume', Timestamp('2015-06-29 00:00:00'))",
         "rawType": "int64",
         "type": "integer"
        },
        {
         "name": "('volume', Timestamp('2015-06-30 00:00:00'))",
         "rawType": "int64",
         "type": "integer"
        },
        {
         "name": "('volume', Timestamp('2015-07-01 00:00:00'))",
         "rawType": "int64",
         "type": "integer"
        },
        {
         "name": "('volume', Timestamp('2015-07-02 00:00:00'))",
         "rawType": "int64",
         "type": "integer"
        },
        {
         "name": "('volume', Timestamp('2015-07-06 00:00:00'))",
         "rawType": "int64",
         "type": "integer"
        },
        {
         "name": "('volume', Timestamp('2015-07-07 00:00:00'))",
         "rawType": "int64",
         "type": "integer"
        },
        {
         "name": "('volume', Timestamp('2015-07-08 00:00:00'))",
         "rawType": "int64",
         "type": "integer"
        },
        {
         "name": "('volume', Timestamp('2015-07-09 00:00:00'))",
         "rawType": "int64",
         "type": "integer"
        },
        {
         "name": "('volume', Timestamp('2015-07-10 00:00:00'))",
         "rawType": "int64",
         "type": "integer"
        },
        {
         "name": "('volume', Timestamp('2015-07-13 00:00:00'))",
         "rawType": "int64",
         "type": "integer"
        },
        {
         "name": "('volume', Timestamp('2015-07-14 00:00:00'))",
         "rawType": "int64",
         "type": "integer"
        },
        {
         "name": "('volume', Timestamp('2015-07-15 00:00:00'))",
         "rawType": "int64",
         "type": "integer"
        },
        {
         "name": "('volume', Timestamp('2015-07-16 00:00:00'))",
         "rawType": "int64",
         "type": "integer"
        },
        {
         "name": "('volume', Timestamp('2015-07-17 00:00:00'))",
         "rawType": "int64",
         "type": "integer"
        },
        {
         "name": "('volume', Timestamp('2015-07-20 00:00:00'))",
         "rawType": "int64",
         "type": "integer"
        },
        {
         "name": "('volume', Timestamp('2015-07-21 00:00:00'))",
         "rawType": "int64",
         "type": "integer"
        },
        {
         "name": "('volume', Timestamp('2015-07-22 00:00:00'))",
         "rawType": "int64",
         "type": "integer"
        },
        {
         "name": "('volume', Timestamp('2015-07-23 00:00:00'))",
         "rawType": "int64",
         "type": "integer"
        },
        {
         "name": "('volume', Timestamp('2015-07-24 00:00:00'))",
         "rawType": "int64",
         "type": "integer"
        },
        {
         "name": "('volume', Timestamp('2015-07-27 00:00:00'))",
         "rawType": "int64",
         "type": "integer"
        },
        {
         "name": "('volume', Timestamp('2015-07-28 00:00:00'))",
         "rawType": "int64",
         "type": "integer"
        },
        {
         "name": "('volume', Timestamp('2015-07-29 00:00:00'))",
         "rawType": "int64",
         "type": "integer"
        },
        {
         "name": "('volume', Timestamp('2015-07-30 00:00:00'))",
         "rawType": "int64",
         "type": "integer"
        },
        {
         "name": "('volume', Timestamp('2015-07-31 00:00:00'))",
         "rawType": "int64",
         "type": "integer"
        },
        {
         "name": "('volume', Timestamp('2015-08-03 00:00:00'))",
         "rawType": "int64",
         "type": "integer"
        },
        {
         "name": "('volume', Timestamp('2015-08-04 00:00:00'))",
         "rawType": "int64",
         "type": "integer"
        },
        {
         "name": "('volume', Timestamp('2015-08-05 00:00:00'))",
         "rawType": "int64",
         "type": "integer"
        },
        {
         "name": "('volume', Timestamp('2015-08-06 00:00:00'))",
         "rawType": "int64",
         "type": "integer"
        },
        {
         "name": "('volume', Timestamp('2015-08-07 00:00:00'))",
         "rawType": "int64",
         "type": "integer"
        },
        {
         "name": "('volume', Timestamp('2015-08-10 00:00:00'))",
         "rawType": "int64",
         "type": "integer"
        },
        {
         "name": "('volume', Timestamp('2015-08-11 00:00:00'))",
         "rawType": "int64",
         "type": "integer"
        },
        {
         "name": "('volume', Timestamp('2015-08-12 00:00:00'))",
         "rawType": "int64",
         "type": "integer"
        },
        {
         "name": "('volume', Timestamp('2015-08-13 00:00:00'))",
         "rawType": "int64",
         "type": "integer"
        },
        {
         "name": "('volume', Timestamp('2015-08-14 00:00:00'))",
         "rawType": "int64",
         "type": "integer"
        },
        {
         "name": "('volume', Timestamp('2015-08-17 00:00:00'))",
         "rawType": "int64",
         "type": "integer"
        },
        {
         "name": "('volume', Timestamp('2015-08-18 00:00:00'))",
         "rawType": "int64",
         "type": "integer"
        },
        {
         "name": "('volume', Timestamp('2015-08-19 00:00:00'))",
         "rawType": "int64",
         "type": "integer"
        },
        {
         "name": "('volume', Timestamp('2015-08-20 00:00:00'))",
         "rawType": "int64",
         "type": "integer"
        },
        {
         "name": "('volume', Timestamp('2015-08-21 00:00:00'))",
         "rawType": "int64",
         "type": "integer"
        },
        {
         "name": "('volume', Timestamp('2015-08-24 00:00:00'))",
         "rawType": "int64",
         "type": "integer"
        },
        {
         "name": "('volume', Timestamp('2015-08-25 00:00:00'))",
         "rawType": "int64",
         "type": "integer"
        },
        {
         "name": "('volume', Timestamp('2015-08-26 00:00:00'))",
         "rawType": "int64",
         "type": "integer"
        },
        {
         "name": "('volume', Timestamp('2015-08-27 00:00:00'))",
         "rawType": "int64",
         "type": "integer"
        },
        {
         "name": "('volume', Timestamp('2015-08-28 00:00:00'))",
         "rawType": "int64",
         "type": "integer"
        },
        {
         "name": "('volume', Timestamp('2015-08-31 00:00:00'))",
         "rawType": "int64",
         "type": "integer"
        },
        {
         "name": "('volume', Timestamp('2015-09-01 00:00:00'))",
         "rawType": "int64",
         "type": "integer"
        },
        {
         "name": "('volume', Timestamp('2015-09-02 00:00:00'))",
         "rawType": "int64",
         "type": "integer"
        },
        {
         "name": "('volume', Timestamp('2015-09-03 00:00:00'))",
         "rawType": "int64",
         "type": "integer"
        },
        {
         "name": "('volume', Timestamp('2015-09-04 00:00:00'))",
         "rawType": "int64",
         "type": "integer"
        },
        {
         "name": "('volume', Timestamp('2015-09-08 00:00:00'))",
         "rawType": "int64",
         "type": "integer"
        },
        {
         "name": "('volume', Timestamp('2015-09-09 00:00:00'))",
         "rawType": "int64",
         "type": "integer"
        },
        {
         "name": "('volume', Timestamp('2015-09-10 00:00:00'))",
         "rawType": "int64",
         "type": "integer"
        },
        {
         "name": "('volume', Timestamp('2015-09-11 00:00:00'))",
         "rawType": "int64",
         "type": "integer"
        },
        {
         "name": "('volume', Timestamp('2015-09-14 00:00:00'))",
         "rawType": "int64",
         "type": "integer"
        },
        {
         "name": "('volume', Timestamp('2015-09-15 00:00:00'))",
         "rawType": "int64",
         "type": "integer"
        },
        {
         "name": "('volume', Timestamp('2015-09-16 00:00:00'))",
         "rawType": "int64",
         "type": "integer"
        },
        {
         "name": "('volume', Timestamp('2015-09-17 00:00:00'))",
         "rawType": "int64",
         "type": "integer"
        },
        {
         "name": "('volume', Timestamp('2015-09-18 00:00:00'))",
         "rawType": "int64",
         "type": "integer"
        },
        {
         "name": "('volume', Timestamp('2015-09-21 00:00:00'))",
         "rawType": "int64",
         "type": "integer"
        },
        {
         "name": "('volume', Timestamp('2015-09-22 00:00:00'))",
         "rawType": "int64",
         "type": "integer"
        },
        {
         "name": "('volume', Timestamp('2015-09-23 00:00:00'))",
         "rawType": "int64",
         "type": "integer"
        },
        {
         "name": "('volume', Timestamp('2015-09-24 00:00:00'))",
         "rawType": "int64",
         "type": "integer"
        },
        {
         "name": "('volume', Timestamp('2015-09-25 00:00:00'))",
         "rawType": "int64",
         "type": "integer"
        },
        {
         "name": "('volume', Timestamp('2015-09-28 00:00:00'))",
         "rawType": "int64",
         "type": "integer"
        },
        {
         "name": "('volume', Timestamp('2015-09-29 00:00:00'))",
         "rawType": "int64",
         "type": "integer"
        },
        {
         "name": "('volume', Timestamp('2015-09-30 00:00:00'))",
         "rawType": "int64",
         "type": "integer"
        },
        {
         "name": "('volume', Timestamp('2015-10-01 00:00:00'))",
         "rawType": "int64",
         "type": "integer"
        },
        {
         "name": "('volume', Timestamp('2015-10-02 00:00:00'))",
         "rawType": "int64",
         "type": "integer"
        },
        {
         "name": "('volume', Timestamp('2015-10-05 00:00:00'))",
         "rawType": "int64",
         "type": "integer"
        },
        {
         "name": "('volume', Timestamp('2015-10-06 00:00:00'))",
         "rawType": "int64",
         "type": "integer"
        },
        {
         "name": "('volume', Timestamp('2015-10-07 00:00:00'))",
         "rawType": "int64",
         "type": "integer"
        },
        {
         "name": "('volume', Timestamp('2015-10-08 00:00:00'))",
         "rawType": "int64",
         "type": "integer"
        },
        {
         "name": "('volume', Timestamp('2015-10-09 00:00:00'))",
         "rawType": "int64",
         "type": "integer"
        },
        {
         "name": "('volume', Timestamp('2015-10-12 00:00:00'))",
         "rawType": "int64",
         "type": "integer"
        },
        {
         "name": "('volume', Timestamp('2015-10-13 00:00:00'))",
         "rawType": "int64",
         "type": "integer"
        },
        {
         "name": "('volume', Timestamp('2015-10-14 00:00:00'))",
         "rawType": "int64",
         "type": "integer"
        },
        {
         "name": "('volume', Timestamp('2015-10-15 00:00:00'))",
         "rawType": "int64",
         "type": "integer"
        },
        {
         "name": "('volume', Timestamp('2015-10-16 00:00:00'))",
         "rawType": "int64",
         "type": "integer"
        },
        {
         "name": "('volume', Timestamp('2015-10-19 00:00:00'))",
         "rawType": "int64",
         "type": "integer"
        },
        {
         "name": "('volume', Timestamp('2015-10-20 00:00:00'))",
         "rawType": "int64",
         "type": "integer"
        },
        {
         "name": "('volume', Timestamp('2015-10-21 00:00:00'))",
         "rawType": "int64",
         "type": "integer"
        },
        {
         "name": "('volume', Timestamp('2015-10-22 00:00:00'))",
         "rawType": "int64",
         "type": "integer"
        },
        {
         "name": "('volume', Timestamp('2015-10-23 00:00:00'))",
         "rawType": "int64",
         "type": "integer"
        },
        {
         "name": "('volume', Timestamp('2015-10-26 00:00:00'))",
         "rawType": "int64",
         "type": "integer"
        },
        {
         "name": "('volume', Timestamp('2015-10-27 00:00:00'))",
         "rawType": "int64",
         "type": "integer"
        },
        {
         "name": "('volume', Timestamp('2015-10-28 00:00:00'))",
         "rawType": "int64",
         "type": "integer"
        },
        {
         "name": "('volume', Timestamp('2015-10-29 00:00:00'))",
         "rawType": "int64",
         "type": "integer"
        },
        {
         "name": "('volume', Timestamp('2015-10-30 00:00:00'))",
         "rawType": "int64",
         "type": "integer"
        },
        {
         "name": "('volume', Timestamp('2015-11-02 00:00:00'))",
         "rawType": "int64",
         "type": "integer"
        },
        {
         "name": "('volume', Timestamp('2015-11-03 00:00:00'))",
         "rawType": "int64",
         "type": "integer"
        },
        {
         "name": "('volume', Timestamp('2015-11-04 00:00:00'))",
         "rawType": "int64",
         "type": "integer"
        },
        {
         "name": "('volume', Timestamp('2015-11-05 00:00:00'))",
         "rawType": "int64",
         "type": "integer"
        },
        {
         "name": "('volume', Timestamp('2015-11-06 00:00:00'))",
         "rawType": "int64",
         "type": "integer"
        },
        {
         "name": "('volume', Timestamp('2015-11-09 00:00:00'))",
         "rawType": "int64",
         "type": "integer"
        },
        {
         "name": "('volume', Timestamp('2015-11-10 00:00:00'))",
         "rawType": "int64",
         "type": "integer"
        },
        {
         "name": "('volume', Timestamp('2015-11-11 00:00:00'))",
         "rawType": "int64",
         "type": "integer"
        },
        {
         "name": "('volume', Timestamp('2015-11-12 00:00:00'))",
         "rawType": "int64",
         "type": "integer"
        },
        {
         "name": "('volume', Timestamp('2015-11-13 00:00:00'))",
         "rawType": "int64",
         "type": "integer"
        },
        {
         "name": "('volume', Timestamp('2015-11-16 00:00:00'))",
         "rawType": "int64",
         "type": "integer"
        },
        {
         "name": "('volume', Timestamp('2015-11-17 00:00:00'))",
         "rawType": "int64",
         "type": "integer"
        },
        {
         "name": "('volume', Timestamp('2015-11-18 00:00:00'))",
         "rawType": "int64",
         "type": "integer"
        },
        {
         "name": "('volume', Timestamp('2015-11-19 00:00:00'))",
         "rawType": "int64",
         "type": "integer"
        },
        {
         "name": "('volume', Timestamp('2015-11-20 00:00:00'))",
         "rawType": "int64",
         "type": "integer"
        },
        {
         "name": "('volume', Timestamp('2015-11-23 00:00:00'))",
         "rawType": "int64",
         "type": "integer"
        },
        {
         "name": "('volume', Timestamp('2015-11-24 00:00:00'))",
         "rawType": "int64",
         "type": "integer"
        },
        {
         "name": "('volume', Timestamp('2015-11-25 00:00:00'))",
         "rawType": "int64",
         "type": "integer"
        },
        {
         "name": "('volume', Timestamp('2015-11-27 00:00:00'))",
         "rawType": "int64",
         "type": "integer"
        },
        {
         "name": "('volume', Timestamp('2015-11-30 00:00:00'))",
         "rawType": "int64",
         "type": "integer"
        },
        {
         "name": "('volume', Timestamp('2015-12-01 00:00:00'))",
         "rawType": "int64",
         "type": "integer"
        },
        {
         "name": "('volume', Timestamp('2015-12-02 00:00:00'))",
         "rawType": "int64",
         "type": "integer"
        },
        {
         "name": "('volume', Timestamp('2015-12-03 00:00:00'))",
         "rawType": "int64",
         "type": "integer"
        },
        {
         "name": "('volume', Timestamp('2015-12-04 00:00:00'))",
         "rawType": "int64",
         "type": "integer"
        },
        {
         "name": "('volume', Timestamp('2015-12-07 00:00:00'))",
         "rawType": "int64",
         "type": "integer"
        },
        {
         "name": "('volume', Timestamp('2015-12-08 00:00:00'))",
         "rawType": "int64",
         "type": "integer"
        },
        {
         "name": "('volume', Timestamp('2015-12-09 00:00:00'))",
         "rawType": "int64",
         "type": "integer"
        },
        {
         "name": "('volume', Timestamp('2015-12-10 00:00:00'))",
         "rawType": "int64",
         "type": "integer"
        },
        {
         "name": "('volume', Timestamp('2015-12-11 00:00:00'))",
         "rawType": "int64",
         "type": "integer"
        },
        {
         "name": "('volume', Timestamp('2015-12-14 00:00:00'))",
         "rawType": "int64",
         "type": "integer"
        },
        {
         "name": "('volume', Timestamp('2015-12-15 00:00:00'))",
         "rawType": "int64",
         "type": "integer"
        },
        {
         "name": "('volume', Timestamp('2015-12-16 00:00:00'))",
         "rawType": "int64",
         "type": "integer"
        },
        {
         "name": "('volume', Timestamp('2015-12-17 00:00:00'))",
         "rawType": "int64",
         "type": "integer"
        },
        {
         "name": "('volume', Timestamp('2015-12-18 00:00:00'))",
         "rawType": "int64",
         "type": "integer"
        },
        {
         "name": "('volume', Timestamp('2015-12-21 00:00:00'))",
         "rawType": "int64",
         "type": "integer"
        },
        {
         "name": "('volume', Timestamp('2015-12-22 00:00:00'))",
         "rawType": "int64",
         "type": "integer"
        },
        {
         "name": "('volume', Timestamp('2015-12-23 00:00:00'))",
         "rawType": "int64",
         "type": "integer"
        },
        {
         "name": "('volume', Timestamp('2015-12-24 00:00:00'))",
         "rawType": "int64",
         "type": "integer"
        },
        {
         "name": "('volume', Timestamp('2015-12-28 00:00:00'))",
         "rawType": "int64",
         "type": "integer"
        },
        {
         "name": "('volume', Timestamp('2015-12-29 00:00:00'))",
         "rawType": "int64",
         "type": "integer"
        },
        {
         "name": "('volume', Timestamp('2015-12-30 00:00:00'))",
         "rawType": "int64",
         "type": "integer"
        },
        {
         "name": "('volume', Timestamp('2015-12-31 00:00:00'))",
         "rawType": "int64",
         "type": "integer"
        },
        {
         "name": "('volume', Timestamp('2016-01-04 00:00:00'))",
         "rawType": "int64",
         "type": "integer"
        },
        {
         "name": "('volume', Timestamp('2016-01-05 00:00:00'))",
         "rawType": "int64",
         "type": "integer"
        },
        {
         "name": "('volume', Timestamp('2016-01-06 00:00:00'))",
         "rawType": "int64",
         "type": "integer"
        },
        {
         "name": "('volume', Timestamp('2016-01-07 00:00:00'))",
         "rawType": "int64",
         "type": "integer"
        },
        {
         "name": "('volume', Timestamp('2016-01-08 00:00:00'))",
         "rawType": "int64",
         "type": "integer"
        },
        {
         "name": "('volume', Timestamp('2016-01-11 00:00:00'))",
         "rawType": "int64",
         "type": "integer"
        },
        {
         "name": "('volume', Timestamp('2016-01-12 00:00:00'))",
         "rawType": "int64",
         "type": "integer"
        },
        {
         "name": "('volume', Timestamp('2016-01-13 00:00:00'))",
         "rawType": "int64",
         "type": "integer"
        },
        {
         "name": "('volume', Timestamp('2016-01-14 00:00:00'))",
         "rawType": "int64",
         "type": "integer"
        },
        {
         "name": "('volume', Timestamp('2016-01-15 00:00:00'))",
         "rawType": "int64",
         "type": "integer"
        },
        {
         "name": "('volume', Timestamp('2016-01-19 00:00:00'))",
         "rawType": "int64",
         "type": "integer"
        },
        {
         "name": "('volume', Timestamp('2016-01-20 00:00:00'))",
         "rawType": "int64",
         "type": "integer"
        },
        {
         "name": "('volume', Timestamp('2016-01-21 00:00:00'))",
         "rawType": "int64",
         "type": "integer"
        },
        {
         "name": "('volume', Timestamp('2016-01-22 00:00:00'))",
         "rawType": "int64",
         "type": "integer"
        },
        {
         "name": "('volume', Timestamp('2016-01-25 00:00:00'))",
         "rawType": "int64",
         "type": "integer"
        },
        {
         "name": "('volume', Timestamp('2016-01-26 00:00:00'))",
         "rawType": "int64",
         "type": "integer"
        },
        {
         "name": "('volume', Timestamp('2016-01-27 00:00:00'))",
         "rawType": "int64",
         "type": "integer"
        },
        {
         "name": "('volume', Timestamp('2016-01-28 00:00:00'))",
         "rawType": "int64",
         "type": "integer"
        },
        {
         "name": "('volume', Timestamp('2016-01-29 00:00:00'))",
         "rawType": "int64",
         "type": "integer"
        },
        {
         "name": "('volume', Timestamp('2016-02-01 00:00:00'))",
         "rawType": "int64",
         "type": "integer"
        },
        {
         "name": "('volume', Timestamp('2016-02-02 00:00:00'))",
         "rawType": "int64",
         "type": "integer"
        },
        {
         "name": "('volume', Timestamp('2016-02-03 00:00:00'))",
         "rawType": "int64",
         "type": "integer"
        },
        {
         "name": "('volume', Timestamp('2016-02-04 00:00:00'))",
         "rawType": "int64",
         "type": "integer"
        },
        {
         "name": "('volume', Timestamp('2016-02-05 00:00:00'))",
         "rawType": "int64",
         "type": "integer"
        },
        {
         "name": "('volume', Timestamp('2016-02-08 00:00:00'))",
         "rawType": "int64",
         "type": "integer"
        },
        {
         "name": "('volume', Timestamp('2016-02-09 00:00:00'))",
         "rawType": "int64",
         "type": "integer"
        },
        {
         "name": "('volume', Timestamp('2016-02-10 00:00:00'))",
         "rawType": "int64",
         "type": "integer"
        },
        {
         "name": "('volume', Timestamp('2016-02-11 00:00:00'))",
         "rawType": "int64",
         "type": "integer"
        },
        {
         "name": "('volume', Timestamp('2016-02-12 00:00:00'))",
         "rawType": "int64",
         "type": "integer"
        },
        {
         "name": "('volume', Timestamp('2016-02-16 00:00:00'))",
         "rawType": "int64",
         "type": "integer"
        },
        {
         "name": "('volume', Timestamp('2016-02-17 00:00:00'))",
         "rawType": "int64",
         "type": "integer"
        },
        {
         "name": "('volume', Timestamp('2016-02-18 00:00:00'))",
         "rawType": "int64",
         "type": "integer"
        },
        {
         "name": "('volume', Timestamp('2016-02-19 00:00:00'))",
         "rawType": "int64",
         "type": "integer"
        },
        {
         "name": "('volume', Timestamp('2016-02-22 00:00:00'))",
         "rawType": "int64",
         "type": "integer"
        },
        {
         "name": "('volume', Timestamp('2016-02-23 00:00:00'))",
         "rawType": "int64",
         "type": "integer"
        },
        {
         "name": "('volume', Timestamp('2016-02-24 00:00:00'))",
         "rawType": "int64",
         "type": "integer"
        },
        {
         "name": "('volume', Timestamp('2016-02-25 00:00:00'))",
         "rawType": "int64",
         "type": "integer"
        },
        {
         "name": "('volume', Timestamp('2016-02-26 00:00:00'))",
         "rawType": "int64",
         "type": "integer"
        },
        {
         "name": "('volume', Timestamp('2016-02-29 00:00:00'))",
         "rawType": "int64",
         "type": "integer"
        },
        {
         "name": "('volume', Timestamp('2016-03-01 00:00:00'))",
         "rawType": "int64",
         "type": "integer"
        },
        {
         "name": "('volume', Timestamp('2016-03-02 00:00:00'))",
         "rawType": "int64",
         "type": "integer"
        },
        {
         "name": "('volume', Timestamp('2016-03-03 00:00:00'))",
         "rawType": "int64",
         "type": "integer"
        },
        {
         "name": "('volume', Timestamp('2016-03-04 00:00:00'))",
         "rawType": "int64",
         "type": "integer"
        },
        {
         "name": "('volume', Timestamp('2016-03-07 00:00:00'))",
         "rawType": "int64",
         "type": "integer"
        },
        {
         "name": "('volume', Timestamp('2016-03-08 00:00:00'))",
         "rawType": "int64",
         "type": "integer"
        },
        {
         "name": "('volume', Timestamp('2016-03-09 00:00:00'))",
         "rawType": "int64",
         "type": "integer"
        },
        {
         "name": "('volume', Timestamp('2016-03-10 00:00:00'))",
         "rawType": "int64",
         "type": "integer"
        },
        {
         "name": "('volume', Timestamp('2016-03-11 00:00:00'))",
         "rawType": "int64",
         "type": "integer"
        },
        {
         "name": "('volume', Timestamp('2016-03-14 00:00:00'))",
         "rawType": "int64",
         "type": "integer"
        },
        {
         "name": "('volume', Timestamp('2016-03-15 00:00:00'))",
         "rawType": "int64",
         "type": "integer"
        },
        {
         "name": "('volume', Timestamp('2016-03-16 00:00:00'))",
         "rawType": "int64",
         "type": "integer"
        },
        {
         "name": "('volume', Timestamp('2016-03-17 00:00:00'))",
         "rawType": "int64",
         "type": "integer"
        },
        {
         "name": "('volume', Timestamp('2016-03-18 00:00:00'))",
         "rawType": "int64",
         "type": "integer"
        },
        {
         "name": "('volume', Timestamp('2016-03-21 00:00:00'))",
         "rawType": "int64",
         "type": "integer"
        },
        {
         "name": "('volume', Timestamp('2016-03-22 00:00:00'))",
         "rawType": "int64",
         "type": "integer"
        },
        {
         "name": "('volume', Timestamp('2016-03-23 00:00:00'))",
         "rawType": "int64",
         "type": "integer"
        },
        {
         "name": "('volume', Timestamp('2016-03-24 00:00:00'))",
         "rawType": "int64",
         "type": "integer"
        },
        {
         "name": "('volume', Timestamp('2016-03-28 00:00:00'))",
         "rawType": "int64",
         "type": "integer"
        },
        {
         "name": "('volume', Timestamp('2016-03-29 00:00:00'))",
         "rawType": "int64",
         "type": "integer"
        },
        {
         "name": "('volume', Timestamp('2016-03-30 00:00:00'))",
         "rawType": "int64",
         "type": "integer"
        },
        {
         "name": "('volume', Timestamp('2016-03-31 00:00:00'))",
         "rawType": "int64",
         "type": "integer"
        },
        {
         "name": "('volume', Timestamp('2016-04-01 00:00:00'))",
         "rawType": "int64",
         "type": "integer"
        },
        {
         "name": "('volume', Timestamp('2016-04-04 00:00:00'))",
         "rawType": "int64",
         "type": "integer"
        },
        {
         "name": "('volume', Timestamp('2016-04-05 00:00:00'))",
         "rawType": "int64",
         "type": "integer"
        },
        {
         "name": "('volume', Timestamp('2016-04-06 00:00:00'))",
         "rawType": "int64",
         "type": "integer"
        },
        {
         "name": "('volume', Timestamp('2016-04-07 00:00:00'))",
         "rawType": "int64",
         "type": "integer"
        },
        {
         "name": "('volume', Timestamp('2016-04-08 00:00:00'))",
         "rawType": "int64",
         "type": "integer"
        },
        {
         "name": "('volume', Timestamp('2016-04-11 00:00:00'))",
         "rawType": "int64",
         "type": "integer"
        },
        {
         "name": "('volume', Timestamp('2016-04-12 00:00:00'))",
         "rawType": "int64",
         "type": "integer"
        },
        {
         "name": "('volume', Timestamp('2016-04-13 00:00:00'))",
         "rawType": "int64",
         "type": "integer"
        },
        {
         "name": "('volume', Timestamp('2016-04-14 00:00:00'))",
         "rawType": "int64",
         "type": "integer"
        },
        {
         "name": "('volume', Timestamp('2016-04-15 00:00:00'))",
         "rawType": "int64",
         "type": "integer"
        },
        {
         "name": "('volume', Timestamp('2016-04-18 00:00:00'))",
         "rawType": "int64",
         "type": "integer"
        },
        {
         "name": "('volume', Timestamp('2016-04-19 00:00:00'))",
         "rawType": "int64",
         "type": "integer"
        },
        {
         "name": "('volume', Timestamp('2016-04-20 00:00:00'))",
         "rawType": "int64",
         "type": "integer"
        },
        {
         "name": "('volume', Timestamp('2016-04-21 00:00:00'))",
         "rawType": "int64",
         "type": "integer"
        },
        {
         "name": "('volume', Timestamp('2016-04-22 00:00:00'))",
         "rawType": "int64",
         "type": "integer"
        },
        {
         "name": "('volume', Timestamp('2016-04-25 00:00:00'))",
         "rawType": "int64",
         "type": "integer"
        },
        {
         "name": "('volume', Timestamp('2016-04-26 00:00:00'))",
         "rawType": "int64",
         "type": "integer"
        },
        {
         "name": "('volume', Timestamp('2016-04-27 00:00:00'))",
         "rawType": "int64",
         "type": "integer"
        },
        {
         "name": "('volume', Timestamp('2016-04-28 00:00:00'))",
         "rawType": "int64",
         "type": "integer"
        },
        {
         "name": "('volume', Timestamp('2016-04-29 00:00:00'))",
         "rawType": "int64",
         "type": "integer"
        },
        {
         "name": "('volume', Timestamp('2016-05-02 00:00:00'))",
         "rawType": "int64",
         "type": "integer"
        },
        {
         "name": "('volume', Timestamp('2016-05-03 00:00:00'))",
         "rawType": "int64",
         "type": "integer"
        },
        {
         "name": "('volume', Timestamp('2016-05-04 00:00:00'))",
         "rawType": "int64",
         "type": "integer"
        },
        {
         "name": "('volume', Timestamp('2016-05-05 00:00:00'))",
         "rawType": "int64",
         "type": "integer"
        },
        {
         "name": "('volume', Timestamp('2016-05-06 00:00:00'))",
         "rawType": "int64",
         "type": "integer"
        },
        {
         "name": "('volume', Timestamp('2016-05-09 00:00:00'))",
         "rawType": "int64",
         "type": "integer"
        },
        {
         "name": "('volume', Timestamp('2016-05-10 00:00:00'))",
         "rawType": "int64",
         "type": "integer"
        },
        {
         "name": "('volume', Timestamp('2016-05-11 00:00:00'))",
         "rawType": "int64",
         "type": "integer"
        },
        {
         "name": "('volume', Timestamp('2016-05-12 00:00:00'))",
         "rawType": "int64",
         "type": "integer"
        },
        {
         "name": "('volume', Timestamp('2016-05-13 00:00:00'))",
         "rawType": "int64",
         "type": "integer"
        },
        {
         "name": "('volume', Timestamp('2016-05-16 00:00:00'))",
         "rawType": "int64",
         "type": "integer"
        },
        {
         "name": "('volume', Timestamp('2016-05-17 00:00:00'))",
         "rawType": "int64",
         "type": "integer"
        },
        {
         "name": "('volume', Timestamp('2016-05-18 00:00:00'))",
         "rawType": "int64",
         "type": "integer"
        },
        {
         "name": "('volume', Timestamp('2016-05-19 00:00:00'))",
         "rawType": "int64",
         "type": "integer"
        },
        {
         "name": "('volume', Timestamp('2016-05-20 00:00:00'))",
         "rawType": "int64",
         "type": "integer"
        },
        {
         "name": "('volume', Timestamp('2016-05-23 00:00:00'))",
         "rawType": "int64",
         "type": "integer"
        },
        {
         "name": "('volume', Timestamp('2016-05-24 00:00:00'))",
         "rawType": "int64",
         "type": "integer"
        },
        {
         "name": "('volume', Timestamp('2016-05-25 00:00:00'))",
         "rawType": "int64",
         "type": "integer"
        },
        {
         "name": "('volume', Timestamp('2016-05-26 00:00:00'))",
         "rawType": "int64",
         "type": "integer"
        },
        {
         "name": "('volume', Timestamp('2016-05-27 00:00:00'))",
         "rawType": "int64",
         "type": "integer"
        },
        {
         "name": "('volume', Timestamp('2016-05-31 00:00:00'))",
         "rawType": "int64",
         "type": "integer"
        },
        {
         "name": "('volume', Timestamp('2016-06-01 00:00:00'))",
         "rawType": "int64",
         "type": "integer"
        },
        {
         "name": "('volume', Timestamp('2016-06-02 00:00:00'))",
         "rawType": "int64",
         "type": "integer"
        },
        {
         "name": "('volume', Timestamp('2016-06-03 00:00:00'))",
         "rawType": "int64",
         "type": "integer"
        },
        {
         "name": "('volume', Timestamp('2016-06-06 00:00:00'))",
         "rawType": "int64",
         "type": "integer"
        },
        {
         "name": "('volume', Timestamp('2016-06-07 00:00:00'))",
         "rawType": "int64",
         "type": "integer"
        },
        {
         "name": "('volume', Timestamp('2016-06-08 00:00:00'))",
         "rawType": "int64",
         "type": "integer"
        },
        {
         "name": "('volume', Timestamp('2016-06-09 00:00:00'))",
         "rawType": "int64",
         "type": "integer"
        },
        {
         "name": "('volume', Timestamp('2016-06-10 00:00:00'))",
         "rawType": "int64",
         "type": "integer"
        },
        {
         "name": "('volume', Timestamp('2016-06-13 00:00:00'))",
         "rawType": "int64",
         "type": "integer"
        },
        {
         "name": "('volume', Timestamp('2016-06-14 00:00:00'))",
         "rawType": "int64",
         "type": "integer"
        },
        {
         "name": "('volume', Timestamp('2016-06-15 00:00:00'))",
         "rawType": "int64",
         "type": "integer"
        },
        {
         "name": "('volume', Timestamp('2016-06-16 00:00:00'))",
         "rawType": "int64",
         "type": "integer"
        },
        {
         "name": "('volume', Timestamp('2016-06-17 00:00:00'))",
         "rawType": "int64",
         "type": "integer"
        },
        {
         "name": "('volume', Timestamp('2016-06-20 00:00:00'))",
         "rawType": "int64",
         "type": "integer"
        },
        {
         "name": "('volume', Timestamp('2016-06-21 00:00:00'))",
         "rawType": "int64",
         "type": "integer"
        },
        {
         "name": "('volume', Timestamp('2016-06-22 00:00:00'))",
         "rawType": "int64",
         "type": "integer"
        },
        {
         "name": "('volume', Timestamp('2016-06-23 00:00:00'))",
         "rawType": "int64",
         "type": "integer"
        },
        {
         "name": "('volume', Timestamp('2016-06-24 00:00:00'))",
         "rawType": "int64",
         "type": "integer"
        },
        {
         "name": "('volume', Timestamp('2016-06-27 00:00:00'))",
         "rawType": "int64",
         "type": "integer"
        },
        {
         "name": "('volume', Timestamp('2016-06-28 00:00:00'))",
         "rawType": "int64",
         "type": "integer"
        },
        {
         "name": "('volume', Timestamp('2016-06-29 00:00:00'))",
         "rawType": "int64",
         "type": "integer"
        },
        {
         "name": "('volume', Timestamp('2016-06-30 00:00:00'))",
         "rawType": "int64",
         "type": "integer"
        },
        {
         "name": "('volume', Timestamp('2016-07-01 00:00:00'))",
         "rawType": "int64",
         "type": "integer"
        },
        {
         "name": "('volume', Timestamp('2016-07-05 00:00:00'))",
         "rawType": "int64",
         "type": "integer"
        },
        {
         "name": "('volume', Timestamp('2016-07-06 00:00:00'))",
         "rawType": "int64",
         "type": "integer"
        },
        {
         "name": "('volume', Timestamp('2016-07-07 00:00:00'))",
         "rawType": "int64",
         "type": "integer"
        },
        {
         "name": "('volume', Timestamp('2016-07-08 00:00:00'))",
         "rawType": "int64",
         "type": "integer"
        },
        {
         "name": "('volume', Timestamp('2016-07-11 00:00:00'))",
         "rawType": "int64",
         "type": "integer"
        },
        {
         "name": "('volume', Timestamp('2016-07-12 00:00:00'))",
         "rawType": "int64",
         "type": "integer"
        },
        {
         "name": "('volume', Timestamp('2016-07-13 00:00:00'))",
         "rawType": "int64",
         "type": "integer"
        },
        {
         "name": "('volume', Timestamp('2016-07-14 00:00:00'))",
         "rawType": "int64",
         "type": "integer"
        },
        {
         "name": "('volume', Timestamp('2016-07-15 00:00:00'))",
         "rawType": "int64",
         "type": "integer"
        },
        {
         "name": "('volume', Timestamp('2016-07-18 00:00:00'))",
         "rawType": "int64",
         "type": "integer"
        },
        {
         "name": "('volume', Timestamp('2016-07-19 00:00:00'))",
         "rawType": "int64",
         "type": "integer"
        },
        {
         "name": "('volume', Timestamp('2016-07-20 00:00:00'))",
         "rawType": "int64",
         "type": "integer"
        },
        {
         "name": "('volume', Timestamp('2016-07-21 00:00:00'))",
         "rawType": "int64",
         "type": "integer"
        },
        {
         "name": "('volume', Timestamp('2016-07-22 00:00:00'))",
         "rawType": "int64",
         "type": "integer"
        },
        {
         "name": "('volume', Timestamp('2016-07-25 00:00:00'))",
         "rawType": "int64",
         "type": "integer"
        },
        {
         "name": "('volume', Timestamp('2016-07-26 00:00:00'))",
         "rawType": "int64",
         "type": "integer"
        },
        {
         "name": "('volume', Timestamp('2016-07-27 00:00:00'))",
         "rawType": "int64",
         "type": "integer"
        },
        {
         "name": "('volume', Timestamp('2016-07-28 00:00:00'))",
         "rawType": "int64",
         "type": "integer"
        },
        {
         "name": "('volume', Timestamp('2016-07-29 00:00:00'))",
         "rawType": "int64",
         "type": "integer"
        },
        {
         "name": "('volume', Timestamp('2016-08-01 00:00:00'))",
         "rawType": "int64",
         "type": "integer"
        },
        {
         "name": "('volume', Timestamp('2016-08-02 00:00:00'))",
         "rawType": "int64",
         "type": "integer"
        },
        {
         "name": "('volume', Timestamp('2016-08-03 00:00:00'))",
         "rawType": "int64",
         "type": "integer"
        },
        {
         "name": "('volume', Timestamp('2016-08-04 00:00:00'))",
         "rawType": "int64",
         "type": "integer"
        },
        {
         "name": "('volume', Timestamp('2016-08-05 00:00:00'))",
         "rawType": "int64",
         "type": "integer"
        },
        {
         "name": "('volume', Timestamp('2016-08-08 00:00:00'))",
         "rawType": "int64",
         "type": "integer"
        },
        {
         "name": "('volume', Timestamp('2016-08-09 00:00:00'))",
         "rawType": "int64",
         "type": "integer"
        },
        {
         "name": "('volume', Timestamp('2016-08-10 00:00:00'))",
         "rawType": "int64",
         "type": "integer"
        },
        {
         "name": "('volume', Timestamp('2016-08-11 00:00:00'))",
         "rawType": "int64",
         "type": "integer"
        },
        {
         "name": "('volume', Timestamp('2016-08-12 00:00:00'))",
         "rawType": "int64",
         "type": "integer"
        },
        {
         "name": "('volume', Timestamp('2016-08-15 00:00:00'))",
         "rawType": "int64",
         "type": "integer"
        },
        {
         "name": "('volume', Timestamp('2016-08-16 00:00:00'))",
         "rawType": "int64",
         "type": "integer"
        },
        {
         "name": "('volume', Timestamp('2016-08-17 00:00:00'))",
         "rawType": "int64",
         "type": "integer"
        },
        {
         "name": "('volume', Timestamp('2016-08-18 00:00:00'))",
         "rawType": "int64",
         "type": "integer"
        },
        {
         "name": "('volume', Timestamp('2016-08-19 00:00:00'))",
         "rawType": "int64",
         "type": "integer"
        },
        {
         "name": "('volume', Timestamp('2016-08-22 00:00:00'))",
         "rawType": "int64",
         "type": "integer"
        },
        {
         "name": "('volume', Timestamp('2016-08-23 00:00:00'))",
         "rawType": "int64",
         "type": "integer"
        },
        {
         "name": "('volume', Timestamp('2016-08-24 00:00:00'))",
         "rawType": "int64",
         "type": "integer"
        },
        {
         "name": "('volume', Timestamp('2016-08-25 00:00:00'))",
         "rawType": "int64",
         "type": "integer"
        },
        {
         "name": "('volume', Timestamp('2016-08-26 00:00:00'))",
         "rawType": "int64",
         "type": "integer"
        },
        {
         "name": "('volume', Timestamp('2016-08-29 00:00:00'))",
         "rawType": "int64",
         "type": "integer"
        },
        {
         "name": "('volume', Timestamp('2016-08-30 00:00:00'))",
         "rawType": "int64",
         "type": "integer"
        },
        {
         "name": "('volume', Timestamp('2016-08-31 00:00:00'))",
         "rawType": "int64",
         "type": "integer"
        },
        {
         "name": "('volume', Timestamp('2016-09-01 00:00:00'))",
         "rawType": "int64",
         "type": "integer"
        },
        {
         "name": "('volume', Timestamp('2016-09-02 00:00:00'))",
         "rawType": "int64",
         "type": "integer"
        },
        {
         "name": "('volume', Timestamp('2016-09-06 00:00:00'))",
         "rawType": "int64",
         "type": "integer"
        },
        {
         "name": "('volume', Timestamp('2016-09-07 00:00:00'))",
         "rawType": "int64",
         "type": "integer"
        },
        {
         "name": "('volume', Timestamp('2016-09-08 00:00:00'))",
         "rawType": "int64",
         "type": "integer"
        },
        {
         "name": "('volume', Timestamp('2016-09-09 00:00:00'))",
         "rawType": "int64",
         "type": "integer"
        },
        {
         "name": "('volume', Timestamp('2016-09-12 00:00:00'))",
         "rawType": "int64",
         "type": "integer"
        },
        {
         "name": "('volume', Timestamp('2016-09-13 00:00:00'))",
         "rawType": "int64",
         "type": "integer"
        },
        {
         "name": "('volume', Timestamp('2016-09-14 00:00:00'))",
         "rawType": "int64",
         "type": "integer"
        },
        {
         "name": "('volume', Timestamp('2016-09-15 00:00:00'))",
         "rawType": "int64",
         "type": "integer"
        },
        {
         "name": "('volume', Timestamp('2016-09-16 00:00:00'))",
         "rawType": "int64",
         "type": "integer"
        },
        {
         "name": "('volume', Timestamp('2016-09-19 00:00:00'))",
         "rawType": "int64",
         "type": "integer"
        },
        {
         "name": "('volume', Timestamp('2016-09-20 00:00:00'))",
         "rawType": "int64",
         "type": "integer"
        },
        {
         "name": "('volume', Timestamp('2016-09-21 00:00:00'))",
         "rawType": "int64",
         "type": "integer"
        },
        {
         "name": "('volume', Timestamp('2016-09-22 00:00:00'))",
         "rawType": "int64",
         "type": "integer"
        },
        {
         "name": "('volume', Timestamp('2016-09-23 00:00:00'))",
         "rawType": "int64",
         "type": "integer"
        },
        {
         "name": "('volume', Timestamp('2016-09-26 00:00:00'))",
         "rawType": "int64",
         "type": "integer"
        },
        {
         "name": "('volume', Timestamp('2016-09-27 00:00:00'))",
         "rawType": "int64",
         "type": "integer"
        },
        {
         "name": "('volume', Timestamp('2016-09-28 00:00:00'))",
         "rawType": "int64",
         "type": "integer"
        },
        {
         "name": "('volume', Timestamp('2016-09-29 00:00:00'))",
         "rawType": "int64",
         "type": "integer"
        },
        {
         "name": "('volume', Timestamp('2016-09-30 00:00:00'))",
         "rawType": "int64",
         "type": "integer"
        },
        {
         "name": "('volume', Timestamp('2016-10-03 00:00:00'))",
         "rawType": "int64",
         "type": "integer"
        },
        {
         "name": "('volume', Timestamp('2016-10-04 00:00:00'))",
         "rawType": "int64",
         "type": "integer"
        },
        {
         "name": "('volume', Timestamp('2016-10-05 00:00:00'))",
         "rawType": "int64",
         "type": "integer"
        },
        {
         "name": "('volume', Timestamp('2016-10-06 00:00:00'))",
         "rawType": "int64",
         "type": "integer"
        },
        {
         "name": "('volume', Timestamp('2016-10-07 00:00:00'))",
         "rawType": "int64",
         "type": "integer"
        },
        {
         "name": "('volume', Timestamp('2016-10-10 00:00:00'))",
         "rawType": "int64",
         "type": "integer"
        },
        {
         "name": "('volume', Timestamp('2016-10-11 00:00:00'))",
         "rawType": "int64",
         "type": "integer"
        },
        {
         "name": "('volume', Timestamp('2016-10-12 00:00:00'))",
         "rawType": "int64",
         "type": "integer"
        },
        {
         "name": "('volume', Timestamp('2016-10-13 00:00:00'))",
         "rawType": "int64",
         "type": "integer"
        },
        {
         "name": "('volume', Timestamp('2016-10-14 00:00:00'))",
         "rawType": "int64",
         "type": "integer"
        },
        {
         "name": "('volume', Timestamp('2016-10-17 00:00:00'))",
         "rawType": "int64",
         "type": "integer"
        },
        {
         "name": "('volume', Timestamp('2016-10-18 00:00:00'))",
         "rawType": "int64",
         "type": "integer"
        },
        {
         "name": "('volume', Timestamp('2016-10-19 00:00:00'))",
         "rawType": "int64",
         "type": "integer"
        },
        {
         "name": "('volume', Timestamp('2016-10-20 00:00:00'))",
         "rawType": "int64",
         "type": "integer"
        },
        {
         "name": "('volume', Timestamp('2016-10-21 00:00:00'))",
         "rawType": "int64",
         "type": "integer"
        },
        {
         "name": "('volume', Timestamp('2016-10-24 00:00:00'))",
         "rawType": "int64",
         "type": "integer"
        },
        {
         "name": "('volume', Timestamp('2016-10-25 00:00:00'))",
         "rawType": "int64",
         "type": "integer"
        },
        {
         "name": "('volume', Timestamp('2016-10-26 00:00:00'))",
         "rawType": "int64",
         "type": "integer"
        },
        {
         "name": "('volume', Timestamp('2016-10-27 00:00:00'))",
         "rawType": "int64",
         "type": "integer"
        },
        {
         "name": "('volume', Timestamp('2016-10-28 00:00:00'))",
         "rawType": "int64",
         "type": "integer"
        },
        {
         "name": "('volume', Timestamp('2016-10-31 00:00:00'))",
         "rawType": "int64",
         "type": "integer"
        },
        {
         "name": "('volume', Timestamp('2016-11-01 00:00:00'))",
         "rawType": "int64",
         "type": "integer"
        },
        {
         "name": "('volume', Timestamp('2016-11-02 00:00:00'))",
         "rawType": "int64",
         "type": "integer"
        },
        {
         "name": "('volume', Timestamp('2016-11-03 00:00:00'))",
         "rawType": "int64",
         "type": "integer"
        },
        {
         "name": "('volume', Timestamp('2016-11-04 00:00:00'))",
         "rawType": "int64",
         "type": "integer"
        },
        {
         "name": "('volume', Timestamp('2016-11-07 00:00:00'))",
         "rawType": "int64",
         "type": "integer"
        },
        {
         "name": "('volume', Timestamp('2016-11-08 00:00:00'))",
         "rawType": "int64",
         "type": "integer"
        },
        {
         "name": "('volume', Timestamp('2016-11-09 00:00:00'))",
         "rawType": "int64",
         "type": "integer"
        },
        {
         "name": "('volume', Timestamp('2016-11-10 00:00:00'))",
         "rawType": "int64",
         "type": "integer"
        },
        {
         "name": "('volume', Timestamp('2016-11-11 00:00:00'))",
         "rawType": "int64",
         "type": "integer"
        },
        {
         "name": "('volume', Timestamp('2016-11-14 00:00:00'))",
         "rawType": "int64",
         "type": "integer"
        },
        {
         "name": "('volume', Timestamp('2016-11-15 00:00:00'))",
         "rawType": "int64",
         "type": "integer"
        },
        {
         "name": "('volume', Timestamp('2016-11-16 00:00:00'))",
         "rawType": "int64",
         "type": "integer"
        },
        {
         "name": "('volume', Timestamp('2016-11-17 00:00:00'))",
         "rawType": "int64",
         "type": "integer"
        },
        {
         "name": "('volume', Timestamp('2016-11-18 00:00:00'))",
         "rawType": "int64",
         "type": "integer"
        },
        {
         "name": "('volume', Timestamp('2016-11-21 00:00:00'))",
         "rawType": "int64",
         "type": "integer"
        },
        {
         "name": "('volume', Timestamp('2016-11-22 00:00:00'))",
         "rawType": "int64",
         "type": "integer"
        },
        {
         "name": "('volume', Timestamp('2016-11-23 00:00:00'))",
         "rawType": "int64",
         "type": "integer"
        },
        {
         "name": "('volume', Timestamp('2016-11-25 00:00:00'))",
         "rawType": "int64",
         "type": "integer"
        },
        {
         "name": "('volume', Timestamp('2016-11-28 00:00:00'))",
         "rawType": "int64",
         "type": "integer"
        },
        {
         "name": "('volume', Timestamp('2016-11-29 00:00:00'))",
         "rawType": "int64",
         "type": "integer"
        },
        {
         "name": "('volume', Timestamp('2016-11-30 00:00:00'))",
         "rawType": "int64",
         "type": "integer"
        },
        {
         "name": "('volume', Timestamp('2016-12-01 00:00:00'))",
         "rawType": "int64",
         "type": "integer"
        },
        {
         "name": "('volume', Timestamp('2016-12-02 00:00:00'))",
         "rawType": "int64",
         "type": "integer"
        },
        {
         "name": "('volume', Timestamp('2016-12-05 00:00:00'))",
         "rawType": "int64",
         "type": "integer"
        },
        {
         "name": "('volume', Timestamp('2016-12-06 00:00:00'))",
         "rawType": "int64",
         "type": "integer"
        },
        {
         "name": "('volume', Timestamp('2016-12-07 00:00:00'))",
         "rawType": "int64",
         "type": "integer"
        },
        {
         "name": "('volume', Timestamp('2016-12-08 00:00:00'))",
         "rawType": "int64",
         "type": "integer"
        },
        {
         "name": "('volume', Timestamp('2016-12-09 00:00:00'))",
         "rawType": "int64",
         "type": "integer"
        },
        {
         "name": "('volume', Timestamp('2016-12-12 00:00:00'))",
         "rawType": "int64",
         "type": "integer"
        },
        {
         "name": "('volume', Timestamp('2016-12-13 00:00:00'))",
         "rawType": "int64",
         "type": "integer"
        },
        {
         "name": "('volume', Timestamp('2016-12-14 00:00:00'))",
         "rawType": "int64",
         "type": "integer"
        },
        {
         "name": "('volume', Timestamp('2016-12-15 00:00:00'))",
         "rawType": "int64",
         "type": "integer"
        },
        {
         "name": "('volume', Timestamp('2016-12-16 00:00:00'))",
         "rawType": "int64",
         "type": "integer"
        },
        {
         "name": "('volume', Timestamp('2016-12-19 00:00:00'))",
         "rawType": "int64",
         "type": "integer"
        },
        {
         "name": "('volume', Timestamp('2016-12-20 00:00:00'))",
         "rawType": "int64",
         "type": "integer"
        },
        {
         "name": "('volume', Timestamp('2016-12-21 00:00:00'))",
         "rawType": "int64",
         "type": "integer"
        },
        {
         "name": "('volume', Timestamp('2016-12-22 00:00:00'))",
         "rawType": "int64",
         "type": "integer"
        },
        {
         "name": "('volume', Timestamp('2016-12-23 00:00:00'))",
         "rawType": "int64",
         "type": "integer"
        },
        {
         "name": "('volume', Timestamp('2016-12-27 00:00:00'))",
         "rawType": "int64",
         "type": "integer"
        },
        {
         "name": "('volume', Timestamp('2016-12-28 00:00:00'))",
         "rawType": "int64",
         "type": "integer"
        },
        {
         "name": "('volume', Timestamp('2016-12-29 00:00:00'))",
         "rawType": "int64",
         "type": "integer"
        },
        {
         "name": "('volume', Timestamp('2016-12-30 00:00:00'))",
         "rawType": "int64",
         "type": "integer"
        },
        {
         "name": "('volume', Timestamp('2017-01-03 00:00:00'))",
         "rawType": "int64",
         "type": "integer"
        },
        {
         "name": "('volume', Timestamp('2017-01-04 00:00:00'))",
         "rawType": "int64",
         "type": "integer"
        },
        {
         "name": "('volume', Timestamp('2017-01-05 00:00:00'))",
         "rawType": "int64",
         "type": "integer"
        },
        {
         "name": "('volume', Timestamp('2017-01-06 00:00:00'))",
         "rawType": "int64",
         "type": "integer"
        },
        {
         "name": "('volume', Timestamp('2017-01-09 00:00:00'))",
         "rawType": "int64",
         "type": "integer"
        },
        {
         "name": "('volume', Timestamp('2017-01-10 00:00:00'))",
         "rawType": "int64",
         "type": "integer"
        },
        {
         "name": "('volume', Timestamp('2017-01-11 00:00:00'))",
         "rawType": "int64",
         "type": "integer"
        },
        {
         "name": "('volume', Timestamp('2017-01-12 00:00:00'))",
         "rawType": "int64",
         "type": "integer"
        },
        {
         "name": "('volume', Timestamp('2017-01-13 00:00:00'))",
         "rawType": "int64",
         "type": "integer"
        },
        {
         "name": "('volume', Timestamp('2017-01-17 00:00:00'))",
         "rawType": "int64",
         "type": "integer"
        },
        {
         "name": "('volume', Timestamp('2017-01-18 00:00:00'))",
         "rawType": "int64",
         "type": "integer"
        },
        {
         "name": "('volume', Timestamp('2017-01-19 00:00:00'))",
         "rawType": "int64",
         "type": "integer"
        },
        {
         "name": "('volume', Timestamp('2017-01-20 00:00:00'))",
         "rawType": "int64",
         "type": "integer"
        },
        {
         "name": "('volume', Timestamp('2017-01-23 00:00:00'))",
         "rawType": "int64",
         "type": "integer"
        },
        {
         "name": "('volume', Timestamp('2017-01-24 00:00:00'))",
         "rawType": "int64",
         "type": "integer"
        },
        {
         "name": "('volume', Timestamp('2017-01-25 00:00:00'))",
         "rawType": "int64",
         "type": "integer"
        },
        {
         "name": "('volume', Timestamp('2017-01-26 00:00:00'))",
         "rawType": "int64",
         "type": "integer"
        },
        {
         "name": "('volume', Timestamp('2017-01-27 00:00:00'))",
         "rawType": "int64",
         "type": "integer"
        },
        {
         "name": "('volume', Timestamp('2017-01-30 00:00:00'))",
         "rawType": "int64",
         "type": "integer"
        },
        {
         "name": "('volume', Timestamp('2017-01-31 00:00:00'))",
         "rawType": "int64",
         "type": "integer"
        },
        {
         "name": "('volume', Timestamp('2017-02-01 00:00:00'))",
         "rawType": "int64",
         "type": "integer"
        },
        {
         "name": "('volume', Timestamp('2017-02-02 00:00:00'))",
         "rawType": "int64",
         "type": "integer"
        },
        {
         "name": "('volume', Timestamp('2017-02-03 00:00:00'))",
         "rawType": "int64",
         "type": "integer"
        },
        {
         "name": "('volume', Timestamp('2017-02-06 00:00:00'))",
         "rawType": "int64",
         "type": "integer"
        },
        {
         "name": "('volume', Timestamp('2017-02-07 00:00:00'))",
         "rawType": "int64",
         "type": "integer"
        },
        {
         "name": "('volume', Timestamp('2017-02-08 00:00:00'))",
         "rawType": "int64",
         "type": "integer"
        },
        {
         "name": "('volume', Timestamp('2017-02-09 00:00:00'))",
         "rawType": "int64",
         "type": "integer"
        },
        {
         "name": "('volume', Timestamp('2017-02-10 00:00:00'))",
         "rawType": "int64",
         "type": "integer"
        },
        {
         "name": "('volume', Timestamp('2017-02-13 00:00:00'))",
         "rawType": "int64",
         "type": "integer"
        },
        {
         "name": "('volume', Timestamp('2017-02-14 00:00:00'))",
         "rawType": "int64",
         "type": "integer"
        },
        {
         "name": "('volume', Timestamp('2017-02-15 00:00:00'))",
         "rawType": "int64",
         "type": "integer"
        },
        {
         "name": "('volume', Timestamp('2017-02-16 00:00:00'))",
         "rawType": "int64",
         "type": "integer"
        },
        {
         "name": "('volume', Timestamp('2017-02-17 00:00:00'))",
         "rawType": "int64",
         "type": "integer"
        },
        {
         "name": "('volume', Timestamp('2017-02-21 00:00:00'))",
         "rawType": "int64",
         "type": "integer"
        },
        {
         "name": "('volume', Timestamp('2017-02-22 00:00:00'))",
         "rawType": "int64",
         "type": "integer"
        },
        {
         "name": "('volume', Timestamp('2017-02-23 00:00:00'))",
         "rawType": "int64",
         "type": "integer"
        },
        {
         "name": "('volume', Timestamp('2017-02-24 00:00:00'))",
         "rawType": "int64",
         "type": "integer"
        },
        {
         "name": "('volume', Timestamp('2017-02-27 00:00:00'))",
         "rawType": "int64",
         "type": "integer"
        },
        {
         "name": "('volume', Timestamp('2017-02-28 00:00:00'))",
         "rawType": "int64",
         "type": "integer"
        },
        {
         "name": "('volume', Timestamp('2017-03-01 00:00:00'))",
         "rawType": "int64",
         "type": "integer"
        },
        {
         "name": "('volume', Timestamp('2017-03-02 00:00:00'))",
         "rawType": "int64",
         "type": "integer"
        },
        {
         "name": "('volume', Timestamp('2017-03-03 00:00:00'))",
         "rawType": "int64",
         "type": "integer"
        },
        {
         "name": "('volume', Timestamp('2017-03-06 00:00:00'))",
         "rawType": "int64",
         "type": "integer"
        },
        {
         "name": "('volume', Timestamp('2017-03-07 00:00:00'))",
         "rawType": "int64",
         "type": "integer"
        },
        {
         "name": "('volume', Timestamp('2017-03-08 00:00:00'))",
         "rawType": "int64",
         "type": "integer"
        },
        {
         "name": "('volume', Timestamp('2017-03-09 00:00:00'))",
         "rawType": "int64",
         "type": "integer"
        },
        {
         "name": "('volume', Timestamp('2017-03-10 00:00:00'))",
         "rawType": "int64",
         "type": "integer"
        },
        {
         "name": "('volume', Timestamp('2017-03-13 00:00:00'))",
         "rawType": "int64",
         "type": "integer"
        },
        {
         "name": "('volume', Timestamp('2017-03-14 00:00:00'))",
         "rawType": "int64",
         "type": "integer"
        },
        {
         "name": "('volume', Timestamp('2017-03-15 00:00:00'))",
         "rawType": "int64",
         "type": "integer"
        },
        {
         "name": "('volume', Timestamp('2017-03-16 00:00:00'))",
         "rawType": "int64",
         "type": "integer"
        },
        {
         "name": "('volume', Timestamp('2017-03-17 00:00:00'))",
         "rawType": "int64",
         "type": "integer"
        },
        {
         "name": "('volume', Timestamp('2017-03-20 00:00:00'))",
         "rawType": "int64",
         "type": "integer"
        },
        {
         "name": "('volume', Timestamp('2017-03-21 00:00:00'))",
         "rawType": "int64",
         "type": "integer"
        },
        {
         "name": "('volume', Timestamp('2017-03-22 00:00:00'))",
         "rawType": "int64",
         "type": "integer"
        },
        {
         "name": "('volume', Timestamp('2017-03-23 00:00:00'))",
         "rawType": "int64",
         "type": "integer"
        },
        {
         "name": "('volume', Timestamp('2017-03-24 00:00:00'))",
         "rawType": "int64",
         "type": "integer"
        },
        {
         "name": "('volume', Timestamp('2017-03-27 00:00:00'))",
         "rawType": "int64",
         "type": "integer"
        },
        {
         "name": "('volume', Timestamp('2017-03-28 00:00:00'))",
         "rawType": "int64",
         "type": "integer"
        },
        {
         "name": "('volume', Timestamp('2017-03-29 00:00:00'))",
         "rawType": "int64",
         "type": "integer"
        },
        {
         "name": "('volume', Timestamp('2017-03-30 00:00:00'))",
         "rawType": "int64",
         "type": "integer"
        },
        {
         "name": "('volume', Timestamp('2017-03-31 00:00:00'))",
         "rawType": "int64",
         "type": "integer"
        },
        {
         "name": "('volume', Timestamp('2017-04-03 00:00:00'))",
         "rawType": "int64",
         "type": "integer"
        },
        {
         "name": "('volume', Timestamp('2017-04-04 00:00:00'))",
         "rawType": "int64",
         "type": "integer"
        },
        {
         "name": "('volume', Timestamp('2017-04-05 00:00:00'))",
         "rawType": "int64",
         "type": "integer"
        },
        {
         "name": "('volume', Timestamp('2017-04-06 00:00:00'))",
         "rawType": "int64",
         "type": "integer"
        },
        {
         "name": "('volume', Timestamp('2017-04-07 00:00:00'))",
         "rawType": "int64",
         "type": "integer"
        },
        {
         "name": "('volume', Timestamp('2017-04-10 00:00:00'))",
         "rawType": "int64",
         "type": "integer"
        },
        {
         "name": "('volume', Timestamp('2017-04-11 00:00:00'))",
         "rawType": "int64",
         "type": "integer"
        },
        {
         "name": "('volume', Timestamp('2017-04-12 00:00:00'))",
         "rawType": "int64",
         "type": "integer"
        },
        {
         "name": "('volume', Timestamp('2017-04-13 00:00:00'))",
         "rawType": "int64",
         "type": "integer"
        },
        {
         "name": "('volume', Timestamp('2017-04-17 00:00:00'))",
         "rawType": "int64",
         "type": "integer"
        },
        {
         "name": "('volume', Timestamp('2017-04-18 00:00:00'))",
         "rawType": "int64",
         "type": "integer"
        },
        {
         "name": "('volume', Timestamp('2017-04-19 00:00:00'))",
         "rawType": "int64",
         "type": "integer"
        },
        {
         "name": "('volume', Timestamp('2017-04-20 00:00:00'))",
         "rawType": "int64",
         "type": "integer"
        },
        {
         "name": "('volume', Timestamp('2017-04-21 00:00:00'))",
         "rawType": "int64",
         "type": "integer"
        },
        {
         "name": "('volume', Timestamp('2017-04-24 00:00:00'))",
         "rawType": "int64",
         "type": "integer"
        },
        {
         "name": "('volume', Timestamp('2017-04-25 00:00:00'))",
         "rawType": "int64",
         "type": "integer"
        },
        {
         "name": "('volume', Timestamp('2017-04-26 00:00:00'))",
         "rawType": "int64",
         "type": "integer"
        },
        {
         "name": "('volume', Timestamp('2017-04-27 00:00:00'))",
         "rawType": "int64",
         "type": "integer"
        },
        {
         "name": "('volume', Timestamp('2017-04-28 00:00:00'))",
         "rawType": "int64",
         "type": "integer"
        },
        {
         "name": "('volume', Timestamp('2017-05-01 00:00:00'))",
         "rawType": "int64",
         "type": "integer"
        },
        {
         "name": "('volume', Timestamp('2017-05-02 00:00:00'))",
         "rawType": "int64",
         "type": "integer"
        },
        {
         "name": "('volume', Timestamp('2017-05-03 00:00:00'))",
         "rawType": "int64",
         "type": "integer"
        },
        {
         "name": "('volume', Timestamp('2017-05-04 00:00:00'))",
         "rawType": "int64",
         "type": "integer"
        },
        {
         "name": "('volume', Timestamp('2017-05-05 00:00:00'))",
         "rawType": "int64",
         "type": "integer"
        },
        {
         "name": "('volume', Timestamp('2017-05-08 00:00:00'))",
         "rawType": "int64",
         "type": "integer"
        },
        {
         "name": "('volume', Timestamp('2017-05-09 00:00:00'))",
         "rawType": "int64",
         "type": "integer"
        },
        {
         "name": "('volume', Timestamp('2017-05-10 00:00:00'))",
         "rawType": "int64",
         "type": "integer"
        },
        {
         "name": "('volume', Timestamp('2017-05-11 00:00:00'))",
         "rawType": "int64",
         "type": "integer"
        },
        {
         "name": "('volume', Timestamp('2017-05-12 00:00:00'))",
         "rawType": "int64",
         "type": "integer"
        },
        {
         "name": "('volume', Timestamp('2017-05-15 00:00:00'))",
         "rawType": "int64",
         "type": "integer"
        },
        {
         "name": "('volume', Timestamp('2017-05-16 00:00:00'))",
         "rawType": "int64",
         "type": "integer"
        },
        {
         "name": "('volume', Timestamp('2017-05-17 00:00:00'))",
         "rawType": "int64",
         "type": "integer"
        },
        {
         "name": "('volume', Timestamp('2017-05-18 00:00:00'))",
         "rawType": "int64",
         "type": "integer"
        },
        {
         "name": "('volume', Timestamp('2017-05-19 00:00:00'))",
         "rawType": "int64",
         "type": "integer"
        },
        {
         "name": "('volume', Timestamp('2017-05-22 00:00:00'))",
         "rawType": "int64",
         "type": "integer"
        },
        {
         "name": "('volume', Timestamp('2017-05-23 00:00:00'))",
         "rawType": "int64",
         "type": "integer"
        },
        {
         "name": "('volume', Timestamp('2017-05-24 00:00:00'))",
         "rawType": "int64",
         "type": "integer"
        },
        {
         "name": "('volume', Timestamp('2017-05-25 00:00:00'))",
         "rawType": "int64",
         "type": "integer"
        },
        {
         "name": "('volume', Timestamp('2017-05-26 00:00:00'))",
         "rawType": "int64",
         "type": "integer"
        },
        {
         "name": "('volume', Timestamp('2017-05-30 00:00:00'))",
         "rawType": "int64",
         "type": "integer"
        },
        {
         "name": "('volume', Timestamp('2017-05-31 00:00:00'))",
         "rawType": "int64",
         "type": "integer"
        },
        {
         "name": "('volume', Timestamp('2017-06-01 00:00:00'))",
         "rawType": "int64",
         "type": "integer"
        },
        {
         "name": "('volume', Timestamp('2017-06-02 00:00:00'))",
         "rawType": "int64",
         "type": "integer"
        },
        {
         "name": "('volume', Timestamp('2017-06-05 00:00:00'))",
         "rawType": "int64",
         "type": "integer"
        },
        {
         "name": "('volume', Timestamp('2017-06-06 00:00:00'))",
         "rawType": "int64",
         "type": "integer"
        },
        {
         "name": "('volume', Timestamp('2017-06-07 00:00:00'))",
         "rawType": "int64",
         "type": "integer"
        },
        {
         "name": "('volume', Timestamp('2017-06-08 00:00:00'))",
         "rawType": "int64",
         "type": "integer"
        },
        {
         "name": "('volume', Timestamp('2017-06-09 00:00:00'))",
         "rawType": "int64",
         "type": "integer"
        },
        {
         "name": "('volume', Timestamp('2017-06-12 00:00:00'))",
         "rawType": "int64",
         "type": "integer"
        },
        {
         "name": "('volume', Timestamp('2017-06-13 00:00:00'))",
         "rawType": "int64",
         "type": "integer"
        },
        {
         "name": "('volume', Timestamp('2017-06-14 00:00:00'))",
         "rawType": "int64",
         "type": "integer"
        },
        {
         "name": "('volume', Timestamp('2017-06-15 00:00:00'))",
         "rawType": "int64",
         "type": "integer"
        },
        {
         "name": "('volume', Timestamp('2017-06-16 00:00:00'))",
         "rawType": "int64",
         "type": "integer"
        },
        {
         "name": "('volume', Timestamp('2017-06-19 00:00:00'))",
         "rawType": "int64",
         "type": "integer"
        },
        {
         "name": "('volume', Timestamp('2017-06-20 00:00:00'))",
         "rawType": "int64",
         "type": "integer"
        },
        {
         "name": "('volume', Timestamp('2017-06-21 00:00:00'))",
         "rawType": "int64",
         "type": "integer"
        },
        {
         "name": "('volume', Timestamp('2017-06-22 00:00:00'))",
         "rawType": "int64",
         "type": "integer"
        },
        {
         "name": "('volume', Timestamp('2017-06-23 00:00:00'))",
         "rawType": "int64",
         "type": "integer"
        },
        {
         "name": "('volume', Timestamp('2017-06-26 00:00:00'))",
         "rawType": "int64",
         "type": "integer"
        },
        {
         "name": "('volume', Timestamp('2017-06-27 00:00:00'))",
         "rawType": "int64",
         "type": "integer"
        },
        {
         "name": "('volume', Timestamp('2017-06-28 00:00:00'))",
         "rawType": "int64",
         "type": "integer"
        },
        {
         "name": "('volume', Timestamp('2017-06-29 00:00:00'))",
         "rawType": "int64",
         "type": "integer"
        },
        {
         "name": "('volume', Timestamp('2017-06-30 00:00:00'))",
         "rawType": "int64",
         "type": "integer"
        },
        {
         "name": "('volume', Timestamp('2017-07-03 00:00:00'))",
         "rawType": "int64",
         "type": "integer"
        },
        {
         "name": "('volume', Timestamp('2017-07-05 00:00:00'))",
         "rawType": "int64",
         "type": "integer"
        },
        {
         "name": "('volume', Timestamp('2017-07-06 00:00:00'))",
         "rawType": "int64",
         "type": "integer"
        },
        {
         "name": "('volume', Timestamp('2017-07-07 00:00:00'))",
         "rawType": "int64",
         "type": "integer"
        },
        {
         "name": "('volume', Timestamp('2017-07-10 00:00:00'))",
         "rawType": "int64",
         "type": "integer"
        },
        {
         "name": "('volume', Timestamp('2017-07-11 00:00:00'))",
         "rawType": "int64",
         "type": "integer"
        },
        {
         "name": "('volume', Timestamp('2017-07-12 00:00:00'))",
         "rawType": "int64",
         "type": "integer"
        },
        {
         "name": "('volume', Timestamp('2017-07-13 00:00:00'))",
         "rawType": "int64",
         "type": "integer"
        },
        {
         "name": "('volume', Timestamp('2017-07-14 00:00:00'))",
         "rawType": "int64",
         "type": "integer"
        },
        {
         "name": "('volume', Timestamp('2017-07-17 00:00:00'))",
         "rawType": "int64",
         "type": "integer"
        },
        {
         "name": "('volume', Timestamp('2017-07-18 00:00:00'))",
         "rawType": "int64",
         "type": "integer"
        },
        {
         "name": "('volume', Timestamp('2017-07-19 00:00:00'))",
         "rawType": "int64",
         "type": "integer"
        },
        {
         "name": "('volume', Timestamp('2017-07-20 00:00:00'))",
         "rawType": "int64",
         "type": "integer"
        },
        {
         "name": "('volume', Timestamp('2017-07-21 00:00:00'))",
         "rawType": "int64",
         "type": "integer"
        },
        {
         "name": "('volume', Timestamp('2017-07-24 00:00:00'))",
         "rawType": "int64",
         "type": "integer"
        },
        {
         "name": "('volume', Timestamp('2017-07-25 00:00:00'))",
         "rawType": "int64",
         "type": "integer"
        },
        {
         "name": "('volume', Timestamp('2017-07-26 00:00:00'))",
         "rawType": "int64",
         "type": "integer"
        },
        {
         "name": "('volume', Timestamp('2017-07-27 00:00:00'))",
         "rawType": "int64",
         "type": "integer"
        },
        {
         "name": "('volume', Timestamp('2017-07-28 00:00:00'))",
         "rawType": "int64",
         "type": "integer"
        },
        {
         "name": "('volume', Timestamp('2017-07-31 00:00:00'))",
         "rawType": "int64",
         "type": "integer"
        },
        {
         "name": "('volume', Timestamp('2017-08-01 00:00:00'))",
         "rawType": "int64",
         "type": "integer"
        },
        {
         "name": "('volume', Timestamp('2017-08-02 00:00:00'))",
         "rawType": "int64",
         "type": "integer"
        },
        {
         "name": "('volume', Timestamp('2017-08-03 00:00:00'))",
         "rawType": "int64",
         "type": "integer"
        },
        {
         "name": "('volume', Timestamp('2017-08-04 00:00:00'))",
         "rawType": "int64",
         "type": "integer"
        },
        {
         "name": "('volume', Timestamp('2017-08-07 00:00:00'))",
         "rawType": "int64",
         "type": "integer"
        },
        {
         "name": "('volume', Timestamp('2017-08-08 00:00:00'))",
         "rawType": "int64",
         "type": "integer"
        },
        {
         "name": "('volume', Timestamp('2017-08-09 00:00:00'))",
         "rawType": "int64",
         "type": "integer"
        },
        {
         "name": "('volume', Timestamp('2017-08-10 00:00:00'))",
         "rawType": "int64",
         "type": "integer"
        },
        {
         "name": "('volume', Timestamp('2017-08-11 00:00:00'))",
         "rawType": "int64",
         "type": "integer"
        },
        {
         "name": "('volume', Timestamp('2017-08-14 00:00:00'))",
         "rawType": "int64",
         "type": "integer"
        },
        {
         "name": "('volume', Timestamp('2017-08-15 00:00:00'))",
         "rawType": "int64",
         "type": "integer"
        },
        {
         "name": "('volume', Timestamp('2017-08-16 00:00:00'))",
         "rawType": "int64",
         "type": "integer"
        },
        {
         "name": "('volume', Timestamp('2017-08-17 00:00:00'))",
         "rawType": "int64",
         "type": "integer"
        },
        {
         "name": "('volume', Timestamp('2017-08-18 00:00:00'))",
         "rawType": "int64",
         "type": "integer"
        },
        {
         "name": "('volume', Timestamp('2017-08-21 00:00:00'))",
         "rawType": "int64",
         "type": "integer"
        },
        {
         "name": "('volume', Timestamp('2017-08-22 00:00:00'))",
         "rawType": "int64",
         "type": "integer"
        },
        {
         "name": "('volume', Timestamp('2017-08-23 00:00:00'))",
         "rawType": "int64",
         "type": "integer"
        },
        {
         "name": "('volume', Timestamp('2017-08-24 00:00:00'))",
         "rawType": "int64",
         "type": "integer"
        },
        {
         "name": "('volume', Timestamp('2017-08-25 00:00:00'))",
         "rawType": "int64",
         "type": "integer"
        },
        {
         "name": "('volume', Timestamp('2017-08-28 00:00:00'))",
         "rawType": "int64",
         "type": "integer"
        },
        {
         "name": "('volume', Timestamp('2017-08-29 00:00:00'))",
         "rawType": "int64",
         "type": "integer"
        },
        {
         "name": "('volume', Timestamp('2017-08-30 00:00:00'))",
         "rawType": "int64",
         "type": "integer"
        },
        {
         "name": "('volume', Timestamp('2017-08-31 00:00:00'))",
         "rawType": "int64",
         "type": "integer"
        },
        {
         "name": "('volume', Timestamp('2017-09-01 00:00:00'))",
         "rawType": "int64",
         "type": "integer"
        },
        {
         "name": "('volume', Timestamp('2017-09-05 00:00:00'))",
         "rawType": "int64",
         "type": "integer"
        },
        {
         "name": "('volume', Timestamp('2017-09-06 00:00:00'))",
         "rawType": "int64",
         "type": "integer"
        },
        {
         "name": "('volume', Timestamp('2017-09-07 00:00:00'))",
         "rawType": "int64",
         "type": "integer"
        },
        {
         "name": "('volume', Timestamp('2017-09-08 00:00:00'))",
         "rawType": "int64",
         "type": "integer"
        },
        {
         "name": "('volume', Timestamp('2017-09-11 00:00:00'))",
         "rawType": "int64",
         "type": "integer"
        },
        {
         "name": "('volume', Timestamp('2017-09-12 00:00:00'))",
         "rawType": "int64",
         "type": "integer"
        },
        {
         "name": "('volume', Timestamp('2017-09-13 00:00:00'))",
         "rawType": "int64",
         "type": "integer"
        },
        {
         "name": "('volume', Timestamp('2017-09-14 00:00:00'))",
         "rawType": "int64",
         "type": "integer"
        },
        {
         "name": "('volume', Timestamp('2017-09-15 00:00:00'))",
         "rawType": "int64",
         "type": "integer"
        },
        {
         "name": "('volume', Timestamp('2017-09-18 00:00:00'))",
         "rawType": "int64",
         "type": "integer"
        },
        {
         "name": "('volume', Timestamp('2017-09-19 00:00:00'))",
         "rawType": "int64",
         "type": "integer"
        },
        {
         "name": "('volume', Timestamp('2017-09-20 00:00:00'))",
         "rawType": "int64",
         "type": "integer"
        },
        {
         "name": "('volume', Timestamp('2017-09-21 00:00:00'))",
         "rawType": "int64",
         "type": "integer"
        },
        {
         "name": "('volume', Timestamp('2017-09-22 00:00:00'))",
         "rawType": "int64",
         "type": "integer"
        },
        {
         "name": "('volume', Timestamp('2017-09-25 00:00:00'))",
         "rawType": "int64",
         "type": "integer"
        },
        {
         "name": "('volume', Timestamp('2017-09-26 00:00:00'))",
         "rawType": "int64",
         "type": "integer"
        },
        {
         "name": "('volume', Timestamp('2017-09-27 00:00:00'))",
         "rawType": "int64",
         "type": "integer"
        },
        {
         "name": "('volume', Timestamp('2017-09-28 00:00:00'))",
         "rawType": "int64",
         "type": "integer"
        },
        {
         "name": "('volume', Timestamp('2017-09-29 00:00:00'))",
         "rawType": "int64",
         "type": "integer"
        },
        {
         "name": "('volume', Timestamp('2017-10-02 00:00:00'))",
         "rawType": "int64",
         "type": "integer"
        },
        {
         "name": "('volume', Timestamp('2017-10-03 00:00:00'))",
         "rawType": "int64",
         "type": "integer"
        },
        {
         "name": "('volume', Timestamp('2017-10-04 00:00:00'))",
         "rawType": "int64",
         "type": "integer"
        },
        {
         "name": "('volume', Timestamp('2017-10-05 00:00:00'))",
         "rawType": "int64",
         "type": "integer"
        },
        {
         "name": "('volume', Timestamp('2017-10-06 00:00:00'))",
         "rawType": "int64",
         "type": "integer"
        },
        {
         "name": "('volume', Timestamp('2017-10-09 00:00:00'))",
         "rawType": "int64",
         "type": "integer"
        },
        {
         "name": "('volume', Timestamp('2017-10-10 00:00:00'))",
         "rawType": "int64",
         "type": "integer"
        },
        {
         "name": "('volume', Timestamp('2017-10-11 00:00:00'))",
         "rawType": "int64",
         "type": "integer"
        },
        {
         "name": "('volume', Timestamp('2017-10-12 00:00:00'))",
         "rawType": "int64",
         "type": "integer"
        },
        {
         "name": "('volume', Timestamp('2017-10-13 00:00:00'))",
         "rawType": "int64",
         "type": "integer"
        },
        {
         "name": "('volume', Timestamp('2017-10-16 00:00:00'))",
         "rawType": "int64",
         "type": "integer"
        },
        {
         "name": "('volume', Timestamp('2017-10-17 00:00:00'))",
         "rawType": "int64",
         "type": "integer"
        },
        {
         "name": "('volume', Timestamp('2017-10-18 00:00:00'))",
         "rawType": "int64",
         "type": "integer"
        },
        {
         "name": "('volume', Timestamp('2017-10-19 00:00:00'))",
         "rawType": "int64",
         "type": "integer"
        },
        {
         "name": "('volume', Timestamp('2017-10-20 00:00:00'))",
         "rawType": "int64",
         "type": "integer"
        },
        {
         "name": "('volume', Timestamp('2017-10-23 00:00:00'))",
         "rawType": "int64",
         "type": "integer"
        },
        {
         "name": "('volume', Timestamp('2017-10-24 00:00:00'))",
         "rawType": "int64",
         "type": "integer"
        },
        {
         "name": "('volume', Timestamp('2017-10-25 00:00:00'))",
         "rawType": "int64",
         "type": "integer"
        },
        {
         "name": "('volume', Timestamp('2017-10-26 00:00:00'))",
         "rawType": "int64",
         "type": "integer"
        },
        {
         "name": "('volume', Timestamp('2017-10-27 00:00:00'))",
         "rawType": "int64",
         "type": "integer"
        },
        {
         "name": "('volume', Timestamp('2017-10-30 00:00:00'))",
         "rawType": "int64",
         "type": "integer"
        },
        {
         "name": "('volume', Timestamp('2017-10-31 00:00:00'))",
         "rawType": "int64",
         "type": "integer"
        },
        {
         "name": "('volume', Timestamp('2017-11-01 00:00:00'))",
         "rawType": "int64",
         "type": "integer"
        },
        {
         "name": "('volume', Timestamp('2017-11-02 00:00:00'))",
         "rawType": "int64",
         "type": "integer"
        },
        {
         "name": "('volume', Timestamp('2017-11-03 00:00:00'))",
         "rawType": "int64",
         "type": "integer"
        },
        {
         "name": "('volume', Timestamp('2017-11-06 00:00:00'))",
         "rawType": "int64",
         "type": "integer"
        },
        {
         "name": "('volume', Timestamp('2017-11-07 00:00:00'))",
         "rawType": "int64",
         "type": "integer"
        },
        {
         "name": "('volume', Timestamp('2017-11-08 00:00:00'))",
         "rawType": "int64",
         "type": "integer"
        },
        {
         "name": "('volume', Timestamp('2017-11-09 00:00:00'))",
         "rawType": "int64",
         "type": "integer"
        },
        {
         "name": "('volume', Timestamp('2017-11-10 00:00:00'))",
         "rawType": "int64",
         "type": "integer"
        },
        {
         "name": "('volume', Timestamp('2017-11-13 00:00:00'))",
         "rawType": "int64",
         "type": "integer"
        },
        {
         "name": "('volume', Timestamp('2017-11-14 00:00:00'))",
         "rawType": "int64",
         "type": "integer"
        },
        {
         "name": "('volume', Timestamp('2017-11-15 00:00:00'))",
         "rawType": "int64",
         "type": "integer"
        },
        {
         "name": "('volume', Timestamp('2017-11-16 00:00:00'))",
         "rawType": "int64",
         "type": "integer"
        },
        {
         "name": "('volume', Timestamp('2017-11-17 00:00:00'))",
         "rawType": "int64",
         "type": "integer"
        },
        {
         "name": "('volume', Timestamp('2017-11-20 00:00:00'))",
         "rawType": "int64",
         "type": "integer"
        },
        {
         "name": "('volume', Timestamp('2017-11-21 00:00:00'))",
         "rawType": "int64",
         "type": "integer"
        },
        {
         "name": "('volume', Timestamp('2017-11-22 00:00:00'))",
         "rawType": "int64",
         "type": "integer"
        },
        {
         "name": "('volume', Timestamp('2017-11-24 00:00:00'))",
         "rawType": "int64",
         "type": "integer"
        },
        {
         "name": "('volume', Timestamp('2017-11-27 00:00:00'))",
         "rawType": "int64",
         "type": "integer"
        },
        {
         "name": "('volume', Timestamp('2017-11-28 00:00:00'))",
         "rawType": "int64",
         "type": "integer"
        },
        {
         "name": "('volume', Timestamp('2017-11-29 00:00:00'))",
         "rawType": "int64",
         "type": "integer"
        },
        {
         "name": "('volume', Timestamp('2017-11-30 00:00:00'))",
         "rawType": "int64",
         "type": "integer"
        },
        {
         "name": "('volume', Timestamp('2017-12-01 00:00:00'))",
         "rawType": "int64",
         "type": "integer"
        },
        {
         "name": "('volume', Timestamp('2017-12-04 00:00:00'))",
         "rawType": "int64",
         "type": "integer"
        },
        {
         "name": "('volume', Timestamp('2017-12-05 00:00:00'))",
         "rawType": "int64",
         "type": "integer"
        },
        {
         "name": "('volume', Timestamp('2017-12-06 00:00:00'))",
         "rawType": "int64",
         "type": "integer"
        },
        {
         "name": "('volume', Timestamp('2017-12-07 00:00:00'))",
         "rawType": "int64",
         "type": "integer"
        },
        {
         "name": "('volume', Timestamp('2017-12-08 00:00:00'))",
         "rawType": "int64",
         "type": "integer"
        },
        {
         "name": "('volume', Timestamp('2017-12-11 00:00:00'))",
         "rawType": "int64",
         "type": "integer"
        },
        {
         "name": "('volume', Timestamp('2017-12-12 00:00:00'))",
         "rawType": "int64",
         "type": "integer"
        },
        {
         "name": "('volume', Timestamp('2017-12-13 00:00:00'))",
         "rawType": "int64",
         "type": "integer"
        },
        {
         "name": "('volume', Timestamp('2017-12-14 00:00:00'))",
         "rawType": "int64",
         "type": "integer"
        },
        {
         "name": "('volume', Timestamp('2017-12-15 00:00:00'))",
         "rawType": "int64",
         "type": "integer"
        },
        {
         "name": "('volume', Timestamp('2017-12-18 00:00:00'))",
         "rawType": "int64",
         "type": "integer"
        },
        {
         "name": "('volume', Timestamp('2017-12-19 00:00:00'))",
         "rawType": "int64",
         "type": "integer"
        },
        {
         "name": "('volume', Timestamp('2017-12-20 00:00:00'))",
         "rawType": "int64",
         "type": "integer"
        },
        {
         "name": "('volume', Timestamp('2017-12-21 00:00:00'))",
         "rawType": "int64",
         "type": "integer"
        },
        {
         "name": "('volume', Timestamp('2017-12-22 00:00:00'))",
         "rawType": "int64",
         "type": "integer"
        },
        {
         "name": "('volume', Timestamp('2017-12-26 00:00:00'))",
         "rawType": "int64",
         "type": "integer"
        },
        {
         "name": "('volume', Timestamp('2017-12-27 00:00:00'))",
         "rawType": "int64",
         "type": "integer"
        },
        {
         "name": "('volume', Timestamp('2017-12-28 00:00:00'))",
         "rawType": "int64",
         "type": "integer"
        },
        {
         "name": "('volume', Timestamp('2017-12-29 00:00:00'))",
         "rawType": "int64",
         "type": "integer"
        },
        {
         "name": "('volume', Timestamp('2018-01-02 00:00:00'))",
         "rawType": "int64",
         "type": "integer"
        },
        {
         "name": "('volume', Timestamp('2018-01-03 00:00:00'))",
         "rawType": "int64",
         "type": "integer"
        },
        {
         "name": "('volume', Timestamp('2018-01-04 00:00:00'))",
         "rawType": "int64",
         "type": "integer"
        },
        {
         "name": "('volume', Timestamp('2018-01-05 00:00:00'))",
         "rawType": "int64",
         "type": "integer"
        },
        {
         "name": "('volume', Timestamp('2018-01-08 00:00:00'))",
         "rawType": "int64",
         "type": "integer"
        },
        {
         "name": "('volume', Timestamp('2018-01-09 00:00:00'))",
         "rawType": "int64",
         "type": "integer"
        },
        {
         "name": "('volume', Timestamp('2018-01-10 00:00:00'))",
         "rawType": "int64",
         "type": "integer"
        },
        {
         "name": "('volume', Timestamp('2018-01-11 00:00:00'))",
         "rawType": "int64",
         "type": "integer"
        },
        {
         "name": "('volume', Timestamp('2018-01-12 00:00:00'))",
         "rawType": "int64",
         "type": "integer"
        },
        {
         "name": "('volume', Timestamp('2018-01-16 00:00:00'))",
         "rawType": "int64",
         "type": "integer"
        },
        {
         "name": "('volume', Timestamp('2018-01-17 00:00:00'))",
         "rawType": "int64",
         "type": "integer"
        },
        {
         "name": "('volume', Timestamp('2018-01-18 00:00:00'))",
         "rawType": "int64",
         "type": "integer"
        },
        {
         "name": "('volume', Timestamp('2018-01-19 00:00:00'))",
         "rawType": "int64",
         "type": "integer"
        },
        {
         "name": "('volume', Timestamp('2018-01-22 00:00:00'))",
         "rawType": "int64",
         "type": "integer"
        },
        {
         "name": "('volume', Timestamp('2018-01-23 00:00:00'))",
         "rawType": "int64",
         "type": "integer"
        },
        {
         "name": "('volume', Timestamp('2018-01-24 00:00:00'))",
         "rawType": "int64",
         "type": "integer"
        },
        {
         "name": "('volume', Timestamp('2018-01-25 00:00:00'))",
         "rawType": "int64",
         "type": "integer"
        },
        {
         "name": "('volume', Timestamp('2018-01-26 00:00:00'))",
         "rawType": "int64",
         "type": "integer"
        },
        {
         "name": "('volume', Timestamp('2018-01-29 00:00:00'))",
         "rawType": "int64",
         "type": "integer"
        },
        {
         "name": "('volume', Timestamp('2018-01-30 00:00:00'))",
         "rawType": "int64",
         "type": "integer"
        },
        {
         "name": "('volume', Timestamp('2018-01-31 00:00:00'))",
         "rawType": "int64",
         "type": "integer"
        },
        {
         "name": "('volume', Timestamp('2018-02-01 00:00:00'))",
         "rawType": "int64",
         "type": "integer"
        },
        {
         "name": "('volume', Timestamp('2018-02-02 00:00:00'))",
         "rawType": "int64",
         "type": "integer"
        },
        {
         "name": "('volume', Timestamp('2018-02-05 00:00:00'))",
         "rawType": "int64",
         "type": "integer"
        },
        {
         "name": "('volume', Timestamp('2018-02-06 00:00:00'))",
         "rawType": "int64",
         "type": "integer"
        },
        {
         "name": "('volume', Timestamp('2018-02-07 00:00:00'))",
         "rawType": "int64",
         "type": "integer"
        },
        {
         "name": "('volume', Timestamp('2018-02-08 00:00:00'))",
         "rawType": "int64",
         "type": "integer"
        },
        {
         "name": "('volume', Timestamp('2018-02-09 00:00:00'))",
         "rawType": "int64",
         "type": "integer"
        },
        {
         "name": "('volume', Timestamp('2018-02-12 00:00:00'))",
         "rawType": "int64",
         "type": "integer"
        },
        {
         "name": "('volume', Timestamp('2018-02-13 00:00:00'))",
         "rawType": "int64",
         "type": "integer"
        },
        {
         "name": "('volume', Timestamp('2018-02-14 00:00:00'))",
         "rawType": "int64",
         "type": "integer"
        },
        {
         "name": "('volume', Timestamp('2018-02-15 00:00:00'))",
         "rawType": "int64",
         "type": "integer"
        },
        {
         "name": "('volume', Timestamp('2018-02-16 00:00:00'))",
         "rawType": "int64",
         "type": "integer"
        },
        {
         "name": "('volume', Timestamp('2018-02-20 00:00:00'))",
         "rawType": "int64",
         "type": "integer"
        },
        {
         "name": "('volume', Timestamp('2018-02-21 00:00:00'))",
         "rawType": "int64",
         "type": "integer"
        },
        {
         "name": "('volume', Timestamp('2018-02-22 00:00:00'))",
         "rawType": "int64",
         "type": "integer"
        },
        {
         "name": "('volume', Timestamp('2018-02-23 00:00:00'))",
         "rawType": "int64",
         "type": "integer"
        },
        {
         "name": "('volume', Timestamp('2018-02-26 00:00:00'))",
         "rawType": "int64",
         "type": "integer"
        },
        {
         "name": "('volume', Timestamp('2018-02-27 00:00:00'))",
         "rawType": "int64",
         "type": "integer"
        },
        {
         "name": "('volume', Timestamp('2018-02-28 00:00:00'))",
         "rawType": "int64",
         "type": "integer"
        },
        {
         "name": "('volume', Timestamp('2018-03-01 00:00:00'))",
         "rawType": "int64",
         "type": "integer"
        },
        {
         "name": "('volume', Timestamp('2018-03-02 00:00:00'))",
         "rawType": "int64",
         "type": "integer"
        },
        {
         "name": "('volume', Timestamp('2018-03-05 00:00:00'))",
         "rawType": "int64",
         "type": "integer"
        },
        {
         "name": "('volume', Timestamp('2018-03-06 00:00:00'))",
         "rawType": "int64",
         "type": "integer"
        },
        {
         "name": "('volume', Timestamp('2018-03-07 00:00:00'))",
         "rawType": "int64",
         "type": "integer"
        },
        {
         "name": "('volume', Timestamp('2018-03-08 00:00:00'))",
         "rawType": "int64",
         "type": "integer"
        },
        {
         "name": "('volume', Timestamp('2018-03-09 00:00:00'))",
         "rawType": "int64",
         "type": "integer"
        },
        {
         "name": "('volume', Timestamp('2018-03-12 00:00:00'))",
         "rawType": "int64",
         "type": "integer"
        },
        {
         "name": "('volume', Timestamp('2018-03-13 00:00:00'))",
         "rawType": "int64",
         "type": "integer"
        },
        {
         "name": "('volume', Timestamp('2018-03-14 00:00:00'))",
         "rawType": "int64",
         "type": "integer"
        },
        {
         "name": "('volume', Timestamp('2018-03-15 00:00:00'))",
         "rawType": "int64",
         "type": "integer"
        },
        {
         "name": "('volume', Timestamp('2018-03-16 00:00:00'))",
         "rawType": "int64",
         "type": "integer"
        },
        {
         "name": "('volume', Timestamp('2018-03-19 00:00:00'))",
         "rawType": "int64",
         "type": "integer"
        },
        {
         "name": "('volume', Timestamp('2018-03-20 00:00:00'))",
         "rawType": "int64",
         "type": "integer"
        },
        {
         "name": "('volume', Timestamp('2018-03-21 00:00:00'))",
         "rawType": "int64",
         "type": "integer"
        },
        {
         "name": "('volume', Timestamp('2018-03-22 00:00:00'))",
         "rawType": "int64",
         "type": "integer"
        },
        {
         "name": "('volume', Timestamp('2018-03-23 00:00:00'))",
         "rawType": "int64",
         "type": "integer"
        },
        {
         "name": "('volume', Timestamp('2018-03-26 00:00:00'))",
         "rawType": "int64",
         "type": "integer"
        },
        {
         "name": "('volume', Timestamp('2018-03-27 00:00:00'))",
         "rawType": "int64",
         "type": "integer"
        },
        {
         "name": "('volume', Timestamp('2018-03-28 00:00:00'))",
         "rawType": "int64",
         "type": "integer"
        },
        {
         "name": "('volume', Timestamp('2018-03-29 00:00:00'))",
         "rawType": "int64",
         "type": "integer"
        },
        {
         "name": "('volume', Timestamp('2018-04-02 00:00:00'))",
         "rawType": "int64",
         "type": "integer"
        },
        {
         "name": "('volume', Timestamp('2018-04-03 00:00:00'))",
         "rawType": "int64",
         "type": "integer"
        },
        {
         "name": "('volume', Timestamp('2018-04-04 00:00:00'))",
         "rawType": "int64",
         "type": "integer"
        },
        {
         "name": "('volume', Timestamp('2018-04-05 00:00:00'))",
         "rawType": "int64",
         "type": "integer"
        },
        {
         "name": "('volume', Timestamp('2018-04-06 00:00:00'))",
         "rawType": "int64",
         "type": "integer"
        },
        {
         "name": "('volume', Timestamp('2018-04-09 00:00:00'))",
         "rawType": "int64",
         "type": "integer"
        },
        {
         "name": "('volume', Timestamp('2018-04-10 00:00:00'))",
         "rawType": "int64",
         "type": "integer"
        },
        {
         "name": "('volume', Timestamp('2018-04-11 00:00:00'))",
         "rawType": "int64",
         "type": "integer"
        },
        {
         "name": "('volume', Timestamp('2018-04-12 00:00:00'))",
         "rawType": "int64",
         "type": "integer"
        },
        {
         "name": "('volume', Timestamp('2018-04-13 00:00:00'))",
         "rawType": "int64",
         "type": "integer"
        },
        {
         "name": "('volume', Timestamp('2018-04-16 00:00:00'))",
         "rawType": "int64",
         "type": "integer"
        },
        {
         "name": "('volume', Timestamp('2018-04-17 00:00:00'))",
         "rawType": "int64",
         "type": "integer"
        },
        {
         "name": "('volume', Timestamp('2018-04-18 00:00:00'))",
         "rawType": "int64",
         "type": "integer"
        },
        {
         "name": "('volume', Timestamp('2018-04-19 00:00:00'))",
         "rawType": "int64",
         "type": "integer"
        },
        {
         "name": "('volume', Timestamp('2018-04-20 00:00:00'))",
         "rawType": "int64",
         "type": "integer"
        },
        {
         "name": "('volume', Timestamp('2018-04-23 00:00:00'))",
         "rawType": "int64",
         "type": "integer"
        },
        {
         "name": "('volume', Timestamp('2018-04-24 00:00:00'))",
         "rawType": "int64",
         "type": "integer"
        },
        {
         "name": "('volume', Timestamp('2018-04-25 00:00:00'))",
         "rawType": "int64",
         "type": "integer"
        },
        {
         "name": "('volume', Timestamp('2018-04-26 00:00:00'))",
         "rawType": "int64",
         "type": "integer"
        },
        {
         "name": "('volume', Timestamp('2018-04-27 00:00:00'))",
         "rawType": "int64",
         "type": "integer"
        },
        {
         "name": "('volume', Timestamp('2018-04-30 00:00:00'))",
         "rawType": "int64",
         "type": "integer"
        },
        {
         "name": "('volume', Timestamp('2018-05-01 00:00:00'))",
         "rawType": "int64",
         "type": "integer"
        },
        {
         "name": "('volume', Timestamp('2018-05-02 00:00:00'))",
         "rawType": "int64",
         "type": "integer"
        },
        {
         "name": "('volume', Timestamp('2018-05-03 00:00:00'))",
         "rawType": "int64",
         "type": "integer"
        },
        {
         "name": "('volume', Timestamp('2018-05-04 00:00:00'))",
         "rawType": "int64",
         "type": "integer"
        },
        {
         "name": "('volume', Timestamp('2018-05-07 00:00:00'))",
         "rawType": "int64",
         "type": "integer"
        },
        {
         "name": "('volume', Timestamp('2018-05-08 00:00:00'))",
         "rawType": "int64",
         "type": "integer"
        },
        {
         "name": "('volume', Timestamp('2018-05-09 00:00:00'))",
         "rawType": "int64",
         "type": "integer"
        },
        {
         "name": "('volume', Timestamp('2018-05-10 00:00:00'))",
         "rawType": "int64",
         "type": "integer"
        },
        {
         "name": "('volume', Timestamp('2018-05-11 00:00:00'))",
         "rawType": "int64",
         "type": "integer"
        },
        {
         "name": "('volume', Timestamp('2018-05-14 00:00:00'))",
         "rawType": "int64",
         "type": "integer"
        },
        {
         "name": "('volume', Timestamp('2018-05-15 00:00:00'))",
         "rawType": "int64",
         "type": "integer"
        },
        {
         "name": "('volume', Timestamp('2018-05-16 00:00:00'))",
         "rawType": "int64",
         "type": "integer"
        },
        {
         "name": "('volume', Timestamp('2018-05-17 00:00:00'))",
         "rawType": "int64",
         "type": "integer"
        },
        {
         "name": "('volume', Timestamp('2018-05-18 00:00:00'))",
         "rawType": "int64",
         "type": "integer"
        },
        {
         "name": "('volume', Timestamp('2018-05-21 00:00:00'))",
         "rawType": "int64",
         "type": "integer"
        },
        {
         "name": "('volume', Timestamp('2018-05-22 00:00:00'))",
         "rawType": "int64",
         "type": "integer"
        },
        {
         "name": "('volume', Timestamp('2018-05-23 00:00:00'))",
         "rawType": "int64",
         "type": "integer"
        },
        {
         "name": "('volume', Timestamp('2018-05-24 00:00:00'))",
         "rawType": "int64",
         "type": "integer"
        },
        {
         "name": "('volume', Timestamp('2018-05-25 00:00:00'))",
         "rawType": "int64",
         "type": "integer"
        },
        {
         "name": "('volume', Timestamp('2018-05-29 00:00:00'))",
         "rawType": "int64",
         "type": "integer"
        },
        {
         "name": "('volume', Timestamp('2018-05-30 00:00:00'))",
         "rawType": "int64",
         "type": "integer"
        },
        {
         "name": "('volume', Timestamp('2018-05-31 00:00:00'))",
         "rawType": "int64",
         "type": "integer"
        },
        {
         "name": "('volume', Timestamp('2018-06-01 00:00:00'))",
         "rawType": "int64",
         "type": "integer"
        },
        {
         "name": "('volume', Timestamp('2018-06-04 00:00:00'))",
         "rawType": "int64",
         "type": "integer"
        },
        {
         "name": "('volume', Timestamp('2018-06-05 00:00:00'))",
         "rawType": "int64",
         "type": "integer"
        },
        {
         "name": "('volume', Timestamp('2018-06-06 00:00:00'))",
         "rawType": "int64",
         "type": "integer"
        },
        {
         "name": "('volume', Timestamp('2018-06-07 00:00:00'))",
         "rawType": "int64",
         "type": "integer"
        },
        {
         "name": "('volume', Timestamp('2018-06-08 00:00:00'))",
         "rawType": "int64",
         "type": "integer"
        },
        {
         "name": "('volume', Timestamp('2018-06-11 00:00:00'))",
         "rawType": "int64",
         "type": "integer"
        },
        {
         "name": "('volume', Timestamp('2018-06-12 00:00:00'))",
         "rawType": "int64",
         "type": "integer"
        },
        {
         "name": "('volume', Timestamp('2018-06-13 00:00:00'))",
         "rawType": "int64",
         "type": "integer"
        },
        {
         "name": "('volume', Timestamp('2018-06-14 00:00:00'))",
         "rawType": "int64",
         "type": "integer"
        },
        {
         "name": "('volume', Timestamp('2018-06-15 00:00:00'))",
         "rawType": "int64",
         "type": "integer"
        },
        {
         "name": "('volume', Timestamp('2018-06-18 00:00:00'))",
         "rawType": "int64",
         "type": "integer"
        },
        {
         "name": "('volume', Timestamp('2018-06-19 00:00:00'))",
         "rawType": "int64",
         "type": "integer"
        },
        {
         "name": "('volume', Timestamp('2018-06-20 00:00:00'))",
         "rawType": "int64",
         "type": "integer"
        },
        {
         "name": "('volume', Timestamp('2018-06-21 00:00:00'))",
         "rawType": "int64",
         "type": "integer"
        },
        {
         "name": "('volume', Timestamp('2018-06-22 00:00:00'))",
         "rawType": "int64",
         "type": "integer"
        },
        {
         "name": "('volume', Timestamp('2018-06-25 00:00:00'))",
         "rawType": "int64",
         "type": "integer"
        },
        {
         "name": "('volume', Timestamp('2018-06-26 00:00:00'))",
         "rawType": "int64",
         "type": "integer"
        },
        {
         "name": "('volume', Timestamp('2018-06-27 00:00:00'))",
         "rawType": "int64",
         "type": "integer"
        },
        {
         "name": "('volume', Timestamp('2018-06-28 00:00:00'))",
         "rawType": "int64",
         "type": "integer"
        },
        {
         "name": "('volume', Timestamp('2018-06-29 00:00:00'))",
         "rawType": "int64",
         "type": "integer"
        },
        {
         "name": "('volume', Timestamp('2018-07-02 00:00:00'))",
         "rawType": "int64",
         "type": "integer"
        },
        {
         "name": "('volume', Timestamp('2018-07-03 00:00:00'))",
         "rawType": "int64",
         "type": "integer"
        },
        {
         "name": "('volume', Timestamp('2018-07-05 00:00:00'))",
         "rawType": "int64",
         "type": "integer"
        },
        {
         "name": "('volume', Timestamp('2018-07-06 00:00:00'))",
         "rawType": "int64",
         "type": "integer"
        },
        {
         "name": "('volume', Timestamp('2018-07-09 00:00:00'))",
         "rawType": "int64",
         "type": "integer"
        },
        {
         "name": "('volume', Timestamp('2018-07-10 00:00:00'))",
         "rawType": "int64",
         "type": "integer"
        },
        {
         "name": "('volume', Timestamp('2018-07-11 00:00:00'))",
         "rawType": "int64",
         "type": "integer"
        },
        {
         "name": "('volume', Timestamp('2018-07-12 00:00:00'))",
         "rawType": "int64",
         "type": "integer"
        },
        {
         "name": "('volume', Timestamp('2018-07-13 00:00:00'))",
         "rawType": "int64",
         "type": "integer"
        },
        {
         "name": "('volume', Timestamp('2018-07-16 00:00:00'))",
         "rawType": "int64",
         "type": "integer"
        },
        {
         "name": "('volume', Timestamp('2018-07-17 00:00:00'))",
         "rawType": "int64",
         "type": "integer"
        },
        {
         "name": "('volume', Timestamp('2018-07-18 00:00:00'))",
         "rawType": "int64",
         "type": "integer"
        },
        {
         "name": "('volume', Timestamp('2018-07-19 00:00:00'))",
         "rawType": "int64",
         "type": "integer"
        },
        {
         "name": "('volume', Timestamp('2018-07-20 00:00:00'))",
         "rawType": "int64",
         "type": "integer"
        },
        {
         "name": "('volume', Timestamp('2018-07-23 00:00:00'))",
         "rawType": "int64",
         "type": "integer"
        },
        {
         "name": "('volume', Timestamp('2018-07-24 00:00:00'))",
         "rawType": "int64",
         "type": "integer"
        },
        {
         "name": "('volume', Timestamp('2018-07-25 00:00:00'))",
         "rawType": "int64",
         "type": "integer"
        },
        {
         "name": "('volume', Timestamp('2018-07-26 00:00:00'))",
         "rawType": "int64",
         "type": "integer"
        },
        {
         "name": "('volume', Timestamp('2018-07-27 00:00:00'))",
         "rawType": "int64",
         "type": "integer"
        },
        {
         "name": "('volume', Timestamp('2018-07-30 00:00:00'))",
         "rawType": "int64",
         "type": "integer"
        },
        {
         "name": "('volume', Timestamp('2018-07-31 00:00:00'))",
         "rawType": "int64",
         "type": "integer"
        },
        {
         "name": "('volume', Timestamp('2018-08-01 00:00:00'))",
         "rawType": "int64",
         "type": "integer"
        },
        {
         "name": "('volume', Timestamp('2018-08-02 00:00:00'))",
         "rawType": "int64",
         "type": "integer"
        },
        {
         "name": "('volume', Timestamp('2018-08-03 00:00:00'))",
         "rawType": "int64",
         "type": "integer"
        },
        {
         "name": "('volume', Timestamp('2018-08-06 00:00:00'))",
         "rawType": "int64",
         "type": "integer"
        },
        {
         "name": "('volume', Timestamp('2018-08-07 00:00:00'))",
         "rawType": "int64",
         "type": "integer"
        },
        {
         "name": "('volume', Timestamp('2018-08-08 00:00:00'))",
         "rawType": "int64",
         "type": "integer"
        },
        {
         "name": "('volume', Timestamp('2018-08-09 00:00:00'))",
         "rawType": "int64",
         "type": "integer"
        },
        {
         "name": "('volume', Timestamp('2018-08-10 00:00:00'))",
         "rawType": "int64",
         "type": "integer"
        },
        {
         "name": "('volume', Timestamp('2018-08-13 00:00:00'))",
         "rawType": "int64",
         "type": "integer"
        },
        {
         "name": "('volume', Timestamp('2018-08-14 00:00:00'))",
         "rawType": "int64",
         "type": "integer"
        },
        {
         "name": "('volume', Timestamp('2018-08-15 00:00:00'))",
         "rawType": "int64",
         "type": "integer"
        },
        {
         "name": "('volume', Timestamp('2018-08-16 00:00:00'))",
         "rawType": "int64",
         "type": "integer"
        },
        {
         "name": "('volume', Timestamp('2018-08-17 00:00:00'))",
         "rawType": "int64",
         "type": "integer"
        },
        {
         "name": "('volume', Timestamp('2018-08-20 00:00:00'))",
         "rawType": "int64",
         "type": "integer"
        },
        {
         "name": "('volume', Timestamp('2018-08-21 00:00:00'))",
         "rawType": "int64",
         "type": "integer"
        },
        {
         "name": "('volume', Timestamp('2018-08-22 00:00:00'))",
         "rawType": "int64",
         "type": "integer"
        },
        {
         "name": "('volume', Timestamp('2018-08-23 00:00:00'))",
         "rawType": "int64",
         "type": "integer"
        },
        {
         "name": "('volume', Timestamp('2018-08-24 00:00:00'))",
         "rawType": "int64",
         "type": "integer"
        },
        {
         "name": "('volume', Timestamp('2018-08-27 00:00:00'))",
         "rawType": "int64",
         "type": "integer"
        },
        {
         "name": "('volume', Timestamp('2018-08-28 00:00:00'))",
         "rawType": "int64",
         "type": "integer"
        },
        {
         "name": "('volume', Timestamp('2018-08-29 00:00:00'))",
         "rawType": "int64",
         "type": "integer"
        },
        {
         "name": "('volume', Timestamp('2018-08-30 00:00:00'))",
         "rawType": "int64",
         "type": "integer"
        },
        {
         "name": "('volume', Timestamp('2018-08-31 00:00:00'))",
         "rawType": "int64",
         "type": "integer"
        },
        {
         "name": "('volume', Timestamp('2018-09-04 00:00:00'))",
         "rawType": "int64",
         "type": "integer"
        },
        {
         "name": "('volume', Timestamp('2018-09-05 00:00:00'))",
         "rawType": "int64",
         "type": "integer"
        },
        {
         "name": "('volume', Timestamp('2018-09-06 00:00:00'))",
         "rawType": "int64",
         "type": "integer"
        },
        {
         "name": "('volume', Timestamp('2018-09-07 00:00:00'))",
         "rawType": "int64",
         "type": "integer"
        },
        {
         "name": "('volume', Timestamp('2018-09-10 00:00:00'))",
         "rawType": "int64",
         "type": "integer"
        },
        {
         "name": "('volume', Timestamp('2018-09-11 00:00:00'))",
         "rawType": "int64",
         "type": "integer"
        },
        {
         "name": "('volume', Timestamp('2018-09-12 00:00:00'))",
         "rawType": "int64",
         "type": "integer"
        },
        {
         "name": "('volume', Timestamp('2018-09-13 00:00:00'))",
         "rawType": "int64",
         "type": "integer"
        },
        {
         "name": "('volume', Timestamp('2018-09-14 00:00:00'))",
         "rawType": "int64",
         "type": "integer"
        },
        {
         "name": "('volume', Timestamp('2018-09-17 00:00:00'))",
         "rawType": "int64",
         "type": "integer"
        },
        {
         "name": "('volume', Timestamp('2018-09-18 00:00:00'))",
         "rawType": "int64",
         "type": "integer"
        },
        {
         "name": "('volume', Timestamp('2018-09-19 00:00:00'))",
         "rawType": "int64",
         "type": "integer"
        },
        {
         "name": "('volume', Timestamp('2018-09-20 00:00:00'))",
         "rawType": "int64",
         "type": "integer"
        },
        {
         "name": "('volume', Timestamp('2018-09-21 00:00:00'))",
         "rawType": "int64",
         "type": "integer"
        },
        {
         "name": "('volume', Timestamp('2018-09-24 00:00:00'))",
         "rawType": "int64",
         "type": "integer"
        },
        {
         "name": "('volume', Timestamp('2018-09-25 00:00:00'))",
         "rawType": "int64",
         "type": "integer"
        },
        {
         "name": "('volume', Timestamp('2018-09-26 00:00:00'))",
         "rawType": "int64",
         "type": "integer"
        },
        {
         "name": "('volume', Timestamp('2018-09-27 00:00:00'))",
         "rawType": "int64",
         "type": "integer"
        },
        {
         "name": "('volume', Timestamp('2018-09-28 00:00:00'))",
         "rawType": "int64",
         "type": "integer"
        },
        {
         "name": "('volume', Timestamp('2018-10-01 00:00:00'))",
         "rawType": "int64",
         "type": "integer"
        },
        {
         "name": "('volume', Timestamp('2018-10-02 00:00:00'))",
         "rawType": "int64",
         "type": "integer"
        },
        {
         "name": "('volume', Timestamp('2018-10-03 00:00:00'))",
         "rawType": "int64",
         "type": "integer"
        },
        {
         "name": "('volume', Timestamp('2018-10-04 00:00:00'))",
         "rawType": "int64",
         "type": "integer"
        },
        {
         "name": "('volume', Timestamp('2018-10-05 00:00:00'))",
         "rawType": "int64",
         "type": "integer"
        },
        {
         "name": "('volume', Timestamp('2018-10-08 00:00:00'))",
         "rawType": "int64",
         "type": "integer"
        },
        {
         "name": "('volume', Timestamp('2018-10-09 00:00:00'))",
         "rawType": "int64",
         "type": "integer"
        },
        {
         "name": "('volume', Timestamp('2018-10-10 00:00:00'))",
         "rawType": "int64",
         "type": "integer"
        },
        {
         "name": "('volume', Timestamp('2018-10-11 00:00:00'))",
         "rawType": "int64",
         "type": "integer"
        },
        {
         "name": "('volume', Timestamp('2018-10-12 00:00:00'))",
         "rawType": "int64",
         "type": "integer"
        },
        {
         "name": "('volume', Timestamp('2018-10-15 00:00:00'))",
         "rawType": "int64",
         "type": "integer"
        },
        {
         "name": "('volume', Timestamp('2018-10-16 00:00:00'))",
         "rawType": "int64",
         "type": "integer"
        },
        {
         "name": "('volume', Timestamp('2018-10-17 00:00:00'))",
         "rawType": "int64",
         "type": "integer"
        },
        {
         "name": "('volume', Timestamp('2018-10-18 00:00:00'))",
         "rawType": "int64",
         "type": "integer"
        },
        {
         "name": "('volume', Timestamp('2018-10-19 00:00:00'))",
         "rawType": "int64",
         "type": "integer"
        },
        {
         "name": "('volume', Timestamp('2018-10-22 00:00:00'))",
         "rawType": "int64",
         "type": "integer"
        },
        {
         "name": "('volume', Timestamp('2018-10-23 00:00:00'))",
         "rawType": "int64",
         "type": "integer"
        },
        {
         "name": "('volume', Timestamp('2018-10-24 00:00:00'))",
         "rawType": "int64",
         "type": "integer"
        },
        {
         "name": "('volume', Timestamp('2018-10-25 00:00:00'))",
         "rawType": "int64",
         "type": "integer"
        },
        {
         "name": "('volume', Timestamp('2018-10-26 00:00:00'))",
         "rawType": "int64",
         "type": "integer"
        },
        {
         "name": "('volume', Timestamp('2018-10-29 00:00:00'))",
         "rawType": "int64",
         "type": "integer"
        },
        {
         "name": "('volume', Timestamp('2018-10-30 00:00:00'))",
         "rawType": "int64",
         "type": "integer"
        },
        {
         "name": "('volume', Timestamp('2018-10-31 00:00:00'))",
         "rawType": "int64",
         "type": "integer"
        },
        {
         "name": "('volume', Timestamp('2018-11-01 00:00:00'))",
         "rawType": "int64",
         "type": "integer"
        },
        {
         "name": "('volume', Timestamp('2018-11-02 00:00:00'))",
         "rawType": "int64",
         "type": "integer"
        },
        {
         "name": "('volume', Timestamp('2018-11-05 00:00:00'))",
         "rawType": "int64",
         "type": "integer"
        },
        {
         "name": "('volume', Timestamp('2018-11-06 00:00:00'))",
         "rawType": "int64",
         "type": "integer"
        },
        {
         "name": "('volume', Timestamp('2018-11-07 00:00:00'))",
         "rawType": "int64",
         "type": "integer"
        },
        {
         "name": "('volume', Timestamp('2018-11-08 00:00:00'))",
         "rawType": "int64",
         "type": "integer"
        },
        {
         "name": "('volume', Timestamp('2018-11-09 00:00:00'))",
         "rawType": "int64",
         "type": "integer"
        },
        {
         "name": "('volume', Timestamp('2018-11-12 00:00:00'))",
         "rawType": "int64",
         "type": "integer"
        },
        {
         "name": "('volume', Timestamp('2018-11-13 00:00:00'))",
         "rawType": "int64",
         "type": "integer"
        },
        {
         "name": "('volume', Timestamp('2018-11-14 00:00:00'))",
         "rawType": "int64",
         "type": "integer"
        },
        {
         "name": "('volume', Timestamp('2018-11-15 00:00:00'))",
         "rawType": "int64",
         "type": "integer"
        },
        {
         "name": "('volume', Timestamp('2018-11-16 00:00:00'))",
         "rawType": "int64",
         "type": "integer"
        },
        {
         "name": "('volume', Timestamp('2018-11-19 00:00:00'))",
         "rawType": "int64",
         "type": "integer"
        },
        {
         "name": "('volume', Timestamp('2018-11-20 00:00:00'))",
         "rawType": "int64",
         "type": "integer"
        },
        {
         "name": "('volume', Timestamp('2018-11-21 00:00:00'))",
         "rawType": "int64",
         "type": "integer"
        },
        {
         "name": "('volume', Timestamp('2018-11-23 00:00:00'))",
         "rawType": "int64",
         "type": "integer"
        },
        {
         "name": "('volume', Timestamp('2018-11-26 00:00:00'))",
         "rawType": "int64",
         "type": "integer"
        },
        {
         "name": "('volume', Timestamp('2018-11-27 00:00:00'))",
         "rawType": "int64",
         "type": "integer"
        },
        {
         "name": "('volume', Timestamp('2018-11-28 00:00:00'))",
         "rawType": "int64",
         "type": "integer"
        },
        {
         "name": "('volume', Timestamp('2018-11-29 00:00:00'))",
         "rawType": "int64",
         "type": "integer"
        },
        {
         "name": "('volume', Timestamp('2018-11-30 00:00:00'))",
         "rawType": "int64",
         "type": "integer"
        },
        {
         "name": "('volume', Timestamp('2018-12-03 00:00:00'))",
         "rawType": "int64",
         "type": "integer"
        },
        {
         "name": "('volume', Timestamp('2018-12-04 00:00:00'))",
         "rawType": "int64",
         "type": "integer"
        },
        {
         "name": "('volume', Timestamp('2018-12-06 00:00:00'))",
         "rawType": "int64",
         "type": "integer"
        },
        {
         "name": "('volume', Timestamp('2018-12-07 00:00:00'))",
         "rawType": "int64",
         "type": "integer"
        },
        {
         "name": "('volume', Timestamp('2018-12-10 00:00:00'))",
         "rawType": "int64",
         "type": "integer"
        },
        {
         "name": "('volume', Timestamp('2018-12-11 00:00:00'))",
         "rawType": "int64",
         "type": "integer"
        },
        {
         "name": "('volume', Timestamp('2018-12-12 00:00:00'))",
         "rawType": "int64",
         "type": "integer"
        },
        {
         "name": "('volume', Timestamp('2018-12-13 00:00:00'))",
         "rawType": "int64",
         "type": "integer"
        },
        {
         "name": "('volume', Timestamp('2018-12-14 00:00:00'))",
         "rawType": "int64",
         "type": "integer"
        },
        {
         "name": "('volume', Timestamp('2018-12-17 00:00:00'))",
         "rawType": "int64",
         "type": "integer"
        },
        {
         "name": "('volume', Timestamp('2018-12-18 00:00:00'))",
         "rawType": "int64",
         "type": "integer"
        },
        {
         "name": "('volume', Timestamp('2018-12-19 00:00:00'))",
         "rawType": "int64",
         "type": "integer"
        },
        {
         "name": "('volume', Timestamp('2018-12-20 00:00:00'))",
         "rawType": "int64",
         "type": "integer"
        },
        {
         "name": "('volume', Timestamp('2018-12-21 00:00:00'))",
         "rawType": "int64",
         "type": "integer"
        },
        {
         "name": "('volume', Timestamp('2018-12-24 00:00:00'))",
         "rawType": "int64",
         "type": "integer"
        },
        {
         "name": "('volume', Timestamp('2018-12-26 00:00:00'))",
         "rawType": "int64",
         "type": "integer"
        },
        {
         "name": "('volume', Timestamp('2018-12-27 00:00:00'))",
         "rawType": "int64",
         "type": "integer"
        },
        {
         "name": "('volume', Timestamp('2018-12-28 00:00:00'))",
         "rawType": "int64",
         "type": "integer"
        },
        {
         "name": "('volume', Timestamp('2018-12-31 00:00:00'))",
         "rawType": "int64",
         "type": "integer"
        },
        {
         "name": "('volume', Timestamp('2019-01-02 00:00:00'))",
         "rawType": "int64",
         "type": "integer"
        },
        {
         "name": "('volume', Timestamp('2019-01-03 00:00:00'))",
         "rawType": "int64",
         "type": "integer"
        },
        {
         "name": "('volume', Timestamp('2019-01-04 00:00:00'))",
         "rawType": "int64",
         "type": "integer"
        },
        {
         "name": "('volume', Timestamp('2019-01-07 00:00:00'))",
         "rawType": "int64",
         "type": "integer"
        },
        {
         "name": "('volume', Timestamp('2019-01-08 00:00:00'))",
         "rawType": "int64",
         "type": "integer"
        },
        {
         "name": "('volume', Timestamp('2019-01-09 00:00:00'))",
         "rawType": "int64",
         "type": "integer"
        },
        {
         "name": "('volume', Timestamp('2019-01-10 00:00:00'))",
         "rawType": "int64",
         "type": "integer"
        },
        {
         "name": "('volume', Timestamp('2019-01-11 00:00:00'))",
         "rawType": "int64",
         "type": "integer"
        },
        {
         "name": "('volume', Timestamp('2019-01-14 00:00:00'))",
         "rawType": "int64",
         "type": "integer"
        },
        {
         "name": "('volume', Timestamp('2019-01-15 00:00:00'))",
         "rawType": "int64",
         "type": "integer"
        },
        {
         "name": "('volume', Timestamp('2019-01-16 00:00:00'))",
         "rawType": "int64",
         "type": "integer"
        },
        {
         "name": "('volume', Timestamp('2019-01-17 00:00:00'))",
         "rawType": "int64",
         "type": "integer"
        },
        {
         "name": "('volume', Timestamp('2019-01-18 00:00:00'))",
         "rawType": "int64",
         "type": "integer"
        },
        {
         "name": "('volume', Timestamp('2019-01-22 00:00:00'))",
         "rawType": "int64",
         "type": "integer"
        },
        {
         "name": "('volume', Timestamp('2019-01-23 00:00:00'))",
         "rawType": "int64",
         "type": "integer"
        },
        {
         "name": "('volume', Timestamp('2019-01-24 00:00:00'))",
         "rawType": "int64",
         "type": "integer"
        },
        {
         "name": "('volume', Timestamp('2019-01-25 00:00:00'))",
         "rawType": "int64",
         "type": "integer"
        },
        {
         "name": "('volume', Timestamp('2019-01-28 00:00:00'))",
         "rawType": "int64",
         "type": "integer"
        },
        {
         "name": "('volume', Timestamp('2019-01-29 00:00:00'))",
         "rawType": "int64",
         "type": "integer"
        },
        {
         "name": "('volume', Timestamp('2019-01-30 00:00:00'))",
         "rawType": "int64",
         "type": "integer"
        },
        {
         "name": "('volume', Timestamp('2019-01-31 00:00:00'))",
         "rawType": "int64",
         "type": "integer"
        },
        {
         "name": "('volume', Timestamp('2019-02-01 00:00:00'))",
         "rawType": "int64",
         "type": "integer"
        },
        {
         "name": "('volume', Timestamp('2019-02-04 00:00:00'))",
         "rawType": "int64",
         "type": "integer"
        },
        {
         "name": "('volume', Timestamp('2019-02-05 00:00:00'))",
         "rawType": "int64",
         "type": "integer"
        },
        {
         "name": "('volume', Timestamp('2019-02-06 00:00:00'))",
         "rawType": "int64",
         "type": "integer"
        },
        {
         "name": "('volume', Timestamp('2019-02-07 00:00:00'))",
         "rawType": "int64",
         "type": "integer"
        },
        {
         "name": "('volume', Timestamp('2019-02-08 00:00:00'))",
         "rawType": "int64",
         "type": "integer"
        },
        {
         "name": "('volume', Timestamp('2019-02-11 00:00:00'))",
         "rawType": "int64",
         "type": "integer"
        },
        {
         "name": "('volume', Timestamp('2019-02-12 00:00:00'))",
         "rawType": "int64",
         "type": "integer"
        },
        {
         "name": "('volume', Timestamp('2019-02-13 00:00:00'))",
         "rawType": "int64",
         "type": "integer"
        },
        {
         "name": "('volume', Timestamp('2019-02-14 00:00:00'))",
         "rawType": "int64",
         "type": "integer"
        },
        {
         "name": "('volume', Timestamp('2019-02-15 00:00:00'))",
         "rawType": "int64",
         "type": "integer"
        },
        {
         "name": "('volume', Timestamp('2019-02-19 00:00:00'))",
         "rawType": "int64",
         "type": "integer"
        },
        {
         "name": "('volume', Timestamp('2019-02-20 00:00:00'))",
         "rawType": "int64",
         "type": "integer"
        },
        {
         "name": "('volume', Timestamp('2019-02-21 00:00:00'))",
         "rawType": "int64",
         "type": "integer"
        },
        {
         "name": "('volume', Timestamp('2019-02-22 00:00:00'))",
         "rawType": "int64",
         "type": "integer"
        },
        {
         "name": "('volume', Timestamp('2019-02-25 00:00:00'))",
         "rawType": "int64",
         "type": "integer"
        },
        {
         "name": "('volume', Timestamp('2019-02-26 00:00:00'))",
         "rawType": "int64",
         "type": "integer"
        },
        {
         "name": "('volume', Timestamp('2019-02-27 00:00:00'))",
         "rawType": "int64",
         "type": "integer"
        },
        {
         "name": "('volume', Timestamp('2019-02-28 00:00:00'))",
         "rawType": "int64",
         "type": "integer"
        },
        {
         "name": "('volume', Timestamp('2019-03-01 00:00:00'))",
         "rawType": "int64",
         "type": "integer"
        },
        {
         "name": "('volume', Timestamp('2019-03-04 00:00:00'))",
         "rawType": "int64",
         "type": "integer"
        },
        {
         "name": "('volume', Timestamp('2019-03-05 00:00:00'))",
         "rawType": "int64",
         "type": "integer"
        },
        {
         "name": "('volume', Timestamp('2019-03-06 00:00:00'))",
         "rawType": "int64",
         "type": "integer"
        },
        {
         "name": "('volume', Timestamp('2019-03-07 00:00:00'))",
         "rawType": "int64",
         "type": "integer"
        },
        {
         "name": "('volume', Timestamp('2019-03-08 00:00:00'))",
         "rawType": "int64",
         "type": "integer"
        },
        {
         "name": "('volume', Timestamp('2019-03-11 00:00:00'))",
         "rawType": "int64",
         "type": "integer"
        },
        {
         "name": "('volume', Timestamp('2019-03-12 00:00:00'))",
         "rawType": "int64",
         "type": "integer"
        },
        {
         "name": "('volume', Timestamp('2019-03-13 00:00:00'))",
         "rawType": "int64",
         "type": "integer"
        },
        {
         "name": "('volume', Timestamp('2019-03-14 00:00:00'))",
         "rawType": "int64",
         "type": "integer"
        },
        {
         "name": "('volume', Timestamp('2019-03-15 00:00:00'))",
         "rawType": "int64",
         "type": "integer"
        },
        {
         "name": "('volume', Timestamp('2019-03-18 00:00:00'))",
         "rawType": "int64",
         "type": "integer"
        },
        {
         "name": "('volume', Timestamp('2019-03-19 00:00:00'))",
         "rawType": "int64",
         "type": "integer"
        },
        {
         "name": "('volume', Timestamp('2019-03-20 00:00:00'))",
         "rawType": "int64",
         "type": "integer"
        },
        {
         "name": "('volume', Timestamp('2019-03-21 00:00:00'))",
         "rawType": "int64",
         "type": "integer"
        },
        {
         "name": "('volume', Timestamp('2019-03-22 00:00:00'))",
         "rawType": "int64",
         "type": "integer"
        },
        {
         "name": "('volume', Timestamp('2019-03-25 00:00:00'))",
         "rawType": "int64",
         "type": "integer"
        },
        {
         "name": "('volume', Timestamp('2019-03-26 00:00:00'))",
         "rawType": "int64",
         "type": "integer"
        },
        {
         "name": "('volume', Timestamp('2019-03-27 00:00:00'))",
         "rawType": "int64",
         "type": "integer"
        },
        {
         "name": "('volume', Timestamp('2019-03-28 00:00:00'))",
         "rawType": "int64",
         "type": "integer"
        },
        {
         "name": "('volume', Timestamp('2019-03-29 00:00:00'))",
         "rawType": "int64",
         "type": "integer"
        },
        {
         "name": "('volume', Timestamp('2019-04-01 00:00:00'))",
         "rawType": "int64",
         "type": "integer"
        },
        {
         "name": "('volume', Timestamp('2019-04-02 00:00:00'))",
         "rawType": "int64",
         "type": "integer"
        },
        {
         "name": "('volume', Timestamp('2019-04-03 00:00:00'))",
         "rawType": "int64",
         "type": "integer"
        },
        {
         "name": "('volume', Timestamp('2019-04-04 00:00:00'))",
         "rawType": "int64",
         "type": "integer"
        },
        {
         "name": "('volume', Timestamp('2019-04-05 00:00:00'))",
         "rawType": "int64",
         "type": "integer"
        },
        {
         "name": "('volume', Timestamp('2019-04-08 00:00:00'))",
         "rawType": "int64",
         "type": "integer"
        },
        {
         "name": "('volume', Timestamp('2019-04-09 00:00:00'))",
         "rawType": "int64",
         "type": "integer"
        },
        {
         "name": "('volume', Timestamp('2019-04-10 00:00:00'))",
         "rawType": "int64",
         "type": "integer"
        },
        {
         "name": "('volume', Timestamp('2019-04-11 00:00:00'))",
         "rawType": "int64",
         "type": "integer"
        },
        {
         "name": "('volume', Timestamp('2019-04-12 00:00:00'))",
         "rawType": "int64",
         "type": "integer"
        },
        {
         "name": "('volume', Timestamp('2019-04-15 00:00:00'))",
         "rawType": "int64",
         "type": "integer"
        },
        {
         "name": "('volume', Timestamp('2019-04-16 00:00:00'))",
         "rawType": "int64",
         "type": "integer"
        },
        {
         "name": "('volume', Timestamp('2019-04-17 00:00:00'))",
         "rawType": "int64",
         "type": "integer"
        },
        {
         "name": "('volume', Timestamp('2019-04-18 00:00:00'))",
         "rawType": "int64",
         "type": "integer"
        },
        {
         "name": "('volume', Timestamp('2019-04-22 00:00:00'))",
         "rawType": "int64",
         "type": "integer"
        },
        {
         "name": "('volume', Timestamp('2019-04-23 00:00:00'))",
         "rawType": "int64",
         "type": "integer"
        },
        {
         "name": "('volume', Timestamp('2019-04-24 00:00:00'))",
         "rawType": "int64",
         "type": "integer"
        },
        {
         "name": "('volume', Timestamp('2019-04-25 00:00:00'))",
         "rawType": "int64",
         "type": "integer"
        },
        {
         "name": "('volume', Timestamp('2019-04-26 00:00:00'))",
         "rawType": "int64",
         "type": "integer"
        },
        {
         "name": "('volume', Timestamp('2019-04-29 00:00:00'))",
         "rawType": "int64",
         "type": "integer"
        },
        {
         "name": "('volume', Timestamp('2019-04-30 00:00:00'))",
         "rawType": "int64",
         "type": "integer"
        },
        {
         "name": "('volume', Timestamp('2019-05-01 00:00:00'))",
         "rawType": "int64",
         "type": "integer"
        },
        {
         "name": "('volume', Timestamp('2019-05-02 00:00:00'))",
         "rawType": "int64",
         "type": "integer"
        },
        {
         "name": "('volume', Timestamp('2019-05-03 00:00:00'))",
         "rawType": "int64",
         "type": "integer"
        },
        {
         "name": "('volume', Timestamp('2019-05-06 00:00:00'))",
         "rawType": "int64",
         "type": "integer"
        },
        {
         "name": "('volume', Timestamp('2019-05-07 00:00:00'))",
         "rawType": "int64",
         "type": "integer"
        },
        {
         "name": "('volume', Timestamp('2019-05-08 00:00:00'))",
         "rawType": "int64",
         "type": "integer"
        },
        {
         "name": "('volume', Timestamp('2019-05-09 00:00:00'))",
         "rawType": "int64",
         "type": "integer"
        },
        {
         "name": "('volume', Timestamp('2019-05-10 00:00:00'))",
         "rawType": "int64",
         "type": "integer"
        },
        {
         "name": "('volume', Timestamp('2019-05-13 00:00:00'))",
         "rawType": "int64",
         "type": "integer"
        },
        {
         "name": "('volume', Timestamp('2019-05-14 00:00:00'))",
         "rawType": "int64",
         "type": "integer"
        },
        {
         "name": "('volume', Timestamp('2019-05-15 00:00:00'))",
         "rawType": "int64",
         "type": "integer"
        },
        {
         "name": "('volume', Timestamp('2019-05-16 00:00:00'))",
         "rawType": "int64",
         "type": "integer"
        },
        {
         "name": "('volume', Timestamp('2019-05-17 00:00:00'))",
         "rawType": "int64",
         "type": "integer"
        },
        {
         "name": "('volume', Timestamp('2019-05-20 00:00:00'))",
         "rawType": "int64",
         "type": "integer"
        },
        {
         "name": "('volume', Timestamp('2019-05-21 00:00:00'))",
         "rawType": "int64",
         "type": "integer"
        },
        {
         "name": "('volume', Timestamp('2019-05-22 00:00:00'))",
         "rawType": "int64",
         "type": "integer"
        },
        {
         "name": "('volume', Timestamp('2019-05-23 00:00:00'))",
         "rawType": "int64",
         "type": "integer"
        },
        {
         "name": "('volume', Timestamp('2019-05-24 00:00:00'))",
         "rawType": "int64",
         "type": "integer"
        },
        {
         "name": "('volume', Timestamp('2019-05-28 00:00:00'))",
         "rawType": "int64",
         "type": "integer"
        },
        {
         "name": "('volume', Timestamp('2019-05-29 00:00:00'))",
         "rawType": "int64",
         "type": "integer"
        },
        {
         "name": "('volume', Timestamp('2019-05-30 00:00:00'))",
         "rawType": "int64",
         "type": "integer"
        },
        {
         "name": "('volume', Timestamp('2019-05-31 00:00:00'))",
         "rawType": "int64",
         "type": "integer"
        },
        {
         "name": "('volume', Timestamp('2019-06-03 00:00:00'))",
         "rawType": "int64",
         "type": "integer"
        },
        {
         "name": "('volume', Timestamp('2019-06-04 00:00:00'))",
         "rawType": "int64",
         "type": "integer"
        },
        {
         "name": "('volume', Timestamp('2019-06-05 00:00:00'))",
         "rawType": "int64",
         "type": "integer"
        },
        {
         "name": "('volume', Timestamp('2019-06-06 00:00:00'))",
         "rawType": "int64",
         "type": "integer"
        },
        {
         "name": "('volume', Timestamp('2019-06-07 00:00:00'))",
         "rawType": "int64",
         "type": "integer"
        },
        {
         "name": "('volume', Timestamp('2019-06-10 00:00:00'))",
         "rawType": "int64",
         "type": "integer"
        },
        {
         "name": "('volume', Timestamp('2019-06-11 00:00:00'))",
         "rawType": "int64",
         "type": "integer"
        },
        {
         "name": "('volume', Timestamp('2019-06-12 00:00:00'))",
         "rawType": "int64",
         "type": "integer"
        },
        {
         "name": "('volume', Timestamp('2019-06-13 00:00:00'))",
         "rawType": "int64",
         "type": "integer"
        },
        {
         "name": "('volume', Timestamp('2019-06-14 00:00:00'))",
         "rawType": "int64",
         "type": "integer"
        },
        {
         "name": "('volume', Timestamp('2019-06-17 00:00:00'))",
         "rawType": "int64",
         "type": "integer"
        },
        {
         "name": "('volume', Timestamp('2019-06-18 00:00:00'))",
         "rawType": "int64",
         "type": "integer"
        },
        {
         "name": "('volume', Timestamp('2019-06-19 00:00:00'))",
         "rawType": "int64",
         "type": "integer"
        },
        {
         "name": "('volume', Timestamp('2019-06-20 00:00:00'))",
         "rawType": "int64",
         "type": "integer"
        },
        {
         "name": "('volume', Timestamp('2019-06-21 00:00:00'))",
         "rawType": "int64",
         "type": "integer"
        },
        {
         "name": "('volume', Timestamp('2019-06-24 00:00:00'))",
         "rawType": "int64",
         "type": "integer"
        },
        {
         "name": "('volume', Timestamp('2019-06-25 00:00:00'))",
         "rawType": "int64",
         "type": "integer"
        },
        {
         "name": "('volume', Timestamp('2019-06-26 00:00:00'))",
         "rawType": "int64",
         "type": "integer"
        },
        {
         "name": "('volume', Timestamp('2019-06-27 00:00:00'))",
         "rawType": "int64",
         "type": "integer"
        },
        {
         "name": "('volume', Timestamp('2019-06-28 00:00:00'))",
         "rawType": "int64",
         "type": "integer"
        },
        {
         "name": "('volume', Timestamp('2019-07-01 00:00:00'))",
         "rawType": "int64",
         "type": "integer"
        },
        {
         "name": "('volume', Timestamp('2019-07-02 00:00:00'))",
         "rawType": "int64",
         "type": "integer"
        },
        {
         "name": "('volume', Timestamp('2019-07-03 00:00:00'))",
         "rawType": "int64",
         "type": "integer"
        },
        {
         "name": "('volume', Timestamp('2019-07-05 00:00:00'))",
         "rawType": "int64",
         "type": "integer"
        },
        {
         "name": "('volume', Timestamp('2019-07-08 00:00:00'))",
         "rawType": "int64",
         "type": "integer"
        },
        {
         "name": "('volume', Timestamp('2019-07-09 00:00:00'))",
         "rawType": "int64",
         "type": "integer"
        },
        {
         "name": "('volume', Timestamp('2019-07-10 00:00:00'))",
         "rawType": "int64",
         "type": "integer"
        },
        {
         "name": "('volume', Timestamp('2019-07-11 00:00:00'))",
         "rawType": "int64",
         "type": "integer"
        },
        {
         "name": "('volume', Timestamp('2019-07-12 00:00:00'))",
         "rawType": "int64",
         "type": "integer"
        },
        {
         "name": "('volume', Timestamp('2019-07-15 00:00:00'))",
         "rawType": "int64",
         "type": "integer"
        },
        {
         "name": "('volume', Timestamp('2019-07-16 00:00:00'))",
         "rawType": "int64",
         "type": "integer"
        },
        {
         "name": "('volume', Timestamp('2019-07-17 00:00:00'))",
         "rawType": "int64",
         "type": "integer"
        },
        {
         "name": "('volume', Timestamp('2019-07-18 00:00:00'))",
         "rawType": "int64",
         "type": "integer"
        },
        {
         "name": "('volume', Timestamp('2019-07-19 00:00:00'))",
         "rawType": "int64",
         "type": "integer"
        },
        {
         "name": "('volume', Timestamp('2019-07-22 00:00:00'))",
         "rawType": "int64",
         "type": "integer"
        },
        {
         "name": "('volume', Timestamp('2019-07-23 00:00:00'))",
         "rawType": "int64",
         "type": "integer"
        },
        {
         "name": "('volume', Timestamp('2019-07-24 00:00:00'))",
         "rawType": "int64",
         "type": "integer"
        },
        {
         "name": "('volume', Timestamp('2019-07-25 00:00:00'))",
         "rawType": "int64",
         "type": "integer"
        },
        {
         "name": "('volume', Timestamp('2019-07-26 00:00:00'))",
         "rawType": "int64",
         "type": "integer"
        },
        {
         "name": "('volume', Timestamp('2019-07-29 00:00:00'))",
         "rawType": "int64",
         "type": "integer"
        },
        {
         "name": "('volume', Timestamp('2019-07-30 00:00:00'))",
         "rawType": "int64",
         "type": "integer"
        },
        {
         "name": "('volume', Timestamp('2019-07-31 00:00:00'))",
         "rawType": "int64",
         "type": "integer"
        },
        {
         "name": "('volume', Timestamp('2019-08-01 00:00:00'))",
         "rawType": "int64",
         "type": "integer"
        },
        {
         "name": "('volume', Timestamp('2019-08-02 00:00:00'))",
         "rawType": "int64",
         "type": "integer"
        },
        {
         "name": "('volume', Timestamp('2019-08-05 00:00:00'))",
         "rawType": "int64",
         "type": "integer"
        },
        {
         "name": "('volume', Timestamp('2019-08-06 00:00:00'))",
         "rawType": "int64",
         "type": "integer"
        },
        {
         "name": "('volume', Timestamp('2019-08-07 00:00:00'))",
         "rawType": "int64",
         "type": "integer"
        },
        {
         "name": "('volume', Timestamp('2019-08-08 00:00:00'))",
         "rawType": "int64",
         "type": "integer"
        },
        {
         "name": "('volume', Timestamp('2019-08-09 00:00:00'))",
         "rawType": "int64",
         "type": "integer"
        },
        {
         "name": "('volume', Timestamp('2019-08-12 00:00:00'))",
         "rawType": "int64",
         "type": "integer"
        },
        {
         "name": "('volume', Timestamp('2019-08-13 00:00:00'))",
         "rawType": "int64",
         "type": "integer"
        },
        {
         "name": "('volume', Timestamp('2019-08-14 00:00:00'))",
         "rawType": "int64",
         "type": "integer"
        },
        {
         "name": "('volume', Timestamp('2019-08-15 00:00:00'))",
         "rawType": "int64",
         "type": "integer"
        },
        {
         "name": "('volume', Timestamp('2019-08-16 00:00:00'))",
         "rawType": "int64",
         "type": "integer"
        },
        {
         "name": "('volume', Timestamp('2019-08-19 00:00:00'))",
         "rawType": "int64",
         "type": "integer"
        },
        {
         "name": "('volume', Timestamp('2019-08-20 00:00:00'))",
         "rawType": "int64",
         "type": "integer"
        },
        {
         "name": "('volume', Timestamp('2019-08-21 00:00:00'))",
         "rawType": "int64",
         "type": "integer"
        },
        {
         "name": "('volume', Timestamp('2019-08-22 00:00:00'))",
         "rawType": "int64",
         "type": "integer"
        },
        {
         "name": "('volume', Timestamp('2019-08-23 00:00:00'))",
         "rawType": "int64",
         "type": "integer"
        },
        {
         "name": "('volume', Timestamp('2019-08-26 00:00:00'))",
         "rawType": "int64",
         "type": "integer"
        },
        {
         "name": "('volume', Timestamp('2019-08-27 00:00:00'))",
         "rawType": "int64",
         "type": "integer"
        },
        {
         "name": "('volume', Timestamp('2019-08-28 00:00:00'))",
         "rawType": "int64",
         "type": "integer"
        },
        {
         "name": "('volume', Timestamp('2019-08-29 00:00:00'))",
         "rawType": "int64",
         "type": "integer"
        },
        {
         "name": "('volume', Timestamp('2019-08-30 00:00:00'))",
         "rawType": "int64",
         "type": "integer"
        },
        {
         "name": "('volume', Timestamp('2019-09-03 00:00:00'))",
         "rawType": "int64",
         "type": "integer"
        },
        {
         "name": "('volume', Timestamp('2019-09-04 00:00:00'))",
         "rawType": "int64",
         "type": "integer"
        },
        {
         "name": "('volume', Timestamp('2019-09-05 00:00:00'))",
         "rawType": "int64",
         "type": "integer"
        },
        {
         "name": "('volume', Timestamp('2019-09-06 00:00:00'))",
         "rawType": "int64",
         "type": "integer"
        },
        {
         "name": "('volume', Timestamp('2019-09-09 00:00:00'))",
         "rawType": "int64",
         "type": "integer"
        },
        {
         "name": "('volume', Timestamp('2019-09-10 00:00:00'))",
         "rawType": "int64",
         "type": "integer"
        },
        {
         "name": "('volume', Timestamp('2019-09-11 00:00:00'))",
         "rawType": "int64",
         "type": "integer"
        },
        {
         "name": "('volume', Timestamp('2019-09-12 00:00:00'))",
         "rawType": "int64",
         "type": "integer"
        },
        {
         "name": "('volume', Timestamp('2019-09-13 00:00:00'))",
         "rawType": "int64",
         "type": "integer"
        },
        {
         "name": "('volume', Timestamp('2019-09-16 00:00:00'))",
         "rawType": "int64",
         "type": "integer"
        },
        {
         "name": "('volume', Timestamp('2019-09-17 00:00:00'))",
         "rawType": "int64",
         "type": "integer"
        },
        {
         "name": "('volume', Timestamp('2019-09-18 00:00:00'))",
         "rawType": "int64",
         "type": "integer"
        },
        {
         "name": "('volume', Timestamp('2019-09-19 00:00:00'))",
         "rawType": "int64",
         "type": "integer"
        },
        {
         "name": "('volume', Timestamp('2019-09-20 00:00:00'))",
         "rawType": "int64",
         "type": "integer"
        },
        {
         "name": "('volume', Timestamp('2019-09-23 00:00:00'))",
         "rawType": "int64",
         "type": "integer"
        },
        {
         "name": "('volume', Timestamp('2019-09-24 00:00:00'))",
         "rawType": "int64",
         "type": "integer"
        },
        {
         "name": "('volume', Timestamp('2019-09-25 00:00:00'))",
         "rawType": "int64",
         "type": "integer"
        },
        {
         "name": "('volume', Timestamp('2019-09-26 00:00:00'))",
         "rawType": "int64",
         "type": "integer"
        },
        {
         "name": "('volume', Timestamp('2019-09-27 00:00:00'))",
         "rawType": "int64",
         "type": "integer"
        },
        {
         "name": "('volume', Timestamp('2019-09-30 00:00:00'))",
         "rawType": "int64",
         "type": "integer"
        },
        {
         "name": "('volume', Timestamp('2019-10-01 00:00:00'))",
         "rawType": "int64",
         "type": "integer"
        },
        {
         "name": "('volume', Timestamp('2019-10-02 00:00:00'))",
         "rawType": "int64",
         "type": "integer"
        },
        {
         "name": "('volume', Timestamp('2019-10-03 00:00:00'))",
         "rawType": "int64",
         "type": "integer"
        },
        {
         "name": "('volume', Timestamp('2019-10-04 00:00:00'))",
         "rawType": "int64",
         "type": "integer"
        },
        {
         "name": "('volume', Timestamp('2019-10-07 00:00:00'))",
         "rawType": "int64",
         "type": "integer"
        },
        {
         "name": "('volume', Timestamp('2019-10-08 00:00:00'))",
         "rawType": "int64",
         "type": "integer"
        },
        {
         "name": "('volume', Timestamp('2019-10-09 00:00:00'))",
         "rawType": "int64",
         "type": "integer"
        },
        {
         "name": "('volume', Timestamp('2019-10-10 00:00:00'))",
         "rawType": "int64",
         "type": "integer"
        },
        {
         "name": "('volume', Timestamp('2019-10-11 00:00:00'))",
         "rawType": "int64",
         "type": "integer"
        },
        {
         "name": "('volume', Timestamp('2019-10-14 00:00:00'))",
         "rawType": "int64",
         "type": "integer"
        },
        {
         "name": "('volume', Timestamp('2019-10-15 00:00:00'))",
         "rawType": "int64",
         "type": "integer"
        },
        {
         "name": "('volume', Timestamp('2019-10-16 00:00:00'))",
         "rawType": "int64",
         "type": "integer"
        },
        {
         "name": "('volume', Timestamp('2019-10-17 00:00:00'))",
         "rawType": "int64",
         "type": "integer"
        },
        {
         "name": "('volume', Timestamp('2019-10-18 00:00:00'))",
         "rawType": "int64",
         "type": "integer"
        },
        {
         "name": "('volume', Timestamp('2019-10-21 00:00:00'))",
         "rawType": "int64",
         "type": "integer"
        },
        {
         "name": "('volume', Timestamp('2019-10-22 00:00:00'))",
         "rawType": "int64",
         "type": "integer"
        },
        {
         "name": "('volume', Timestamp('2019-10-23 00:00:00'))",
         "rawType": "int64",
         "type": "integer"
        },
        {
         "name": "('volume', Timestamp('2019-10-24 00:00:00'))",
         "rawType": "int64",
         "type": "integer"
        },
        {
         "name": "('volume', Timestamp('2019-10-25 00:00:00'))",
         "rawType": "int64",
         "type": "integer"
        },
        {
         "name": "('volume', Timestamp('2019-10-28 00:00:00'))",
         "rawType": "int64",
         "type": "integer"
        },
        {
         "name": "('volume', Timestamp('2019-10-29 00:00:00'))",
         "rawType": "int64",
         "type": "integer"
        },
        {
         "name": "('volume', Timestamp('2019-10-30 00:00:00'))",
         "rawType": "int64",
         "type": "integer"
        },
        {
         "name": "('volume', Timestamp('2019-10-31 00:00:00'))",
         "rawType": "int64",
         "type": "integer"
        },
        {
         "name": "('volume', Timestamp('2019-11-01 00:00:00'))",
         "rawType": "int64",
         "type": "integer"
        },
        {
         "name": "('volume', Timestamp('2019-11-04 00:00:00'))",
         "rawType": "int64",
         "type": "integer"
        },
        {
         "name": "('volume', Timestamp('2019-11-05 00:00:00'))",
         "rawType": "int64",
         "type": "integer"
        },
        {
         "name": "('volume', Timestamp('2019-11-06 00:00:00'))",
         "rawType": "int64",
         "type": "integer"
        },
        {
         "name": "('volume', Timestamp('2019-11-07 00:00:00'))",
         "rawType": "int64",
         "type": "integer"
        },
        {
         "name": "('volume', Timestamp('2019-11-08 00:00:00'))",
         "rawType": "int64",
         "type": "integer"
        },
        {
         "name": "('volume', Timestamp('2019-11-11 00:00:00'))",
         "rawType": "int64",
         "type": "integer"
        },
        {
         "name": "('volume', Timestamp('2019-11-12 00:00:00'))",
         "rawType": "int64",
         "type": "integer"
        },
        {
         "name": "('volume', Timestamp('2019-11-13 00:00:00'))",
         "rawType": "int64",
         "type": "integer"
        },
        {
         "name": "('volume', Timestamp('2019-11-14 00:00:00'))",
         "rawType": "int64",
         "type": "integer"
        },
        {
         "name": "('volume', Timestamp('2019-11-15 00:00:00'))",
         "rawType": "int64",
         "type": "integer"
        },
        {
         "name": "('volume', Timestamp('2019-11-18 00:00:00'))",
         "rawType": "int64",
         "type": "integer"
        },
        {
         "name": "('volume', Timestamp('2019-11-19 00:00:00'))",
         "rawType": "int64",
         "type": "integer"
        },
        {
         "name": "('volume', Timestamp('2019-11-20 00:00:00'))",
         "rawType": "int64",
         "type": "integer"
        },
        {
         "name": "('volume', Timestamp('2019-11-21 00:00:00'))",
         "rawType": "int64",
         "type": "integer"
        },
        {
         "name": "('volume', Timestamp('2019-11-22 00:00:00'))",
         "rawType": "int64",
         "type": "integer"
        },
        {
         "name": "('volume', Timestamp('2019-11-25 00:00:00'))",
         "rawType": "int64",
         "type": "integer"
        },
        {
         "name": "('volume', Timestamp('2019-11-26 00:00:00'))",
         "rawType": "int64",
         "type": "integer"
        },
        {
         "name": "('volume', Timestamp('2019-11-27 00:00:00'))",
         "rawType": "int64",
         "type": "integer"
        },
        {
         "name": "('volume', Timestamp('2019-11-29 00:00:00'))",
         "rawType": "int64",
         "type": "integer"
        },
        {
         "name": "('volume', Timestamp('2019-12-02 00:00:00'))",
         "rawType": "int64",
         "type": "integer"
        },
        {
         "name": "('volume', Timestamp('2019-12-03 00:00:00'))",
         "rawType": "int64",
         "type": "integer"
        },
        {
         "name": "('volume', Timestamp('2019-12-04 00:00:00'))",
         "rawType": "int64",
         "type": "integer"
        },
        {
         "name": "('volume', Timestamp('2019-12-05 00:00:00'))",
         "rawType": "int64",
         "type": "integer"
        },
        {
         "name": "('volume', Timestamp('2019-12-06 00:00:00'))",
         "rawType": "int64",
         "type": "integer"
        },
        {
         "name": "('volume', Timestamp('2019-12-09 00:00:00'))",
         "rawType": "int64",
         "type": "integer"
        },
        {
         "name": "('volume', Timestamp('2019-12-10 00:00:00'))",
         "rawType": "int64",
         "type": "integer"
        },
        {
         "name": "('volume', Timestamp('2019-12-11 00:00:00'))",
         "rawType": "int64",
         "type": "integer"
        },
        {
         "name": "('volume', Timestamp('2019-12-12 00:00:00'))",
         "rawType": "int64",
         "type": "integer"
        },
        {
         "name": "('volume', Timestamp('2019-12-13 00:00:00'))",
         "rawType": "int64",
         "type": "integer"
        },
        {
         "name": "('volume', Timestamp('2019-12-16 00:00:00'))",
         "rawType": "int64",
         "type": "integer"
        },
        {
         "name": "('volume', Timestamp('2019-12-17 00:00:00'))",
         "rawType": "int64",
         "type": "integer"
        },
        {
         "name": "('volume', Timestamp('2019-12-18 00:00:00'))",
         "rawType": "int64",
         "type": "integer"
        },
        {
         "name": "('volume', Timestamp('2019-12-19 00:00:00'))",
         "rawType": "int64",
         "type": "integer"
        },
        {
         "name": "('volume', Timestamp('2019-12-20 00:00:00'))",
         "rawType": "int64",
         "type": "integer"
        },
        {
         "name": "('volume', Timestamp('2019-12-23 00:00:00'))",
         "rawType": "int64",
         "type": "integer"
        },
        {
         "name": "('volume', Timestamp('2019-12-24 00:00:00'))",
         "rawType": "int64",
         "type": "integer"
        },
        {
         "name": "('volume', Timestamp('2019-12-26 00:00:00'))",
         "rawType": "int64",
         "type": "integer"
        },
        {
         "name": "('volume', Timestamp('2019-12-27 00:00:00'))",
         "rawType": "int64",
         "type": "integer"
        },
        {
         "name": "('volume', Timestamp('2019-12-30 00:00:00'))",
         "rawType": "int64",
         "type": "integer"
        },
        {
         "name": "('volume', Timestamp('2019-12-31 00:00:00'))",
         "rawType": "int64",
         "type": "integer"
        },
        {
         "name": "('volume', Timestamp('2020-01-02 00:00:00'))",
         "rawType": "int64",
         "type": "integer"
        },
        {
         "name": "('volume', Timestamp('2020-01-03 00:00:00'))",
         "rawType": "int64",
         "type": "integer"
        },
        {
         "name": "('volume', Timestamp('2020-01-06 00:00:00'))",
         "rawType": "int64",
         "type": "integer"
        },
        {
         "name": "('volume', Timestamp('2020-01-07 00:00:00'))",
         "rawType": "int64",
         "type": "integer"
        },
        {
         "name": "('volume', Timestamp('2020-01-08 00:00:00'))",
         "rawType": "int64",
         "type": "integer"
        },
        {
         "name": "('volume', Timestamp('2020-01-09 00:00:00'))",
         "rawType": "int64",
         "type": "integer"
        },
        {
         "name": "('volume', Timestamp('2020-01-10 00:00:00'))",
         "rawType": "int64",
         "type": "integer"
        },
        {
         "name": "('volume', Timestamp('2020-01-13 00:00:00'))",
         "rawType": "int64",
         "type": "integer"
        },
        {
         "name": "('volume', Timestamp('2020-01-14 00:00:00'))",
         "rawType": "int64",
         "type": "integer"
        },
        {
         "name": "('volume', Timestamp('2020-01-15 00:00:00'))",
         "rawType": "int64",
         "type": "integer"
        },
        {
         "name": "('volume', Timestamp('2020-01-16 00:00:00'))",
         "rawType": "int64",
         "type": "integer"
        },
        {
         "name": "('volume', Timestamp('2020-01-17 00:00:00'))",
         "rawType": "int64",
         "type": "integer"
        },
        {
         "name": "('volume', Timestamp('2020-01-21 00:00:00'))",
         "rawType": "int64",
         "type": "integer"
        },
        {
         "name": "('volume', Timestamp('2020-01-22 00:00:00'))",
         "rawType": "int64",
         "type": "integer"
        },
        {
         "name": "('volume', Timestamp('2020-01-23 00:00:00'))",
         "rawType": "int64",
         "type": "integer"
        },
        {
         "name": "('volume', Timestamp('2020-01-24 00:00:00'))",
         "rawType": "int64",
         "type": "integer"
        },
        {
         "name": "('volume', Timestamp('2020-01-27 00:00:00'))",
         "rawType": "int64",
         "type": "integer"
        },
        {
         "name": "('volume', Timestamp('2020-01-28 00:00:00'))",
         "rawType": "int64",
         "type": "integer"
        },
        {
         "name": "('volume', Timestamp('2020-01-29 00:00:00'))",
         "rawType": "int64",
         "type": "integer"
        },
        {
         "name": "('volume', Timestamp('2020-01-30 00:00:00'))",
         "rawType": "int64",
         "type": "integer"
        },
        {
         "name": "('volume', Timestamp('2020-01-31 00:00:00'))",
         "rawType": "int64",
         "type": "integer"
        },
        {
         "name": "('volume', Timestamp('2020-02-03 00:00:00'))",
         "rawType": "int64",
         "type": "integer"
        },
        {
         "name": "('volume', Timestamp('2020-02-04 00:00:00'))",
         "rawType": "int64",
         "type": "integer"
        },
        {
         "name": "('volume', Timestamp('2020-02-05 00:00:00'))",
         "rawType": "int64",
         "type": "integer"
        },
        {
         "name": "('volume', Timestamp('2020-02-06 00:00:00'))",
         "rawType": "int64",
         "type": "integer"
        },
        {
         "name": "('volume', Timestamp('2020-02-07 00:00:00'))",
         "rawType": "int64",
         "type": "integer"
        },
        {
         "name": "('volume', Timestamp('2020-02-10 00:00:00'))",
         "rawType": "int64",
         "type": "integer"
        },
        {
         "name": "('volume', Timestamp('2020-02-11 00:00:00'))",
         "rawType": "int64",
         "type": "integer"
        },
        {
         "name": "('volume', Timestamp('2020-02-12 00:00:00'))",
         "rawType": "int64",
         "type": "integer"
        },
        {
         "name": "('volume', Timestamp('2020-02-13 00:00:00'))",
         "rawType": "int64",
         "type": "integer"
        },
        {
         "name": "('volume', Timestamp('2020-02-14 00:00:00'))",
         "rawType": "int64",
         "type": "integer"
        },
        {
         "name": "('volume', Timestamp('2020-02-18 00:00:00'))",
         "rawType": "int64",
         "type": "integer"
        },
        {
         "name": "('volume', Timestamp('2020-02-19 00:00:00'))",
         "rawType": "int64",
         "type": "integer"
        },
        {
         "name": "('volume', Timestamp('2020-02-20 00:00:00'))",
         "rawType": "int64",
         "type": "integer"
        },
        {
         "name": "('volume', Timestamp('2020-02-21 00:00:00'))",
         "rawType": "int64",
         "type": "integer"
        },
        {
         "name": "('volume', Timestamp('2020-02-24 00:00:00'))",
         "rawType": "int64",
         "type": "integer"
        },
        {
         "name": "('volume', Timestamp('2020-02-25 00:00:00'))",
         "rawType": "int64",
         "type": "integer"
        },
        {
         "name": "('volume', Timestamp('2020-02-26 00:00:00'))",
         "rawType": "int64",
         "type": "integer"
        },
        {
         "name": "('volume', Timestamp('2020-02-27 00:00:00'))",
         "rawType": "int64",
         "type": "integer"
        },
        {
         "name": "('volume', Timestamp('2020-02-28 00:00:00'))",
         "rawType": "int64",
         "type": "integer"
        },
        {
         "name": "('volume', Timestamp('2020-03-02 00:00:00'))",
         "rawType": "int64",
         "type": "integer"
        },
        {
         "name": "('volume', Timestamp('2020-03-03 00:00:00'))",
         "rawType": "int64",
         "type": "integer"
        },
        {
         "name": "('volume', Timestamp('2020-03-04 00:00:00'))",
         "rawType": "int64",
         "type": "integer"
        },
        {
         "name": "('volume', Timestamp('2020-03-05 00:00:00'))",
         "rawType": "int64",
         "type": "integer"
        },
        {
         "name": "('volume', Timestamp('2020-03-06 00:00:00'))",
         "rawType": "int64",
         "type": "integer"
        },
        {
         "name": "('volume', Timestamp('2020-03-09 00:00:00'))",
         "rawType": "int64",
         "type": "integer"
        },
        {
         "name": "('volume', Timestamp('2020-03-10 00:00:00'))",
         "rawType": "int64",
         "type": "integer"
        },
        {
         "name": "('volume', Timestamp('2020-03-11 00:00:00'))",
         "rawType": "int64",
         "type": "integer"
        },
        {
         "name": "('volume', Timestamp('2020-03-12 00:00:00'))",
         "rawType": "int64",
         "type": "integer"
        },
        {
         "name": "('volume', Timestamp('2020-03-13 00:00:00'))",
         "rawType": "int64",
         "type": "integer"
        },
        {
         "name": "('volume', Timestamp('2020-03-16 00:00:00'))",
         "rawType": "int64",
         "type": "integer"
        },
        {
         "name": "('volume', Timestamp('2020-03-17 00:00:00'))",
         "rawType": "int64",
         "type": "integer"
        },
        {
         "name": "('volume', Timestamp('2020-03-18 00:00:00'))",
         "rawType": "int64",
         "type": "integer"
        },
        {
         "name": "('volume', Timestamp('2020-03-19 00:00:00'))",
         "rawType": "int64",
         "type": "integer"
        },
        {
         "name": "('volume', Timestamp('2020-03-20 00:00:00'))",
         "rawType": "int64",
         "type": "integer"
        },
        {
         "name": "('volume', Timestamp('2020-03-23 00:00:00'))",
         "rawType": "int64",
         "type": "integer"
        },
        {
         "name": "('volume', Timestamp('2020-03-24 00:00:00'))",
         "rawType": "int64",
         "type": "integer"
        },
        {
         "name": "('volume', Timestamp('2020-03-25 00:00:00'))",
         "rawType": "int64",
         "type": "integer"
        },
        {
         "name": "('volume', Timestamp('2020-03-26 00:00:00'))",
         "rawType": "int64",
         "type": "integer"
        },
        {
         "name": "('volume', Timestamp('2020-03-27 00:00:00'))",
         "rawType": "int64",
         "type": "integer"
        },
        {
         "name": "('volume', Timestamp('2020-03-30 00:00:00'))",
         "rawType": "int64",
         "type": "integer"
        },
        {
         "name": "('volume', Timestamp('2020-03-31 00:00:00'))",
         "rawType": "int64",
         "type": "integer"
        },
        {
         "name": "('volume', Timestamp('2020-04-01 00:00:00'))",
         "rawType": "int64",
         "type": "integer"
        },
        {
         "name": "('volume', Timestamp('2020-04-02 00:00:00'))",
         "rawType": "int64",
         "type": "integer"
        },
        {
         "name": "('volume', Timestamp('2020-04-03 00:00:00'))",
         "rawType": "int64",
         "type": "integer"
        },
        {
         "name": "('volume', Timestamp('2020-04-06 00:00:00'))",
         "rawType": "int64",
         "type": "integer"
        },
        {
         "name": "('volume', Timestamp('2020-04-07 00:00:00'))",
         "rawType": "int64",
         "type": "integer"
        },
        {
         "name": "('volume', Timestamp('2020-04-08 00:00:00'))",
         "rawType": "int64",
         "type": "integer"
        },
        {
         "name": "('volume', Timestamp('2020-04-09 00:00:00'))",
         "rawType": "int64",
         "type": "integer"
        },
        {
         "name": "('volume', Timestamp('2020-04-13 00:00:00'))",
         "rawType": "int64",
         "type": "integer"
        },
        {
         "name": "('volume', Timestamp('2020-04-14 00:00:00'))",
         "rawType": "int64",
         "type": "integer"
        },
        {
         "name": "('volume', Timestamp('2020-04-15 00:00:00'))",
         "rawType": "int64",
         "type": "integer"
        },
        {
         "name": "('volume', Timestamp('2020-04-16 00:00:00'))",
         "rawType": "int64",
         "type": "integer"
        },
        {
         "name": "('volume', Timestamp('2020-04-17 00:00:00'))",
         "rawType": "int64",
         "type": "integer"
        },
        {
         "name": "('volume', Timestamp('2020-04-20 00:00:00'))",
         "rawType": "int64",
         "type": "integer"
        },
        {
         "name": "('volume', Timestamp('2020-04-21 00:00:00'))",
         "rawType": "int64",
         "type": "integer"
        },
        {
         "name": "('volume', Timestamp('2020-04-22 00:00:00'))",
         "rawType": "int64",
         "type": "integer"
        },
        {
         "name": "('volume', Timestamp('2020-04-23 00:00:00'))",
         "rawType": "int64",
         "type": "integer"
        },
        {
         "name": "('volume', Timestamp('2020-04-24 00:00:00'))",
         "rawType": "int64",
         "type": "integer"
        },
        {
         "name": "('volume', Timestamp('2020-04-27 00:00:00'))",
         "rawType": "int64",
         "type": "integer"
        },
        {
         "name": "('volume', Timestamp('2020-04-28 00:00:00'))",
         "rawType": "int64",
         "type": "integer"
        },
        {
         "name": "('volume', Timestamp('2020-04-29 00:00:00'))",
         "rawType": "int64",
         "type": "integer"
        },
        {
         "name": "('volume', Timestamp('2020-04-30 00:00:00'))",
         "rawType": "int64",
         "type": "integer"
        },
        {
         "name": "('volume', Timestamp('2020-05-01 00:00:00'))",
         "rawType": "int64",
         "type": "integer"
        },
        {
         "name": "('volume', Timestamp('2020-05-04 00:00:00'))",
         "rawType": "int64",
         "type": "integer"
        },
        {
         "name": "('volume', Timestamp('2020-05-05 00:00:00'))",
         "rawType": "int64",
         "type": "integer"
        },
        {
         "name": "('volume', Timestamp('2020-05-06 00:00:00'))",
         "rawType": "int64",
         "type": "integer"
        },
        {
         "name": "('volume', Timestamp('2020-05-07 00:00:00'))",
         "rawType": "int64",
         "type": "integer"
        },
        {
         "name": "('volume', Timestamp('2020-05-08 00:00:00'))",
         "rawType": "int64",
         "type": "integer"
        },
        {
         "name": "('volume', Timestamp('2020-05-11 00:00:00'))",
         "rawType": "int64",
         "type": "integer"
        },
        {
         "name": "('volume', Timestamp('2020-05-12 00:00:00'))",
         "rawType": "int64",
         "type": "integer"
        },
        {
         "name": "('volume', Timestamp('2020-05-13 00:00:00'))",
         "rawType": "int64",
         "type": "integer"
        },
        {
         "name": "('volume', Timestamp('2020-05-14 00:00:00'))",
         "rawType": "int64",
         "type": "integer"
        },
        {
         "name": "('volume', Timestamp('2020-05-15 00:00:00'))",
         "rawType": "int64",
         "type": "integer"
        },
        {
         "name": "('volume', Timestamp('2020-05-18 00:00:00'))",
         "rawType": "int64",
         "type": "integer"
        },
        {
         "name": "('volume', Timestamp('2020-05-19 00:00:00'))",
         "rawType": "int64",
         "type": "integer"
        },
        {
         "name": "('volume', Timestamp('2020-05-20 00:00:00'))",
         "rawType": "int64",
         "type": "integer"
        },
        {
         "name": "('volume', Timestamp('2020-05-21 00:00:00'))",
         "rawType": "int64",
         "type": "integer"
        },
        {
         "name": "('volume', Timestamp('2020-05-22 00:00:00'))",
         "rawType": "int64",
         "type": "integer"
        },
        {
         "name": "('volume', Timestamp('2020-05-26 00:00:00'))",
         "rawType": "int64",
         "type": "integer"
        },
        {
         "name": "('volume', Timestamp('2020-05-27 00:00:00'))",
         "rawType": "int64",
         "type": "integer"
        },
        {
         "name": "('volume', Timestamp('2020-05-28 00:00:00'))",
         "rawType": "int64",
         "type": "integer"
        },
        {
         "name": "('volume', Timestamp('2020-05-29 00:00:00'))",
         "rawType": "int64",
         "type": "integer"
        },
        {
         "name": "('volume', Timestamp('2020-06-01 00:00:00'))",
         "rawType": "int64",
         "type": "integer"
        },
        {
         "name": "('volume', Timestamp('2020-06-02 00:00:00'))",
         "rawType": "int64",
         "type": "integer"
        },
        {
         "name": "('volume', Timestamp('2020-06-03 00:00:00'))",
         "rawType": "int64",
         "type": "integer"
        },
        {
         "name": "('volume', Timestamp('2020-06-04 00:00:00'))",
         "rawType": "int64",
         "type": "integer"
        },
        {
         "name": "('volume', Timestamp('2020-06-05 00:00:00'))",
         "rawType": "int64",
         "type": "integer"
        },
        {
         "name": "('volume', Timestamp('2020-06-08 00:00:00'))",
         "rawType": "int64",
         "type": "integer"
        },
        {
         "name": "('volume', Timestamp('2020-06-09 00:00:00'))",
         "rawType": "int64",
         "type": "integer"
        },
        {
         "name": "('volume', Timestamp('2020-06-10 00:00:00'))",
         "rawType": "int64",
         "type": "integer"
        },
        {
         "name": "('volume', Timestamp('2020-06-11 00:00:00'))",
         "rawType": "int64",
         "type": "integer"
        },
        {
         "name": "('volume', Timestamp('2020-06-12 00:00:00'))",
         "rawType": "int64",
         "type": "integer"
        },
        {
         "name": "('volume', Timestamp('2020-06-15 00:00:00'))",
         "rawType": "int64",
         "type": "integer"
        },
        {
         "name": "('volume', Timestamp('2020-06-16 00:00:00'))",
         "rawType": "int64",
         "type": "integer"
        },
        {
         "name": "('volume', Timestamp('2020-06-17 00:00:00'))",
         "rawType": "int64",
         "type": "integer"
        },
        {
         "name": "('volume', Timestamp('2020-06-18 00:00:00'))",
         "rawType": "int64",
         "type": "integer"
        },
        {
         "name": "('volume', Timestamp('2020-06-19 00:00:00'))",
         "rawType": "int64",
         "type": "integer"
        },
        {
         "name": "('volume', Timestamp('2020-06-22 00:00:00'))",
         "rawType": "int64",
         "type": "integer"
        },
        {
         "name": "('volume', Timestamp('2020-06-23 00:00:00'))",
         "rawType": "int64",
         "type": "integer"
        },
        {
         "name": "('volume', Timestamp('2020-06-24 00:00:00'))",
         "rawType": "int64",
         "type": "integer"
        },
        {
         "name": "('volume', Timestamp('2020-06-25 00:00:00'))",
         "rawType": "int64",
         "type": "integer"
        },
        {
         "name": "('volume', Timestamp('2020-06-26 00:00:00'))",
         "rawType": "int64",
         "type": "integer"
        },
        {
         "name": "('volume', Timestamp('2020-06-29 00:00:00'))",
         "rawType": "int64",
         "type": "integer"
        },
        {
         "name": "('volume', Timestamp('2020-06-30 00:00:00'))",
         "rawType": "int64",
         "type": "integer"
        },
        {
         "name": "('volume', Timestamp('2020-07-01 00:00:00'))",
         "rawType": "int64",
         "type": "integer"
        },
        {
         "name": "('volume', Timestamp('2020-07-02 00:00:00'))",
         "rawType": "int64",
         "type": "integer"
        },
        {
         "name": "('volume', Timestamp('2020-07-06 00:00:00'))",
         "rawType": "int64",
         "type": "integer"
        },
        {
         "name": "('volume', Timestamp('2020-07-07 00:00:00'))",
         "rawType": "int64",
         "type": "integer"
        },
        {
         "name": "('volume', Timestamp('2020-07-08 00:00:00'))",
         "rawType": "int64",
         "type": "integer"
        },
        {
         "name": "('volume', Timestamp('2020-07-09 00:00:00'))",
         "rawType": "int64",
         "type": "integer"
        },
        {
         "name": "('volume', Timestamp('2020-07-10 00:00:00'))",
         "rawType": "int64",
         "type": "integer"
        },
        {
         "name": "('volume', Timestamp('2020-07-13 00:00:00'))",
         "rawType": "int64",
         "type": "integer"
        },
        {
         "name": "('volume', Timestamp('2020-07-14 00:00:00'))",
         "rawType": "int64",
         "type": "integer"
        },
        {
         "name": "('volume', Timestamp('2020-07-15 00:00:00'))",
         "rawType": "int64",
         "type": "integer"
        },
        {
         "name": "('volume', Timestamp('2020-07-16 00:00:00'))",
         "rawType": "int64",
         "type": "integer"
        },
        {
         "name": "('volume', Timestamp('2020-07-17 00:00:00'))",
         "rawType": "int64",
         "type": "integer"
        },
        {
         "name": "('volume', Timestamp('2020-07-20 00:00:00'))",
         "rawType": "int64",
         "type": "integer"
        },
        {
         "name": "('volume', Timestamp('2020-07-21 00:00:00'))",
         "rawType": "int64",
         "type": "integer"
        },
        {
         "name": "('volume', Timestamp('2020-07-22 00:00:00'))",
         "rawType": "int64",
         "type": "integer"
        },
        {
         "name": "('volume', Timestamp('2020-07-23 00:00:00'))",
         "rawType": "int64",
         "type": "integer"
        },
        {
         "name": "('volume', Timestamp('2020-07-24 00:00:00'))",
         "rawType": "int64",
         "type": "integer"
        },
        {
         "name": "('volume', Timestamp('2020-07-27 00:00:00'))",
         "rawType": "int64",
         "type": "integer"
        },
        {
         "name": "('volume', Timestamp('2020-07-28 00:00:00'))",
         "rawType": "int64",
         "type": "integer"
        },
        {
         "name": "('volume', Timestamp('2020-07-29 00:00:00'))",
         "rawType": "int64",
         "type": "integer"
        },
        {
         "name": "('volume', Timestamp('2020-07-30 00:00:00'))",
         "rawType": "int64",
         "type": "integer"
        },
        {
         "name": "('volume', Timestamp('2020-07-31 00:00:00'))",
         "rawType": "int64",
         "type": "integer"
        },
        {
         "name": "('volume', Timestamp('2020-08-03 00:00:00'))",
         "rawType": "int64",
         "type": "integer"
        },
        {
         "name": "('volume', Timestamp('2020-08-04 00:00:00'))",
         "rawType": "int64",
         "type": "integer"
        },
        {
         "name": "('volume', Timestamp('2020-08-05 00:00:00'))",
         "rawType": "int64",
         "type": "integer"
        },
        {
         "name": "('volume', Timestamp('2020-08-06 00:00:00'))",
         "rawType": "int64",
         "type": "integer"
        },
        {
         "name": "('volume', Timestamp('2020-08-07 00:00:00'))",
         "rawType": "int64",
         "type": "integer"
        },
        {
         "name": "('volume', Timestamp('2020-08-10 00:00:00'))",
         "rawType": "int64",
         "type": "integer"
        },
        {
         "name": "('volume', Timestamp('2020-08-11 00:00:00'))",
         "rawType": "int64",
         "type": "integer"
        },
        {
         "name": "('volume', Timestamp('2020-08-12 00:00:00'))",
         "rawType": "int64",
         "type": "integer"
        },
        {
         "name": "('volume', Timestamp('2020-08-13 00:00:00'))",
         "rawType": "int64",
         "type": "integer"
        },
        {
         "name": "('volume', Timestamp('2020-08-14 00:00:00'))",
         "rawType": "int64",
         "type": "integer"
        },
        {
         "name": "('volume', Timestamp('2020-08-17 00:00:00'))",
         "rawType": "int64",
         "type": "integer"
        },
        {
         "name": "('volume', Timestamp('2020-08-18 00:00:00'))",
         "rawType": "int64",
         "type": "integer"
        },
        {
         "name": "('volume', Timestamp('2020-08-19 00:00:00'))",
         "rawType": "int64",
         "type": "integer"
        },
        {
         "name": "('volume', Timestamp('2020-08-20 00:00:00'))",
         "rawType": "int64",
         "type": "integer"
        },
        {
         "name": "('volume', Timestamp('2020-08-21 00:00:00'))",
         "rawType": "int64",
         "type": "integer"
        },
        {
         "name": "('volume', Timestamp('2020-08-24 00:00:00'))",
         "rawType": "int64",
         "type": "integer"
        },
        {
         "name": "('volume', Timestamp('2020-08-25 00:00:00'))",
         "rawType": "int64",
         "type": "integer"
        },
        {
         "name": "('volume', Timestamp('2020-08-26 00:00:00'))",
         "rawType": "int64",
         "type": "integer"
        },
        {
         "name": "('volume', Timestamp('2020-08-27 00:00:00'))",
         "rawType": "int64",
         "type": "integer"
        },
        {
         "name": "('volume', Timestamp('2020-08-28 00:00:00'))",
         "rawType": "int64",
         "type": "integer"
        },
        {
         "name": "('volume', Timestamp('2020-08-31 00:00:00'))",
         "rawType": "int64",
         "type": "integer"
        },
        {
         "name": "('volume', Timestamp('2020-09-01 00:00:00'))",
         "rawType": "int64",
         "type": "integer"
        },
        {
         "name": "('volume', Timestamp('2020-09-02 00:00:00'))",
         "rawType": "int64",
         "type": "integer"
        },
        {
         "name": "('volume', Timestamp('2020-09-03 00:00:00'))",
         "rawType": "int64",
         "type": "integer"
        },
        {
         "name": "('volume', Timestamp('2020-09-04 00:00:00'))",
         "rawType": "int64",
         "type": "integer"
        },
        {
         "name": "('volume', Timestamp('2020-09-08 00:00:00'))",
         "rawType": "int64",
         "type": "integer"
        },
        {
         "name": "('volume', Timestamp('2020-09-09 00:00:00'))",
         "rawType": "int64",
         "type": "integer"
        },
        {
         "name": "('volume', Timestamp('2020-09-10 00:00:00'))",
         "rawType": "int64",
         "type": "integer"
        },
        {
         "name": "('volume', Timestamp('2020-09-11 00:00:00'))",
         "rawType": "int64",
         "type": "integer"
        },
        {
         "name": "('volume', Timestamp('2020-09-14 00:00:00'))",
         "rawType": "int64",
         "type": "integer"
        },
        {
         "name": "('volume', Timestamp('2020-09-15 00:00:00'))",
         "rawType": "int64",
         "type": "integer"
        },
        {
         "name": "('volume', Timestamp('2020-09-16 00:00:00'))",
         "rawType": "int64",
         "type": "integer"
        },
        {
         "name": "('volume', Timestamp('2020-09-17 00:00:00'))",
         "rawType": "int64",
         "type": "integer"
        },
        {
         "name": "('volume', Timestamp('2020-09-18 00:00:00'))",
         "rawType": "int64",
         "type": "integer"
        },
        {
         "name": "('volume', Timestamp('2020-09-21 00:00:00'))",
         "rawType": "int64",
         "type": "integer"
        },
        {
         "name": "('volume', Timestamp('2020-09-22 00:00:00'))",
         "rawType": "int64",
         "type": "integer"
        },
        {
         "name": "('volume', Timestamp('2020-09-23 00:00:00'))",
         "rawType": "int64",
         "type": "integer"
        },
        {
         "name": "('volume', Timestamp('2020-09-24 00:00:00'))",
         "rawType": "int64",
         "type": "integer"
        },
        {
         "name": "('volume', Timestamp('2020-09-25 00:00:00'))",
         "rawType": "int64",
         "type": "integer"
        },
        {
         "name": "('volume', Timestamp('2020-09-28 00:00:00'))",
         "rawType": "int64",
         "type": "integer"
        },
        {
         "name": "('volume', Timestamp('2020-09-29 00:00:00'))",
         "rawType": "int64",
         "type": "integer"
        },
        {
         "name": "('volume', Timestamp('2020-09-30 00:00:00'))",
         "rawType": "int64",
         "type": "integer"
        },
        {
         "name": "('volume', Timestamp('2020-10-01 00:00:00'))",
         "rawType": "int64",
         "type": "integer"
        },
        {
         "name": "('volume', Timestamp('2020-10-02 00:00:00'))",
         "rawType": "int64",
         "type": "integer"
        },
        {
         "name": "('volume', Timestamp('2020-10-05 00:00:00'))",
         "rawType": "int64",
         "type": "integer"
        },
        {
         "name": "('volume', Timestamp('2020-10-06 00:00:00'))",
         "rawType": "int64",
         "type": "integer"
        },
        {
         "name": "('volume', Timestamp('2020-10-07 00:00:00'))",
         "rawType": "int64",
         "type": "integer"
        },
        {
         "name": "('volume', Timestamp('2020-10-08 00:00:00'))",
         "rawType": "int64",
         "type": "integer"
        },
        {
         "name": "('volume', Timestamp('2020-10-09 00:00:00'))",
         "rawType": "int64",
         "type": "integer"
        },
        {
         "name": "('volume', Timestamp('2020-10-12 00:00:00'))",
         "rawType": "int64",
         "type": "integer"
        },
        {
         "name": "('volume', Timestamp('2020-10-13 00:00:00'))",
         "rawType": "int64",
         "type": "integer"
        },
        {
         "name": "('volume', Timestamp('2020-10-14 00:00:00'))",
         "rawType": "int64",
         "type": "integer"
        },
        {
         "name": "('volume', Timestamp('2020-10-15 00:00:00'))",
         "rawType": "int64",
         "type": "integer"
        },
        {
         "name": "('volume', Timestamp('2020-10-16 00:00:00'))",
         "rawType": "int64",
         "type": "integer"
        },
        {
         "name": "('volume', Timestamp('2020-10-19 00:00:00'))",
         "rawType": "int64",
         "type": "integer"
        },
        {
         "name": "('volume', Timestamp('2020-10-20 00:00:00'))",
         "rawType": "int64",
         "type": "integer"
        },
        {
         "name": "('volume', Timestamp('2020-10-21 00:00:00'))",
         "rawType": "int64",
         "type": "integer"
        },
        {
         "name": "('volume', Timestamp('2020-10-22 00:00:00'))",
         "rawType": "int64",
         "type": "integer"
        },
        {
         "name": "('volume', Timestamp('2020-10-23 00:00:00'))",
         "rawType": "int64",
         "type": "integer"
        },
        {
         "name": "('volume', Timestamp('2020-10-26 00:00:00'))",
         "rawType": "int64",
         "type": "integer"
        },
        {
         "name": "('volume', Timestamp('2020-10-27 00:00:00'))",
         "rawType": "int64",
         "type": "integer"
        },
        {
         "name": "('volume', Timestamp('2020-10-28 00:00:00'))",
         "rawType": "int64",
         "type": "integer"
        },
        {
         "name": "('volume', Timestamp('2020-10-29 00:00:00'))",
         "rawType": "int64",
         "type": "integer"
        },
        {
         "name": "('volume', Timestamp('2020-10-30 00:00:00'))",
         "rawType": "int64",
         "type": "integer"
        },
        {
         "name": "('volume', Timestamp('2020-11-02 00:00:00'))",
         "rawType": "int64",
         "type": "integer"
        },
        {
         "name": "('volume', Timestamp('2020-11-03 00:00:00'))",
         "rawType": "int64",
         "type": "integer"
        },
        {
         "name": "('volume', Timestamp('2020-11-04 00:00:00'))",
         "rawType": "int64",
         "type": "integer"
        },
        {
         "name": "('volume', Timestamp('2020-11-05 00:00:00'))",
         "rawType": "int64",
         "type": "integer"
        },
        {
         "name": "('volume', Timestamp('2020-11-06 00:00:00'))",
         "rawType": "int64",
         "type": "integer"
        },
        {
         "name": "('volume', Timestamp('2020-11-09 00:00:00'))",
         "rawType": "int64",
         "type": "integer"
        },
        {
         "name": "('volume', Timestamp('2020-11-10 00:00:00'))",
         "rawType": "int64",
         "type": "integer"
        },
        {
         "name": "('volume', Timestamp('2020-11-11 00:00:00'))",
         "rawType": "int64",
         "type": "integer"
        },
        {
         "name": "('volume', Timestamp('2020-11-12 00:00:00'))",
         "rawType": "int64",
         "type": "integer"
        },
        {
         "name": "('volume', Timestamp('2020-11-13 00:00:00'))",
         "rawType": "int64",
         "type": "integer"
        },
        {
         "name": "('volume', Timestamp('2020-11-16 00:00:00'))",
         "rawType": "int64",
         "type": "integer"
        },
        {
         "name": "('volume', Timestamp('2020-11-17 00:00:00'))",
         "rawType": "int64",
         "type": "integer"
        },
        {
         "name": "('volume', Timestamp('2020-11-18 00:00:00'))",
         "rawType": "int64",
         "type": "integer"
        },
        {
         "name": "('volume', Timestamp('2020-11-19 00:00:00'))",
         "rawType": "int64",
         "type": "integer"
        },
        {
         "name": "('volume', Timestamp('2020-11-20 00:00:00'))",
         "rawType": "int64",
         "type": "integer"
        },
        {
         "name": "('volume', Timestamp('2020-11-23 00:00:00'))",
         "rawType": "int64",
         "type": "integer"
        },
        {
         "name": "('volume', Timestamp('2020-11-24 00:00:00'))",
         "rawType": "int64",
         "type": "integer"
        },
        {
         "name": "('volume', Timestamp('2020-11-25 00:00:00'))",
         "rawType": "int64",
         "type": "integer"
        },
        {
         "name": "('volume', Timestamp('2020-11-27 00:00:00'))",
         "rawType": "int64",
         "type": "integer"
        },
        {
         "name": "('volume', Timestamp('2020-11-30 00:00:00'))",
         "rawType": "int64",
         "type": "integer"
        },
        {
         "name": "('volume', Timestamp('2020-12-01 00:00:00'))",
         "rawType": "int64",
         "type": "integer"
        },
        {
         "name": "('volume', Timestamp('2020-12-02 00:00:00'))",
         "rawType": "int64",
         "type": "integer"
        },
        {
         "name": "('volume', Timestamp('2020-12-03 00:00:00'))",
         "rawType": "int64",
         "type": "integer"
        },
        {
         "name": "('volume', Timestamp('2020-12-04 00:00:00'))",
         "rawType": "int64",
         "type": "integer"
        },
        {
         "name": "('volume', Timestamp('2020-12-07 00:00:00'))",
         "rawType": "int64",
         "type": "integer"
        },
        {
         "name": "('volume', Timestamp('2020-12-08 00:00:00'))",
         "rawType": "int64",
         "type": "integer"
        },
        {
         "name": "('volume', Timestamp('2020-12-09 00:00:00'))",
         "rawType": "int64",
         "type": "integer"
        },
        {
         "name": "('volume', Timestamp('2020-12-10 00:00:00'))",
         "rawType": "int64",
         "type": "integer"
        },
        {
         "name": "('volume', Timestamp('2020-12-11 00:00:00'))",
         "rawType": "int64",
         "type": "integer"
        },
        {
         "name": "('volume', Timestamp('2020-12-14 00:00:00'))",
         "rawType": "int64",
         "type": "integer"
        },
        {
         "name": "('volume', Timestamp('2020-12-15 00:00:00'))",
         "rawType": "int64",
         "type": "integer"
        },
        {
         "name": "('volume', Timestamp('2020-12-16 00:00:00'))",
         "rawType": "int64",
         "type": "integer"
        },
        {
         "name": "('volume', Timestamp('2020-12-17 00:00:00'))",
         "rawType": "int64",
         "type": "integer"
        },
        {
         "name": "('volume', Timestamp('2020-12-18 00:00:00'))",
         "rawType": "int64",
         "type": "integer"
        },
        {
         "name": "('volume', Timestamp('2020-12-21 00:00:00'))",
         "rawType": "int64",
         "type": "integer"
        },
        {
         "name": "('volume', Timestamp('2020-12-22 00:00:00'))",
         "rawType": "int64",
         "type": "integer"
        },
        {
         "name": "('volume', Timestamp('2020-12-23 00:00:00'))",
         "rawType": "int64",
         "type": "integer"
        },
        {
         "name": "('volume', Timestamp('2020-12-24 00:00:00'))",
         "rawType": "int64",
         "type": "integer"
        },
        {
         "name": "('volume', Timestamp('2020-12-28 00:00:00'))",
         "rawType": "int64",
         "type": "integer"
        },
        {
         "name": "('volume', Timestamp('2020-12-29 00:00:00'))",
         "rawType": "int64",
         "type": "integer"
        },
        {
         "name": "('volume', Timestamp('2020-12-30 00:00:00'))",
         "rawType": "int64",
         "type": "integer"
        },
        {
         "name": "('volume', Timestamp('2020-12-31 00:00:00'))",
         "rawType": "int64",
         "type": "integer"
        },
        {
         "name": "('volume', Timestamp('2021-01-04 00:00:00'))",
         "rawType": "int64",
         "type": "integer"
        },
        {
         "name": "('volume', Timestamp('2021-01-05 00:00:00'))",
         "rawType": "int64",
         "type": "integer"
        },
        {
         "name": "('volume', Timestamp('2021-01-06 00:00:00'))",
         "rawType": "int64",
         "type": "integer"
        },
        {
         "name": "('volume', Timestamp('2021-01-07 00:00:00'))",
         "rawType": "int64",
         "type": "integer"
        },
        {
         "name": "('volume', Timestamp('2021-01-08 00:00:00'))",
         "rawType": "int64",
         "type": "integer"
        },
        {
         "name": "('volume', Timestamp('2021-01-11 00:00:00'))",
         "rawType": "int64",
         "type": "integer"
        },
        {
         "name": "('volume', Timestamp('2021-01-12 00:00:00'))",
         "rawType": "int64",
         "type": "integer"
        },
        {
         "name": "('volume', Timestamp('2021-01-13 00:00:00'))",
         "rawType": "int64",
         "type": "integer"
        },
        {
         "name": "('volume', Timestamp('2021-01-14 00:00:00'))",
         "rawType": "int64",
         "type": "integer"
        },
        {
         "name": "('volume', Timestamp('2021-01-15 00:00:00'))",
         "rawType": "int64",
         "type": "integer"
        },
        {
         "name": "('volume', Timestamp('2021-01-19 00:00:00'))",
         "rawType": "int64",
         "type": "integer"
        },
        {
         "name": "('volume', Timestamp('2021-01-20 00:00:00'))",
         "rawType": "int64",
         "type": "integer"
        },
        {
         "name": "('volume', Timestamp('2021-01-21 00:00:00'))",
         "rawType": "int64",
         "type": "integer"
        },
        {
         "name": "('volume', Timestamp('2021-01-22 00:00:00'))",
         "rawType": "int64",
         "type": "integer"
        },
        {
         "name": "('volume', Timestamp('2021-01-25 00:00:00'))",
         "rawType": "int64",
         "type": "integer"
        },
        {
         "name": "('volume', Timestamp('2021-01-26 00:00:00'))",
         "rawType": "int64",
         "type": "integer"
        },
        {
         "name": "('volume', Timestamp('2021-01-27 00:00:00'))",
         "rawType": "int64",
         "type": "integer"
        },
        {
         "name": "('volume', Timestamp('2021-01-28 00:00:00'))",
         "rawType": "int64",
         "type": "integer"
        },
        {
         "name": "('volume', Timestamp('2021-01-29 00:00:00'))",
         "rawType": "int64",
         "type": "integer"
        },
        {
         "name": "('volume', Timestamp('2021-02-01 00:00:00'))",
         "rawType": "int64",
         "type": "integer"
        },
        {
         "name": "('volume', Timestamp('2021-02-02 00:00:00'))",
         "rawType": "int64",
         "type": "integer"
        },
        {
         "name": "('volume', Timestamp('2021-02-03 00:00:00'))",
         "rawType": "int64",
         "type": "integer"
        },
        {
         "name": "('volume', Timestamp('2021-02-04 00:00:00'))",
         "rawType": "int64",
         "type": "integer"
        },
        {
         "name": "('volume', Timestamp('2021-02-05 00:00:00'))",
         "rawType": "int64",
         "type": "integer"
        },
        {
         "name": "('volume', Timestamp('2021-02-08 00:00:00'))",
         "rawType": "int64",
         "type": "integer"
        },
        {
         "name": "('volume', Timestamp('2021-02-09 00:00:00'))",
         "rawType": "int64",
         "type": "integer"
        },
        {
         "name": "('volume', Timestamp('2021-02-10 00:00:00'))",
         "rawType": "int64",
         "type": "integer"
        },
        {
         "name": "('volume', Timestamp('2021-02-11 00:00:00'))",
         "rawType": "int64",
         "type": "integer"
        },
        {
         "name": "('volume', Timestamp('2021-02-12 00:00:00'))",
         "rawType": "int64",
         "type": "integer"
        },
        {
         "name": "('volume', Timestamp('2021-02-16 00:00:00'))",
         "rawType": "int64",
         "type": "integer"
        },
        {
         "name": "('volume', Timestamp('2021-02-17 00:00:00'))",
         "rawType": "int64",
         "type": "integer"
        },
        {
         "name": "('volume', Timestamp('2021-02-18 00:00:00'))",
         "rawType": "int64",
         "type": "integer"
        },
        {
         "name": "('volume', Timestamp('2021-02-19 00:00:00'))",
         "rawType": "int64",
         "type": "integer"
        },
        {
         "name": "('volume', Timestamp('2021-02-22 00:00:00'))",
         "rawType": "int64",
         "type": "integer"
        },
        {
         "name": "('volume', Timestamp('2021-02-23 00:00:00'))",
         "rawType": "int64",
         "type": "integer"
        },
        {
         "name": "('volume', Timestamp('2021-02-24 00:00:00'))",
         "rawType": "int64",
         "type": "integer"
        },
        {
         "name": "('volume', Timestamp('2021-02-25 00:00:00'))",
         "rawType": "int64",
         "type": "integer"
        },
        {
         "name": "('volume', Timestamp('2021-02-26 00:00:00'))",
         "rawType": "int64",
         "type": "integer"
        },
        {
         "name": "('volume', Timestamp('2021-03-01 00:00:00'))",
         "rawType": "int64",
         "type": "integer"
        },
        {
         "name": "('volume', Timestamp('2021-03-02 00:00:00'))",
         "rawType": "int64",
         "type": "integer"
        },
        {
         "name": "('volume', Timestamp('2021-03-03 00:00:00'))",
         "rawType": "int64",
         "type": "integer"
        },
        {
         "name": "('volume', Timestamp('2021-03-04 00:00:00'))",
         "rawType": "int64",
         "type": "integer"
        },
        {
         "name": "('volume', Timestamp('2021-03-05 00:00:00'))",
         "rawType": "int64",
         "type": "integer"
        },
        {
         "name": "('volume', Timestamp('2021-03-08 00:00:00'))",
         "rawType": "int64",
         "type": "integer"
        },
        {
         "name": "('volume', Timestamp('2021-03-09 00:00:00'))",
         "rawType": "int64",
         "type": "integer"
        },
        {
         "name": "('volume', Timestamp('2021-03-10 00:00:00'))",
         "rawType": "int64",
         "type": "integer"
        },
        {
         "name": "('volume', Timestamp('2021-03-11 00:00:00'))",
         "rawType": "int64",
         "type": "integer"
        },
        {
         "name": "('volume', Timestamp('2021-03-12 00:00:00'))",
         "rawType": "int64",
         "type": "integer"
        },
        {
         "name": "('volume', Timestamp('2021-03-15 00:00:00'))",
         "rawType": "int64",
         "type": "integer"
        },
        {
         "name": "('volume', Timestamp('2021-03-16 00:00:00'))",
         "rawType": "int64",
         "type": "integer"
        },
        {
         "name": "('volume', Timestamp('2021-03-17 00:00:00'))",
         "rawType": "int64",
         "type": "integer"
        },
        {
         "name": "('volume', Timestamp('2021-03-18 00:00:00'))",
         "rawType": "int64",
         "type": "integer"
        },
        {
         "name": "('volume', Timestamp('2021-03-19 00:00:00'))",
         "rawType": "int64",
         "type": "integer"
        },
        {
         "name": "('volume', Timestamp('2021-03-22 00:00:00'))",
         "rawType": "int64",
         "type": "integer"
        },
        {
         "name": "('volume', Timestamp('2021-03-23 00:00:00'))",
         "rawType": "int64",
         "type": "integer"
        },
        {
         "name": "('volume', Timestamp('2021-03-24 00:00:00'))",
         "rawType": "int64",
         "type": "integer"
        },
        {
         "name": "('volume', Timestamp('2021-03-25 00:00:00'))",
         "rawType": "int64",
         "type": "integer"
        },
        {
         "name": "('volume', Timestamp('2021-03-26 00:00:00'))",
         "rawType": "int64",
         "type": "integer"
        },
        {
         "name": "('volume', Timestamp('2021-03-29 00:00:00'))",
         "rawType": "int64",
         "type": "integer"
        },
        {
         "name": "('volume', Timestamp('2021-03-30 00:00:00'))",
         "rawType": "int64",
         "type": "integer"
        },
        {
         "name": "('volume', Timestamp('2021-03-31 00:00:00'))",
         "rawType": "int64",
         "type": "integer"
        },
        {
         "name": "('volume', Timestamp('2021-04-01 00:00:00'))",
         "rawType": "int64",
         "type": "integer"
        },
        {
         "name": "('volume', Timestamp('2021-04-05 00:00:00'))",
         "rawType": "int64",
         "type": "integer"
        },
        {
         "name": "('volume', Timestamp('2021-04-06 00:00:00'))",
         "rawType": "int64",
         "type": "integer"
        },
        {
         "name": "('volume', Timestamp('2021-04-07 00:00:00'))",
         "rawType": "int64",
         "type": "integer"
        },
        {
         "name": "('volume', Timestamp('2021-04-08 00:00:00'))",
         "rawType": "int64",
         "type": "integer"
        },
        {
         "name": "('volume', Timestamp('2021-04-09 00:00:00'))",
         "rawType": "int64",
         "type": "integer"
        },
        {
         "name": "('volume', Timestamp('2021-04-12 00:00:00'))",
         "rawType": "int64",
         "type": "integer"
        },
        {
         "name": "('volume', Timestamp('2021-04-13 00:00:00'))",
         "rawType": "int64",
         "type": "integer"
        },
        {
         "name": "('volume', Timestamp('2021-04-14 00:00:00'))",
         "rawType": "int64",
         "type": "integer"
        },
        {
         "name": "('volume', Timestamp('2021-04-15 00:00:00'))",
         "rawType": "int64",
         "type": "integer"
        },
        {
         "name": "('volume', Timestamp('2021-04-16 00:00:00'))",
         "rawType": "int64",
         "type": "integer"
        },
        {
         "name": "('volume', Timestamp('2021-04-19 00:00:00'))",
         "rawType": "int64",
         "type": "integer"
        },
        {
         "name": "('volume', Timestamp('2021-04-20 00:00:00'))",
         "rawType": "int64",
         "type": "integer"
        },
        {
         "name": "('volume', Timestamp('2021-04-21 00:00:00'))",
         "rawType": "int64",
         "type": "integer"
        },
        {
         "name": "('volume', Timestamp('2021-04-22 00:00:00'))",
         "rawType": "int64",
         "type": "integer"
        },
        {
         "name": "('volume', Timestamp('2021-04-23 00:00:00'))",
         "rawType": "int64",
         "type": "integer"
        },
        {
         "name": "('volume', Timestamp('2021-04-26 00:00:00'))",
         "rawType": "int64",
         "type": "integer"
        },
        {
         "name": "('volume', Timestamp('2021-04-27 00:00:00'))",
         "rawType": "int64",
         "type": "integer"
        },
        {
         "name": "('volume', Timestamp('2021-04-28 00:00:00'))",
         "rawType": "int64",
         "type": "integer"
        },
        {
         "name": "('volume', Timestamp('2021-04-29 00:00:00'))",
         "rawType": "int64",
         "type": "integer"
        },
        {
         "name": "('volume', Timestamp('2021-04-30 00:00:00'))",
         "rawType": "int64",
         "type": "integer"
        },
        {
         "name": "('volume', Timestamp('2021-05-03 00:00:00'))",
         "rawType": "int64",
         "type": "integer"
        },
        {
         "name": "('volume', Timestamp('2021-05-04 00:00:00'))",
         "rawType": "int64",
         "type": "integer"
        },
        {
         "name": "('volume', Timestamp('2021-05-05 00:00:00'))",
         "rawType": "int64",
         "type": "integer"
        },
        {
         "name": "('volume', Timestamp('2021-05-06 00:00:00'))",
         "rawType": "int64",
         "type": "integer"
        },
        {
         "name": "('volume', Timestamp('2021-05-07 00:00:00'))",
         "rawType": "int64",
         "type": "integer"
        },
        {
         "name": "('volume', Timestamp('2021-05-10 00:00:00'))",
         "rawType": "int64",
         "type": "integer"
        },
        {
         "name": "('volume', Timestamp('2021-05-11 00:00:00'))",
         "rawType": "int64",
         "type": "integer"
        },
        {
         "name": "('volume', Timestamp('2021-05-12 00:00:00'))",
         "rawType": "int64",
         "type": "integer"
        },
        {
         "name": "('volume', Timestamp('2021-05-13 00:00:00'))",
         "rawType": "int64",
         "type": "integer"
        },
        {
         "name": "('volume', Timestamp('2021-05-14 00:00:00'))",
         "rawType": "int64",
         "type": "integer"
        },
        {
         "name": "('volume', Timestamp('2021-05-17 00:00:00'))",
         "rawType": "int64",
         "type": "integer"
        },
        {
         "name": "('volume', Timestamp('2021-05-18 00:00:00'))",
         "rawType": "int64",
         "type": "integer"
        },
        {
         "name": "('volume', Timestamp('2021-05-19 00:00:00'))",
         "rawType": "int64",
         "type": "integer"
        },
        {
         "name": "('volume', Timestamp('2021-05-20 00:00:00'))",
         "rawType": "int64",
         "type": "integer"
        },
        {
         "name": "('volume', Timestamp('2021-05-21 00:00:00'))",
         "rawType": "int64",
         "type": "integer"
        },
        {
         "name": "('volume', Timestamp('2021-05-24 00:00:00'))",
         "rawType": "int64",
         "type": "integer"
        },
        {
         "name": "('volume', Timestamp('2021-05-25 00:00:00'))",
         "rawType": "int64",
         "type": "integer"
        },
        {
         "name": "('volume', Timestamp('2021-05-26 00:00:00'))",
         "rawType": "int64",
         "type": "integer"
        },
        {
         "name": "('volume', Timestamp('2021-05-27 00:00:00'))",
         "rawType": "int64",
         "type": "integer"
        },
        {
         "name": "('volume', Timestamp('2021-05-28 00:00:00'))",
         "rawType": "int64",
         "type": "integer"
        },
        {
         "name": "('volume', Timestamp('2021-06-01 00:00:00'))",
         "rawType": "int64",
         "type": "integer"
        },
        {
         "name": "('volume', Timestamp('2021-06-02 00:00:00'))",
         "rawType": "int64",
         "type": "integer"
        },
        {
         "name": "('volume', Timestamp('2021-06-03 00:00:00'))",
         "rawType": "int64",
         "type": "integer"
        },
        {
         "name": "('volume', Timestamp('2021-06-04 00:00:00'))",
         "rawType": "int64",
         "type": "integer"
        },
        {
         "name": "('volume', Timestamp('2021-06-07 00:00:00'))",
         "rawType": "int64",
         "type": "integer"
        },
        {
         "name": "('volume', Timestamp('2021-06-08 00:00:00'))",
         "rawType": "int64",
         "type": "integer"
        },
        {
         "name": "('volume', Timestamp('2021-06-09 00:00:00'))",
         "rawType": "int64",
         "type": "integer"
        },
        {
         "name": "('volume', Timestamp('2021-06-10 00:00:00'))",
         "rawType": "int64",
         "type": "integer"
        },
        {
         "name": "('volume', Timestamp('2021-06-11 00:00:00'))",
         "rawType": "int64",
         "type": "integer"
        },
        {
         "name": "('volume', Timestamp('2021-06-14 00:00:00'))",
         "rawType": "int64",
         "type": "integer"
        },
        {
         "name": "('volume', Timestamp('2021-06-15 00:00:00'))",
         "rawType": "int64",
         "type": "integer"
        },
        {
         "name": "('volume', Timestamp('2021-06-16 00:00:00'))",
         "rawType": "int64",
         "type": "integer"
        },
        {
         "name": "('volume', Timestamp('2021-06-17 00:00:00'))",
         "rawType": "int64",
         "type": "integer"
        },
        {
         "name": "('volume', Timestamp('2021-06-18 00:00:00'))",
         "rawType": "int64",
         "type": "integer"
        },
        {
         "name": "('volume', Timestamp('2021-06-21 00:00:00'))",
         "rawType": "int64",
         "type": "integer"
        },
        {
         "name": "('volume', Timestamp('2021-06-22 00:00:00'))",
         "rawType": "int64",
         "type": "integer"
        },
        {
         "name": "('volume', Timestamp('2021-06-23 00:00:00'))",
         "rawType": "int64",
         "type": "integer"
        },
        {
         "name": "('volume', Timestamp('2021-06-24 00:00:00'))",
         "rawType": "int64",
         "type": "integer"
        },
        {
         "name": "('volume', Timestamp('2021-06-25 00:00:00'))",
         "rawType": "int64",
         "type": "integer"
        },
        {
         "name": "('volume', Timestamp('2021-06-28 00:00:00'))",
         "rawType": "int64",
         "type": "integer"
        },
        {
         "name": "('volume', Timestamp('2021-06-29 00:00:00'))",
         "rawType": "int64",
         "type": "integer"
        },
        {
         "name": "('volume', Timestamp('2021-06-30 00:00:00'))",
         "rawType": "int64",
         "type": "integer"
        },
        {
         "name": "('volume', Timestamp('2021-07-01 00:00:00'))",
         "rawType": "int64",
         "type": "integer"
        },
        {
         "name": "('volume', Timestamp('2021-07-02 00:00:00'))",
         "rawType": "int64",
         "type": "integer"
        },
        {
         "name": "('volume', Timestamp('2021-07-06 00:00:00'))",
         "rawType": "int64",
         "type": "integer"
        },
        {
         "name": "('volume', Timestamp('2021-07-07 00:00:00'))",
         "rawType": "int64",
         "type": "integer"
        },
        {
         "name": "('volume', Timestamp('2021-07-08 00:00:00'))",
         "rawType": "int64",
         "type": "integer"
        },
        {
         "name": "('volume', Timestamp('2021-07-09 00:00:00'))",
         "rawType": "int64",
         "type": "integer"
        },
        {
         "name": "('volume', Timestamp('2021-07-12 00:00:00'))",
         "rawType": "int64",
         "type": "integer"
        },
        {
         "name": "('volume', Timestamp('2021-07-13 00:00:00'))",
         "rawType": "int64",
         "type": "integer"
        },
        {
         "name": "('volume', Timestamp('2021-07-14 00:00:00'))",
         "rawType": "int64",
         "type": "integer"
        },
        {
         "name": "('volume', Timestamp('2021-07-15 00:00:00'))",
         "rawType": "int64",
         "type": "integer"
        },
        {
         "name": "('volume', Timestamp('2021-07-16 00:00:00'))",
         "rawType": "int64",
         "type": "integer"
        },
        {
         "name": "('volume', Timestamp('2021-07-19 00:00:00'))",
         "rawType": "int64",
         "type": "integer"
        },
        {
         "name": "('volume', Timestamp('2021-07-20 00:00:00'))",
         "rawType": "int64",
         "type": "integer"
        },
        {
         "name": "('volume', Timestamp('2021-07-21 00:00:00'))",
         "rawType": "int64",
         "type": "integer"
        },
        {
         "name": "('volume', Timestamp('2021-07-22 00:00:00'))",
         "rawType": "int64",
         "type": "integer"
        },
        {
         "name": "('volume', Timestamp('2021-07-23 00:00:00'))",
         "rawType": "int64",
         "type": "integer"
        },
        {
         "name": "('volume', Timestamp('2021-07-26 00:00:00'))",
         "rawType": "int64",
         "type": "integer"
        },
        {
         "name": "('volume', Timestamp('2021-07-27 00:00:00'))",
         "rawType": "int64",
         "type": "integer"
        },
        {
         "name": "('volume', Timestamp('2021-07-28 00:00:00'))",
         "rawType": "int64",
         "type": "integer"
        },
        {
         "name": "('volume', Timestamp('2021-07-29 00:00:00'))",
         "rawType": "int64",
         "type": "integer"
        },
        {
         "name": "('volume', Timestamp('2021-07-30 00:00:00'))",
         "rawType": "int64",
         "type": "integer"
        },
        {
         "name": "('volume', Timestamp('2021-08-02 00:00:00'))",
         "rawType": "int64",
         "type": "integer"
        },
        {
         "name": "('volume', Timestamp('2021-08-03 00:00:00'))",
         "rawType": "int64",
         "type": "integer"
        },
        {
         "name": "('volume', Timestamp('2021-08-04 00:00:00'))",
         "rawType": "int64",
         "type": "integer"
        },
        {
         "name": "('volume', Timestamp('2021-08-05 00:00:00'))",
         "rawType": "int64",
         "type": "integer"
        },
        {
         "name": "('volume', Timestamp('2021-08-06 00:00:00'))",
         "rawType": "int64",
         "type": "integer"
        },
        {
         "name": "('volume', Timestamp('2021-08-09 00:00:00'))",
         "rawType": "int64",
         "type": "integer"
        },
        {
         "name": "('volume', Timestamp('2021-08-10 00:00:00'))",
         "rawType": "int64",
         "type": "integer"
        },
        {
         "name": "('volume', Timestamp('2021-08-11 00:00:00'))",
         "rawType": "int64",
         "type": "integer"
        },
        {
         "name": "('volume', Timestamp('2021-08-12 00:00:00'))",
         "rawType": "int64",
         "type": "integer"
        },
        {
         "name": "('volume', Timestamp('2021-08-13 00:00:00'))",
         "rawType": "int64",
         "type": "integer"
        },
        {
         "name": "('volume', Timestamp('2021-08-16 00:00:00'))",
         "rawType": "int64",
         "type": "integer"
        },
        {
         "name": "('volume', Timestamp('2021-08-17 00:00:00'))",
         "rawType": "int64",
         "type": "integer"
        },
        {
         "name": "('volume', Timestamp('2021-08-18 00:00:00'))",
         "rawType": "int64",
         "type": "integer"
        },
        {
         "name": "('volume', Timestamp('2021-08-19 00:00:00'))",
         "rawType": "int64",
         "type": "integer"
        },
        {
         "name": "('volume', Timestamp('2021-08-20 00:00:00'))",
         "rawType": "int64",
         "type": "integer"
        },
        {
         "name": "('volume', Timestamp('2021-08-23 00:00:00'))",
         "rawType": "int64",
         "type": "integer"
        },
        {
         "name": "('volume', Timestamp('2021-08-24 00:00:00'))",
         "rawType": "int64",
         "type": "integer"
        },
        {
         "name": "('volume', Timestamp('2021-08-25 00:00:00'))",
         "rawType": "int64",
         "type": "integer"
        },
        {
         "name": "('volume', Timestamp('2021-08-26 00:00:00'))",
         "rawType": "int64",
         "type": "integer"
        },
        {
         "name": "('volume', Timestamp('2021-08-27 00:00:00'))",
         "rawType": "int64",
         "type": "integer"
        },
        {
         "name": "('volume', Timestamp('2021-08-30 00:00:00'))",
         "rawType": "int64",
         "type": "integer"
        },
        {
         "name": "('volume', Timestamp('2021-08-31 00:00:00'))",
         "rawType": "int64",
         "type": "integer"
        },
        {
         "name": "('volume', Timestamp('2021-09-01 00:00:00'))",
         "rawType": "int64",
         "type": "integer"
        },
        {
         "name": "('volume', Timestamp('2021-09-02 00:00:00'))",
         "rawType": "int64",
         "type": "integer"
        },
        {
         "name": "('volume', Timestamp('2021-09-03 00:00:00'))",
         "rawType": "int64",
         "type": "integer"
        },
        {
         "name": "('volume', Timestamp('2021-09-07 00:00:00'))",
         "rawType": "int64",
         "type": "integer"
        },
        {
         "name": "('volume', Timestamp('2021-09-08 00:00:00'))",
         "rawType": "int64",
         "type": "integer"
        },
        {
         "name": "('volume', Timestamp('2021-09-09 00:00:00'))",
         "rawType": "int64",
         "type": "integer"
        },
        {
         "name": "('volume', Timestamp('2021-09-10 00:00:00'))",
         "rawType": "int64",
         "type": "integer"
        },
        {
         "name": "('volume', Timestamp('2021-09-13 00:00:00'))",
         "rawType": "int64",
         "type": "integer"
        },
        {
         "name": "('volume', Timestamp('2021-09-14 00:00:00'))",
         "rawType": "int64",
         "type": "integer"
        },
        {
         "name": "('volume', Timestamp('2021-09-15 00:00:00'))",
         "rawType": "int64",
         "type": "integer"
        },
        {
         "name": "('volume', Timestamp('2021-09-16 00:00:00'))",
         "rawType": "int64",
         "type": "integer"
        },
        {
         "name": "('volume', Timestamp('2021-09-17 00:00:00'))",
         "rawType": "int64",
         "type": "integer"
        },
        {
         "name": "('volume', Timestamp('2021-09-20 00:00:00'))",
         "rawType": "int64",
         "type": "integer"
        },
        {
         "name": "('volume', Timestamp('2021-09-21 00:00:00'))",
         "rawType": "int64",
         "type": "integer"
        },
        {
         "name": "('volume', Timestamp('2021-09-22 00:00:00'))",
         "rawType": "int64",
         "type": "integer"
        },
        {
         "name": "('volume', Timestamp('2021-09-23 00:00:00'))",
         "rawType": "int64",
         "type": "integer"
        },
        {
         "name": "('volume', Timestamp('2021-09-24 00:00:00'))",
         "rawType": "int64",
         "type": "integer"
        },
        {
         "name": "('volume', Timestamp('2021-09-27 00:00:00'))",
         "rawType": "int64",
         "type": "integer"
        },
        {
         "name": "('volume', Timestamp('2021-09-28 00:00:00'))",
         "rawType": "int64",
         "type": "integer"
        },
        {
         "name": "('volume', Timestamp('2021-09-29 00:00:00'))",
         "rawType": "int64",
         "type": "integer"
        },
        {
         "name": "('volume', Timestamp('2021-09-30 00:00:00'))",
         "rawType": "int64",
         "type": "integer"
        },
        {
         "name": "('volume', Timestamp('2021-10-01 00:00:00'))",
         "rawType": "int64",
         "type": "integer"
        },
        {
         "name": "('volume', Timestamp('2021-10-04 00:00:00'))",
         "rawType": "int64",
         "type": "integer"
        },
        {
         "name": "('volume', Timestamp('2021-10-05 00:00:00'))",
         "rawType": "int64",
         "type": "integer"
        },
        {
         "name": "('volume', Timestamp('2021-10-06 00:00:00'))",
         "rawType": "int64",
         "type": "integer"
        },
        {
         "name": "('volume', Timestamp('2021-10-07 00:00:00'))",
         "rawType": "int64",
         "type": "integer"
        },
        {
         "name": "('volume', Timestamp('2021-10-08 00:00:00'))",
         "rawType": "int64",
         "type": "integer"
        },
        {
         "name": "('volume', Timestamp('2021-10-11 00:00:00'))",
         "rawType": "int64",
         "type": "integer"
        },
        {
         "name": "('volume', Timestamp('2021-10-12 00:00:00'))",
         "rawType": "int64",
         "type": "integer"
        },
        {
         "name": "('volume', Timestamp('2021-10-13 00:00:00'))",
         "rawType": "int64",
         "type": "integer"
        },
        {
         "name": "('volume', Timestamp('2021-10-14 00:00:00'))",
         "rawType": "int64",
         "type": "integer"
        },
        {
         "name": "('volume', Timestamp('2021-10-15 00:00:00'))",
         "rawType": "int64",
         "type": "integer"
        },
        {
         "name": "('volume', Timestamp('2021-10-18 00:00:00'))",
         "rawType": "int64",
         "type": "integer"
        },
        {
         "name": "('volume', Timestamp('2021-10-19 00:00:00'))",
         "rawType": "int64",
         "type": "integer"
        },
        {
         "name": "('volume', Timestamp('2021-10-20 00:00:00'))",
         "rawType": "int64",
         "type": "integer"
        },
        {
         "name": "('volume', Timestamp('2021-10-21 00:00:00'))",
         "rawType": "int64",
         "type": "integer"
        },
        {
         "name": "('volume', Timestamp('2021-10-22 00:00:00'))",
         "rawType": "int64",
         "type": "integer"
        },
        {
         "name": "('volume', Timestamp('2021-10-25 00:00:00'))",
         "rawType": "int64",
         "type": "integer"
        },
        {
         "name": "('volume', Timestamp('2021-10-26 00:00:00'))",
         "rawType": "int64",
         "type": "integer"
        },
        {
         "name": "('volume', Timestamp('2021-10-27 00:00:00'))",
         "rawType": "int64",
         "type": "integer"
        },
        {
         "name": "('volume', Timestamp('2021-10-28 00:00:00'))",
         "rawType": "int64",
         "type": "integer"
        },
        {
         "name": "('volume', Timestamp('2021-10-29 00:00:00'))",
         "rawType": "int64",
         "type": "integer"
        },
        {
         "name": "('volume', Timestamp('2021-11-01 00:00:00'))",
         "rawType": "int64",
         "type": "integer"
        },
        {
         "name": "('volume', Timestamp('2021-11-02 00:00:00'))",
         "rawType": "int64",
         "type": "integer"
        },
        {
         "name": "('volume', Timestamp('2021-11-03 00:00:00'))",
         "rawType": "int64",
         "type": "integer"
        },
        {
         "name": "('volume', Timestamp('2021-11-04 00:00:00'))",
         "rawType": "int64",
         "type": "integer"
        },
        {
         "name": "('volume', Timestamp('2021-11-05 00:00:00'))",
         "rawType": "int64",
         "type": "integer"
        },
        {
         "name": "('volume', Timestamp('2021-11-08 00:00:00'))",
         "rawType": "int64",
         "type": "integer"
        },
        {
         "name": "('volume', Timestamp('2021-11-09 00:00:00'))",
         "rawType": "int64",
         "type": "integer"
        },
        {
         "name": "('volume', Timestamp('2021-11-10 00:00:00'))",
         "rawType": "int64",
         "type": "integer"
        },
        {
         "name": "('volume', Timestamp('2021-11-11 00:00:00'))",
         "rawType": "int64",
         "type": "integer"
        },
        {
         "name": "('volume', Timestamp('2021-11-12 00:00:00'))",
         "rawType": "int64",
         "type": "integer"
        },
        {
         "name": "('volume', Timestamp('2021-11-15 00:00:00'))",
         "rawType": "int64",
         "type": "integer"
        },
        {
         "name": "('volume', Timestamp('2021-11-16 00:00:00'))",
         "rawType": "int64",
         "type": "integer"
        },
        {
         "name": "('volume', Timestamp('2021-11-17 00:00:00'))",
         "rawType": "int64",
         "type": "integer"
        },
        {
         "name": "('volume', Timestamp('2021-11-18 00:00:00'))",
         "rawType": "int64",
         "type": "integer"
        },
        {
         "name": "('volume', Timestamp('2021-11-19 00:00:00'))",
         "rawType": "int64",
         "type": "integer"
        },
        {
         "name": "('volume', Timestamp('2021-11-22 00:00:00'))",
         "rawType": "int64",
         "type": "integer"
        },
        {
         "name": "('volume', Timestamp('2021-11-23 00:00:00'))",
         "rawType": "int64",
         "type": "integer"
        },
        {
         "name": "('volume', Timestamp('2021-11-24 00:00:00'))",
         "rawType": "int64",
         "type": "integer"
        },
        {
         "name": "('volume', Timestamp('2021-11-26 00:00:00'))",
         "rawType": "int64",
         "type": "integer"
        },
        {
         "name": "('volume', Timestamp('2021-11-29 00:00:00'))",
         "rawType": "int64",
         "type": "integer"
        },
        {
         "name": "('volume', Timestamp('2021-11-30 00:00:00'))",
         "rawType": "int64",
         "type": "integer"
        },
        {
         "name": "('volume', Timestamp('2021-12-01 00:00:00'))",
         "rawType": "int64",
         "type": "integer"
        },
        {
         "name": "('volume', Timestamp('2021-12-02 00:00:00'))",
         "rawType": "int64",
         "type": "integer"
        },
        {
         "name": "('volume', Timestamp('2021-12-03 00:00:00'))",
         "rawType": "int64",
         "type": "integer"
        },
        {
         "name": "('volume', Timestamp('2021-12-06 00:00:00'))",
         "rawType": "int64",
         "type": "integer"
        },
        {
         "name": "('volume', Timestamp('2021-12-07 00:00:00'))",
         "rawType": "int64",
         "type": "integer"
        },
        {
         "name": "('volume', Timestamp('2021-12-08 00:00:00'))",
         "rawType": "int64",
         "type": "integer"
        },
        {
         "name": "('volume', Timestamp('2021-12-09 00:00:00'))",
         "rawType": "int64",
         "type": "integer"
        },
        {
         "name": "('volume', Timestamp('2021-12-10 00:00:00'))",
         "rawType": "int64",
         "type": "integer"
        },
        {
         "name": "('volume', Timestamp('2021-12-13 00:00:00'))",
         "rawType": "int64",
         "type": "integer"
        },
        {
         "name": "('volume', Timestamp('2021-12-14 00:00:00'))",
         "rawType": "int64",
         "type": "integer"
        },
        {
         "name": "('volume', Timestamp('2021-12-15 00:00:00'))",
         "rawType": "int64",
         "type": "integer"
        },
        {
         "name": "('volume', Timestamp('2021-12-16 00:00:00'))",
         "rawType": "int64",
         "type": "integer"
        },
        {
         "name": "('volume', Timestamp('2021-12-17 00:00:00'))",
         "rawType": "int64",
         "type": "integer"
        },
        {
         "name": "('volume', Timestamp('2021-12-20 00:00:00'))",
         "rawType": "int64",
         "type": "integer"
        },
        {
         "name": "('volume', Timestamp('2021-12-21 00:00:00'))",
         "rawType": "int64",
         "type": "integer"
        },
        {
         "name": "('volume', Timestamp('2021-12-22 00:00:00'))",
         "rawType": "int64",
         "type": "integer"
        },
        {
         "name": "('volume', Timestamp('2021-12-23 00:00:00'))",
         "rawType": "int64",
         "type": "integer"
        },
        {
         "name": "('volume', Timestamp('2021-12-27 00:00:00'))",
         "rawType": "int64",
         "type": "integer"
        },
        {
         "name": "('volume', Timestamp('2021-12-28 00:00:00'))",
         "rawType": "int64",
         "type": "integer"
        },
        {
         "name": "('volume', Timestamp('2021-12-29 00:00:00'))",
         "rawType": "int64",
         "type": "integer"
        },
        {
         "name": "('volume', Timestamp('2021-12-30 00:00:00'))",
         "rawType": "int64",
         "type": "integer"
        },
        {
         "name": "('volume', Timestamp('2021-12-31 00:00:00'))",
         "rawType": "int64",
         "type": "integer"
        },
        {
         "name": "('volume', Timestamp('2022-01-03 00:00:00'))",
         "rawType": "int64",
         "type": "integer"
        },
        {
         "name": "('volume', Timestamp('2022-01-04 00:00:00'))",
         "rawType": "int64",
         "type": "integer"
        },
        {
         "name": "('volume', Timestamp('2022-01-05 00:00:00'))",
         "rawType": "int64",
         "type": "integer"
        },
        {
         "name": "('volume', Timestamp('2022-01-06 00:00:00'))",
         "rawType": "int64",
         "type": "integer"
        },
        {
         "name": "('volume', Timestamp('2022-01-07 00:00:00'))",
         "rawType": "int64",
         "type": "integer"
        },
        {
         "name": "('volume', Timestamp('2022-01-10 00:00:00'))",
         "rawType": "int64",
         "type": "integer"
        },
        {
         "name": "('volume', Timestamp('2022-01-11 00:00:00'))",
         "rawType": "int64",
         "type": "integer"
        },
        {
         "name": "('volume', Timestamp('2022-01-12 00:00:00'))",
         "rawType": "int64",
         "type": "integer"
        },
        {
         "name": "('volume', Timestamp('2022-01-13 00:00:00'))",
         "rawType": "int64",
         "type": "integer"
        },
        {
         "name": "('volume', Timestamp('2022-01-14 00:00:00'))",
         "rawType": "int64",
         "type": "integer"
        },
        {
         "name": "('volume', Timestamp('2022-01-18 00:00:00'))",
         "rawType": "int64",
         "type": "integer"
        },
        {
         "name": "('volume', Timestamp('2022-01-19 00:00:00'))",
         "rawType": "int64",
         "type": "integer"
        },
        {
         "name": "('volume', Timestamp('2022-01-20 00:00:00'))",
         "rawType": "int64",
         "type": "integer"
        },
        {
         "name": "('volume', Timestamp('2022-01-21 00:00:00'))",
         "rawType": "int64",
         "type": "integer"
        },
        {
         "name": "('volume', Timestamp('2022-01-24 00:00:00'))",
         "rawType": "int64",
         "type": "integer"
        },
        {
         "name": "('volume', Timestamp('2022-01-25 00:00:00'))",
         "rawType": "int64",
         "type": "integer"
        },
        {
         "name": "('volume', Timestamp('2022-01-26 00:00:00'))",
         "rawType": "int64",
         "type": "integer"
        },
        {
         "name": "('volume', Timestamp('2022-01-27 00:00:00'))",
         "rawType": "int64",
         "type": "integer"
        },
        {
         "name": "('volume', Timestamp('2022-01-28 00:00:00'))",
         "rawType": "int64",
         "type": "integer"
        },
        {
         "name": "('volume', Timestamp('2022-01-31 00:00:00'))",
         "rawType": "int64",
         "type": "integer"
        },
        {
         "name": "('volume', Timestamp('2022-02-01 00:00:00'))",
         "rawType": "int64",
         "type": "integer"
        },
        {
         "name": "('volume', Timestamp('2022-02-02 00:00:00'))",
         "rawType": "int64",
         "type": "integer"
        },
        {
         "name": "('volume', Timestamp('2022-02-03 00:00:00'))",
         "rawType": "int64",
         "type": "integer"
        },
        {
         "name": "('volume', Timestamp('2022-02-04 00:00:00'))",
         "rawType": "int64",
         "type": "integer"
        },
        {
         "name": "('volume', Timestamp('2022-02-07 00:00:00'))",
         "rawType": "int64",
         "type": "integer"
        },
        {
         "name": "('volume', Timestamp('2022-02-08 00:00:00'))",
         "rawType": "int64",
         "type": "integer"
        },
        {
         "name": "('volume', Timestamp('2022-02-09 00:00:00'))",
         "rawType": "int64",
         "type": "integer"
        },
        {
         "name": "('volume', Timestamp('2022-02-10 00:00:00'))",
         "rawType": "int64",
         "type": "integer"
        },
        {
         "name": "('volume', Timestamp('2022-02-11 00:00:00'))",
         "rawType": "int64",
         "type": "integer"
        },
        {
         "name": "('volume', Timestamp('2022-02-14 00:00:00'))",
         "rawType": "int64",
         "type": "integer"
        },
        {
         "name": "('volume', Timestamp('2022-02-15 00:00:00'))",
         "rawType": "int64",
         "type": "integer"
        },
        {
         "name": "('volume', Timestamp('2022-02-16 00:00:00'))",
         "rawType": "int64",
         "type": "integer"
        },
        {
         "name": "('volume', Timestamp('2022-02-17 00:00:00'))",
         "rawType": "int64",
         "type": "integer"
        },
        {
         "name": "('volume', Timestamp('2022-02-18 00:00:00'))",
         "rawType": "int64",
         "type": "integer"
        },
        {
         "name": "('volume', Timestamp('2022-02-22 00:00:00'))",
         "rawType": "int64",
         "type": "integer"
        },
        {
         "name": "('volume', Timestamp('2022-02-23 00:00:00'))",
         "rawType": "int64",
         "type": "integer"
        },
        {
         "name": "('volume', Timestamp('2022-02-24 00:00:00'))",
         "rawType": "int64",
         "type": "integer"
        },
        {
         "name": "('volume', Timestamp('2022-02-25 00:00:00'))",
         "rawType": "int64",
         "type": "integer"
        },
        {
         "name": "('volume', Timestamp('2022-02-28 00:00:00'))",
         "rawType": "int64",
         "type": "integer"
        },
        {
         "name": "('volume', Timestamp('2022-03-01 00:00:00'))",
         "rawType": "int64",
         "type": "integer"
        },
        {
         "name": "('volume', Timestamp('2022-03-02 00:00:00'))",
         "rawType": "int64",
         "type": "integer"
        },
        {
         "name": "('volume', Timestamp('2022-03-03 00:00:00'))",
         "rawType": "int64",
         "type": "integer"
        },
        {
         "name": "('volume', Timestamp('2022-03-04 00:00:00'))",
         "rawType": "int64",
         "type": "integer"
        },
        {
         "name": "('volume', Timestamp('2022-03-07 00:00:00'))",
         "rawType": "int64",
         "type": "integer"
        },
        {
         "name": "('volume', Timestamp('2022-03-08 00:00:00'))",
         "rawType": "int64",
         "type": "integer"
        },
        {
         "name": "('volume', Timestamp('2022-03-09 00:00:00'))",
         "rawType": "int64",
         "type": "integer"
        },
        {
         "name": "('volume', Timestamp('2022-03-10 00:00:00'))",
         "rawType": "int64",
         "type": "integer"
        },
        {
         "name": "('volume', Timestamp('2022-03-11 00:00:00'))",
         "rawType": "int64",
         "type": "integer"
        },
        {
         "name": "('volume', Timestamp('2022-03-14 00:00:00'))",
         "rawType": "int64",
         "type": "integer"
        },
        {
         "name": "('volume', Timestamp('2022-03-15 00:00:00'))",
         "rawType": "int64",
         "type": "integer"
        },
        {
         "name": "('volume', Timestamp('2022-03-16 00:00:00'))",
         "rawType": "int64",
         "type": "integer"
        },
        {
         "name": "('volume', Timestamp('2022-03-17 00:00:00'))",
         "rawType": "int64",
         "type": "integer"
        },
        {
         "name": "('volume', Timestamp('2022-03-18 00:00:00'))",
         "rawType": "int64",
         "type": "integer"
        },
        {
         "name": "('volume', Timestamp('2022-03-21 00:00:00'))",
         "rawType": "int64",
         "type": "integer"
        },
        {
         "name": "('volume', Timestamp('2022-03-22 00:00:00'))",
         "rawType": "int64",
         "type": "integer"
        },
        {
         "name": "('volume', Timestamp('2022-03-23 00:00:00'))",
         "rawType": "int64",
         "type": "integer"
        },
        {
         "name": "('volume', Timestamp('2022-03-24 00:00:00'))",
         "rawType": "int64",
         "type": "integer"
        },
        {
         "name": "('volume', Timestamp('2022-03-25 00:00:00'))",
         "rawType": "int64",
         "type": "integer"
        },
        {
         "name": "('volume', Timestamp('2022-03-28 00:00:00'))",
         "rawType": "int64",
         "type": "integer"
        },
        {
         "name": "('volume', Timestamp('2022-03-29 00:00:00'))",
         "rawType": "int64",
         "type": "integer"
        },
        {
         "name": "('volume', Timestamp('2022-03-30 00:00:00'))",
         "rawType": "int64",
         "type": "integer"
        },
        {
         "name": "('volume', Timestamp('2022-03-31 00:00:00'))",
         "rawType": "int64",
         "type": "integer"
        },
        {
         "name": "('volume', Timestamp('2022-04-01 00:00:00'))",
         "rawType": "int64",
         "type": "integer"
        },
        {
         "name": "('volume', Timestamp('2022-04-04 00:00:00'))",
         "rawType": "int64",
         "type": "integer"
        },
        {
         "name": "('volume', Timestamp('2022-04-05 00:00:00'))",
         "rawType": "int64",
         "type": "integer"
        },
        {
         "name": "('volume', Timestamp('2022-04-06 00:00:00'))",
         "rawType": "int64",
         "type": "integer"
        },
        {
         "name": "('volume', Timestamp('2022-04-07 00:00:00'))",
         "rawType": "int64",
         "type": "integer"
        },
        {
         "name": "('volume', Timestamp('2022-04-08 00:00:00'))",
         "rawType": "int64",
         "type": "integer"
        },
        {
         "name": "('volume', Timestamp('2022-04-11 00:00:00'))",
         "rawType": "int64",
         "type": "integer"
        },
        {
         "name": "('volume', Timestamp('2022-04-12 00:00:00'))",
         "rawType": "int64",
         "type": "integer"
        },
        {
         "name": "('volume', Timestamp('2022-04-13 00:00:00'))",
         "rawType": "int64",
         "type": "integer"
        },
        {
         "name": "('volume', Timestamp('2022-04-14 00:00:00'))",
         "rawType": "int64",
         "type": "integer"
        },
        {
         "name": "('volume', Timestamp('2022-04-18 00:00:00'))",
         "rawType": "int64",
         "type": "integer"
        },
        {
         "name": "('volume', Timestamp('2022-04-19 00:00:00'))",
         "rawType": "int64",
         "type": "integer"
        },
        {
         "name": "('volume', Timestamp('2022-04-20 00:00:00'))",
         "rawType": "int64",
         "type": "integer"
        },
        {
         "name": "('volume', Timestamp('2022-04-21 00:00:00'))",
         "rawType": "int64",
         "type": "integer"
        },
        {
         "name": "('volume', Timestamp('2022-04-22 00:00:00'))",
         "rawType": "int64",
         "type": "integer"
        },
        {
         "name": "('volume', Timestamp('2022-04-25 00:00:00'))",
         "rawType": "int64",
         "type": "integer"
        },
        {
         "name": "('volume', Timestamp('2022-04-26 00:00:00'))",
         "rawType": "int64",
         "type": "integer"
        },
        {
         "name": "('volume', Timestamp('2022-04-27 00:00:00'))",
         "rawType": "int64",
         "type": "integer"
        },
        {
         "name": "('volume', Timestamp('2022-04-28 00:00:00'))",
         "rawType": "int64",
         "type": "integer"
        },
        {
         "name": "('volume', Timestamp('2022-04-29 00:00:00'))",
         "rawType": "int64",
         "type": "integer"
        },
        {
         "name": "('volume', Timestamp('2022-05-02 00:00:00'))",
         "rawType": "int64",
         "type": "integer"
        },
        {
         "name": "('volume', Timestamp('2022-05-03 00:00:00'))",
         "rawType": "int64",
         "type": "integer"
        },
        {
         "name": "('volume', Timestamp('2022-05-04 00:00:00'))",
         "rawType": "int64",
         "type": "integer"
        },
        {
         "name": "('volume', Timestamp('2022-05-05 00:00:00'))",
         "rawType": "int64",
         "type": "integer"
        },
        {
         "name": "('volume', Timestamp('2022-05-06 00:00:00'))",
         "rawType": "int64",
         "type": "integer"
        },
        {
         "name": "('volume', Timestamp('2022-05-09 00:00:00'))",
         "rawType": "int64",
         "type": "integer"
        },
        {
         "name": "('volume', Timestamp('2022-05-10 00:00:00'))",
         "rawType": "int64",
         "type": "integer"
        },
        {
         "name": "('volume', Timestamp('2022-05-11 00:00:00'))",
         "rawType": "int64",
         "type": "integer"
        },
        {
         "name": "('volume', Timestamp('2022-05-12 00:00:00'))",
         "rawType": "int64",
         "type": "integer"
        },
        {
         "name": "('volume', Timestamp('2022-05-13 00:00:00'))",
         "rawType": "int64",
         "type": "integer"
        },
        {
         "name": "('volume', Timestamp('2022-05-16 00:00:00'))",
         "rawType": "int64",
         "type": "integer"
        },
        {
         "name": "('volume', Timestamp('2022-05-17 00:00:00'))",
         "rawType": "int64",
         "type": "integer"
        },
        {
         "name": "('volume', Timestamp('2022-05-18 00:00:00'))",
         "rawType": "int64",
         "type": "integer"
        },
        {
         "name": "('volume', Timestamp('2022-05-19 00:00:00'))",
         "rawType": "int64",
         "type": "integer"
        },
        {
         "name": "('volume', Timestamp('2022-05-20 00:00:00'))",
         "rawType": "int64",
         "type": "integer"
        },
        {
         "name": "('volume', Timestamp('2022-05-23 00:00:00'))",
         "rawType": "int64",
         "type": "integer"
        },
        {
         "name": "('volume', Timestamp('2022-05-24 00:00:00'))",
         "rawType": "int64",
         "type": "integer"
        },
        {
         "name": "('volume', Timestamp('2022-05-25 00:00:00'))",
         "rawType": "int64",
         "type": "integer"
        },
        {
         "name": "('volume', Timestamp('2022-05-26 00:00:00'))",
         "rawType": "int64",
         "type": "integer"
        },
        {
         "name": "('volume', Timestamp('2022-05-27 00:00:00'))",
         "rawType": "int64",
         "type": "integer"
        },
        {
         "name": "('volume', Timestamp('2022-05-31 00:00:00'))",
         "rawType": "int64",
         "type": "integer"
        },
        {
         "name": "('volume', Timestamp('2022-06-01 00:00:00'))",
         "rawType": "int64",
         "type": "integer"
        },
        {
         "name": "('volume', Timestamp('2022-06-02 00:00:00'))",
         "rawType": "int64",
         "type": "integer"
        },
        {
         "name": "('volume', Timestamp('2022-06-03 00:00:00'))",
         "rawType": "int64",
         "type": "integer"
        },
        {
         "name": "('volume', Timestamp('2022-06-06 00:00:00'))",
         "rawType": "int64",
         "type": "integer"
        },
        {
         "name": "('volume', Timestamp('2022-06-07 00:00:00'))",
         "rawType": "int64",
         "type": "integer"
        },
        {
         "name": "('volume', Timestamp('2022-06-08 00:00:00'))",
         "rawType": "int64",
         "type": "integer"
        },
        {
         "name": "('volume', Timestamp('2022-06-09 00:00:00'))",
         "rawType": "int64",
         "type": "integer"
        },
        {
         "name": "('volume', Timestamp('2022-06-10 00:00:00'))",
         "rawType": "int64",
         "type": "integer"
        },
        {
         "name": "('volume', Timestamp('2022-06-13 00:00:00'))",
         "rawType": "int64",
         "type": "integer"
        },
        {
         "name": "('volume', Timestamp('2022-06-14 00:00:00'))",
         "rawType": "int64",
         "type": "integer"
        },
        {
         "name": "('volume', Timestamp('2022-06-15 00:00:00'))",
         "rawType": "int64",
         "type": "integer"
        },
        {
         "name": "('volume', Timestamp('2022-06-16 00:00:00'))",
         "rawType": "int64",
         "type": "integer"
        },
        {
         "name": "('volume', Timestamp('2022-06-17 00:00:00'))",
         "rawType": "int64",
         "type": "integer"
        },
        {
         "name": "('volume', Timestamp('2022-06-21 00:00:00'))",
         "rawType": "int64",
         "type": "integer"
        },
        {
         "name": "('volume', Timestamp('2022-06-22 00:00:00'))",
         "rawType": "int64",
         "type": "integer"
        },
        {
         "name": "('volume', Timestamp('2022-06-23 00:00:00'))",
         "rawType": "int64",
         "type": "integer"
        },
        {
         "name": "('volume', Timestamp('2022-06-24 00:00:00'))",
         "rawType": "int64",
         "type": "integer"
        },
        {
         "name": "('volume', Timestamp('2022-06-27 00:00:00'))",
         "rawType": "int64",
         "type": "integer"
        },
        {
         "name": "('volume', Timestamp('2022-06-28 00:00:00'))",
         "rawType": "int64",
         "type": "integer"
        },
        {
         "name": "('volume', Timestamp('2022-06-29 00:00:00'))",
         "rawType": "int64",
         "type": "integer"
        },
        {
         "name": "('volume', Timestamp('2022-06-30 00:00:00'))",
         "rawType": "int64",
         "type": "integer"
        },
        {
         "name": "('volume', Timestamp('2022-07-01 00:00:00'))",
         "rawType": "int64",
         "type": "integer"
        },
        {
         "name": "('volume', Timestamp('2022-07-05 00:00:00'))",
         "rawType": "int64",
         "type": "integer"
        },
        {
         "name": "('volume', Timestamp('2022-07-06 00:00:00'))",
         "rawType": "int64",
         "type": "integer"
        },
        {
         "name": "('volume', Timestamp('2022-07-07 00:00:00'))",
         "rawType": "int64",
         "type": "integer"
        },
        {
         "name": "('volume', Timestamp('2022-07-08 00:00:00'))",
         "rawType": "int64",
         "type": "integer"
        },
        {
         "name": "('volume', Timestamp('2022-07-11 00:00:00'))",
         "rawType": "int64",
         "type": "integer"
        },
        {
         "name": "('volume', Timestamp('2022-07-12 00:00:00'))",
         "rawType": "int64",
         "type": "integer"
        },
        {
         "name": "('volume', Timestamp('2022-07-13 00:00:00'))",
         "rawType": "int64",
         "type": "integer"
        },
        {
         "name": "('volume', Timestamp('2022-07-14 00:00:00'))",
         "rawType": "int64",
         "type": "integer"
        },
        {
         "name": "('volume', Timestamp('2022-07-15 00:00:00'))",
         "rawType": "int64",
         "type": "integer"
        },
        {
         "name": "('volume', Timestamp('2022-07-18 00:00:00'))",
         "rawType": "int64",
         "type": "integer"
        },
        {
         "name": "('volume', Timestamp('2022-07-19 00:00:00'))",
         "rawType": "int64",
         "type": "integer"
        },
        {
         "name": "('volume', Timestamp('2022-07-20 00:00:00'))",
         "rawType": "int64",
         "type": "integer"
        },
        {
         "name": "('volume', Timestamp('2022-07-21 00:00:00'))",
         "rawType": "int64",
         "type": "integer"
        },
        {
         "name": "('volume', Timestamp('2022-07-22 00:00:00'))",
         "rawType": "int64",
         "type": "integer"
        },
        {
         "name": "('volume', Timestamp('2022-07-25 00:00:00'))",
         "rawType": "int64",
         "type": "integer"
        },
        {
         "name": "('volume', Timestamp('2022-07-26 00:00:00'))",
         "rawType": "int64",
         "type": "integer"
        },
        {
         "name": "('volume', Timestamp('2022-07-27 00:00:00'))",
         "rawType": "int64",
         "type": "integer"
        },
        {
         "name": "('volume', Timestamp('2022-07-28 00:00:00'))",
         "rawType": "int64",
         "type": "integer"
        },
        {
         "name": "('volume', Timestamp('2022-07-29 00:00:00'))",
         "rawType": "int64",
         "type": "integer"
        },
        {
         "name": "('volume', Timestamp('2022-08-01 00:00:00'))",
         "rawType": "int64",
         "type": "integer"
        },
        {
         "name": "('volume', Timestamp('2022-08-02 00:00:00'))",
         "rawType": "int64",
         "type": "integer"
        },
        {
         "name": "('volume', Timestamp('2022-08-03 00:00:00'))",
         "rawType": "int64",
         "type": "integer"
        },
        {
         "name": "('volume', Timestamp('2022-08-04 00:00:00'))",
         "rawType": "int64",
         "type": "integer"
        },
        {
         "name": "('volume', Timestamp('2022-08-05 00:00:00'))",
         "rawType": "int64",
         "type": "integer"
        },
        {
         "name": "('volume', Timestamp('2022-08-08 00:00:00'))",
         "rawType": "int64",
         "type": "integer"
        },
        {
         "name": "('volume', Timestamp('2022-08-09 00:00:00'))",
         "rawType": "int64",
         "type": "integer"
        },
        {
         "name": "('volume', Timestamp('2022-08-10 00:00:00'))",
         "rawType": "int64",
         "type": "integer"
        },
        {
         "name": "('volume', Timestamp('2022-08-11 00:00:00'))",
         "rawType": "int64",
         "type": "integer"
        },
        {
         "name": "('volume', Timestamp('2022-08-12 00:00:00'))",
         "rawType": "int64",
         "type": "integer"
        },
        {
         "name": "('volume', Timestamp('2022-08-15 00:00:00'))",
         "rawType": "int64",
         "type": "integer"
        },
        {
         "name": "('volume', Timestamp('2022-08-16 00:00:00'))",
         "rawType": "int64",
         "type": "integer"
        },
        {
         "name": "('volume', Timestamp('2022-08-17 00:00:00'))",
         "rawType": "int64",
         "type": "integer"
        },
        {
         "name": "('volume', Timestamp('2022-08-18 00:00:00'))",
         "rawType": "int64",
         "type": "integer"
        },
        {
         "name": "('volume', Timestamp('2022-08-19 00:00:00'))",
         "rawType": "int64",
         "type": "integer"
        },
        {
         "name": "('volume', Timestamp('2022-08-22 00:00:00'))",
         "rawType": "int64",
         "type": "integer"
        },
        {
         "name": "('volume', Timestamp('2022-08-23 00:00:00'))",
         "rawType": "int64",
         "type": "integer"
        },
        {
         "name": "('volume', Timestamp('2022-08-24 00:00:00'))",
         "rawType": "int64",
         "type": "integer"
        },
        {
         "name": "('volume', Timestamp('2022-08-25 00:00:00'))",
         "rawType": "int64",
         "type": "integer"
        },
        {
         "name": "('volume', Timestamp('2022-08-26 00:00:00'))",
         "rawType": "int64",
         "type": "integer"
        },
        {
         "name": "('volume', Timestamp('2022-08-29 00:00:00'))",
         "rawType": "int64",
         "type": "integer"
        },
        {
         "name": "('volume', Timestamp('2022-08-30 00:00:00'))",
         "rawType": "int64",
         "type": "integer"
        },
        {
         "name": "('volume', Timestamp('2022-08-31 00:00:00'))",
         "rawType": "int64",
         "type": "integer"
        },
        {
         "name": "('volume', Timestamp('2022-09-01 00:00:00'))",
         "rawType": "int64",
         "type": "integer"
        },
        {
         "name": "('volume', Timestamp('2022-09-02 00:00:00'))",
         "rawType": "int64",
         "type": "integer"
        },
        {
         "name": "('volume', Timestamp('2022-09-06 00:00:00'))",
         "rawType": "int64",
         "type": "integer"
        },
        {
         "name": "('volume', Timestamp('2022-09-07 00:00:00'))",
         "rawType": "int64",
         "type": "integer"
        },
        {
         "name": "('volume', Timestamp('2022-09-08 00:00:00'))",
         "rawType": "int64",
         "type": "integer"
        },
        {
         "name": "('volume', Timestamp('2022-09-09 00:00:00'))",
         "rawType": "int64",
         "type": "integer"
        },
        {
         "name": "('volume', Timestamp('2022-09-12 00:00:00'))",
         "rawType": "int64",
         "type": "integer"
        },
        {
         "name": "('volume', Timestamp('2022-09-13 00:00:00'))",
         "rawType": "int64",
         "type": "integer"
        },
        {
         "name": "('volume', Timestamp('2022-09-14 00:00:00'))",
         "rawType": "int64",
         "type": "integer"
        },
        {
         "name": "('volume', Timestamp('2022-09-15 00:00:00'))",
         "rawType": "int64",
         "type": "integer"
        },
        {
         "name": "('volume', Timestamp('2022-09-16 00:00:00'))",
         "rawType": "int64",
         "type": "integer"
        },
        {
         "name": "('volume', Timestamp('2022-09-19 00:00:00'))",
         "rawType": "int64",
         "type": "integer"
        },
        {
         "name": "('volume', Timestamp('2022-09-20 00:00:00'))",
         "rawType": "int64",
         "type": "integer"
        },
        {
         "name": "('volume', Timestamp('2022-09-21 00:00:00'))",
         "rawType": "int64",
         "type": "integer"
        },
        {
         "name": "('volume', Timestamp('2022-09-22 00:00:00'))",
         "rawType": "int64",
         "type": "integer"
        },
        {
         "name": "('volume', Timestamp('2022-09-23 00:00:00'))",
         "rawType": "int64",
         "type": "integer"
        },
        {
         "name": "('volume', Timestamp('2022-09-26 00:00:00'))",
         "rawType": "int64",
         "type": "integer"
        },
        {
         "name": "('volume', Timestamp('2022-09-27 00:00:00'))",
         "rawType": "int64",
         "type": "integer"
        },
        {
         "name": "('volume', Timestamp('2022-09-28 00:00:00'))",
         "rawType": "int64",
         "type": "integer"
        },
        {
         "name": "('volume', Timestamp('2022-09-29 00:00:00'))",
         "rawType": "int64",
         "type": "integer"
        },
        {
         "name": "('volume', Timestamp('2022-09-30 00:00:00'))",
         "rawType": "int64",
         "type": "integer"
        },
        {
         "name": "('volume', Timestamp('2022-10-03 00:00:00'))",
         "rawType": "int64",
         "type": "integer"
        },
        {
         "name": "('volume', Timestamp('2022-10-04 00:00:00'))",
         "rawType": "int64",
         "type": "integer"
        },
        {
         "name": "('volume', Timestamp('2022-10-05 00:00:00'))",
         "rawType": "int64",
         "type": "integer"
        },
        {
         "name": "('volume', Timestamp('2022-10-06 00:00:00'))",
         "rawType": "int64",
         "type": "integer"
        },
        {
         "name": "('volume', Timestamp('2022-10-07 00:00:00'))",
         "rawType": "int64",
         "type": "integer"
        },
        {
         "name": "('volume', Timestamp('2022-10-10 00:00:00'))",
         "rawType": "int64",
         "type": "integer"
        },
        {
         "name": "('volume', Timestamp('2022-10-11 00:00:00'))",
         "rawType": "int64",
         "type": "integer"
        },
        {
         "name": "('volume', Timestamp('2022-10-12 00:00:00'))",
         "rawType": "int64",
         "type": "integer"
        },
        {
         "name": "('volume', Timestamp('2022-10-13 00:00:00'))",
         "rawType": "int64",
         "type": "integer"
        },
        {
         "name": "('volume', Timestamp('2022-10-14 00:00:00'))",
         "rawType": "int64",
         "type": "integer"
        },
        {
         "name": "('volume', Timestamp('2022-10-17 00:00:00'))",
         "rawType": "int64",
         "type": "integer"
        },
        {
         "name": "('volume', Timestamp('2022-10-18 00:00:00'))",
         "rawType": "int64",
         "type": "integer"
        },
        {
         "name": "('volume', Timestamp('2022-10-19 00:00:00'))",
         "rawType": "int64",
         "type": "integer"
        },
        {
         "name": "('volume', Timestamp('2022-10-20 00:00:00'))",
         "rawType": "int64",
         "type": "integer"
        },
        {
         "name": "('volume', Timestamp('2022-10-21 00:00:00'))",
         "rawType": "int64",
         "type": "integer"
        },
        {
         "name": "('volume', Timestamp('2022-10-24 00:00:00'))",
         "rawType": "int64",
         "type": "integer"
        },
        {
         "name": "('volume', Timestamp('2022-10-25 00:00:00'))",
         "rawType": "int64",
         "type": "integer"
        },
        {
         "name": "('volume', Timestamp('2022-10-26 00:00:00'))",
         "rawType": "int64",
         "type": "integer"
        },
        {
         "name": "('volume', Timestamp('2022-10-27 00:00:00'))",
         "rawType": "int64",
         "type": "integer"
        },
        {
         "name": "('volume', Timestamp('2022-10-28 00:00:00'))",
         "rawType": "int64",
         "type": "integer"
        },
        {
         "name": "('volume', Timestamp('2022-10-31 00:00:00'))",
         "rawType": "int64",
         "type": "integer"
        },
        {
         "name": "('volume', Timestamp('2022-11-01 00:00:00'))",
         "rawType": "int64",
         "type": "integer"
        },
        {
         "name": "('volume', Timestamp('2022-11-02 00:00:00'))",
         "rawType": "int64",
         "type": "integer"
        },
        {
         "name": "('volume', Timestamp('2022-11-03 00:00:00'))",
         "rawType": "int64",
         "type": "integer"
        },
        {
         "name": "('volume', Timestamp('2022-11-04 00:00:00'))",
         "rawType": "int64",
         "type": "integer"
        },
        {
         "name": "('volume', Timestamp('2022-11-07 00:00:00'))",
         "rawType": "int64",
         "type": "integer"
        },
        {
         "name": "('volume', Timestamp('2022-11-08 00:00:00'))",
         "rawType": "int64",
         "type": "integer"
        },
        {
         "name": "('volume', Timestamp('2022-11-09 00:00:00'))",
         "rawType": "int64",
         "type": "integer"
        },
        {
         "name": "('volume', Timestamp('2022-11-10 00:00:00'))",
         "rawType": "int64",
         "type": "integer"
        },
        {
         "name": "('volume', Timestamp('2022-11-11 00:00:00'))",
         "rawType": "int64",
         "type": "integer"
        },
        {
         "name": "('volume', Timestamp('2022-11-14 00:00:00'))",
         "rawType": "int64",
         "type": "integer"
        },
        {
         "name": "('volume', Timestamp('2022-11-15 00:00:00'))",
         "rawType": "int64",
         "type": "integer"
        },
        {
         "name": "('volume', Timestamp('2022-11-16 00:00:00'))",
         "rawType": "int64",
         "type": "integer"
        },
        {
         "name": "('volume', Timestamp('2022-11-17 00:00:00'))",
         "rawType": "int64",
         "type": "integer"
        },
        {
         "name": "('volume', Timestamp('2022-11-18 00:00:00'))",
         "rawType": "int64",
         "type": "integer"
        },
        {
         "name": "('volume', Timestamp('2022-11-21 00:00:00'))",
         "rawType": "int64",
         "type": "integer"
        },
        {
         "name": "('volume', Timestamp('2022-11-22 00:00:00'))",
         "rawType": "int64",
         "type": "integer"
        },
        {
         "name": "('volume', Timestamp('2022-11-23 00:00:00'))",
         "rawType": "int64",
         "type": "integer"
        },
        {
         "name": "('volume', Timestamp('2022-11-25 00:00:00'))",
         "rawType": "int64",
         "type": "integer"
        },
        {
         "name": "('volume', Timestamp('2022-11-28 00:00:00'))",
         "rawType": "int64",
         "type": "integer"
        },
        {
         "name": "('volume', Timestamp('2022-11-29 00:00:00'))",
         "rawType": "int64",
         "type": "integer"
        },
        {
         "name": "('volume', Timestamp('2022-11-30 00:00:00'))",
         "rawType": "int64",
         "type": "integer"
        },
        {
         "name": "('volume', Timestamp('2022-12-01 00:00:00'))",
         "rawType": "int64",
         "type": "integer"
        },
        {
         "name": "('volume', Timestamp('2022-12-02 00:00:00'))",
         "rawType": "int64",
         "type": "integer"
        },
        {
         "name": "('volume', Timestamp('2022-12-05 00:00:00'))",
         "rawType": "int64",
         "type": "integer"
        },
        {
         "name": "('volume', Timestamp('2022-12-06 00:00:00'))",
         "rawType": "int64",
         "type": "integer"
        },
        {
         "name": "('volume', Timestamp('2022-12-07 00:00:00'))",
         "rawType": "int64",
         "type": "integer"
        },
        {
         "name": "('volume', Timestamp('2022-12-08 00:00:00'))",
         "rawType": "int64",
         "type": "integer"
        },
        {
         "name": "('volume', Timestamp('2022-12-09 00:00:00'))",
         "rawType": "int64",
         "type": "integer"
        },
        {
         "name": "('volume', Timestamp('2022-12-12 00:00:00'))",
         "rawType": "int64",
         "type": "integer"
        },
        {
         "name": "('volume', Timestamp('2022-12-13 00:00:00'))",
         "rawType": "int64",
         "type": "integer"
        },
        {
         "name": "('volume', Timestamp('2022-12-14 00:00:00'))",
         "rawType": "int64",
         "type": "integer"
        },
        {
         "name": "('volume', Timestamp('2022-12-15 00:00:00'))",
         "rawType": "int64",
         "type": "integer"
        },
        {
         "name": "('volume', Timestamp('2022-12-16 00:00:00'))",
         "rawType": "int64",
         "type": "integer"
        },
        {
         "name": "('volume', Timestamp('2022-12-19 00:00:00'))",
         "rawType": "int64",
         "type": "integer"
        },
        {
         "name": "('volume', Timestamp('2022-12-20 00:00:00'))",
         "rawType": "int64",
         "type": "integer"
        },
        {
         "name": "('volume', Timestamp('2022-12-21 00:00:00'))",
         "rawType": "int64",
         "type": "integer"
        },
        {
         "name": "('volume', Timestamp('2022-12-22 00:00:00'))",
         "rawType": "int64",
         "type": "integer"
        },
        {
         "name": "('volume', Timestamp('2022-12-23 00:00:00'))",
         "rawType": "int64",
         "type": "integer"
        },
        {
         "name": "('volume', Timestamp('2022-12-27 00:00:00'))",
         "rawType": "int64",
         "type": "integer"
        },
        {
         "name": "('volume', Timestamp('2022-12-28 00:00:00'))",
         "rawType": "int64",
         "type": "integer"
        },
        {
         "name": "('volume', Timestamp('2022-12-29 00:00:00'))",
         "rawType": "int64",
         "type": "integer"
        },
        {
         "name": "('volume', Timestamp('2022-12-30 00:00:00'))",
         "rawType": "int64",
         "type": "integer"
        },
        {
         "name": "('volume', Timestamp('2023-01-03 00:00:00'))",
         "rawType": "int64",
         "type": "integer"
        },
        {
         "name": "('volume', Timestamp('2023-01-04 00:00:00'))",
         "rawType": "int64",
         "type": "integer"
        },
        {
         "name": "('volume', Timestamp('2023-01-05 00:00:00'))",
         "rawType": "int64",
         "type": "integer"
        },
        {
         "name": "('volume', Timestamp('2023-01-06 00:00:00'))",
         "rawType": "int64",
         "type": "integer"
        },
        {
         "name": "('volume', Timestamp('2023-01-09 00:00:00'))",
         "rawType": "int64",
         "type": "integer"
        },
        {
         "name": "('volume', Timestamp('2023-01-10 00:00:00'))",
         "rawType": "int64",
         "type": "integer"
        },
        {
         "name": "('volume', Timestamp('2023-01-11 00:00:00'))",
         "rawType": "int64",
         "type": "integer"
        },
        {
         "name": "('volume', Timestamp('2023-01-12 00:00:00'))",
         "rawType": "int64",
         "type": "integer"
        },
        {
         "name": "('volume', Timestamp('2023-01-13 00:00:00'))",
         "rawType": "int64",
         "type": "integer"
        },
        {
         "name": "('volume', Timestamp('2023-01-17 00:00:00'))",
         "rawType": "int64",
         "type": "integer"
        },
        {
         "name": "('volume', Timestamp('2023-01-18 00:00:00'))",
         "rawType": "int64",
         "type": "integer"
        },
        {
         "name": "('volume', Timestamp('2023-01-19 00:00:00'))",
         "rawType": "int64",
         "type": "integer"
        },
        {
         "name": "('volume', Timestamp('2023-01-20 00:00:00'))",
         "rawType": "int64",
         "type": "integer"
        },
        {
         "name": "('volume', Timestamp('2023-01-23 00:00:00'))",
         "rawType": "int64",
         "type": "integer"
        },
        {
         "name": "('volume', Timestamp('2023-01-24 00:00:00'))",
         "rawType": "int64",
         "type": "integer"
        },
        {
         "name": "('volume', Timestamp('2023-01-25 00:00:00'))",
         "rawType": "int64",
         "type": "integer"
        },
        {
         "name": "('volume', Timestamp('2023-01-26 00:00:00'))",
         "rawType": "int64",
         "type": "integer"
        },
        {
         "name": "('volume', Timestamp('2023-01-27 00:00:00'))",
         "rawType": "int64",
         "type": "integer"
        },
        {
         "name": "('volume', Timestamp('2023-01-30 00:00:00'))",
         "rawType": "int64",
         "type": "integer"
        },
        {
         "name": "('volume', Timestamp('2023-01-31 00:00:00'))",
         "rawType": "int64",
         "type": "integer"
        },
        {
         "name": "('volume', Timestamp('2023-02-01 00:00:00'))",
         "rawType": "int64",
         "type": "integer"
        },
        {
         "name": "('volume', Timestamp('2023-02-02 00:00:00'))",
         "rawType": "int64",
         "type": "integer"
        },
        {
         "name": "('volume', Timestamp('2023-02-03 00:00:00'))",
         "rawType": "int64",
         "type": "integer"
        },
        {
         "name": "('volume', Timestamp('2023-02-06 00:00:00'))",
         "rawType": "int64",
         "type": "integer"
        },
        {
         "name": "('volume', Timestamp('2023-02-07 00:00:00'))",
         "rawType": "int64",
         "type": "integer"
        },
        {
         "name": "('volume', Timestamp('2023-02-08 00:00:00'))",
         "rawType": "int64",
         "type": "integer"
        },
        {
         "name": "('volume', Timestamp('2023-02-09 00:00:00'))",
         "rawType": "int64",
         "type": "integer"
        },
        {
         "name": "('volume', Timestamp('2023-02-10 00:00:00'))",
         "rawType": "int64",
         "type": "integer"
        },
        {
         "name": "('volume', Timestamp('2023-02-13 00:00:00'))",
         "rawType": "int64",
         "type": "integer"
        },
        {
         "name": "('volume', Timestamp('2023-02-14 00:00:00'))",
         "rawType": "int64",
         "type": "integer"
        },
        {
         "name": "('volume', Timestamp('2023-02-15 00:00:00'))",
         "rawType": "int64",
         "type": "integer"
        },
        {
         "name": "('volume', Timestamp('2023-02-16 00:00:00'))",
         "rawType": "int64",
         "type": "integer"
        },
        {
         "name": "('volume', Timestamp('2023-02-17 00:00:00'))",
         "rawType": "int64",
         "type": "integer"
        },
        {
         "name": "('volume', Timestamp('2023-02-21 00:00:00'))",
         "rawType": "int64",
         "type": "integer"
        },
        {
         "name": "('volume', Timestamp('2023-02-22 00:00:00'))",
         "rawType": "int64",
         "type": "integer"
        },
        {
         "name": "('volume', Timestamp('2023-02-23 00:00:00'))",
         "rawType": "int64",
         "type": "integer"
        },
        {
         "name": "('volume', Timestamp('2023-02-24 00:00:00'))",
         "rawType": "int64",
         "type": "integer"
        },
        {
         "name": "('volume', Timestamp('2023-02-27 00:00:00'))",
         "rawType": "int64",
         "type": "integer"
        },
        {
         "name": "('volume', Timestamp('2023-02-28 00:00:00'))",
         "rawType": "int64",
         "type": "integer"
        },
        {
         "name": "('volume', Timestamp('2023-03-01 00:00:00'))",
         "rawType": "int64",
         "type": "integer"
        },
        {
         "name": "('volume', Timestamp('2023-03-02 00:00:00'))",
         "rawType": "int64",
         "type": "integer"
        },
        {
         "name": "('volume', Timestamp('2023-03-03 00:00:00'))",
         "rawType": "int64",
         "type": "integer"
        },
        {
         "name": "('volume', Timestamp('2023-03-06 00:00:00'))",
         "rawType": "int64",
         "type": "integer"
        },
        {
         "name": "('volume', Timestamp('2023-03-07 00:00:00'))",
         "rawType": "int64",
         "type": "integer"
        },
        {
         "name": "('volume', Timestamp('2023-03-08 00:00:00'))",
         "rawType": "int64",
         "type": "integer"
        },
        {
         "name": "('volume', Timestamp('2023-03-09 00:00:00'))",
         "rawType": "int64",
         "type": "integer"
        },
        {
         "name": "('volume', Timestamp('2023-03-10 00:00:00'))",
         "rawType": "int64",
         "type": "integer"
        },
        {
         "name": "('volume', Timestamp('2023-03-13 00:00:00'))",
         "rawType": "int64",
         "type": "integer"
        },
        {
         "name": "('volume', Timestamp('2023-03-14 00:00:00'))",
         "rawType": "int64",
         "type": "integer"
        },
        {
         "name": "('volume', Timestamp('2023-03-15 00:00:00'))",
         "rawType": "int64",
         "type": "integer"
        },
        {
         "name": "('volume', Timestamp('2023-03-16 00:00:00'))",
         "rawType": "int64",
         "type": "integer"
        },
        {
         "name": "('volume', Timestamp('2023-03-17 00:00:00'))",
         "rawType": "int64",
         "type": "integer"
        },
        {
         "name": "('volume', Timestamp('2023-03-20 00:00:00'))",
         "rawType": "int64",
         "type": "integer"
        },
        {
         "name": "('volume', Timestamp('2023-03-21 00:00:00'))",
         "rawType": "int64",
         "type": "integer"
        },
        {
         "name": "('volume', Timestamp('2023-03-22 00:00:00'))",
         "rawType": "int64",
         "type": "integer"
        },
        {
         "name": "('volume', Timestamp('2023-03-23 00:00:00'))",
         "rawType": "int64",
         "type": "integer"
        },
        {
         "name": "('volume', Timestamp('2023-03-24 00:00:00'))",
         "rawType": "int64",
         "type": "integer"
        },
        {
         "name": "('volume', Timestamp('2023-03-27 00:00:00'))",
         "rawType": "int64",
         "type": "integer"
        },
        {
         "name": "('volume', Timestamp('2023-03-28 00:00:00'))",
         "rawType": "int64",
         "type": "integer"
        },
        {
         "name": "('volume', Timestamp('2023-03-29 00:00:00'))",
         "rawType": "int64",
         "type": "integer"
        },
        {
         "name": "('volume', Timestamp('2023-03-30 00:00:00'))",
         "rawType": "int64",
         "type": "integer"
        },
        {
         "name": "('volume', Timestamp('2023-03-31 00:00:00'))",
         "rawType": "int64",
         "type": "integer"
        },
        {
         "name": "('volume', Timestamp('2023-04-03 00:00:00'))",
         "rawType": "int64",
         "type": "integer"
        },
        {
         "name": "('volume', Timestamp('2023-04-04 00:00:00'))",
         "rawType": "int64",
         "type": "integer"
        },
        {
         "name": "('volume', Timestamp('2023-04-05 00:00:00'))",
         "rawType": "int64",
         "type": "integer"
        },
        {
         "name": "('volume', Timestamp('2023-04-06 00:00:00'))",
         "rawType": "int64",
         "type": "integer"
        },
        {
         "name": "('volume', Timestamp('2023-04-10 00:00:00'))",
         "rawType": "int64",
         "type": "integer"
        },
        {
         "name": "('volume', Timestamp('2023-04-11 00:00:00'))",
         "rawType": "int64",
         "type": "integer"
        },
        {
         "name": "('volume', Timestamp('2023-04-12 00:00:00'))",
         "rawType": "int64",
         "type": "integer"
        },
        {
         "name": "('volume', Timestamp('2023-04-13 00:00:00'))",
         "rawType": "int64",
         "type": "integer"
        },
        {
         "name": "('volume', Timestamp('2023-04-14 00:00:00'))",
         "rawType": "int64",
         "type": "integer"
        },
        {
         "name": "('volume', Timestamp('2023-04-17 00:00:00'))",
         "rawType": "int64",
         "type": "integer"
        },
        {
         "name": "('volume', Timestamp('2023-04-18 00:00:00'))",
         "rawType": "int64",
         "type": "integer"
        },
        {
         "name": "('volume', Timestamp('2023-04-19 00:00:00'))",
         "rawType": "int64",
         "type": "integer"
        },
        {
         "name": "('volume', Timestamp('2023-04-20 00:00:00'))",
         "rawType": "int64",
         "type": "integer"
        },
        {
         "name": "('volume', Timestamp('2023-04-21 00:00:00'))",
         "rawType": "int64",
         "type": "integer"
        },
        {
         "name": "('volume', Timestamp('2023-04-24 00:00:00'))",
         "rawType": "int64",
         "type": "integer"
        },
        {
         "name": "('volume', Timestamp('2023-04-25 00:00:00'))",
         "rawType": "int64",
         "type": "integer"
        },
        {
         "name": "('volume', Timestamp('2023-04-26 00:00:00'))",
         "rawType": "int64",
         "type": "integer"
        },
        {
         "name": "('volume', Timestamp('2023-04-27 00:00:00'))",
         "rawType": "int64",
         "type": "integer"
        },
        {
         "name": "('volume', Timestamp('2023-04-28 00:00:00'))",
         "rawType": "int64",
         "type": "integer"
        },
        {
         "name": "('volume', Timestamp('2023-05-01 00:00:00'))",
         "rawType": "int64",
         "type": "integer"
        },
        {
         "name": "('volume', Timestamp('2023-05-02 00:00:00'))",
         "rawType": "int64",
         "type": "integer"
        },
        {
         "name": "('volume', Timestamp('2023-05-03 00:00:00'))",
         "rawType": "int64",
         "type": "integer"
        },
        {
         "name": "('volume', Timestamp('2023-05-04 00:00:00'))",
         "rawType": "int64",
         "type": "integer"
        },
        {
         "name": "('volume', Timestamp('2023-05-05 00:00:00'))",
         "rawType": "int64",
         "type": "integer"
        },
        {
         "name": "('volume', Timestamp('2023-05-08 00:00:00'))",
         "rawType": "int64",
         "type": "integer"
        },
        {
         "name": "('volume', Timestamp('2023-05-09 00:00:00'))",
         "rawType": "int64",
         "type": "integer"
        },
        {
         "name": "('volume', Timestamp('2023-05-10 00:00:00'))",
         "rawType": "int64",
         "type": "integer"
        },
        {
         "name": "('volume', Timestamp('2023-05-11 00:00:00'))",
         "rawType": "int64",
         "type": "integer"
        },
        {
         "name": "('volume', Timestamp('2023-05-12 00:00:00'))",
         "rawType": "int64",
         "type": "integer"
        },
        {
         "name": "('volume', Timestamp('2023-05-15 00:00:00'))",
         "rawType": "int64",
         "type": "integer"
        },
        {
         "name": "('volume', Timestamp('2023-05-16 00:00:00'))",
         "rawType": "int64",
         "type": "integer"
        },
        {
         "name": "('volume', Timestamp('2023-05-17 00:00:00'))",
         "rawType": "int64",
         "type": "integer"
        },
        {
         "name": "('volume', Timestamp('2023-05-18 00:00:00'))",
         "rawType": "int64",
         "type": "integer"
        },
        {
         "name": "('volume', Timestamp('2023-05-19 00:00:00'))",
         "rawType": "int64",
         "type": "integer"
        },
        {
         "name": "('volume', Timestamp('2023-05-22 00:00:00'))",
         "rawType": "int64",
         "type": "integer"
        },
        {
         "name": "('volume', Timestamp('2023-05-23 00:00:00'))",
         "rawType": "int64",
         "type": "integer"
        },
        {
         "name": "('volume', Timestamp('2023-05-24 00:00:00'))",
         "rawType": "int64",
         "type": "integer"
        },
        {
         "name": "('volume', Timestamp('2023-05-25 00:00:00'))",
         "rawType": "int64",
         "type": "integer"
        },
        {
         "name": "('volume', Timestamp('2023-05-26 00:00:00'))",
         "rawType": "int64",
         "type": "integer"
        },
        {
         "name": "('volume', Timestamp('2023-05-30 00:00:00'))",
         "rawType": "int64",
         "type": "integer"
        },
        {
         "name": "('volume', Timestamp('2023-05-31 00:00:00'))",
         "rawType": "int64",
         "type": "integer"
        },
        {
         "name": "('volume', Timestamp('2023-06-01 00:00:00'))",
         "rawType": "int64",
         "type": "integer"
        },
        {
         "name": "('volume', Timestamp('2023-06-02 00:00:00'))",
         "rawType": "int64",
         "type": "integer"
        },
        {
         "name": "('volume', Timestamp('2023-06-05 00:00:00'))",
         "rawType": "int64",
         "type": "integer"
        },
        {
         "name": "('volume', Timestamp('2023-06-06 00:00:00'))",
         "rawType": "int64",
         "type": "integer"
        },
        {
         "name": "('volume', Timestamp('2023-06-07 00:00:00'))",
         "rawType": "int64",
         "type": "integer"
        },
        {
         "name": "('volume', Timestamp('2023-06-08 00:00:00'))",
         "rawType": "int64",
         "type": "integer"
        },
        {
         "name": "('volume', Timestamp('2023-06-09 00:00:00'))",
         "rawType": "int64",
         "type": "integer"
        },
        {
         "name": "('volume', Timestamp('2023-06-12 00:00:00'))",
         "rawType": "int64",
         "type": "integer"
        },
        {
         "name": "('volume', Timestamp('2023-06-13 00:00:00'))",
         "rawType": "int64",
         "type": "integer"
        },
        {
         "name": "('volume', Timestamp('2023-06-14 00:00:00'))",
         "rawType": "int64",
         "type": "integer"
        },
        {
         "name": "('volume', Timestamp('2023-06-15 00:00:00'))",
         "rawType": "int64",
         "type": "integer"
        },
        {
         "name": "('volume', Timestamp('2023-06-16 00:00:00'))",
         "rawType": "int64",
         "type": "integer"
        },
        {
         "name": "('volume', Timestamp('2023-06-20 00:00:00'))",
         "rawType": "int64",
         "type": "integer"
        },
        {
         "name": "('volume', Timestamp('2023-06-21 00:00:00'))",
         "rawType": "int64",
         "type": "integer"
        },
        {
         "name": "('volume', Timestamp('2023-06-22 00:00:00'))",
         "rawType": "int64",
         "type": "integer"
        },
        {
         "name": "('volume', Timestamp('2023-06-23 00:00:00'))",
         "rawType": "int64",
         "type": "integer"
        },
        {
         "name": "('volume', Timestamp('2023-06-26 00:00:00'))",
         "rawType": "int64",
         "type": "integer"
        },
        {
         "name": "('volume', Timestamp('2023-06-27 00:00:00'))",
         "rawType": "int64",
         "type": "integer"
        },
        {
         "name": "('volume', Timestamp('2023-06-28 00:00:00'))",
         "rawType": "int64",
         "type": "integer"
        },
        {
         "name": "('volume', Timestamp('2023-06-29 00:00:00'))",
         "rawType": "int64",
         "type": "integer"
        },
        {
         "name": "('volume', Timestamp('2023-06-30 00:00:00'))",
         "rawType": "int64",
         "type": "integer"
        },
        {
         "name": "('volume', Timestamp('2023-07-03 00:00:00'))",
         "rawType": "int64",
         "type": "integer"
        },
        {
         "name": "('volume', Timestamp('2023-07-05 00:00:00'))",
         "rawType": "int64",
         "type": "integer"
        },
        {
         "name": "('volume', Timestamp('2023-07-06 00:00:00'))",
         "rawType": "int64",
         "type": "integer"
        },
        {
         "name": "('volume', Timestamp('2023-07-07 00:00:00'))",
         "rawType": "int64",
         "type": "integer"
        },
        {
         "name": "('volume', Timestamp('2023-07-10 00:00:00'))",
         "rawType": "int64",
         "type": "integer"
        },
        {
         "name": "('volume', Timestamp('2023-07-11 00:00:00'))",
         "rawType": "int64",
         "type": "integer"
        },
        {
         "name": "('volume', Timestamp('2023-07-12 00:00:00'))",
         "rawType": "int64",
         "type": "integer"
        },
        {
         "name": "('volume', Timestamp('2023-07-13 00:00:00'))",
         "rawType": "int64",
         "type": "integer"
        },
        {
         "name": "('volume', Timestamp('2023-07-14 00:00:00'))",
         "rawType": "int64",
         "type": "integer"
        },
        {
         "name": "('volume', Timestamp('2023-07-17 00:00:00'))",
         "rawType": "int64",
         "type": "integer"
        },
        {
         "name": "('volume', Timestamp('2023-07-18 00:00:00'))",
         "rawType": "int64",
         "type": "integer"
        },
        {
         "name": "('volume', Timestamp('2023-07-19 00:00:00'))",
         "rawType": "int64",
         "type": "integer"
        },
        {
         "name": "('volume', Timestamp('2023-07-20 00:00:00'))",
         "rawType": "int64",
         "type": "integer"
        },
        {
         "name": "('volume', Timestamp('2023-07-21 00:00:00'))",
         "rawType": "int64",
         "type": "integer"
        },
        {
         "name": "('volume', Timestamp('2023-07-24 00:00:00'))",
         "rawType": "int64",
         "type": "integer"
        },
        {
         "name": "('volume', Timestamp('2023-07-25 00:00:00'))",
         "rawType": "int64",
         "type": "integer"
        },
        {
         "name": "('volume', Timestamp('2023-07-26 00:00:00'))",
         "rawType": "int64",
         "type": "integer"
        },
        {
         "name": "('volume', Timestamp('2023-07-27 00:00:00'))",
         "rawType": "int64",
         "type": "integer"
        },
        {
         "name": "('volume', Timestamp('2023-07-28 00:00:00'))",
         "rawType": "int64",
         "type": "integer"
        },
        {
         "name": "('volume', Timestamp('2023-07-31 00:00:00'))",
         "rawType": "int64",
         "type": "integer"
        },
        {
         "name": "('volume', Timestamp('2023-08-01 00:00:00'))",
         "rawType": "int64",
         "type": "integer"
        },
        {
         "name": "('volume', Timestamp('2023-08-02 00:00:00'))",
         "rawType": "int64",
         "type": "integer"
        },
        {
         "name": "('volume', Timestamp('2023-08-03 00:00:00'))",
         "rawType": "int64",
         "type": "integer"
        },
        {
         "name": "('volume', Timestamp('2023-08-04 00:00:00'))",
         "rawType": "int64",
         "type": "integer"
        },
        {
         "name": "('volume', Timestamp('2023-08-07 00:00:00'))",
         "rawType": "int64",
         "type": "integer"
        },
        {
         "name": "('volume', Timestamp('2023-08-08 00:00:00'))",
         "rawType": "int64",
         "type": "integer"
        },
        {
         "name": "('volume', Timestamp('2023-08-09 00:00:00'))",
         "rawType": "int64",
         "type": "integer"
        },
        {
         "name": "('volume', Timestamp('2023-08-10 00:00:00'))",
         "rawType": "int64",
         "type": "integer"
        },
        {
         "name": "('volume', Timestamp('2023-08-11 00:00:00'))",
         "rawType": "int64",
         "type": "integer"
        },
        {
         "name": "('volume', Timestamp('2023-08-14 00:00:00'))",
         "rawType": "int64",
         "type": "integer"
        },
        {
         "name": "('volume', Timestamp('2023-08-15 00:00:00'))",
         "rawType": "int64",
         "type": "integer"
        },
        {
         "name": "('volume', Timestamp('2023-08-16 00:00:00'))",
         "rawType": "int64",
         "type": "integer"
        },
        {
         "name": "('volume', Timestamp('2023-08-17 00:00:00'))",
         "rawType": "int64",
         "type": "integer"
        },
        {
         "name": "('volume', Timestamp('2023-08-18 00:00:00'))",
         "rawType": "int64",
         "type": "integer"
        },
        {
         "name": "('volume', Timestamp('2023-08-21 00:00:00'))",
         "rawType": "int64",
         "type": "integer"
        },
        {
         "name": "('volume', Timestamp('2023-08-22 00:00:00'))",
         "rawType": "int64",
         "type": "integer"
        },
        {
         "name": "('volume', Timestamp('2023-08-23 00:00:00'))",
         "rawType": "int64",
         "type": "integer"
        },
        {
         "name": "('volume', Timestamp('2023-08-24 00:00:00'))",
         "rawType": "int64",
         "type": "integer"
        },
        {
         "name": "('volume', Timestamp('2023-08-25 00:00:00'))",
         "rawType": "int64",
         "type": "integer"
        },
        {
         "name": "('volume', Timestamp('2023-08-28 00:00:00'))",
         "rawType": "int64",
         "type": "integer"
        },
        {
         "name": "('volume', Timestamp('2023-08-29 00:00:00'))",
         "rawType": "int64",
         "type": "integer"
        },
        {
         "name": "('volume', Timestamp('2023-08-30 00:00:00'))",
         "rawType": "int64",
         "type": "integer"
        },
        {
         "name": "('volume', Timestamp('2023-08-31 00:00:00'))",
         "rawType": "int64",
         "type": "integer"
        },
        {
         "name": "('volume', Timestamp('2023-09-01 00:00:00'))",
         "rawType": "int64",
         "type": "integer"
        },
        {
         "name": "('volume', Timestamp('2023-09-05 00:00:00'))",
         "rawType": "int64",
         "type": "integer"
        },
        {
         "name": "('volume', Timestamp('2023-09-06 00:00:00'))",
         "rawType": "int64",
         "type": "integer"
        },
        {
         "name": "('volume', Timestamp('2023-09-07 00:00:00'))",
         "rawType": "int64",
         "type": "integer"
        },
        {
         "name": "('volume', Timestamp('2023-09-08 00:00:00'))",
         "rawType": "int64",
         "type": "integer"
        },
        {
         "name": "('volume', Timestamp('2023-09-11 00:00:00'))",
         "rawType": "int64",
         "type": "integer"
        },
        {
         "name": "('volume', Timestamp('2023-09-12 00:00:00'))",
         "rawType": "int64",
         "type": "integer"
        },
        {
         "name": "('volume', Timestamp('2023-09-13 00:00:00'))",
         "rawType": "int64",
         "type": "integer"
        },
        {
         "name": "('volume', Timestamp('2023-09-14 00:00:00'))",
         "rawType": "int64",
         "type": "integer"
        },
        {
         "name": "('volume', Timestamp('2023-09-15 00:00:00'))",
         "rawType": "int64",
         "type": "integer"
        },
        {
         "name": "('volume', Timestamp('2023-09-18 00:00:00'))",
         "rawType": "int64",
         "type": "integer"
        },
        {
         "name": "('volume', Timestamp('2023-09-19 00:00:00'))",
         "rawType": "int64",
         "type": "integer"
        },
        {
         "name": "('volume', Timestamp('2023-09-20 00:00:00'))",
         "rawType": "int64",
         "type": "integer"
        },
        {
         "name": "('volume', Timestamp('2023-09-21 00:00:00'))",
         "rawType": "int64",
         "type": "integer"
        },
        {
         "name": "('volume', Timestamp('2023-09-22 00:00:00'))",
         "rawType": "int64",
         "type": "integer"
        },
        {
         "name": "('volume', Timestamp('2023-09-25 00:00:00'))",
         "rawType": "int64",
         "type": "integer"
        },
        {
         "name": "('volume', Timestamp('2023-09-26 00:00:00'))",
         "rawType": "int64",
         "type": "integer"
        },
        {
         "name": "('volume', Timestamp('2023-09-27 00:00:00'))",
         "rawType": "int64",
         "type": "integer"
        },
        {
         "name": "('volume', Timestamp('2023-09-28 00:00:00'))",
         "rawType": "int64",
         "type": "integer"
        },
        {
         "name": "('volume', Timestamp('2023-09-29 00:00:00'))",
         "rawType": "int64",
         "type": "integer"
        },
        {
         "name": "('volume', Timestamp('2023-10-02 00:00:00'))",
         "rawType": "int64",
         "type": "integer"
        },
        {
         "name": "('volume', Timestamp('2023-10-03 00:00:00'))",
         "rawType": "int64",
         "type": "integer"
        },
        {
         "name": "('volume', Timestamp('2023-10-04 00:00:00'))",
         "rawType": "int64",
         "type": "integer"
        },
        {
         "name": "('volume', Timestamp('2023-10-05 00:00:00'))",
         "rawType": "int64",
         "type": "integer"
        },
        {
         "name": "('volume', Timestamp('2023-10-06 00:00:00'))",
         "rawType": "int64",
         "type": "integer"
        },
        {
         "name": "('volume', Timestamp('2023-10-09 00:00:00'))",
         "rawType": "int64",
         "type": "integer"
        },
        {
         "name": "('volume', Timestamp('2023-10-10 00:00:00'))",
         "rawType": "int64",
         "type": "integer"
        },
        {
         "name": "('volume', Timestamp('2023-10-11 00:00:00'))",
         "rawType": "int64",
         "type": "integer"
        },
        {
         "name": "('volume', Timestamp('2023-10-12 00:00:00'))",
         "rawType": "int64",
         "type": "integer"
        },
        {
         "name": "('volume', Timestamp('2023-10-13 00:00:00'))",
         "rawType": "int64",
         "type": "integer"
        },
        {
         "name": "('volume', Timestamp('2023-10-16 00:00:00'))",
         "rawType": "int64",
         "type": "integer"
        },
        {
         "name": "('volume', Timestamp('2023-10-17 00:00:00'))",
         "rawType": "int64",
         "type": "integer"
        },
        {
         "name": "('volume', Timestamp('2023-10-18 00:00:00'))",
         "rawType": "int64",
         "type": "integer"
        },
        {
         "name": "('volume', Timestamp('2023-10-19 00:00:00'))",
         "rawType": "int64",
         "type": "integer"
        },
        {
         "name": "('volume', Timestamp('2023-10-20 00:00:00'))",
         "rawType": "int64",
         "type": "integer"
        },
        {
         "name": "('volume', Timestamp('2023-10-23 00:00:00'))",
         "rawType": "int64",
         "type": "integer"
        },
        {
         "name": "('volume', Timestamp('2023-10-24 00:00:00'))",
         "rawType": "int64",
         "type": "integer"
        },
        {
         "name": "('volume', Timestamp('2023-10-25 00:00:00'))",
         "rawType": "int64",
         "type": "integer"
        },
        {
         "name": "('volume', Timestamp('2023-10-26 00:00:00'))",
         "rawType": "int64",
         "type": "integer"
        },
        {
         "name": "('volume', Timestamp('2023-10-27 00:00:00'))",
         "rawType": "int64",
         "type": "integer"
        },
        {
         "name": "('volume', Timestamp('2023-10-30 00:00:00'))",
         "rawType": "int64",
         "type": "integer"
        },
        {
         "name": "('volume', Timestamp('2023-10-31 00:00:00'))",
         "rawType": "int64",
         "type": "integer"
        },
        {
         "name": "('volume', Timestamp('2023-11-01 00:00:00'))",
         "rawType": "int64",
         "type": "integer"
        },
        {
         "name": "('volume', Timestamp('2023-11-02 00:00:00'))",
         "rawType": "int64",
         "type": "integer"
        },
        {
         "name": "('volume', Timestamp('2023-11-03 00:00:00'))",
         "rawType": "int64",
         "type": "integer"
        },
        {
         "name": "('volume', Timestamp('2023-11-06 00:00:00'))",
         "rawType": "int64",
         "type": "integer"
        },
        {
         "name": "('volume', Timestamp('2023-11-07 00:00:00'))",
         "rawType": "int64",
         "type": "integer"
        },
        {
         "name": "('volume', Timestamp('2023-11-08 00:00:00'))",
         "rawType": "int64",
         "type": "integer"
        },
        {
         "name": "('volume', Timestamp('2023-11-09 00:00:00'))",
         "rawType": "int64",
         "type": "integer"
        },
        {
         "name": "('volume', Timestamp('2023-11-10 00:00:00'))",
         "rawType": "int64",
         "type": "integer"
        },
        {
         "name": "('volume', Timestamp('2023-11-13 00:00:00'))",
         "rawType": "int64",
         "type": "integer"
        },
        {
         "name": "('volume', Timestamp('2023-11-14 00:00:00'))",
         "rawType": "int64",
         "type": "integer"
        },
        {
         "name": "('volume', Timestamp('2023-11-15 00:00:00'))",
         "rawType": "int64",
         "type": "integer"
        },
        {
         "name": "('volume', Timestamp('2023-11-16 00:00:00'))",
         "rawType": "int64",
         "type": "integer"
        },
        {
         "name": "('volume', Timestamp('2023-11-17 00:00:00'))",
         "rawType": "int64",
         "type": "integer"
        },
        {
         "name": "('volume', Timestamp('2023-11-20 00:00:00'))",
         "rawType": "int64",
         "type": "integer"
        },
        {
         "name": "('volume', Timestamp('2023-11-21 00:00:00'))",
         "rawType": "int64",
         "type": "integer"
        },
        {
         "name": "('volume', Timestamp('2023-11-22 00:00:00'))",
         "rawType": "int64",
         "type": "integer"
        },
        {
         "name": "('volume', Timestamp('2023-11-24 00:00:00'))",
         "rawType": "int64",
         "type": "integer"
        },
        {
         "name": "('volume', Timestamp('2023-11-27 00:00:00'))",
         "rawType": "int64",
         "type": "integer"
        },
        {
         "name": "('volume', Timestamp('2023-11-28 00:00:00'))",
         "rawType": "int64",
         "type": "integer"
        },
        {
         "name": "('volume', Timestamp('2023-11-29 00:00:00'))",
         "rawType": "int64",
         "type": "integer"
        },
        {
         "name": "('volume', Timestamp('2023-11-30 00:00:00'))",
         "rawType": "int64",
         "type": "integer"
        },
        {
         "name": "('volume', Timestamp('2023-12-01 00:00:00'))",
         "rawType": "int64",
         "type": "integer"
        },
        {
         "name": "('volume', Timestamp('2023-12-04 00:00:00'))",
         "rawType": "int64",
         "type": "integer"
        },
        {
         "name": "('volume', Timestamp('2023-12-05 00:00:00'))",
         "rawType": "int64",
         "type": "integer"
        },
        {
         "name": "('volume', Timestamp('2023-12-06 00:00:00'))",
         "rawType": "int64",
         "type": "integer"
        },
        {
         "name": "('volume', Timestamp('2023-12-07 00:00:00'))",
         "rawType": "int64",
         "type": "integer"
        },
        {
         "name": "('volume', Timestamp('2023-12-08 00:00:00'))",
         "rawType": "int64",
         "type": "integer"
        },
        {
         "name": "('volume', Timestamp('2023-12-11 00:00:00'))",
         "rawType": "int64",
         "type": "integer"
        },
        {
         "name": "('volume', Timestamp('2023-12-12 00:00:00'))",
         "rawType": "int64",
         "type": "integer"
        },
        {
         "name": "('volume', Timestamp('2023-12-13 00:00:00'))",
         "rawType": "int64",
         "type": "integer"
        },
        {
         "name": "('volume', Timestamp('2023-12-14 00:00:00'))",
         "rawType": "int64",
         "type": "integer"
        },
        {
         "name": "('volume', Timestamp('2023-12-15 00:00:00'))",
         "rawType": "int64",
         "type": "integer"
        },
        {
         "name": "('volume', Timestamp('2023-12-18 00:00:00'))",
         "rawType": "int64",
         "type": "integer"
        },
        {
         "name": "('volume', Timestamp('2023-12-19 00:00:00'))",
         "rawType": "int64",
         "type": "integer"
        },
        {
         "name": "('volume', Timestamp('2023-12-20 00:00:00'))",
         "rawType": "int64",
         "type": "integer"
        },
        {
         "name": "('volume', Timestamp('2023-12-21 00:00:00'))",
         "rawType": "int64",
         "type": "integer"
        },
        {
         "name": "('volume', Timestamp('2023-12-22 00:00:00'))",
         "rawType": "int64",
         "type": "integer"
        },
        {
         "name": "('volume', Timestamp('2023-12-26 00:00:00'))",
         "rawType": "int64",
         "type": "integer"
        },
        {
         "name": "('volume', Timestamp('2023-12-27 00:00:00'))",
         "rawType": "int64",
         "type": "integer"
        },
        {
         "name": "('volume', Timestamp('2023-12-28 00:00:00'))",
         "rawType": "int64",
         "type": "integer"
        },
        {
         "name": "('volume', Timestamp('2023-12-29 00:00:00'))",
         "rawType": "int64",
         "type": "integer"
        },
        {
         "name": "('volume', Timestamp('2024-01-02 00:00:00'))",
         "rawType": "int64",
         "type": "integer"
        },
        {
         "name": "('volume', Timestamp('2024-01-03 00:00:00'))",
         "rawType": "int64",
         "type": "integer"
        },
        {
         "name": "('volume', Timestamp('2024-01-04 00:00:00'))",
         "rawType": "int64",
         "type": "integer"
        },
        {
         "name": "('volume', Timestamp('2024-01-05 00:00:00'))",
         "rawType": "int64",
         "type": "integer"
        },
        {
         "name": "('volume', Timestamp('2024-01-08 00:00:00'))",
         "rawType": "int64",
         "type": "integer"
        },
        {
         "name": "('volume', Timestamp('2024-01-09 00:00:00'))",
         "rawType": "int64",
         "type": "integer"
        },
        {
         "name": "('volume', Timestamp('2024-01-10 00:00:00'))",
         "rawType": "int64",
         "type": "integer"
        },
        {
         "name": "('volume', Timestamp('2024-01-11 00:00:00'))",
         "rawType": "int64",
         "type": "integer"
        },
        {
         "name": "('volume', Timestamp('2024-01-12 00:00:00'))",
         "rawType": "int64",
         "type": "integer"
        },
        {
         "name": "('volume', Timestamp('2024-01-16 00:00:00'))",
         "rawType": "int64",
         "type": "integer"
        },
        {
         "name": "('volume', Timestamp('2024-01-17 00:00:00'))",
         "rawType": "int64",
         "type": "integer"
        },
        {
         "name": "('volume', Timestamp('2024-01-18 00:00:00'))",
         "rawType": "int64",
         "type": "integer"
        },
        {
         "name": "('volume', Timestamp('2024-01-19 00:00:00'))",
         "rawType": "int64",
         "type": "integer"
        },
        {
         "name": "('volume', Timestamp('2024-01-22 00:00:00'))",
         "rawType": "int64",
         "type": "integer"
        },
        {
         "name": "('volume', Timestamp('2024-01-23 00:00:00'))",
         "rawType": "int64",
         "type": "integer"
        },
        {
         "name": "('volume', Timestamp('2024-01-24 00:00:00'))",
         "rawType": "int64",
         "type": "integer"
        },
        {
         "name": "('volume', Timestamp('2024-01-25 00:00:00'))",
         "rawType": "int64",
         "type": "integer"
        },
        {
         "name": "('volume', Timestamp('2024-01-26 00:00:00'))",
         "rawType": "int64",
         "type": "integer"
        },
        {
         "name": "('volume', Timestamp('2024-01-29 00:00:00'))",
         "rawType": "int64",
         "type": "integer"
        },
        {
         "name": "('volume', Timestamp('2024-01-30 00:00:00'))",
         "rawType": "int64",
         "type": "integer"
        },
        {
         "name": "('volume', Timestamp('2024-01-31 00:00:00'))",
         "rawType": "int64",
         "type": "integer"
        },
        {
         "name": "('volume', Timestamp('2024-02-01 00:00:00'))",
         "rawType": "int64",
         "type": "integer"
        },
        {
         "name": "('volume', Timestamp('2024-02-02 00:00:00'))",
         "rawType": "int64",
         "type": "integer"
        },
        {
         "name": "('volume', Timestamp('2024-02-05 00:00:00'))",
         "rawType": "int64",
         "type": "integer"
        },
        {
         "name": "('volume', Timestamp('2024-02-06 00:00:00'))",
         "rawType": "int64",
         "type": "integer"
        },
        {
         "name": "('volume', Timestamp('2024-02-07 00:00:00'))",
         "rawType": "int64",
         "type": "integer"
        },
        {
         "name": "('volume', Timestamp('2024-02-08 00:00:00'))",
         "rawType": "int64",
         "type": "integer"
        },
        {
         "name": "('volume', Timestamp('2024-02-09 00:00:00'))",
         "rawType": "int64",
         "type": "integer"
        },
        {
         "name": "('volume', Timestamp('2024-02-12 00:00:00'))",
         "rawType": "int64",
         "type": "integer"
        },
        {
         "name": "('volume', Timestamp('2024-02-13 00:00:00'))",
         "rawType": "int64",
         "type": "integer"
        },
        {
         "name": "('volume', Timestamp('2024-02-14 00:00:00'))",
         "rawType": "int64",
         "type": "integer"
        },
        {
         "name": "('volume', Timestamp('2024-02-15 00:00:00'))",
         "rawType": "int64",
         "type": "integer"
        },
        {
         "name": "('volume', Timestamp('2024-02-16 00:00:00'))",
         "rawType": "int64",
         "type": "integer"
        },
        {
         "name": "('volume', Timestamp('2024-02-20 00:00:00'))",
         "rawType": "int64",
         "type": "integer"
        },
        {
         "name": "('volume', Timestamp('2024-02-21 00:00:00'))",
         "rawType": "int64",
         "type": "integer"
        },
        {
         "name": "('volume', Timestamp('2024-02-22 00:00:00'))",
         "rawType": "int64",
         "type": "integer"
        },
        {
         "name": "('volume', Timestamp('2024-02-23 00:00:00'))",
         "rawType": "int64",
         "type": "integer"
        },
        {
         "name": "('volume', Timestamp('2024-02-26 00:00:00'))",
         "rawType": "int64",
         "type": "integer"
        },
        {
         "name": "('volume', Timestamp('2024-02-27 00:00:00'))",
         "rawType": "int64",
         "type": "integer"
        },
        {
         "name": "('volume', Timestamp('2024-02-28 00:00:00'))",
         "rawType": "int64",
         "type": "integer"
        },
        {
         "name": "('volume', Timestamp('2024-02-29 00:00:00'))",
         "rawType": "int64",
         "type": "integer"
        },
        {
         "name": "('volume', Timestamp('2024-03-01 00:00:00'))",
         "rawType": "int64",
         "type": "integer"
        },
        {
         "name": "('volume', Timestamp('2024-03-04 00:00:00'))",
         "rawType": "int64",
         "type": "integer"
        },
        {
         "name": "('volume', Timestamp('2024-03-05 00:00:00'))",
         "rawType": "int64",
         "type": "integer"
        },
        {
         "name": "('volume', Timestamp('2024-03-06 00:00:00'))",
         "rawType": "int64",
         "type": "integer"
        },
        {
         "name": "('volume', Timestamp('2024-03-07 00:00:00'))",
         "rawType": "int64",
         "type": "integer"
        },
        {
         "name": "('volume', Timestamp('2024-03-08 00:00:00'))",
         "rawType": "int64",
         "type": "integer"
        },
        {
         "name": "('volume', Timestamp('2024-03-11 00:00:00'))",
         "rawType": "int64",
         "type": "integer"
        },
        {
         "name": "('volume', Timestamp('2024-03-12 00:00:00'))",
         "rawType": "int64",
         "type": "integer"
        },
        {
         "name": "('volume', Timestamp('2024-03-13 00:00:00'))",
         "rawType": "int64",
         "type": "integer"
        },
        {
         "name": "('volume', Timestamp('2024-03-14 00:00:00'))",
         "rawType": "int64",
         "type": "integer"
        },
        {
         "name": "('volume', Timestamp('2024-03-15 00:00:00'))",
         "rawType": "int64",
         "type": "integer"
        },
        {
         "name": "('volume', Timestamp('2024-03-18 00:00:00'))",
         "rawType": "int64",
         "type": "integer"
        },
        {
         "name": "('volume', Timestamp('2024-03-19 00:00:00'))",
         "rawType": "int64",
         "type": "integer"
        },
        {
         "name": "('volume', Timestamp('2024-03-20 00:00:00'))",
         "rawType": "int64",
         "type": "integer"
        },
        {
         "name": "('volume', Timestamp('2024-03-21 00:00:00'))",
         "rawType": "int64",
         "type": "integer"
        },
        {
         "name": "('volume', Timestamp('2024-03-22 00:00:00'))",
         "rawType": "int64",
         "type": "integer"
        },
        {
         "name": "('volume', Timestamp('2024-03-25 00:00:00'))",
         "rawType": "int64",
         "type": "integer"
        },
        {
         "name": "('volume', Timestamp('2024-03-26 00:00:00'))",
         "rawType": "int64",
         "type": "integer"
        },
        {
         "name": "('volume', Timestamp('2024-03-27 00:00:00'))",
         "rawType": "int64",
         "type": "integer"
        },
        {
         "name": "('volume', Timestamp('2024-03-28 00:00:00'))",
         "rawType": "int64",
         "type": "integer"
        },
        {
         "name": "('volume', Timestamp('2024-04-01 00:00:00'))",
         "rawType": "int64",
         "type": "integer"
        },
        {
         "name": "('volume', Timestamp('2024-04-02 00:00:00'))",
         "rawType": "int64",
         "type": "integer"
        },
        {
         "name": "('volume', Timestamp('2024-04-03 00:00:00'))",
         "rawType": "int64",
         "type": "integer"
        },
        {
         "name": "('volume', Timestamp('2024-04-04 00:00:00'))",
         "rawType": "int64",
         "type": "integer"
        },
        {
         "name": "('volume', Timestamp('2024-04-05 00:00:00'))",
         "rawType": "int64",
         "type": "integer"
        },
        {
         "name": "('volume', Timestamp('2024-04-08 00:00:00'))",
         "rawType": "int64",
         "type": "integer"
        },
        {
         "name": "('volume', Timestamp('2024-04-09 00:00:00'))",
         "rawType": "int64",
         "type": "integer"
        },
        {
         "name": "('volume', Timestamp('2024-04-10 00:00:00'))",
         "rawType": "int64",
         "type": "integer"
        },
        {
         "name": "('volume', Timestamp('2024-04-11 00:00:00'))",
         "rawType": "int64",
         "type": "integer"
        },
        {
         "name": "('volume', Timestamp('2024-04-12 00:00:00'))",
         "rawType": "int64",
         "type": "integer"
        },
        {
         "name": "('volume', Timestamp('2024-04-15 00:00:00'))",
         "rawType": "int64",
         "type": "integer"
        },
        {
         "name": "('volume', Timestamp('2024-04-16 00:00:00'))",
         "rawType": "int64",
         "type": "integer"
        },
        {
         "name": "('volume', Timestamp('2024-04-17 00:00:00'))",
         "rawType": "int64",
         "type": "integer"
        },
        {
         "name": "('volume', Timestamp('2024-04-18 00:00:00'))",
         "rawType": "int64",
         "type": "integer"
        },
        {
         "name": "('volume', Timestamp('2024-04-19 00:00:00'))",
         "rawType": "int64",
         "type": "integer"
        },
        {
         "name": "('volume', Timestamp('2024-04-22 00:00:00'))",
         "rawType": "int64",
         "type": "integer"
        },
        {
         "name": "('volume', Timestamp('2024-04-23 00:00:00'))",
         "rawType": "int64",
         "type": "integer"
        },
        {
         "name": "('volume', Timestamp('2024-04-24 00:00:00'))",
         "rawType": "int64",
         "type": "integer"
        },
        {
         "name": "('volume', Timestamp('2024-04-25 00:00:00'))",
         "rawType": "int64",
         "type": "integer"
        },
        {
         "name": "('volume', Timestamp('2024-04-26 00:00:00'))",
         "rawType": "int64",
         "type": "integer"
        },
        {
         "name": "('volume', Timestamp('2024-04-29 00:00:00'))",
         "rawType": "int64",
         "type": "integer"
        },
        {
         "name": "('volume', Timestamp('2024-04-30 00:00:00'))",
         "rawType": "int64",
         "type": "integer"
        },
        {
         "name": "('volume', Timestamp('2024-05-01 00:00:00'))",
         "rawType": "int64",
         "type": "integer"
        },
        {
         "name": "('volume', Timestamp('2024-05-02 00:00:00'))",
         "rawType": "int64",
         "type": "integer"
        },
        {
         "name": "('volume', Timestamp('2024-05-03 00:00:00'))",
         "rawType": "int64",
         "type": "integer"
        },
        {
         "name": "('volume', Timestamp('2024-05-06 00:00:00'))",
         "rawType": "int64",
         "type": "integer"
        },
        {
         "name": "('volume', Timestamp('2024-05-07 00:00:00'))",
         "rawType": "int64",
         "type": "integer"
        },
        {
         "name": "('volume', Timestamp('2024-05-08 00:00:00'))",
         "rawType": "int64",
         "type": "integer"
        },
        {
         "name": "('volume', Timestamp('2024-05-09 00:00:00'))",
         "rawType": "int64",
         "type": "integer"
        },
        {
         "name": "('volume', Timestamp('2024-05-10 00:00:00'))",
         "rawType": "int64",
         "type": "integer"
        },
        {
         "name": "('volume', Timestamp('2024-05-13 00:00:00'))",
         "rawType": "int64",
         "type": "integer"
        },
        {
         "name": "('volume', Timestamp('2024-05-14 00:00:00'))",
         "rawType": "int64",
         "type": "integer"
        },
        {
         "name": "('volume', Timestamp('2024-05-15 00:00:00'))",
         "rawType": "int64",
         "type": "integer"
        },
        {
         "name": "('volume', Timestamp('2024-05-16 00:00:00'))",
         "rawType": "int64",
         "type": "integer"
        },
        {
         "name": "('volume', Timestamp('2024-05-17 00:00:00'))",
         "rawType": "int64",
         "type": "integer"
        },
        {
         "name": "('volume', Timestamp('2024-05-20 00:00:00'))",
         "rawType": "int64",
         "type": "integer"
        },
        {
         "name": "('volume', Timestamp('2024-05-21 00:00:00'))",
         "rawType": "int64",
         "type": "integer"
        },
        {
         "name": "('volume', Timestamp('2024-05-22 00:00:00'))",
         "rawType": "int64",
         "type": "integer"
        },
        {
         "name": "('volume', Timestamp('2024-05-23 00:00:00'))",
         "rawType": "int64",
         "type": "integer"
        },
        {
         "name": "('volume', Timestamp('2024-05-24 00:00:00'))",
         "rawType": "int64",
         "type": "integer"
        },
        {
         "name": "('volume', Timestamp('2024-05-28 00:00:00'))",
         "rawType": "int64",
         "type": "integer"
        },
        {
         "name": "('volume', Timestamp('2024-05-29 00:00:00'))",
         "rawType": "int64",
         "type": "integer"
        },
        {
         "name": "('volume', Timestamp('2024-05-30 00:00:00'))",
         "rawType": "int64",
         "type": "integer"
        },
        {
         "name": "('volume', Timestamp('2024-05-31 00:00:00'))",
         "rawType": "int64",
         "type": "integer"
        },
        {
         "name": "('volume', Timestamp('2024-06-03 00:00:00'))",
         "rawType": "int64",
         "type": "integer"
        },
        {
         "name": "('volume', Timestamp('2024-06-04 00:00:00'))",
         "rawType": "int64",
         "type": "integer"
        },
        {
         "name": "('volume', Timestamp('2024-06-05 00:00:00'))",
         "rawType": "int64",
         "type": "integer"
        },
        {
         "name": "('volume', Timestamp('2024-06-06 00:00:00'))",
         "rawType": "int64",
         "type": "integer"
        },
        {
         "name": "('volume', Timestamp('2024-06-07 00:00:00'))",
         "rawType": "int64",
         "type": "integer"
        },
        {
         "name": "('volume', Timestamp('2024-06-10 00:00:00'))",
         "rawType": "int64",
         "type": "integer"
        },
        {
         "name": "('volume', Timestamp('2024-06-11 00:00:00'))",
         "rawType": "int64",
         "type": "integer"
        },
        {
         "name": "('volume', Timestamp('2024-06-12 00:00:00'))",
         "rawType": "int64",
         "type": "integer"
        },
        {
         "name": "('volume', Timestamp('2024-06-13 00:00:00'))",
         "rawType": "int64",
         "type": "integer"
        },
        {
         "name": "('volume', Timestamp('2024-06-14 00:00:00'))",
         "rawType": "int64",
         "type": "integer"
        },
        {
         "name": "('volume', Timestamp('2024-06-17 00:00:00'))",
         "rawType": "int64",
         "type": "integer"
        },
        {
         "name": "('volume', Timestamp('2024-06-18 00:00:00'))",
         "rawType": "int64",
         "type": "integer"
        },
        {
         "name": "('volume', Timestamp('2024-06-20 00:00:00'))",
         "rawType": "int64",
         "type": "integer"
        },
        {
         "name": "('volume', Timestamp('2024-06-21 00:00:00'))",
         "rawType": "int64",
         "type": "integer"
        },
        {
         "name": "('volume', Timestamp('2024-06-24 00:00:00'))",
         "rawType": "int64",
         "type": "integer"
        },
        {
         "name": "('volume', Timestamp('2024-06-25 00:00:00'))",
         "rawType": "int64",
         "type": "integer"
        },
        {
         "name": "('volume', Timestamp('2024-06-26 00:00:00'))",
         "rawType": "int64",
         "type": "integer"
        },
        {
         "name": "('volume', Timestamp('2024-06-27 00:00:00'))",
         "rawType": "int64",
         "type": "integer"
        },
        {
         "name": "('volume', Timestamp('2024-06-28 00:00:00'))",
         "rawType": "int64",
         "type": "integer"
        },
        {
         "name": "('volume', Timestamp('2024-07-01 00:00:00'))",
         "rawType": "int64",
         "type": "integer"
        },
        {
         "name": "('volume', Timestamp('2024-07-02 00:00:00'))",
         "rawType": "int64",
         "type": "integer"
        },
        {
         "name": "('volume', Timestamp('2024-07-03 00:00:00'))",
         "rawType": "int64",
         "type": "integer"
        },
        {
         "name": "('volume', Timestamp('2024-07-05 00:00:00'))",
         "rawType": "int64",
         "type": "integer"
        },
        {
         "name": "('volume', Timestamp('2024-07-08 00:00:00'))",
         "rawType": "int64",
         "type": "integer"
        },
        {
         "name": "('volume', Timestamp('2024-07-09 00:00:00'))",
         "rawType": "int64",
         "type": "integer"
        },
        {
         "name": "('volume', Timestamp('2024-07-10 00:00:00'))",
         "rawType": "int64",
         "type": "integer"
        },
        {
         "name": "('volume', Timestamp('2024-07-11 00:00:00'))",
         "rawType": "int64",
         "type": "integer"
        },
        {
         "name": "('volume', Timestamp('2024-07-12 00:00:00'))",
         "rawType": "int64",
         "type": "integer"
        },
        {
         "name": "('volume', Timestamp('2024-07-15 00:00:00'))",
         "rawType": "int64",
         "type": "integer"
        },
        {
         "name": "('volume', Timestamp('2024-07-16 00:00:00'))",
         "rawType": "int64",
         "type": "integer"
        },
        {
         "name": "('volume', Timestamp('2024-07-17 00:00:00'))",
         "rawType": "int64",
         "type": "integer"
        },
        {
         "name": "('volume', Timestamp('2024-07-18 00:00:00'))",
         "rawType": "int64",
         "type": "integer"
        },
        {
         "name": "('volume', Timestamp('2024-07-19 00:00:00'))",
         "rawType": "int64",
         "type": "integer"
        },
        {
         "name": "('volume', Timestamp('2024-07-22 00:00:00'))",
         "rawType": "int64",
         "type": "integer"
        },
        {
         "name": "('volume', Timestamp('2024-07-23 00:00:00'))",
         "rawType": "int64",
         "type": "integer"
        },
        {
         "name": "('volume', Timestamp('2024-07-24 00:00:00'))",
         "rawType": "int64",
         "type": "integer"
        },
        {
         "name": "('volume', Timestamp('2024-07-25 00:00:00'))",
         "rawType": "int64",
         "type": "integer"
        },
        {
         "name": "('volume', Timestamp('2024-07-26 00:00:00'))",
         "rawType": "int64",
         "type": "integer"
        },
        {
         "name": "('volume', Timestamp('2024-07-29 00:00:00'))",
         "rawType": "int64",
         "type": "integer"
        },
        {
         "name": "('volume', Timestamp('2024-07-30 00:00:00'))",
         "rawType": "int64",
         "type": "integer"
        },
        {
         "name": "('volume', Timestamp('2024-07-31 00:00:00'))",
         "rawType": "int64",
         "type": "integer"
        },
        {
         "name": "('volume', Timestamp('2024-08-01 00:00:00'))",
         "rawType": "int64",
         "type": "integer"
        },
        {
         "name": "('volume', Timestamp('2024-08-02 00:00:00'))",
         "rawType": "int64",
         "type": "integer"
        },
        {
         "name": "('volume', Timestamp('2024-08-05 00:00:00'))",
         "rawType": "int64",
         "type": "integer"
        },
        {
         "name": "('volume', Timestamp('2024-08-06 00:00:00'))",
         "rawType": "int64",
         "type": "integer"
        },
        {
         "name": "('volume', Timestamp('2024-08-07 00:00:00'))",
         "rawType": "int64",
         "type": "integer"
        },
        {
         "name": "('volume', Timestamp('2024-08-08 00:00:00'))",
         "rawType": "int64",
         "type": "integer"
        },
        {
         "name": "('volume', Timestamp('2024-08-09 00:00:00'))",
         "rawType": "int64",
         "type": "integer"
        },
        {
         "name": "('volume', Timestamp('2024-08-12 00:00:00'))",
         "rawType": "int64",
         "type": "integer"
        },
        {
         "name": "('volume', Timestamp('2024-08-13 00:00:00'))",
         "rawType": "int64",
         "type": "integer"
        },
        {
         "name": "('volume', Timestamp('2024-08-14 00:00:00'))",
         "rawType": "int64",
         "type": "integer"
        },
        {
         "name": "('volume', Timestamp('2024-08-15 00:00:00'))",
         "rawType": "int64",
         "type": "integer"
        },
        {
         "name": "('volume', Timestamp('2024-08-16 00:00:00'))",
         "rawType": "int64",
         "type": "integer"
        },
        {
         "name": "('volume', Timestamp('2024-08-19 00:00:00'))",
         "rawType": "int64",
         "type": "integer"
        },
        {
         "name": "('volume', Timestamp('2024-08-20 00:00:00'))",
         "rawType": "int64",
         "type": "integer"
        },
        {
         "name": "('volume', Timestamp('2024-08-21 00:00:00'))",
         "rawType": "int64",
         "type": "integer"
        },
        {
         "name": "('volume', Timestamp('2024-08-22 00:00:00'))",
         "rawType": "int64",
         "type": "integer"
        },
        {
         "name": "('volume', Timestamp('2024-08-23 00:00:00'))",
         "rawType": "int64",
         "type": "integer"
        },
        {
         "name": "('volume', Timestamp('2024-08-26 00:00:00'))",
         "rawType": "int64",
         "type": "integer"
        },
        {
         "name": "('volume', Timestamp('2024-08-27 00:00:00'))",
         "rawType": "int64",
         "type": "integer"
        },
        {
         "name": "('volume', Timestamp('2024-08-28 00:00:00'))",
         "rawType": "int64",
         "type": "integer"
        },
        {
         "name": "('volume', Timestamp('2024-08-29 00:00:00'))",
         "rawType": "int64",
         "type": "integer"
        },
        {
         "name": "('volume', Timestamp('2024-08-30 00:00:00'))",
         "rawType": "int64",
         "type": "integer"
        },
        {
         "name": "('volume', Timestamp('2024-09-03 00:00:00'))",
         "rawType": "int64",
         "type": "integer"
        },
        {
         "name": "('volume', Timestamp('2024-09-04 00:00:00'))",
         "rawType": "int64",
         "type": "integer"
        },
        {
         "name": "('volume', Timestamp('2024-09-05 00:00:00'))",
         "rawType": "int64",
         "type": "integer"
        },
        {
         "name": "('volume', Timestamp('2024-09-06 00:00:00'))",
         "rawType": "int64",
         "type": "integer"
        },
        {
         "name": "('volume', Timestamp('2024-09-09 00:00:00'))",
         "rawType": "int64",
         "type": "integer"
        },
        {
         "name": "('volume', Timestamp('2024-09-10 00:00:00'))",
         "rawType": "int64",
         "type": "integer"
        },
        {
         "name": "('volume', Timestamp('2024-09-11 00:00:00'))",
         "rawType": "int64",
         "type": "integer"
        },
        {
         "name": "('volume', Timestamp('2024-09-12 00:00:00'))",
         "rawType": "int64",
         "type": "integer"
        },
        {
         "name": "('volume', Timestamp('2024-09-13 00:00:00'))",
         "rawType": "int64",
         "type": "integer"
        },
        {
         "name": "('volume', Timestamp('2024-09-16 00:00:00'))",
         "rawType": "int64",
         "type": "integer"
        },
        {
         "name": "('volume', Timestamp('2024-09-17 00:00:00'))",
         "rawType": "int64",
         "type": "integer"
        },
        {
         "name": "('volume', Timestamp('2024-09-18 00:00:00'))",
         "rawType": "int64",
         "type": "integer"
        },
        {
         "name": "('volume', Timestamp('2024-09-19 00:00:00'))",
         "rawType": "int64",
         "type": "integer"
        },
        {
         "name": "('volume', Timestamp('2024-09-20 00:00:00'))",
         "rawType": "int64",
         "type": "integer"
        },
        {
         "name": "('volume', Timestamp('2024-09-23 00:00:00'))",
         "rawType": "int64",
         "type": "integer"
        },
        {
         "name": "('volume', Timestamp('2024-09-24 00:00:00'))",
         "rawType": "int64",
         "type": "integer"
        },
        {
         "name": "('volume', Timestamp('2024-09-25 00:00:00'))",
         "rawType": "int64",
         "type": "integer"
        },
        {
         "name": "('volume', Timestamp('2024-09-26 00:00:00'))",
         "rawType": "int64",
         "type": "integer"
        },
        {
         "name": "('volume', Timestamp('2024-09-27 00:00:00'))",
         "rawType": "int64",
         "type": "integer"
        },
        {
         "name": "('volume', Timestamp('2024-09-30 00:00:00'))",
         "rawType": "int64",
         "type": "integer"
        },
        {
         "name": "('volume', Timestamp('2024-10-01 00:00:00'))",
         "rawType": "int64",
         "type": "integer"
        },
        {
         "name": "('volume', Timestamp('2024-10-02 00:00:00'))",
         "rawType": "int64",
         "type": "integer"
        },
        {
         "name": "('volume', Timestamp('2024-10-03 00:00:00'))",
         "rawType": "int64",
         "type": "integer"
        },
        {
         "name": "('volume', Timestamp('2024-10-04 00:00:00'))",
         "rawType": "int64",
         "type": "integer"
        },
        {
         "name": "('volume', Timestamp('2024-10-07 00:00:00'))",
         "rawType": "int64",
         "type": "integer"
        },
        {
         "name": "('volume', Timestamp('2024-10-08 00:00:00'))",
         "rawType": "int64",
         "type": "integer"
        },
        {
         "name": "('volume', Timestamp('2024-10-09 00:00:00'))",
         "rawType": "int64",
         "type": "integer"
        },
        {
         "name": "('volume', Timestamp('2024-10-10 00:00:00'))",
         "rawType": "int64",
         "type": "integer"
        },
        {
         "name": "('volume', Timestamp('2024-10-11 00:00:00'))",
         "rawType": "int64",
         "type": "integer"
        },
        {
         "name": "('volume', Timestamp('2024-10-14 00:00:00'))",
         "rawType": "int64",
         "type": "integer"
        },
        {
         "name": "('volume', Timestamp('2024-10-15 00:00:00'))",
         "rawType": "int64",
         "type": "integer"
        },
        {
         "name": "('volume', Timestamp('2024-10-16 00:00:00'))",
         "rawType": "int64",
         "type": "integer"
        },
        {
         "name": "('volume', Timestamp('2024-10-17 00:00:00'))",
         "rawType": "int64",
         "type": "integer"
        },
        {
         "name": "('volume', Timestamp('2024-10-18 00:00:00'))",
         "rawType": "int64",
         "type": "integer"
        },
        {
         "name": "('volume', Timestamp('2024-10-21 00:00:00'))",
         "rawType": "int64",
         "type": "integer"
        },
        {
         "name": "('volume', Timestamp('2024-10-22 00:00:00'))",
         "rawType": "int64",
         "type": "integer"
        },
        {
         "name": "('volume', Timestamp('2024-10-23 00:00:00'))",
         "rawType": "int64",
         "type": "integer"
        },
        {
         "name": "('volume', Timestamp('2024-10-24 00:00:00'))",
         "rawType": "int64",
         "type": "integer"
        },
        {
         "name": "('volume', Timestamp('2024-10-25 00:00:00'))",
         "rawType": "int64",
         "type": "integer"
        },
        {
         "name": "('volume', Timestamp('2024-10-28 00:00:00'))",
         "rawType": "int64",
         "type": "integer"
        },
        {
         "name": "('volume', Timestamp('2024-10-29 00:00:00'))",
         "rawType": "int64",
         "type": "integer"
        },
        {
         "name": "('volume', Timestamp('2024-10-30 00:00:00'))",
         "rawType": "int64",
         "type": "integer"
        },
        {
         "name": "('volume', Timestamp('2024-10-31 00:00:00'))",
         "rawType": "int64",
         "type": "integer"
        },
        {
         "name": "('volume', Timestamp('2024-11-01 00:00:00'))",
         "rawType": "int64",
         "type": "integer"
        },
        {
         "name": "('volume', Timestamp('2024-11-04 00:00:00'))",
         "rawType": "int64",
         "type": "integer"
        },
        {
         "name": "('volume', Timestamp('2024-11-05 00:00:00'))",
         "rawType": "int64",
         "type": "integer"
        },
        {
         "name": "('volume', Timestamp('2024-11-06 00:00:00'))",
         "rawType": "int64",
         "type": "integer"
        },
        {
         "name": "('volume', Timestamp('2024-11-07 00:00:00'))",
         "rawType": "int64",
         "type": "integer"
        },
        {
         "name": "('volume', Timestamp('2024-11-08 00:00:00'))",
         "rawType": "int64",
         "type": "integer"
        },
        {
         "name": "('volume', Timestamp('2024-11-11 00:00:00'))",
         "rawType": "int64",
         "type": "integer"
        },
        {
         "name": "('volume', Timestamp('2024-11-12 00:00:00'))",
         "rawType": "int64",
         "type": "integer"
        },
        {
         "name": "('volume', Timestamp('2024-11-13 00:00:00'))",
         "rawType": "int64",
         "type": "integer"
        },
        {
         "name": "('volume', Timestamp('2024-11-14 00:00:00'))",
         "rawType": "int64",
         "type": "integer"
        },
        {
         "name": "('volume', Timestamp('2024-11-15 00:00:00'))",
         "rawType": "int64",
         "type": "integer"
        },
        {
         "name": "('volume', Timestamp('2024-11-18 00:00:00'))",
         "rawType": "int64",
         "type": "integer"
        },
        {
         "name": "('volume', Timestamp('2024-11-19 00:00:00'))",
         "rawType": "int64",
         "type": "integer"
        },
        {
         "name": "('volume', Timestamp('2024-11-20 00:00:00'))",
         "rawType": "int64",
         "type": "integer"
        },
        {
         "name": "('volume', Timestamp('2024-11-21 00:00:00'))",
         "rawType": "int64",
         "type": "integer"
        },
        {
         "name": "('volume', Timestamp('2024-11-22 00:00:00'))",
         "rawType": "int64",
         "type": "integer"
        },
        {
         "name": "('volume', Timestamp('2024-11-25 00:00:00'))",
         "rawType": "int64",
         "type": "integer"
        },
        {
         "name": "('volume', Timestamp('2024-11-26 00:00:00'))",
         "rawType": "int64",
         "type": "integer"
        },
        {
         "name": "('volume', Timestamp('2024-11-27 00:00:00'))",
         "rawType": "int64",
         "type": "integer"
        },
        {
         "name": "('volume', Timestamp('2024-11-29 00:00:00'))",
         "rawType": "int64",
         "type": "integer"
        },
        {
         "name": "('volume', Timestamp('2024-12-02 00:00:00'))",
         "rawType": "int64",
         "type": "integer"
        },
        {
         "name": "('volume', Timestamp('2024-12-03 00:00:00'))",
         "rawType": "int64",
         "type": "integer"
        },
        {
         "name": "('volume', Timestamp('2024-12-04 00:00:00'))",
         "rawType": "int64",
         "type": "integer"
        },
        {
         "name": "('volume', Timestamp('2024-12-05 00:00:00'))",
         "rawType": "int64",
         "type": "integer"
        },
        {
         "name": "('volume', Timestamp('2024-12-06 00:00:00'))",
         "rawType": "int64",
         "type": "integer"
        },
        {
         "name": "('volume', Timestamp('2024-12-09 00:00:00'))",
         "rawType": "int64",
         "type": "integer"
        },
        {
         "name": "('volume', Timestamp('2024-12-10 00:00:00'))",
         "rawType": "int64",
         "type": "integer"
        },
        {
         "name": "('volume', Timestamp('2024-12-11 00:00:00'))",
         "rawType": "int64",
         "type": "integer"
        },
        {
         "name": "('volume', Timestamp('2024-12-12 00:00:00'))",
         "rawType": "int64",
         "type": "integer"
        },
        {
         "name": "('volume', Timestamp('2024-12-13 00:00:00'))",
         "rawType": "int64",
         "type": "integer"
        },
        {
         "name": "('volume', Timestamp('2024-12-16 00:00:00'))",
         "rawType": "int64",
         "type": "integer"
        },
        {
         "name": "('volume', Timestamp('2024-12-17 00:00:00'))",
         "rawType": "int64",
         "type": "integer"
        },
        {
         "name": "('volume', Timestamp('2024-12-18 00:00:00'))",
         "rawType": "int64",
         "type": "integer"
        },
        {
         "name": "('volume', Timestamp('2024-12-19 00:00:00'))",
         "rawType": "int64",
         "type": "integer"
        },
        {
         "name": "('volume', Timestamp('2024-12-20 00:00:00'))",
         "rawType": "int64",
         "type": "integer"
        },
        {
         "name": "('volume', Timestamp('2024-12-23 00:00:00'))",
         "rawType": "int64",
         "type": "integer"
        },
        {
         "name": "('volume', Timestamp('2024-12-24 00:00:00'))",
         "rawType": "int64",
         "type": "integer"
        },
        {
         "name": "('volume', Timestamp('2024-12-26 00:00:00'))",
         "rawType": "int64",
         "type": "integer"
        },
        {
         "name": "('volume', Timestamp('2024-12-27 00:00:00'))",
         "rawType": "int64",
         "type": "integer"
        },
        {
         "name": "('volume', Timestamp('2024-12-30 00:00:00'))",
         "rawType": "int64",
         "type": "integer"
        },
        {
         "name": "('volume', Timestamp('2024-12-31 00:00:00'))",
         "rawType": "int64",
         "type": "integer"
        },
        {
         "name": "('volume', Timestamp('2025-01-02 00:00:00'))",
         "rawType": "int64",
         "type": "integer"
        },
        {
         "name": "('volume', Timestamp('2025-01-03 00:00:00'))",
         "rawType": "int64",
         "type": "integer"
        },
        {
         "name": "('volume', Timestamp('2025-01-06 00:00:00'))",
         "rawType": "int64",
         "type": "integer"
        },
        {
         "name": "('volume', Timestamp('2025-01-07 00:00:00'))",
         "rawType": "int64",
         "type": "integer"
        },
        {
         "name": "('volume', Timestamp('2025-01-08 00:00:00'))",
         "rawType": "int64",
         "type": "integer"
        },
        {
         "name": "('volume', Timestamp('2025-01-10 00:00:00'))",
         "rawType": "int64",
         "type": "integer"
        },
        {
         "name": "('volume', Timestamp('2025-01-13 00:00:00'))",
         "rawType": "int64",
         "type": "integer"
        },
        {
         "name": "('volume', Timestamp('2025-01-14 00:00:00'))",
         "rawType": "int64",
         "type": "integer"
        },
        {
         "name": "('volume', Timestamp('2025-01-15 00:00:00'))",
         "rawType": "int64",
         "type": "integer"
        },
        {
         "name": "('volume', Timestamp('2025-01-16 00:00:00'))",
         "rawType": "int64",
         "type": "integer"
        },
        {
         "name": "('volume', Timestamp('2025-01-17 00:00:00'))",
         "rawType": "int64",
         "type": "integer"
        },
        {
         "name": "('volume', Timestamp('2025-01-21 00:00:00'))",
         "rawType": "int64",
         "type": "integer"
        },
        {
         "name": "('volume', Timestamp('2025-01-22 00:00:00'))",
         "rawType": "int64",
         "type": "integer"
        },
        {
         "name": "('volume', Timestamp('2025-01-23 00:00:00'))",
         "rawType": "int64",
         "type": "integer"
        },
        {
         "name": "('volume', Timestamp('2025-01-24 00:00:00'))",
         "rawType": "int64",
         "type": "integer"
        },
        {
         "name": "('volume', Timestamp('2025-01-27 00:00:00'))",
         "rawType": "int64",
         "type": "integer"
        },
        {
         "name": "('volume', Timestamp('2025-01-28 00:00:00'))",
         "rawType": "int64",
         "type": "integer"
        },
        {
         "name": "('volume', Timestamp('2025-01-29 00:00:00'))",
         "rawType": "int64",
         "type": "integer"
        },
        {
         "name": "('volume', Timestamp('2025-01-30 00:00:00'))",
         "rawType": "int64",
         "type": "integer"
        },
        {
         "name": "('volume', Timestamp('2025-01-31 00:00:00'))",
         "rawType": "int64",
         "type": "integer"
        },
        {
         "name": "('volume', Timestamp('2025-02-03 00:00:00'))",
         "rawType": "int64",
         "type": "integer"
        },
        {
         "name": "('volume', Timestamp('2025-02-04 00:00:00'))",
         "rawType": "int64",
         "type": "integer"
        },
        {
         "name": "('volume', Timestamp('2025-02-05 00:00:00'))",
         "rawType": "int64",
         "type": "integer"
        },
        {
         "name": "('volume', Timestamp('2025-02-06 00:00:00'))",
         "rawType": "int64",
         "type": "integer"
        },
        {
         "name": "('volume', Timestamp('2025-02-07 00:00:00'))",
         "rawType": "int64",
         "type": "integer"
        },
        {
         "name": "('volume', Timestamp('2025-02-10 00:00:00'))",
         "rawType": "int64",
         "type": "integer"
        },
        {
         "name": "('volume', Timestamp('2025-02-11 00:00:00'))",
         "rawType": "int64",
         "type": "integer"
        },
        {
         "name": "('volume', Timestamp('2025-02-12 00:00:00'))",
         "rawType": "int64",
         "type": "integer"
        },
        {
         "name": "('volume', Timestamp('2025-02-13 00:00:00'))",
         "rawType": "int64",
         "type": "integer"
        },
        {
         "name": "('volume', Timestamp('2025-02-14 00:00:00'))",
         "rawType": "int64",
         "type": "integer"
        },
        {
         "name": "('volume', Timestamp('2025-02-18 00:00:00'))",
         "rawType": "int64",
         "type": "integer"
        },
        {
         "name": "('volume', Timestamp('2025-02-19 00:00:00'))",
         "rawType": "int64",
         "type": "integer"
        },
        {
         "name": "('volume', Timestamp('2025-02-20 00:00:00'))",
         "rawType": "int64",
         "type": "integer"
        },
        {
         "name": "('volume', Timestamp('2025-02-21 00:00:00'))",
         "rawType": "int64",
         "type": "integer"
        },
        {
         "name": "('volume', Timestamp('2025-02-24 00:00:00'))",
         "rawType": "int64",
         "type": "integer"
        },
        {
         "name": "('volume', Timestamp('2025-02-25 00:00:00'))",
         "rawType": "int64",
         "type": "integer"
        },
        {
         "name": "('volume', Timestamp('2025-02-26 00:00:00'))",
         "rawType": "int64",
         "type": "integer"
        },
        {
         "name": "('volume', Timestamp('2025-02-27 00:00:00'))",
         "rawType": "int64",
         "type": "integer"
        },
        {
         "name": "('volume', Timestamp('2025-02-28 00:00:00'))",
         "rawType": "int64",
         "type": "integer"
        },
        {
         "name": "('volume', Timestamp('2025-03-03 00:00:00'))",
         "rawType": "int64",
         "type": "integer"
        },
        {
         "name": "('volume', Timestamp('2025-03-04 00:00:00'))",
         "rawType": "int64",
         "type": "integer"
        },
        {
         "name": "('volume', Timestamp('2025-03-05 00:00:00'))",
         "rawType": "int64",
         "type": "integer"
        },
        {
         "name": "('volume', Timestamp('2025-03-06 00:00:00'))",
         "rawType": "int64",
         "type": "integer"
        },
        {
         "name": "('volume', Timestamp('2025-03-07 00:00:00'))",
         "rawType": "int64",
         "type": "integer"
        },
        {
         "name": "('volume', Timestamp('2025-03-10 00:00:00'))",
         "rawType": "int64",
         "type": "integer"
        },
        {
         "name": "('volume', Timestamp('2025-03-11 00:00:00'))",
         "rawType": "int64",
         "type": "integer"
        },
        {
         "name": "('volume', Timestamp('2025-03-12 00:00:00'))",
         "rawType": "int64",
         "type": "integer"
        },
        {
         "name": "('volume', Timestamp('2025-03-13 00:00:00'))",
         "rawType": "int64",
         "type": "integer"
        },
        {
         "name": "('volume', Timestamp('2025-03-14 00:00:00'))",
         "rawType": "int64",
         "type": "integer"
        },
        {
         "name": "('volume', Timestamp('2025-03-17 00:00:00'))",
         "rawType": "int64",
         "type": "integer"
        },
        {
         "name": "('volume', Timestamp('2025-03-18 00:00:00'))",
         "rawType": "int64",
         "type": "integer"
        },
        {
         "name": "('volume', Timestamp('2025-03-19 00:00:00'))",
         "rawType": "int64",
         "type": "integer"
        },
        {
         "name": "('volume', Timestamp('2025-03-20 00:00:00'))",
         "rawType": "int64",
         "type": "integer"
        },
        {
         "name": "('volume', Timestamp('2025-03-21 00:00:00'))",
         "rawType": "int64",
         "type": "integer"
        },
        {
         "name": "('volume', Timestamp('2025-03-24 00:00:00'))",
         "rawType": "int64",
         "type": "integer"
        },
        {
         "name": "('volume', Timestamp('2025-03-25 00:00:00'))",
         "rawType": "int64",
         "type": "integer"
        },
        {
         "name": "('volume', Timestamp('2025-03-26 00:00:00'))",
         "rawType": "int64",
         "type": "integer"
        },
        {
         "name": "('volume', Timestamp('2025-03-27 00:00:00'))",
         "rawType": "int64",
         "type": "integer"
        },
        {
         "name": "('volume', Timestamp('2025-03-28 00:00:00'))",
         "rawType": "int64",
         "type": "integer"
        },
        {
         "name": "('volume', Timestamp('2025-03-31 00:00:00'))",
         "rawType": "int64",
         "type": "integer"
        },
        {
         "name": "('volume', Timestamp('2025-04-01 00:00:00'))",
         "rawType": "int64",
         "type": "integer"
        },
        {
         "name": "('volume', Timestamp('2025-04-02 00:00:00'))",
         "rawType": "int64",
         "type": "integer"
        },
        {
         "name": "('volume', Timestamp('2025-04-03 00:00:00'))",
         "rawType": "int64",
         "type": "integer"
        },
        {
         "name": "('volume', Timestamp('2025-04-04 00:00:00'))",
         "rawType": "int64",
         "type": "integer"
        },
        {
         "name": "('volume', Timestamp('2025-04-07 00:00:00'))",
         "rawType": "int64",
         "type": "integer"
        },
        {
         "name": "('volume', Timestamp('2025-04-08 00:00:00'))",
         "rawType": "int64",
         "type": "integer"
        },
        {
         "name": "('volume', Timestamp('2025-04-09 00:00:00'))",
         "rawType": "int64",
         "type": "integer"
        },
        {
         "name": "('volume', Timestamp('2025-04-10 00:00:00'))",
         "rawType": "int64",
         "type": "integer"
        },
        {
         "name": "('volume', Timestamp('2025-04-11 00:00:00'))",
         "rawType": "int64",
         "type": "integer"
        },
        {
         "name": "('volume', Timestamp('2025-04-14 00:00:00'))",
         "rawType": "int64",
         "type": "integer"
        },
        {
         "name": "('volume', Timestamp('2025-04-15 00:00:00'))",
         "rawType": "int64",
         "type": "integer"
        },
        {
         "name": "('volume', Timestamp('2025-04-16 00:00:00'))",
         "rawType": "int64",
         "type": "integer"
        },
        {
         "name": "('volume', Timestamp('2025-04-17 00:00:00'))",
         "rawType": "int64",
         "type": "integer"
        },
        {
         "name": "('volume', Timestamp('2025-04-21 00:00:00'))",
         "rawType": "int64",
         "type": "integer"
        },
        {
         "name": "('volume', Timestamp('2025-04-22 00:00:00'))",
         "rawType": "int64",
         "type": "integer"
        },
        {
         "name": "('volume', Timestamp('2025-04-23 00:00:00'))",
         "rawType": "int64",
         "type": "integer"
        }
       ],
       "conversionMethod": "pd.DataFrame",
       "ref": "4a6dec27-1cef-4673-85b0-1348cb164812",
       "rows": [
        [
         "AAPL",
         "53204626",
         "64285491",
         "65797116",
         "40105934",
         "59364547",
         "53315099",
         "49650790",
         "67091928",
         "48956588",
         "60013996",
         "78513345",
         "49899907",
         "48575897",
         "53796409",
         "46464828",
         "55614979",
         "95568749",
         "146477063",
         "84436432",
         "83745461",
         "62739100",
         "51915749",
         "70149743",
         "42246245",
         "43706567",
         "38889797",
         "62008506",
         "73561797",
         "74474466",
         "54272219",
         "63152405",
         "44891737",
         "37362381",
         "48948419",
         "70974110",
         "69228130",
         "74711746",
         "91287529",
         "62014847",
         "48096663",
         "37816283",
         "31666340",
         "56517146",
         "72842060",
         "88528487",
         "68856582",
         "68938974",
         "48362719",
         "51827283",
         "35874300",
         "51023104",
         "65270945",
         "45809490",
         "68695136",
         "37709674",
         "32842304",
         "51655177",
         "47572869",
         "39546151",
         "47099670",
         "42090553",
         "40621437",
         "32220131",
         "37193975",
         "35012268",
         "37329243",
         "32483974",
         "40187953",
         "36365123",
         "25524593",
         "28970419",
         "28368987",
         "51957046",
         "47054310",
         "32435057",
         "37654505",
         "45770902",
         "44525905",
         "96954207",
         "118923970",
         "63386083",
         "83195423",
         "58512638",
         "50988278",
         "49271416",
         "72141010",
         "43940895",
         "55550382",
         "42035757",
         "48160032",
         "34694235",
         "45203456",
         "38208034",
         "50882918",
         "44633240",
         "36454932",
         "39730364",
         "45595972",
         "70697560",
         "45833246",
         "30733309",
         "50884452",
         "32112797",
         "33667627",
         "30983542",
         "38450118",
         "35626800",
         "52674786",
         "56075420",
         "39087250",
         "35390887",
         "36886246",
         "43988946",
         "31494131",
         "32918071",
         "35407220",
         "54716887",
         "34039345",
         "30268863",
         "55280855",
         "31938100",
         "44066841",
         "49161427",
         "44370682",
         "30238811",
         "27210952",
         "28060431",
         "46946811",
         "60761614",
         "78595038",
         "61354474",
         "41440538",
         "31768139",
         "33649200",
         "36222447",
         "46164710",
         "58900203",
         "76756427",
         "115450607",
         "50999452",
         "42162332",
         "44455540",
         "33618097",
         "37011653",
         "33628268",
         "42884953",
         "69975968",
         "124138623",
         "98384461",
         "52903040",
         "38670405",
         "54951597",
         "97082814",
         "101685610",
         "48535789",
         "42929516",
         "40884745",
         "34560708",
         "48286510",
         "68501622",
         "128275471",
         "162206292",
         "103601599",
         "96774611",
         "84616056",
         "53164407",
         "56229271",
         "76845860",
         "61888812",
         "53233940",
         "49996311",
         "54843626",
         "85010804",
         "62892831",
         "49915473",
         "58363431",
         "43341155",
         "37173489",
         "64112641",
         "74285291",
         "50221965",
         "50346159",
         "35756716",
         "50219475",
         "56151926",
         "50782189",
         "73365384",
         "65041596",
         "63929100",
         "58019758",
         "52064743",
         "48856977",
         "46765550",
         "61979577",
         "52766140",
         "30467204",
         "33049256",
         "44462449",
         "37673452",
         "39232609",
         "29759153",
         "48967763",
         "42326974",
         "41654089",
         "59366914",
         "66333781",
         "69884400",
         "85551352",
         "51227334",
         "49365254",
         "32203267",
         "45518976",
         "44886050",
         "39552680",
         "33042283",
         "33871405",
         "59127931",
         "45217971",
         "32525579",
         "45812403",
         "38106701",
         "27583101",
         "46674697",
         "43295820",
         "34287096",
         "32482528",
         "42803172",
         "21388308",
         "13046445",
         "39180322",
         "34852374",
         "33386563",
         "41569509",
         "57776977",
         "32084249",
         "34309450",
         "46361357",
         "29212727",
         "46886161",
         "65003609",
         "53323105",
         "56238467",
         "44772827",
         "96453327",
         "47590610",
         "32789367",
         "32657354",
         "13596680",
         "26704210",
         "30931243",
         "25213777",
         "40912316",
         "67649387",
         "55790992",
         "68457388",
         "81094428",
         "70798016",
         "49739377",
         "49154227",
         "62439631",
         "63170127",
         "79833891",
         "53087747",
         "72334416",
         "52161463",
         "65800467",
         "51794525",
         "75077002",
         "133369674",
         "55678825",
         "64416504",
         "40943541",
         "37357215",
         "45964294",
         "46471652",
         "46418064",
         "54021375",
         "44331195",
         "42343601",
         "50074711",
         "40351381",
         "49057916",
         "44863243",
         "39020983",
         "35374173",
         "34280758",
         "31942633",
         "36255745",
         "27582659",
         "28991131",
         "35216277",
         "50407147",
         "33169560",
         "36955742",
         "46055100",
         "35915810",
         "31182194",
         "27201683",
         "33513577",
         "27408237",
         "25076062",
         "40067734",
         "38303493",
         "34420705",
         "44205171",
         "35502678",
         "32444375",
         "25703495",
         "26132955",
         "19411372",
         "31190083",
         "45601149",
         "25888449",
         "25873950",
         "37356204",
         "26578652",
         "26404077",
         "31801870",
         "23581740",
         "29407518",
         "27232325",
         "33257316",
         "25473923",
         "46938969",
         "60821461",
         "32384879",
         "30611030",
         "31552525",
         "33683121",
         "28031588",
         "56016165",
         "114602142",
         "82242690",
         "68531478",
         "48160104",
         "56831277",
         "41025475",
         "35890500",
         "43699886",
         "32936436",
         "33686836",
         "28719109",
         "76314690",
         "44392765",
         "61259756",
         "46916939",
         "42062391",
         "30442100",
         "32025968",
         "38018643",
         "35140174",
         "38642108",
         "56331159",
         "36341240",
         "42307212",
         "29173285",
         "40191600",
         "28504888",
         "23292504",
         "22409450",
         "20848131",
         "26601354",
         "31712936",
         "38020494",
         "31931944",
         "29445227",
         "31326815",
         "61008219",
         "34411901",
         "35546358",
         "29219122",
         "32240187",
         "75311356",
         "46622188",
         "40444914",
         "36531006",
         "35836356",
         "26026540",
         "27705210",
         "30949090",
         "25139558",
         "28912103",
         "23794945",
         "24167463",
         "25892171",
         "38918997",
         "30136990",
         "36493867",
         "23779924",
         "26275968",
         "32702028",
         "28313669",
         "40382921",
         "56239822",
         "92344820",
         "39869839",
         "27733688",
         "38167871",
         "33816556",
         "30202641",
         "27408650",
         "40553402",
         "28037220",
         "26315204",
         "24008505",
         "27484506",
         "18660434",
         "25868209",
         "33794448",
         "25355976",
         "21984703",
         "25368072",
         "25820230",
         "21257669",
         "23675081",
         "25086248",
         "27766291",
         "24970300",
         "24863945",
         "29662406",
         "26701523",
         "26802450",
         "26880391",
         "42364328",
         "53002026",
         "46556984",
         "45292770",
         "62176190",
         "112340318",
         "90613177",
         "79886911",
         "47023046",
         "34514269",
         "36003185",
         "31073984",
         "52481151",
         "29869442",
         "24607412",
         "29641085",
         "35886990",
         "36379106",
         "21701760",
         "29736835",
         "21453089",
         "28779313",
         "24358443",
         "36235956",
         "64041043",
         "37586787",
         "35192406",
         "35652191",
         "23624896",
         "24553478",
         "20034594",
         "24125801",
         "23192665",
         "23538673",
         "48128970",
         "66134219",
         "34562045",
         "37861662",
         "26419398",
         "43825812",
         "28331709",
         "26932602",
         "30836997",
         "32560000",
         "24254179",
         "59176361",
         "57134541",
         "34143898",
         "51175504",
         "32264510",
         "58840522",
         "27632003",
         "28428917",
         "29264571",
         "25965534",
         "27426394",
         "11475922",
         "27193983",
         "28528750",
         "36162258",
         "37086862",
         "26527997",
         "34324540",
         "26195462",
         "29998719",
         "27068316",
         "34402627",
         "26374377",
         "43733811",
         "34031834",
         "46524544",
         "44351134",
         "27779423",
         "21424965",
         "23783165",
         "26085854",
         "14249484",
         "18296855",
         "20905892",
         "15039519",
         "30586265",
         "28781865",
         "21118116",
         "22193587",
         "31751900",
         "33561948",
         "24462051",
         "27588593",
         "27086220",
         "26111948",
         "34439843",
         "23712961",
         "25597291",
         "32597892",
         "22050218",
         "23211038",
         "32586673",
         "26337576",
         "20562944",
         "30377503",
         "49200993",
         "111985040",
         "33710411",
         "24507301",
         "26845924",
         "38183841",
         "23004072",
         "28349859",
         "20065458",
         "23035421",
         "33226223",
         "35623100",
         "22584555",
         "22198197",
         "24507156",
         "20836932",
         "20788186",
         "21776585",
         "20257426",
         "23482860",
         "36414585",
         "26210984",
         "21571121",
         "21750044",
         "17446297",
         "18707236",
         "22155904",
         "19612801",
         "17421717",
         "15309065",
         "25691774",
         "19231998",
         "43884952",
         "21542038",
         "39529912",
         "25860165",
         "20346301",
         "22395563",
         "23575094",
         "33374805",
         "29189955",
         "21207252",
         "19661651",
         "19985714",
         "19891354",
         "27717854",
         "21149034",
         "16658543",
         "18933397",
         "30379376",
         "20350000",
         "17822880",
         "16582094",
         "14697544",
         "17328375",
         "23319562",
         "17320928",
         "17116599",
         "18216472",
         "19614287",
         "13948980",
         "20247187",
         "32818760",
         "39752670",
         "45142806",
         "23275690",
         "26787359",
         "48339210",
         "35942435",
         "25670456",
         "25596687",
         "32221756",
         "25700983",
         "19904679",
         "49482818",
         "33159664",
         "26733798",
         "22340069",
         "19430358",
         "19118319",
         "19044463",
         "21632202",
         "20034934",
         "23162873",
         "16180143",
         "27285861",
         "24803858",
         "26249630",
         "20678772",
         "20771367",
         "64882700",
         "71563614",
         "33749154",
         "31224203",
         "31348832",
         "49180748",
         "31449132",
         "24572170",
         "21064679",
         "18673365",
         "25997976",
         "25524661",
         "24423643",
         "21915939",
         "31116980",
         "22328979",
         "14258300",
         "20758795",
         "23374374",
         "18505351",
         "21030466",
         "18311156",
         "23617964",
         "24922788",
         "19961788",
         "23243713",
         "17713795",
         "20615419",
         "17053326",
         "24671002",
         "21122730",
         "18612649",
         "15172136",
         "32175875",
         "16832947",
         "19422655",
         "24725526",
         "69222793",
         "26000738",
         "20349532",
         "21870321",
         "35775675",
         "25640394",
         "39081017",
         "25943187",
         "21754810",
         "27936774",
         "27321761",
         "26925694",
         "27012525",
         "26145653",
         "21297812",
         "19198189",
         "19029621",
         "25015218",
         "25279674",
         "29307862",
         "26973946",
         "26412439",
         "16508568",
         "29317054",
         "21179047",
         "21722995",
         "28183159",
         "31028926",
         "71139119",
         "44393752",
         "23073646",
         "48203642",
         "27939718",
         "20347352",
         "51693239",
         "36643382",
         "46114424",
         "43922334",
         "35470985",
         "24959552",
         "21896592",
         "25856530",
         "18524860",
         "16146388",
         "19844177",
         "21032800",
         "16423749",
         "16200129",
         "15456331",
         "16607693",
         "16045720",
         "16287608",
         "23894630",
         "18816438",
         "16158659",
         "42111326",
         "23612246",
         "21654461",
         "17137731",
         "20126554",
         "16751691",
         "43904150",
         "43923292",
         "35474672",
         "33100847",
         "32710040",
         "58683826",
         "34242566",
         "23910914",
         "23907639",
         "28636531",
         "25061183",
         "16828025",
         "23588451",
         "28702351",
         "23497326",
         "21665811",
         "15974387",
         "24875471",
         "24997274",
         "14026519",
         "20536313",
         "25468442",
         "40788324",
         "40172368",
         "39590080",
         "32115052",
         "27008428",
         "28224357",
         "24469613",
         "23096872",
         "33092051",
         "18945457",
         "23142242",
         "20219307",
         "37054632",
         "28831533",
         "27078872",
         "23000392",
         "20356826",
         "16052615",
         "32968167",
         "21672062",
         "15997739",
         "25643711",
         "25048048",
         "28819653",
         "22211345",
         "23016177",
         "20134092",
         "21262614",
         "23589129",
         "17523256",
         "25039531",
         "29159005",
         "32752734",
         "30234512",
         "30827809",
         "26023683",
         "31702531",
         "50562257",
         "39661804",
         "37121805",
         "48434424",
         "45137026",
         "30984099",
         "38099665",
         "85436075",
         "66090446",
         "66625484",
         "50852130",
         "49594129",
         "66723743",
         "60560145",
         "32104756",
         "39669178",
         "50609595",
         "39638793",
         "33531012",
         "35833514",
         "30504116",
         "33329232",
         "36886432",
         "38685165",
         "33604574",
         "48801970",
         "38453950",
         "28401366",
         "23788506",
         "31703462",
         "23163767",
         "31385134",
         "32055405",
         "31168404",
         "29075469",
         "22584565",
         "36836456",
         "32804695",
         "19314039",
         "35247358",
         "41051076",
         "40248954",
         "36272617",
         "38962839",
         "41668545",
         "38398505",
         "37586791",
         "30278046",
         "34605489",
         "26933197",
         "35005290",
         "29017718",
         "28614241",
         "22431640",
         "22889285",
         "25124255",
         "21578420",
         "26605442",
         "20754538",
         "34808800",
         "65491140",
         "36515477",
         "33692017",
         "28382084",
         "27963014",
         "35655839",
         "42427424",
         "53569376",
         "66539371",
         "34068180",
         "56201317",
         "42451423",
         "28402777",
         "23211241",
         "27989289",
         "26212221",
         "20778772",
         "23695159",
         "19183064",
         "17294029",
         "18297728",
         "18400787",
         "15240704",
         "20058415",
         "23233975",
         "17460963",
         "22514075",
         "18690547",
         "27482793",
         "23442510",
         "26266174",
         "21565963",
         "20933619",
         "21347180",
         "26656799",
         "18308460",
         "16911141",
         "21638393",
         "21610074",
         "61719160",
         "18484865",
         "33578455",
         "20628701",
         "25711898",
         "27200447",
         "31663096",
         "24569201",
         "25285328",
         "17365235",
         "22737666",
         "17731343",
         "13954806",
         "16604248",
         "17485245",
         "19756634",
         "15939149",
         "18831470",
         "18041131",
         "12519792",
         "15043110",
         "15534523",
         "16393381",
         "20286752",
         "20706042",
         "15989365",
         "18697898",
         "16826483",
         "19075964",
         "24023972",
         "21029535",
         "39373038",
         "67935716",
         "62404012",
         "33447396",
         "25425387",
         "25587387",
         "22525487",
         "23492626",
         "24611202",
         "25890880",
         "20748010",
         "28807564",
         "28500367",
         "35426997",
         "30287695",
         "26159755",
         "19018131",
         "18883224",
         "18476356",
         "20525117",
         "22776766",
         "27254804",
         "48793824",
         "43340134",
         "27390132",
         "33332960",
         "34289976",
         "37619810",
         "39516453",
         "35749049",
         "49278740",
         "41706377",
         "31999289",
         "37195133",
         "31571712",
         "27123833",
         "26608794",
         "96246748",
         "27693358",
         "24554379",
         "23984706",
         "30181227",
         "22929364",
         "23600802",
         "24788170",
         "28654799",
         "32042000",
         "33580463",
         "29663923",
         "26891029",
         "41990554",
         "53124392",
         "40337851",
         "30791007",
         "29183963",
         "22885397",
         "32581315",
         "33078726",
         "28792082",
         "38767846",
         "40925163",
         "29855768",
         "47258375",
         "45935520",
         "36659990",
         "38358933",
         "58323180",
         "91328654",
         "66163669",
         "31882881",
         "33424434",
         "25362636",
         "34365750",
         "51135518",
         "46882936",
         "60800957",
         "46478801",
         "36928253",
         "41920872",
         "67825247",
         "31124210",
         "23623972",
         "44998520",
         "41387377",
         "46062539",
         "41769992",
         "39531549",
         "40798002",
         "41344282",
         "43098410",
         "42281631",
         "62025994",
         "47281665",
         "35627674",
         "31897827",
         "40703710",
         "44287922",
         "33841518",
         "49047297",
         "64772960",
         "95744384",
         "37169232",
         "58582544",
         "53117065",
         "42291424",
         "35003466",
         "37039737",
         "91312195",
         "58607070",
         "54777764",
         "41025314",
         "45099081",
         "35780670",
         "27023241",
         "32439186",
         "28710324",
         "30569706",
         "29821160",
         "33751023",
         "30393970",
         "23130570",
         "25441549",
         "33547893",
         "26192058",
         "41587239",
         "61109780",
         "40739649",
         "32668138",
         "31495582",
         "36101628",
         "28239591",
         "31741690",
         "23819966",
         "20993425",
         "22283523",
         "22490233",
         "21835747",
         "24626814",
         "18972826",
         "26114362",
         "17249670",
         "18913154",
         "21873358",
         "17070211",
         "27835389",
         "28215416",
         "25886167",
         "27436203",
         "19737419",
         "20810384",
         "24796374",
         "23999358",
         "32011034",
         "32467584",
         "31032524",
         "23579508",
         "39042912",
         "26219832",
         "31646369",
         "31035231",
         "51034237",
         "42407666",
         "43845293",
         "49800538",
         "29848427",
         "20780363",
         "23563961",
         "27861964",
         "22765732",
         "23271830",
         "19114275",
         "18526644",
         "25881697",
         "35768237",
         "21695288",
         "20900808",
         "27760668",
         "17536646",
         "25696385",
         "28906780",
         "24195766",
         "19439545",
         "23322991",
         "17540609",
         "18543206",
         "18649102",
         "22204716",
         "46534923",
         "64827328",
         "31996324",
         "20892378",
         "32443113",
         "38763698",
         "26339504",
         "34908607",
         "41208712",
         "57430623",
         "36529677",
         "26544718",
         "33031364",
         "32879090",
         "38612290",
         "28364848",
         "29748556",
         "36529736",
         "23714686",
         "27948160",
         "28481165",
         "21218412",
         "27043584",
         "40396069",
         "30967961",
         "29773427",
         "22526311",
         "30684393",
         "26220851",
         "26932882",
         "18253189",
         "21674625",
         "18761474",
         "14669144",
         "26551004",
         "21124235",
         "21513988",
         "47800589",
         "18220421",
         "21070334",
         "26067512",
         "20899717",
         "31110642",
         "27316739",
         "16935217",
         "11362045",
         "17265518",
         "25338628",
         "20578015",
         "17897138",
         "20191842",
         "17595212",
         "16947420",
         "16866816",
         "14107450",
         "18582161",
         "20929307",
         "22277932",
         "18355210",
         "14991567",
         "13909535",
         "17618874",
         "21673389",
         "33935718",
         "69281361",
         "54017922",
         "40862122",
         "52392969",
         "35824787",
         "33364400",
         "27009523",
         "24619746",
         "22481889",
         "47539786",
         "36547443",
         "27883363",
         "28813624",
         "24431915",
         "26919529",
         "21564747",
         "22267819",
         "46882843",
         "26066130",
         "25897344",
         "15957632",
         "21007652",
         "21162561",
         "20059574",
         "19216820",
         "23946984",
         "19362294",
         "27309401",
         "31777931",
         "44289646",
         "32226669",
         "39763296",
         "21158141",
         "18386468",
         "25643093",
         "22187876",
         "57977094",
         "19419648",
         "31434367",
         "22481006",
         "19088312",
         "25361285",
         "26318583",
         "36187163",
         "35767257",
         "30352686",
         "34755553",
         "30889269",
         "29282700",
         "19029424",
         "28962984",
         "41990210",
         "24413484",
         "23040483",
         "19286694",
         "17272897",
         "24248023",
         "21811567",
         "22684001",
         "19932545",
         "17916255",
         "18369296",
         "23655368",
         "35709867",
         "31130522",
         "34790520",
         "37781334",
         "25817952",
         "19974427",
         "18966124",
         "23735083",
         "17520495",
         "20507459",
         "21847226",
         "25817593",
         "22395556",
         "25093666",
         "21700897",
         "19069597",
         "26609919",
         "30348778",
         "16331263",
         "21029517",
         "26334882",
         "16386122",
         "11654363",
         "23693550",
         "29377268",
         "16810388",
         "18661343",
         "26547493",
         "32182645",
         "22632383",
         "19723391",
         "34437042",
         "33432806",
         "32081105",
         "28575798",
         "29024687",
         "24626947",
         "69032743",
         "24677883",
         "12119714",
         "23334004",
         "36592936",
         "36059614",
         "25247625",
         "33911864",
         "36633878",
         "29644644",
         "27877655",
         "33090946",
         "42621542",
         "35217272",
         "30028742",
         "40653457",
         "30480882",
         "27207254",
         "34454117",
         "27235039",
         "25458115",
         "26117993",
         "36634380",
         "40485005",
         "40558486",
         "54149928",
         "31685808",
         "49897096",
         "43496401",
         "34154134",
         "29706718",
         "26356385",
         "29421012",
         "27337215",
         "23580780",
         "28432573",
         "23686892",
         "20028447",
         "38190545",
         "23495991",
         "25141489",
         "32426415",
         "55548828",
         "57668364",
         "49678431",
         "80151381",
         "106721230",
         "85349339",
         "79868852",
         "54794568",
         "46893219",
         "56544246",
         "71686208",
         "71322520",
         "64094970",
         "104618517",
         "92683032",
         "80605865",
         "81013965",
         "75058406",
         "67964255",
         "100423346",
         "84188208",
         "71882773",
         "75900510",
         "63140169",
         "51054153",
         "41994110",
         "49250501",
         "44054638",
         "41483493",
         "32470017",
         "50455071",
         "50721831",
         "42223821",
         "40529123",
         "32755731",
         "48748672",
         "32788641",
         "39281290",
         "53812478",
         "32503750",
         "45247893",
         "29264342",
         "31203582",
         "31627183",
         "29271893",
         "28001187",
         "34320204",
         "45765968",
         "60154175",
         "33391986",
         "36937795",
         "35583438",
         "28803764",
         "33511985",
         "36486561",
         "40575263",
         "50155639",
         "39732269",
         "41587094",
         "33843125",
         "25432385",
         "27876215",
         "25672211",
         "20450754",
         "31380454",
         "28236274",
         "33449103",
         "38399532",
         "20254653",
         "21910704",
         "26122804",
         "21890091",
         "34312550",
         "23913634",
         "36928091",
         "41662938",
         "50415613",
         "50036513",
         "34702230",
         "41357182",
         "28601626",
         "24205096",
         "66118952",
         "33861316",
         "53038869",
         "48155849",
         "34380628",
         "51314211",
         "32661519",
         "35055821",
         "27690454",
         "28814516",
         "29745936",
         "28206999",
         "29274479",
         "31420357",
         "22564330",
         "47913079",
         "42748119",
         "38306874",
         "27645927",
         "23046755",
         "22397208",
         "25627347",
         "22250413",
         "49251108",
         "46359716",
         "30303548",
         "25906375",
         "22582314",
         "39532505",
         "93573867",
         "77037847",
         "43198092",
         "30497988",
         "50607225",
         "49511403",
         "53100856",
         "46975594",
         "41486205",
         "52520516",
         "41391302",
         "29431414",
         "26408385",
         "36384502",
         "31726797",
         "84513660",
         "86484442",
         "52873947",
         "40755567",
         "38888096",
         "46907479",
         "223505733",
         "152470142",
         "200118991",
         "257599640",
         "332607163",
         "231366563",
         "176940455",
         "182274391",
         "180860325",
         "140150087",
         "184642039",
         "155026675",
         "178010968",
         "287104882",
         "195713815",
         "183055373",
         "150718671",
         "167743349",
         "149981441",
         "137672403",
         "100060526",
         "142675184",
         "116120440",
         "144711986",
         "106243839",
         "161498212",
         "96848985",
         "83477153",
         "100506865",
         "240226769",
         "262330451",
         "151062308",
         "112559219",
         "115393808",
         "120639337",
         "124423728",
         "89945980",
         "101987954",
         "82572645",
         "111850657",
         "92276772",
         "143937823",
         "146129173",
         "190573476",
         "122866899",
         "107624448",
         "138235482",
         "126387074",
         "114457922",
         "154515315",
         "138023390",
         "112294954",
         "103350674",
         "81688586",
         "91183018",
         "74270973",
         "76322111",
         "74112972",
         "73604287",
         "127959318",
         "113226248",
         "76499234",
         "46691331",
         "169410176",
         "125920963",
         "89004195",
         "78967630",
         "78260421",
         "86711990",
         "82225512",
         "115089193",
         "81312170",
         "86939786",
         "79075988",
         "157572262",
         "98208591",
         "94359811",
         "192541496",
         "121251553",
         "169351825",
         "88223692",
         "54930064",
         "123124632",
         "121047324",
         "96452124",
         "99116586",
         "143301887",
         "97664898",
         "155087970",
         "109578157",
         "105158245",
         "100620880",
         "90440255",
         "88636831",
         "90221755",
         "111598531",
         "90757329",
         "104319489",
         "120529544",
         "114459360",
         "157611713",
         "98390555",
         "140843759",
         "142621128",
         "177523812",
         "106239823",
         "82266419",
         "89880937",
         "84183061",
         "75693830",
         "71297214",
         "75986989",
         "72647988",
         "64280029",
         "60145130",
         "80576316",
         "97372199",
         "96856748",
         "87668834",
         "102886922",
         "158273022",
         "111039904",
         "144766924",
         "163424672",
         "116307892",
         "102260945",
         "112966340",
         "178154975",
         "153766601",
         "154376610",
         "129525780",
         "111943326",
         "103026514",
         "88105050",
         "92590555",
         "115227936",
         "111932636",
         "121469755",
         "185549522",
         "111912284",
         "95467142",
         "88530485",
         "98844681",
         "94071234",
         "80819203",
         "85671919",
         "118323826",
         "75089134",
         "88651175",
         "80171253",
         "83466716",
         "88844591",
         "106686703",
         "91419983",
         "91266545",
         "87222782",
         "89347102",
         "84922386",
         "94264215",
         "94812349",
         "68847136",
         "84566456",
         "78756779",
         "66905069",
         "66015804",
         "107760097",
         "151100953",
         "109839466",
         "75135100",
         "137564718",
         "84000900",
         "78128334",
         "78973273",
         "88071229",
         "126142826",
         "112172282",
         "105861339",
         "81917951",
         "74244624",
         "63342929",
         "92611989",
         "76857123",
         "79295436",
         "63092945",
         "72009482",
         "56575920",
         "94625601",
         "71311109",
         "67637118",
         "59278862",
         "76229170",
         "75169343",
         "71057550",
         "74403774",
         "56877937",
         "71186421",
         "53522373",
         "96906490",
         "62746332",
         "91339351",
         "96721669",
         "108953309",
         "79663316",
         "74783618",
         "60214200",
         "68710998",
         "70783746",
         "62111303",
         "64556081",
         "63261393",
         "52485781",
         "78945572",
         "108181793",
         "104911589",
         "105575458",
         "99890800",
         "76299719",
         "100827099",
         "127050785",
         "106820297",
         "93251426",
         "121434571",
         "96350036",
         "74993460",
         "77338156",
         "71447416",
         "72434089",
         "104818578",
         "118931191",
         "54323047",
         "70440626",
         "62879961",
         "64786618",
         "56368271",
         "46397674",
         "54126813",
         "48908689",
         "69023081",
         "48493463",
         "73779113",
         "58846293",
         "103558782",
         "92229735",
         "86325990",
         "86960310",
         "60549630",
         "60131810",
         "48606428",
         "58991297",
         "48597195",
         "55802388",
         "90956723",
         "86453117",
         "80313711",
         "71171317",
         "57866066",
         "82278261",
         "74420207",
         "57305730",
         "140893235",
         "102404329",
         "109296295",
         "83281315",
         "68034149",
         "129868824",
         "123478863",
         "75833962",
         "76404341",
         "64838170",
         "53477869",
         "74150729",
         "108972340",
         "74602044",
         "89056664",
         "94639581",
         "98322008",
         "80861062",
         "83221119",
         "61732656",
         "58773155",
         "64452219",
         "73035859",
         "78762721",
         "69907100",
         "67940334",
         "85589175",
         "76378894",
         "58418788",
         "61420990",
         "58883443",
         "50720556",
         "60893395",
         "56094929",
         "100077888",
         "124953168",
         "73396551",
         "68922374",
         "54511534",
         "60394616",
         "65463883",
         "55020868",
         "56573449",
         "65187092",
         "40999950",
         "63245197",
         "59222803",
         "59256210",
         "88807000",
         "137827673",
         "117305597",
         "117467889",
         "96041899",
         "69463623",
         "76959752",
         "88748217",
         "174048056",
         "152423003",
         "136739174",
         "118023116",
         "107496982",
         "120405352",
         "116998901",
         "108923739",
         "115402731",
         "153237019",
         "139380382",
         "131063257",
         "150185843",
         "195923441",
         "107499114",
         "91185905",
         "92135303",
         "68356567",
         "74919582",
         "79144339",
         "62348931",
         "59773014",
         "61661433",
         "104701220",
         "99310438",
         "94537602",
         "96903955",
         "86709147",
         "106765552",
         "75937685",
         "74805173",
         "84505760",
         "80440780",
         "90500236",
         "92914792",
         "91420515",
         "122848858",
         "162706686",
         "115798367",
         "108275308",
         "121954638",
         "179935660",
         "115541590",
         "86213911",
         "84914256",
         "89418074",
         "82465400",
         "77251204",
         "74829217",
         "71285038",
         "90865899",
         "98670687",
         "86185530",
         "64286320",
         "61177398",
         "69589344",
         "82772674",
         "90457637",
         "90009247",
         "141147540",
         "91974222",
         "95056629",
         "83474425",
         "79724750",
         "76678441",
         "83819592",
         "96418845",
         "131148280",
         "91454905",
         "105342033",
         "96970102",
         "108732111",
         "92964302",
         "102300157",
         "75615376",
         "122055535",
         "89029269",
         "80979755",
         "98062674",
         "90131418",
         "80281664",
         "90371916",
         "100589440",
         "92633154",
         "103049285",
         "78751328",
         "76545983",
         "70902999",
         "89058782",
         "77594650",
         "76575508",
         "72246706",
         "79265181",
         "70618925",
         "75329376",
         "69023941",
         "67723833",
         "67718110",
         "87227768",
         "84882424",
         "96046376",
         "94008394",
         "88063191",
         "130216792",
         "131747571",
         "123055265",
         "88966526",
         "107521649",
         "130525275",
         "116124647",
         "131577921",
         "115366736",
         "142689825",
         "182602041",
         "113990852",
         "86643781",
         "78336254",
         "109742890",
         "136095640",
         "137426125",
         "117726265",
         "104132746",
         "92482696",
         "90601548",
         "90978503",
         "103718416",
         "74286635",
         "72348055",
         "88570289",
         "71598380",
         "67808150",
         "53950201",
         "69472976",
         "91566637",
         "122207099",
         "84784326",
         "91532972",
         "107961508",
         "134520290",
         "81000488",
         "73409234",
         "72433768",
         "89116837",
         "70207908",
         "67315328",
         "66242411",
         "98964467",
         "71051552",
         "73429641",
         "74064254",
         "66253709",
         "64547798",
         "63305113",
         "77588759",
         "71185560",
         "78140744",
         "76259931",
         "81420868",
         "82982367",
         "64823413",
         "65086636",
         "66675408",
         "53623945",
         "55138691",
         "78620688",
         "81378731",
         "101786860",
         "67829379",
         "59907025",
         "82507488",
         "55474144",
         "56696985",
         "60362338",
         "63135503",
         "70170540",
         "57149159",
         "68039382",
         "54091694",
         "56377050",
         "79542037",
         "62290075",
         "70346295",
         "69026809",
         "54147079",
         "53841524",
         "51218209",
         "78960980",
         "72724452",
         "77906197",
         "87991091",
         "74229896",
         "76957768",
         "73295539",
         "87449574",
         "84923847",
         "68081006",
         "104955962",
         "122656614",
         "87965409",
         "90481110",
         "162278841",
         "81474246",
         "107689796",
         "101696790",
         "86264792",
         "96029909",
         "93339409",
         "84442741",
         "146691387",
         "128138237",
         "124925274",
         "114311663",
         "87830064",
         "79470968",
         "68402169",
         "85925559",
         "74899002",
         "77033672",
         "70433744",
         "113223975",
         "88597969",
         "85250939",
         "99136610",
         "61758340",
         "64521989",
         "86548609",
         "75981918",
         "74732290",
         "88436172",
         "109180150",
         "164762371",
         "97943171",
         "80379345",
         "93604623",
         "97918516",
         "140814796",
         "83374628",
         "89908477",
         "74917794",
         "118854028",
         "93979665",
         "73374114",
         "89868332",
         "64218266",
         "80389400",
         "74829573",
         "58724070",
         "51804132",
         "58301395",
         "35195860",
         "69346522",
         "83763803",
         "111380880",
         "71250416",
         "65447446",
         "68826442",
         "64727186",
         "69721094",
         "62128338",
         "76097011",
         "70462654",
         "93886161",
         "82291182",
         "98931907",
         "160156900",
         "79592614",
         "77432819",
         "85927993",
         "77852108",
         "63814893",
         "69007830",
         "85438391",
         "75703710",
         "77034209",
         "112117471",
         "89113633",
         "80962708",
         "87754715",
         "70790813",
         "63896155",
         "69458949",
         "71379648",
         "57809719",
         "63646627",
         "69672800",
         "58280413",
         "80223626",
         "81760313",
         "66435142",
         "65799349",
         "54105068",
         "70555843",
         "64015274",
         "65874459",
         "77663633",
         "118338980",
         "154357337",
         "69858306",
         "83322551",
         "64120079",
         "56007143",
         "57450708",
         "62199013",
         "61707573",
         "65669252",
         "68167942",
         "59144118",
         "58867230",
         "51011305",
         "48394249",
         "55469606",
         "44998470",
         "50546998",
         "55478991",
         "52279761",
         "70732297",
         "87558028",
         "56182028",
         "47204791",
         "53833582",
         "68572400",
         "84457122",
         "73695893",
         "77167866",
         "76254419",
         "98944633",
         "73641415",
         "73938285",
         "75701811",
         "67622060",
         "59256343",
         "52390266",
         "45992152",
         "51305691",
         "49501689",
         "68749792",
         "56976187",
         "46278295",
         "51511744",
         "45390123",
         "47716882",
         "47644217",
         "50133062",
         "68445649",
         "49386480",
         "40713618",
         "49923008",
         "47720166",
         "52456377",
         "58337341",
         "41949581",
         "48714063",
         "44105745",
         "64902329",
         "55275851",
         "52472936",
         "48425696",
         "65136018",
         "81235427",
         "113453171",
         "55962793",
         "45326874",
         "53724501",
         "49514676",
         "45533138",
         "37266659",
         "42110293",
         "57951604",
         "65496657",
         "55809475",
         "43570932",
         "50747263",
         "45143488",
         "56058258",
         "54834975",
         "55964401",
         "99313268",
         "68901809",
         "61996913",
         "121946497",
         "64848374",
         "61944615",
         "50214881",
         "48899973",
         "54754995",
         "54929129",
         "57462882",
         "65433166",
         "101256225",
         "49799092",
         "49515697",
         "51245327",
         "53116996",
         "48088661",
         "50730846",
         "51216801",
         "46347308",
         "85213216",
         "31458198",
         "46920261",
         "45156009",
         "46814998",
         "59922163",
         "46638119",
         "60750248",
         "41342338",
         "41616242",
         "50520159",
         "48353774",
         "80507323",
         "59581196",
         "71951683",
         "45505097",
         "37283201",
         "47471868",
         "47460180",
         "48291443",
         "38824113",
         "35281426",
         "50389327",
         "62243282",
         "115956841",
         "97576069",
         "67823003",
         "60378492",
         "54686851",
         "52036672",
         "43675627",
         "43622593",
         "46964857",
         "66062882",
         "61172150",
         "46311879",
         "42084245",
         "52722752",
         "54945798",
         "51449594",
         "43820697",
         "53003948",
         "60813888",
         "60794467",
         "45766503",
         "45280027",
         "81755816",
         "112488803",
         "65602066",
         "58953052",
         "90370192",
         "84267928",
         "60895757",
         "109259461",
         "67257573",
         "51826941",
         "58436181",
         "63149116",
         "56725385",
         "46172740",
         "64588945",
         "66921808",
         "56294419",
         "51861083",
         "52164535",
         "49594613",
         "53020286",
         "48527918",
         "57266675",
         "42390772",
         "43698019",
         "47551098",
         "56743119",
         "51456082",
         "52516984",
         "57549350",
         "54764375",
         "59302863",
         "64244028",
         "55980109",
         "43816644",
         "57156962",
         "70625258",
         "58499129",
         "51130955",
         "44846017",
         "56934906",
         "77334752",
         "79829246",
         "63841310",
         "70529966",
         "49340282",
         "53763540",
         "66177922",
         "43627519",
         "60108378",
         "53790499",
         "54412915",
         "50941404",
         "46538614",
         "38134485",
         "39630011",
         "24048344",
         "40552609",
         "38415419",
         "43014224",
         "48794366",
         "45704823",
         "43389519",
         "66628398",
         "40895115",
         "47477655",
         "53406358",
         "60943699",
         "52696900",
         "70404183",
         "66831572",
         "128538401",
         "55751861",
         "40233138",
         "52242815",
         "46482549",
         "37149570",
         "28919310",
         "47899806",
         "34049898",
         "42672148",
         "82488674",
         "58414460",
         "71983570",
         "62196924",
         "59144470",
         "42841809",
         "46792908",
         "49128408",
         "40477782",
         "65603041",
         "47317433",
         "78005754",
         "68902985",
         "60133852",
         "42355590",
         "53463269",
         "54822126",
         "44594011",
         "47145622",
         "55859370",
         "55467803",
         "64885408",
         "102551680",
         "69668820",
         "43490759",
         "53438955",
         "40962046",
         "45155216",
         "41781934",
         "56529529",
         "54630517",
         "65434496",
         "49752465",
         "53665553",
         "41529674",
         "52292208",
         "45119677",
         "40867421",
         "54318851",
         "48953939",
         "136682597",
         "73563082",
         "81510101",
         "95132355",
         "68587707",
         "71765061",
         "76267041",
         "58929918",
         "59544927",
         "51948951",
         "72571635",
         "121752699",
         "75604184",
         "55215244",
         "53423102",
         "106181270",
         "71160138",
         "54288328",
         "57388449",
         "60273265",
         "65672690",
         "43772506",
         "49013991",
         "45571129",
         "53355055",
         "41975776",
         "37216858",
         "42231444",
         "49709336",
         "91070275",
         "101670886",
         "73531773",
         "73711235",
         "50901210",
         "43122903",
         "68149377",
         "48116443",
         "49537761",
         "48251835",
         "50558329",
         "44838354",
         "68169419",
         "65934776",
         "50383147",
         "94214915",
         "163224109",
         "78569667",
         "77305771",
         "45057087",
         "48982972",
         "50759496",
         "72044809",
         "52393619",
         "70399988",
         "52845230",
         "41282925",
         "44361275",
         "42309401",
         "34648547",
         "51005924",
         "36326975",
         "52280051",
         "53068016",
         "49947941",
         "75158277",
         "50080539",
         "47471445",
         "54156785",
         "41181753",
         "53103912",
         "97262077",
         "172373296",
         "198134293",
         "97862729",
         "70122748",
         "93728300",
         "79943254",
         "86172451",
         "246421353",
         "80727006",
         "56713868",
         "66213186",
         "49772707",
         "82542718",
         "60402929",
         "58046178",
         "37369801",
         "60412408",
         "59085861",
         "48169822",
         "62627687",
         "64710617",
         "53046527",
         "62631252",
         "43234278",
         "57345884",
         "66034585",
         "49151453",
         "48201835",
         "39960260",
         "61777576",
         "51391199",
         "41601345",
         "36311778",
         "41643840",
         "50036262",
         "62500996",
         "105568560",
         "119548589",
         "69660488",
         "63516417",
         "47161149",
         "42201646",
         "38028092",
         "44155331",
         "41960574",
         "46414013",
         "44340240",
         "40687813",
         "30299033",
         "34765480",
         "43695321",
         "38677250",
         "30602208",
         "35934559",
         "38052167",
         "51906297",
         "52990770",
         "50190574",
         "43262758",
         "36615398",
         "48423011",
         "67179965",
         "51591033",
         "44587072",
         "37498225",
         "36766619",
         "59357427",
         "45519339",
         "59894928",
         "66781315",
         "318679888",
         "54146023",
         "43556068",
         "42308715",
         "36636707",
         "34025967",
         "54793391",
         "63285048",
         "32880605",
         "34044158",
         "37345098",
         "39505354",
         "31855693",
         "33591091",
         "28183544",
         "31759188",
         "39882085",
         "64751367",
         "34082240",
         "32993810",
         "46431472",
         "36254470",
         "38846578",
         "52286979",
         "31109503",
         "38802304",
         "36087134",
         "35417247",
         "47070907",
         "64370086",
         "65276741",
         "44944468",
         "28111338",
         "54561121",
         "42137691",
         "38328824",
         "42005602",
         "40398299",
         "48566217",
         "44923941",
         "47923696",
         "44686020",
         "36211774",
         "35169566",
         "42108327",
         "38168252",
         "90152832",
         "45986189",
         "33498439",
         "28481377",
         "48137103",
         "38861017",
         "44383935",
         "40033878",
         "36870619",
         "44649232",
         "36914806",
         "45205814",
         "32777532",
         "33155290",
         "51694753",
         "51356360",
         "56774101",
         "60882264",
         "147495267",
         "40858774",
         "23234705",
         "27262983",
         "42355321",
         "35557542",
         "39480718",
         "55740731",
         "40244114",
         "45045571",
         "40855960",
         "37628940",
         "61710856",
         "49630725",
         "39435294",
         "39831969",
         "71759052",
         "68488301",
         "98070429",
         "64126500",
         "60234760",
         "54697907",
         "94863418",
         "75707569",
         "45486100",
         "55658279",
         "101075128",
         "73063301",
         "45067301",
         "39664989",
         "29925349",
         "39707224",
         "33115645",
         "53718362",
         "45243292",
         "53614054",
         "40896227",
         "48822491",
         "32204215",
         "32316907",
         "53197431",
         "51326396",
         "48013272",
         "44433564",
         "41153639",
         "56833360",
         "47183985",
         "53798062",
         "47227643",
         "45170419",
         "46273565",
         "71451281",
         "76137410",
         "62547467",
         "61368330",
         "60107582",
         "48073426",
         "42432426",
         "54385391",
         "48862947",
         "94127768",
         "44299483",
         "34493583",
         "34532656",
         "37094774",
         "39818617",
         "65299321",
         "36412740",
         "35905904",
         "103419006",
         "125910913",
         "160466286",
         "120859491",
         "184395885",
         "121879981",
         "87435915",
         "101352911",
         "51343872",
         "59732423",
         "52164675",
         "46742537",
         "52976371",
         "52929165"
        ],
        [
         "IBM",
         "5525341",
         "4880389",
         "6145670",
         "4701015",
         "4240585",
         "4472701",
         "4187588",
         "4386989",
         "4689740",
         "4251698",
         "5756041",
         "8380815",
         "11896012",
         "6119523",
         "4834447",
         "7888037",
         "5659568",
         "4495633",
         "8320622",
         "6563447",
         "4712017",
         "5539406",
         "3678339",
         "5253628",
         "3256440",
         "3057502",
         "4440614",
         "3626658",
         "3333063",
         "3706919",
         "2893590",
         "4358252",
         "3504269",
         "3352781",
         "2714434",
         "4701626",
         "4004559",
         "7110571",
         "4410037",
         "5917812",
         "3234068",
         "3633335",
         "3791660",
         "4540174",
         "5193874",
         "4600968",
         "5709290",
         "4567346",
         "6063970",
         "3749638",
         "3311792",
         "5738466",
         "3878559",
         "9006417",
         "5929927",
         "4336706",
         "5428730",
         "4396024",
         "3477826",
         "4138018",
         "4255158",
         "3700791",
         "4671578",
         "3465681",
         "3147966",
         "2524323",
         "2263490",
         "2515603",
         "3868911",
         "2719287",
         "3498756",
         "3136947",
         "4308880",
         "9609204",
         "9683592",
         "4024674",
         "8230392",
         "3888439",
         "3166588",
         "5816308",
         "4517190",
         "5062613",
         "3312052",
         "4023850",
         "3593465",
         "3610900",
         "2472627",
         "3092599",
         "2661030",
         "2961739",
         "2457521",
         "2438669",
         "2916115",
         "1970630",
         "2523002",
         "2300693",
         "2295590",
         "2849692",
         "3848738",
         "2764378",
         "1731372",
         "4091431",
         "2985479",
         "2571762",
         "2131031",
         "3079334",
         "3100505",
         "3758726",
         "3395901",
         "4680545",
         "3464013",
         "3065085",
         "4245657",
         "3249842",
         "2862993",
         "3330864",
         "7072020",
         "2335796",
         "3701637",
         "3548079",
         "2408780",
         "8945485",
         "3314679",
         "3597288",
         "3214547",
         "2852696",
         "3079782",
         "3549861",
         "2776286",
         "4199708",
         "4538349",
         "4228963",
         "3025263",
         "1998004",
         "3529874",
         "4356391",
         "7335491",
         "13747503",
         "7180385",
         "5034246",
         "3777631",
         "3706240",
         "2720890",
         "3378396",
         "1994660",
         "3580226",
         "4615511",
         "5260575",
         "3463034",
         "3004487",
         "3794897",
         "4613371",
         "3167111",
         "3624852",
         "2533318",
         "3226434",
         "2249554",
         "2018337",
         "4205904",
         "4011514",
         "7360898",
         "10186817",
         "7071869",
         "6197229",
         "4975966",
         "4076211",
         "4093078",
         "5271696",
         "4251778",
         "3603518",
         "4201068",
         "3933010",
         "3407761",
         "3461658",
         "3113953",
         "3226747",
         "2717060",
         "2799222",
         "4002952",
         "7975845",
         "3824858",
         "3564015",
         "2674225",
         "3278207",
         "3474279",
         "4292421",
         "4763509",
         "3923866",
         "3880747",
         "3053928",
         "5131669",
         "3018074",
         "2989915",
         "4794357",
         "3531107",
         "3227636",
         "3915707",
         "3352327",
         "3476219",
         "3483599",
         "7954684",
         "16025591",
         "7134526",
         "5583076",
         "5370439",
         "3489428",
         "15005072",
         "8510027",
         "3710245",
         "3983990",
         "3822212",
         "4349317",
         "3516890",
         "5093471",
         "4744493",
         "8074476",
         "4520387",
         "3164806",
         "4700465",
         "4609621",
         "4190777",
         "2814487",
         "4148771",
         "4753503",
         "5176255",
         "5137872",
         "3407603",
         "3238166",
         "1415840",
         "4542014",
         "4195119",
         "3725193",
         "5905763",
         "4567752",
         "3279300",
         "3904755",
         "4614993",
         "4221948",
         "5333567",
         "5141549",
         "4238546",
         "4345474",
         "4089539",
         "10008280",
         "5616636",
         "4263538",
         "5164909",
         "1495226",
         "3143412",
         "3943691",
         "2989367",
         "3462037",
         "5229231",
         "3924785",
         "4310774",
         "7024500",
         "4762583",
         "4974236",
         "5078360",
         "4700115",
         "5709426",
         "9007945",
         "9955973",
         "16157769",
         "8851531",
         "9238219",
         "5445560",
         "4617414",
         "5025161",
         "3942537",
         "8248077",
         "3574834",
         "3287218",
         "6223424",
         "5265650",
         "7176765",
         "7363893",
         "5956138",
         "6462375",
         "7307503",
         "4935670",
         "4061066",
         "4820982",
         "9951438",
         "5125276",
         "4457444",
         "3439631",
         "4122421",
         "4358205",
         "4385699",
         "4427472",
         "3788084",
         "5217230",
         "5155978",
         "3968423",
         "5170228",
         "5537856",
         "4406304",
         "4020024",
         "4421748",
         "4047634",
         "3707538",
         "4221939",
         "5821180",
         "12088126",
         "3721463",
         "4081924",
         "4763987",
         "5044335",
         "3265084",
         "3138545",
         "3330841",
         "6780132",
         "3925181",
         "3930319",
         "3336952",
         "4194265",
         "3662508",
         "3293512",
         "3845918",
         "3595549",
         "3167970",
         "3176300",
         "3657466",
         "6538819",
         "13188308",
         "6754189",
         "6015526",
         "5191802",
         "2848935",
         "2979699",
         "3110789",
         "3791337",
         "4225790",
         "3502443",
         "3584261",
         "2576786",
         "6500738",
         "4895684",
         "4302425",
         "3992536",
         "3092408",
         "3249032",
         "2397902",
         "3069126",
         "3490374",
         "2491086",
         "3685595",
         "3670262",
         "2103733",
         "2929132",
         "4358039",
         "3062934",
         "2457037",
         "5836645",
         "2662937",
         "2642601",
         "2328056",
         "2378462",
         "4464985",
         "2935036",
         "2021796",
         "3120563",
         "3610407",
         "2865833",
         "2260406",
         "2449064",
         "4663870",
         "3572102",
         "2760344",
         "2833364",
         "3967419",
         "9081182",
         "5166665",
         "3996007",
         "3367736",
         "3967126",
         "2658280",
         "2464820",
         "2569393",
         "2138421",
         "3040593",
         "2833612",
         "3843773",
         "2746089",
         "4637624",
         "4474358",
         "6716340",
         "7119917",
         "4373609",
         "4046030",
         "2520077",
         "2804578",
         "2892969",
         "2162680",
         "2340369",
         "3547395",
         "2823578",
         "3080899",
         "2861558",
         "2488878",
         "3812370",
         "3039081",
         "2737530",
         "2466675",
         "8768585",
         "2543079",
         "2970415",
         "2210229",
         "3225919",
         "3652013",
         "2815163",
         "2039331",
         "2838137",
         "3620365",
         "2575023",
         "2498909",
         "2475853",
         "1813343",
         "2323649",
         "2358385",
         "2315366",
         "2994056",
         "2866227",
         "3963164",
         "5185972",
         "4367529",
         "3636719",
         "3860553",
         "3662573",
         "6463213",
         "2450117",
         "2159092",
         "2473895",
         "2690915",
         "2702143",
         "2533325",
         "2987195",
         "3309408",
         "3374838",
         "3596878",
         "2227800",
         "2884146",
         "1684458",
         "1950106",
         "2671256",
         "2481288",
         "2901226",
         "2963843",
         "2909948",
         "4358147",
         "5890421",
         "12770570",
         "4632854",
         "4023075",
         "4414171",
         "2666740",
         "2647416",
         "2811421",
         "4229336",
         "3654446",
         "3553172",
         "3191924",
         "3074338",
         "2878728",
         "2470353",
         "3804943",
         "3921044",
         "5403688",
         "7715807",
         "4446630",
         "5196498",
         "3476996",
         "2252806",
         "2260984",
         "2981633",
         "4637097",
         "2770736",
         "2256035",
         "1605344",
         "4449355",
         "3148196",
         "4397777",
         "4634740",
         "2740782",
         "3447052",
         "2858962",
         "4435050",
         "3266336",
         "3146930",
         "3392030",
         "5932271",
         "4123821",
         "3388570",
         "7117050",
         "2955864",
         "2174569",
         "3575210",
         "2802631",
         "1701228",
         "1397455",
         "1757500",
         "1663542",
         "2952200",
         "2934299",
         "3381232",
         "2682181",
         "2945536",
         "3189413",
         "4118694",
         "3599464",
         "2927953",
         "2875319",
         "3315655",
         "4005626",
         "6963386",
         "12606847",
         "5477314",
         "6952369",
         "5922462",
         "3063911",
         "3482105",
         "4093555",
         "4134049",
         "2795445",
         "2620526",
         "3309179",
         "2650509",
         "3873233",
         "2913126",
         "3090710",
         "2930710",
         "3093372",
         "2775818",
         "2914292",
         "3251547",
         "3552305",
         "4480199",
         "3020540",
         "2282526",
         "3299019",
         "3691209",
         "3273335",
         "3005564",
         "2918153",
         "1825048",
         "3204434",
         "2977596",
         "3557396",
         "5444076",
         "3100116",
         "3482189",
         "3147497",
         "3815537",
         "4311848",
         "5920967",
         "2476125",
         "3927741",
         "3450512",
         "3739976",
         "3221672",
         "3259049",
         "3523345",
         "3085606",
         "3168254",
         "2913684",
         "4286498",
         "3108855",
         "6238894",
         "3435403",
         "3588302",
         "3789936",
         "4890163",
         "3276931",
         "3205462",
         "3720218",
         "6345465",
         "19284300",
         "6486809",
         "5607756",
         "5320608",
         "4842189",
         "4311484",
         "4081640",
         "4029533",
         "4919710",
         "3149949",
         "3990429",
         "4271669",
         "12415240",
         "7415765",
         "6823015",
         "4995590",
         "5546379",
         "3651964",
         "4218359",
         "5452539",
         "5048937",
         "3268772",
         "5617824",
         "3248372",
         "2563975",
         "3731333",
         "2579828",
         "2440117",
         "3609710",
         "3496466",
         "2904189",
         "3573193",
         "3971157",
         "3786593",
         "4858631",
         "3681319",
         "4355401",
         "6461725",
         "3509558",
         "3035864",
         "4626272",
         "6128190",
         "4381436",
         "4469538",
         "3934281",
         "2361275",
         "3148468",
         "2129945",
         "2385619",
         "2203062",
         "3245649",
         "3501395",
         "2822499",
         "3558639",
         "2735717",
         "2345721",
         "2804780",
         "3431418",
         "3090315",
         "2474847",
         "3214337",
         "4751141",
         "6867302",
         "14043000",
         "7105481",
         "6456514",
         "3818232",
         "4184435",
         "3806651",
         "6374650",
         "3022662",
         "4333680",
         "3197848",
         "3400024",
         "3028769",
         "2542800",
         "4576508",
         "3281972",
         "2920582",
         "4378186",
         "3004040",
         "2222304",
         "4652618",
         "3239516",
         "4342286",
         "4128761",
         "2949410",
         "2495902",
         "4035421",
         "3580245",
         "2866131",
         "5086015",
         "3000993",
         "2715466",
         "3614517",
         "3348503",
         "3097503",
         "3205295",
         "4155968",
         "3344701",
         "4549334",
         "5222522",
         "4070378",
         "3742944",
         "7297773",
         "3018012",
         "3456574",
         "5384615",
         "2289276",
         "2741663",
         "5179476",
         "4106513",
         "3446073",
         "2763219",
         "2635887",
         "2955450",
         "2285725",
         "2225673",
         "2536971",
         "2248474",
         "2678887",
         "4028877",
         "3674765",
         "3255559",
         "2490548",
         "3035184",
         "4941313",
         "30445283",
         "9878844",
         "7848320",
         "5765384",
         "8173017",
         "5443794",
         "4253664",
         "4893779",
         "4206189",
         "4224346",
         "3228302",
         "3388284",
         "4420582",
         "4498372",
         "3688378",
         "4630031",
         "4770841",
         "4304369",
         "5085257",
         "3691934",
         "4695745",
         "5393609",
         "4865373",
         "5654091",
         "3756184",
         "3125416",
         "1193025",
         "3303663",
         "3915618",
         "5098702",
         "6500769",
         "5567852",
         "4639109",
         "5042724",
         "3345712",
         "3768443",
         "3440847",
         "4068982",
         "6314835",
         "5624428",
         "4623845",
         "10469312",
         "5054265",
         "4111495",
         "3771425",
         "4126632",
         "2982114",
         "2477240",
         "2116522",
         "2669076",
         "3310894",
         "4195225",
         "9439063",
         "7363843",
         "5162075",
         "5101023",
         "4333418",
         "4150836",
         "3783614",
         "5007254",
         "7588202",
         "11630539",
         "10948033",
         "21079530",
         "8340507",
         "7417268",
         "5507664",
         "3240177",
         "3664496",
         "3423903",
         "4796200",
         "4025105",
         "4422505",
         "5174779",
         "8600416",
         "9823824",
         "6069258",
         "6599136",
         "7763603",
         "5659623",
         "4854790",
         "5422862",
         "5525079",
         "4239560",
         "4267801",
         "3492694",
         "4017699",
         "3208908",
         "3576723",
         "4192962",
         "3761597",
         "4039339",
         "3261141",
         "3670630",
         "3685736",
         "4607677",
         "6095521",
         "4783247",
         "5056489",
         "4097662",
         "3614293",
         "3860479",
         "8447294",
         "5415258",
         "4296935",
         "3240695",
         "4617371",
         "4389015",
         "4038586",
         "3810994",
         "3664826",
         "3419959",
         "5150435",
         "4135696",
         "4805261",
         "3185388",
         "3672919",
         "4413178",
         "3955952",
         "3306539",
         "5639444",
         "4057058",
         "4186755",
         "10207534",
         "20381695",
         "8086056",
         "8265643",
         "5315625",
         "4916476",
         "7324654",
         "4265812",
         "3205482",
         "4415533",
         "4433393",
         "5194917",
         "5018592",
         "4402170",
         "3657009",
         "5369119",
         "4195953",
         "3726608",
         "3073167",
         "3216062",
         "4089397",
         "3168659",
         "3147659",
         "2682243",
         "2894698",
         "2284020",
         "3459747",
         "3398701",
         "4914294",
         "4537638",
         "5118530",
         "6830256",
         "3857530",
         "3035257",
         "2836017",
         "3220139",
         "4316484",
         "5210468",
         "3259986",
         "2640515",
         "2968180",
         "3326343",
         "9116048",
         "4286406",
         "3487015",
         "3329917",
         "3887650",
         "6013678",
         "8937085",
         "4139455",
         "4097588",
         "4523666",
         "3753684",
         "3405642",
         "1963232",
         "3744730",
         "2910426",
         "3904652",
         "3776991",
         "3526565",
         "3119505",
         "3067638",
         "3468817",
         "5096741",
         "6935288",
         "14655804",
         "6415972",
         "3897892",
         "3891625",
         "3623182",
         "4778022",
         "3749642",
         "3608283",
         "5474478",
         "3388386",
         "3841447",
         "8053567",
         "3913743",
         "3508758",
         "3581746",
         "3093504",
         "3003158",
         "2858842",
         "2860041",
         "4241496",
         "5250878",
         "2678820",
         "2499654",
         "3106876",
         "2388961",
         "2220603",
         "2776813",
         "3491565",
         "2455328",
         "3153845",
         "3340369",
         "3488476",
         "3326153",
         "3126540",
         "4248831",
         "4693127",
         "3618209",
         "3374774",
         "4506679",
         "5346540",
         "3452144",
         "3551882",
         "3629596",
         "4246382",
         "5952223",
         "19947878",
         "4264984",
         "4397457",
         "7401862",
         "3477643",
         "3305798",
         "3757419",
         "3030125",
         "3315298",
         "4238143",
         "4602252",
         "3239347",
         "3642496",
         "5547697",
         "8710491",
         "6563403",
         "4965533",
         "8695489",
         "19464000",
         "10011678",
         "7791636",
         "5719518",
         "6463580",
         "5710320",
         "10304327",
         "8767029",
         "20450448",
         "21458594",
         "21644978",
         "13626730",
         "10592681",
         "9144598",
         "9597392",
         "12382666",
         "10396439",
         "6961902",
         "5379113",
         "4084385",
         "4762275",
         "5207973",
         "4076315",
         "4131238",
         "6233777",
         "5335842",
         "2334730",
         "5011130",
         "4903771",
         "5104520",
         "5200113",
         "7251590",
         "5843112",
         "6000697",
         "6938049",
         "7019616",
         "6549506",
         "5043081",
         "3560790",
         "3993597",
         "4554204",
         "7374476",
         "6290186",
         "6979823",
         "8454350",
         "10386453",
         "3821376",
         "6645794",
         "6045590",
         "5117533",
         "4982755",
         "4239924",
         "4346659",
         "4477755",
         "3751204",
         "4763636",
         "3633663",
         "3909971",
         "3722370",
         "5228909",
         "3507719",
         "3841100",
         "5029871",
         "6008509",
         "10052384",
         "22063666",
         "6322928",
         "5708500",
         "5357736",
         "5037129",
         "4500919",
         "4884031",
         "3806047",
         "3966597",
         "5398907",
         "4879670",
         "4379439",
         "3250074",
         "3095069",
         "3317161",
         "4253042",
         "2789839",
         "3844062",
         "3385675",
         "3801979",
         "2937467",
         "3113698",
         "3194161",
         "3060381",
         "2530968",
         "3457788",
         "3030044",
         "3407217",
         "4250650",
         "2768256",
         "4358802",
         "3773722",
         "3939517",
         "3954653",
         "3173179",
         "2738790",
         "7153687",
         "3268510",
         "3482336",
         "3649455",
         "3605420",
         "3877616",
         "2839766",
         "2553708",
         "3098233",
         "2663884",
         "3101454",
         "3984250",
         "2404920",
         "2681645",
         "2771462",
         "2731985",
         "2118228",
         "3038460",
         "2678310",
         "2941985",
         "2898899",
         "3603158",
         "6301671",
         "12525693",
         "4960015",
         "4494333",
         "4462240",
         "2774867",
         "2910113",
         "2319834",
         "2958333",
         "4638828",
         "3053683",
         "3541352",
         "2580034",
         "2793655",
         "4726771",
         "3818909",
         "4192942",
         "3977686",
         "4958021",
         "3280374",
         "2551009",
         "3017472",
         "2619135",
         "3264649",
         "2503504",
         "1849821",
         "5343437",
         "2596121",
         "4909121",
         "3678978",
         "2741880",
         "3539343",
         "4267080",
         "3913535",
         "3161584",
         "2298248",
         "2553398",
         "2911327",
         "3407345",
         "2254741",
         "2955419",
         "2193367",
         "2194129",
         "2914698",
         "2382520",
         "3071017",
         "5288759",
         "2186137",
         "2801251",
         "2284567",
         "2149824",
         "6154039",
         "3387184",
         "2410092",
         "1930361",
         "2135085",
         "2395487",
         "3365227",
         "2513931",
         "2133327",
         "2786276",
         "2368309",
         "3474688",
         "6064265",
         "12695387",
         "7290678",
         "4093239",
         "3742204",
         "2952435",
         "3102113",
         "2904494",
         "2075528",
         "2632726",
         "3722907",
         "6344006",
         "8101720",
         "7114871",
         "5070650",
         "5931883",
         "5261444",
         "5244594",
         "4516866",
         "4551170",
         "5114159",
         "3738945",
         "3011993",
         "3165436",
         "3018934",
         "2806774",
         "2695009",
         "4818759",
         "2836837",
         "4728392",
         "2713251",
         "2972842",
         "2960594",
         "2827919",
         "2247924",
         "5011628",
         "2576441",
         "4218622",
         "4979341",
         "3867963",
         "2504162",
         "2206605",
         "1928269",
         "2940494",
         "1994714",
         "3181790",
         "5217726",
         "1849558",
         "3311403",
         "2544628",
         "2313892",
         "2356682",
         "4004019",
         "2973628",
         "3347129",
         "3138743",
         "2447901",
         "2487737",
         "3342266",
         "2631860",
         "2619287",
         "3015458",
         "2325055",
         "3044933",
         "5835941",
         "15824614",
         "7177468",
         "6370639",
         "4193653",
         "3626724",
         "2619190",
         "2577995",
         "3225692",
         "4158483",
         "2252680",
         "3410851",
         "3088769",
         "3333510",
         "3012926",
         "4476362",
         "4073697",
         "2278446",
         "2568022",
         "3046496",
         "3060919",
         "4231231",
         "3262504",
         "3210383",
         "2995004",
         "4138165",
         "3322158",
         "3297397",
         "2590146",
         "3806859",
         "3280699",
         "1825255",
         "3066813",
         "3708102",
         "3530028",
         "3595312",
         "3437438",
         "2968310",
         "3478362",
         "3698494",
         "4824103",
         "2534970",
         "3049224",
         "2907186",
         "3101819",
         "3866494",
         "7111779",
         "2803158",
         "1202087",
         "2129654",
         "2752185",
         "4118929",
         "3777504",
         "3148461",
         "2373470",
         "2421128",
         "3267592",
         "4345952",
         "3730549",
         "3255398",
         "3162843",
         "3680958",
         "4045591",
         "4319896",
         "5622251",
         "7130819",
         "16464948",
         "5654308",
         "5579292",
         "4165146",
         "3449000",
         "3053189",
         "5007038",
         "18987138",
         "8886414",
         "5619700",
         "14379714",
         "8394374",
         "6414553",
         "5237553",
         "3833574",
         "4437792",
         "3819757",
         "6095081",
         "3343038",
         "2732905",
         "2880483",
         "3536740",
         "5447948",
         "6210878",
         "5407690",
         "8404903",
         "13009236",
         "8528971",
         "7893390",
         "4994682",
         "5445193",
         "8192525",
         "10750357",
         "11403865",
         "8446480",
         "12485925",
         "12493419",
         "10564044",
         "8887501",
         "8751994",
         "8391294",
         "10543213",
         "9718602",
         "7967768",
         "8646557",
         "7153135",
         "6421470",
         "5562501",
         "6342167",
         "6111890",
         "6327540",
         "4538113",
         "7026457",
         "5592463",
         "5155987",
         "5576210",
         "5118777",
         "5087292",
         "5632156",
         "6438128",
         "4964018",
         "7965530",
         "14341304",
         "7085901",
         "6873899",
         "4985575",
         "4920443",
         "4775867",
         "5252734",
         "6630032",
         "4923913",
         "4016551",
         "3897761",
         "3861081",
         "4412047",
         "5002450",
         "3533382",
         "4779635",
         "5874676",
         "5255607",
         "4785773",
         "4205425",
         "3239964",
         "3840563",
         "4018329",
         "4179906",
         "5467436",
         "5725163",
         "3915224",
         "7929905",
         "2867306",
         "2976908",
         "3913804",
         "3864131",
         "5892718",
         "5368387",
         "5391520",
         "4725055",
         "11753674",
         "6218003",
         "5148756",
         "5605791",
         "3153862",
         "2860286",
         "8098994",
         "4762601",
         "6628278",
         "6747421",
         "6128720",
         "10749166",
         "4159488",
         "3916381",
         "4657168",
         "3745663",
         "4044188",
         "4278088",
         "5191792",
         "4760875",
         "4285088",
         "4644595",
         "4531393",
         "4470095",
         "4328856",
         "3983972",
         "9737157",
         "15356679",
         "8195366",
         "4220136",
         "3531076",
         "3733547",
         "4178176",
         "2833141",
         "3988062",
         "5277652",
         "3526574",
         "3431366",
         "3675400",
         "3417131",
         "3651226",
         "3968295",
         "5001176",
         "3530177",
         "3171258",
         "2963753",
         "3336459",
         "2882355",
         "3743949",
         "2561164",
         "3385051",
         "4070816",
         "2977697",
         "3388687",
         "3422654",
         "3099940",
         "4827879",
         "3155623",
         "6592430",
         "5716750",
         "6018238",
         "5210292",
         "3770678",
         "3978805",
         "3548091",
         "3641887",
         "2915221",
         "3789458",
         "3171262",
         "5391570",
         "5311441",
         "2957809",
         "3939398",
         "3546160",
         "2953686",
         "3509576",
         "2130564",
         "3261235",
         "3211661",
         "2925228",
         "3050949",
         "3872265",
         "2815663",
         "25288926",
         "8353704",
         "4635115",
         "5406088",
         "3730139",
         "3389301",
         "4714320",
         "7478735",
         "21501073",
         "9755308",
         "7858158",
         "3893362",
         "7203366",
         "5936106",
         "9427321",
         "6760241",
         "7923882",
         "5311497",
         "4204287",
         "5800071",
         "4902206",
         "5249171",
         "8992152",
         "5622756",
         "4289601",
         "6500799",
         "4683512",
         "5293385",
         "4134455",
         "4606828",
         "3439648",
         "5024593",
         "5655119",
         "7535949",
         "4135894",
         "2091186",
         "5987991",
         "5099334",
         "3690737",
         "4548161",
         "5522760",
         "8318500",
         "5395024",
         "6513517",
         "4803172",
         "4481416",
         "5050023",
         "4359601",
         "4530096",
         "3787962",
         "7552845",
         "6115671",
         "4337757",
         "2693889",
         "1761122",
         "3583222",
         "3487007",
         "3380494",
         "3574696",
         "5179161",
         "6114619",
         "7956740",
         "4507382",
         "4676487",
         "5602466",
         "3729068",
         "7677739",
         "7503180",
         "4905506",
         "5397956",
         "5598705",
         "12819233",
         "38063533",
         "13686391",
         "10694708",
         "12146541",
         "8084051",
         "11825496",
         "6250508",
         "6311881",
         "6715366",
         "4562124",
         "4565727",
         "5887999",
         "4661655",
         "4831858",
         "5381556",
         "3871195",
         "6639790",
         "3949876",
         "5399145",
         "6578741",
         "5838841",
         "4531464",
         "5819983",
         "5672671",
         "8868848",
         "5715767",
         "4524299",
         "7404269",
         "8068492",
         "6949265",
         "7239191",
         "5609029",
         "7247807",
         "5146937",
         "4010100",
         "3421281",
         "4653178",
         "4291351",
         "5835669",
         "9844983",
         "4164914",
         "4356359",
         "4005027",
         "5553966",
         "5567592",
         "4622664",
         "4790366",
         "4945315",
         "4074161",
         "5471616",
         "3620964",
         "2976136",
         "4087228",
         "3023916",
         "3753959",
         "8033530",
         "5868049",
         "3883955",
         "5291756",
         "8198582",
         "15480579",
         "11909005",
         "7101368",
         "4556700",
         "4710763",
         "3884037",
         "3768129",
         "4353880",
         "8872181",
         "5733463",
         "6350479",
         "4999900",
         "7503487",
         "7003467",
         "6983377",
         "7126404",
         "5959579",
         "4598920",
         "2747385",
         "4275172",
         "3824050",
         "4300732",
         "4112690",
         "4033482",
         "3297570",
         "3937323",
         "3083789",
         "5630345",
         "2534811",
         "2417455",
         "2786916",
         "4130741",
         "3117905",
         "3462712",
         "5080099",
         "5303252",
         "4758488",
         "3438255",
         "3344845",
         "2513281",
         "3795420",
         "4367387",
         "9156505",
         "4285711",
         "2437121",
         "3202644",
         "3609679",
         "3594218",
         "3888869",
         "2428626",
         "3245091",
         "2686289",
         "16828161",
         "8093747",
         "4059667",
         "5487425",
         "3904059",
         "3342627",
         "3164294",
         "4403752",
         "3639698",
         "4109308",
         "8582302",
         "13611675",
         "4803977",
         "3314153",
         "4474157",
         "4246266",
         "3137027",
         "2544099",
         "2657669",
         "3535555",
         "2929540",
         "4084724",
         "2830079",
         "2757389",
         "3826835",
         "4904065",
         "5299869",
         "4259952",
         "2089418",
         "1908951",
         "2786343",
         "3074078",
         "3510694",
         "4160129",
         "2657763",
         "3039587",
         "2365638",
         "2012817",
         "2498915",
         "2459643",
         "1995526",
         "4235101",
         "2474544",
         "2715659",
         "1924215",
         "3285363",
         "2985409",
         "3508363",
         "3975115",
         "4144345",
         "4454291",
         "3254122",
         "2643975",
         "5633480",
         "4770651",
         "4074528",
         "3602416",
         "3013238",
         "2964397",
         "3306865",
         "4314595",
         "3774236",
         "5824431",
         "6604064",
         "7351128",
         "6976648",
         "5328433",
         "3823803",
         "3731279",
         "2793298",
         "3148559",
         "2880747",
         "4217305",
         "3222778",
         "6154055",
         "4339548",
         "6189255",
         "31466529",
         "11582195",
         "6374038",
         "8520872",
         "6973432",
         "6503003",
         "5916789",
         "5874767",
         "4496393",
         "5421406",
         "7208736",
         "6790478",
         "5625275",
         "7195453",
         "6268961",
         "4643257",
         "5376966",
         "5046321",
         "4750760",
         "4043289",
         "5047879",
         "5384548",
         "6417218",
         "4914995",
         "3220802",
         "3322012",
         "8949795",
         "9252701",
         "5959867",
         "5267149",
         "6630139",
         "4785560",
         "5193991",
         "5483948",
         "4601092",
         "4966921",
         "6847468",
         "5716124",
         "4990028",
         "7280537",
         "10382693",
         "4941411",
         "4855972",
         "3923198",
         "3649044",
         "4294499",
         "3447079",
         "4239935",
         "3158111",
         "3315313",
         "4610665",
         "7300011",
         "8956910",
         "9908081",
         "5238099",
         "5432807",
         "11081210",
         "5352014",
         "4868349",
         "5310305",
         "5236258",
         "4099035",
         "5278244",
         "5906950",
         "13777648",
         "19715698",
         "8335992",
         "5499566",
         "5471497",
         "5859043",
         "6206448",
         "5357237",
         "6100777",
         "4142045",
         "3759046",
         "4181825",
         "5393478",
         "5978640",
         "4176155",
         "5345289",
         "4395714",
         "4875612",
         "6796997",
         "4609212",
         "5306688",
         "4086367",
         "6563202",
         "4460904",
         "6757332",
         "4873331",
         "4891435",
         "5206649",
         "4402911",
         "5047358",
         "4887565",
         "4403499",
         "5326835",
         "4119630",
         "3289440",
         "4021228",
         "4292845",
         "3671903",
         "7400216",
         "3379393",
         "2649026",
         "2924535",
         "2971075",
         "3516923",
         "2483492",
         "5791032",
         "2622860",
         "4274029",
         "4012373",
         "2811100",
         "3102238",
         "3958057",
         "3538317",
         "3143309",
         "3202545",
         "2690998",
         "3064918",
         "6384180",
         "4884150",
         "7971361",
         "17770306",
         "9922349",
         "6508599",
         "5748289",
         "4887395",
         "4369052",
         "4477068",
         "5078660",
         "4213477",
         "3688574",
         "5913705",
         "5957434",
         "7306396",
         "7647933",
         "8642398",
         "5301131",
         "5384809",
         "4195218",
         "4250395",
         "4372909",
         "6003015",
         "5819664",
         "6914458",
         "3591511",
         "4189723",
         "3299303",
         "3929338",
         "4608215",
         "7978053",
         "3796488",
         "3734812",
         "4352213",
         "4767100",
         "2887051",
         "3005666",
         "3592551",
         "4661716",
         "6486044",
         "4607785",
         "4606887",
         "5386396",
         "12968509",
         "4089272",
         "3791635",
         "4547925",
         "11493012",
         "3935968",
         "4065202",
         "4161491",
         "4878020",
         "4012106",
         "6274067",
         "3237059",
         "3897077",
         "2820928",
         "3912773",
         "3235571",
         "4123213",
         "5298351",
         "4519320",
         "8231694",
         "29690535",
         "9882016",
         "11975361",
         "6467205",
         "4702352",
         "3645313",
         "4175625",
         "3913680",
         "5786815",
         "4142099",
         "4403633",
         "3088532",
         "3179789",
         "2586519",
         "3825145",
         "3495991",
         "3663995",
         "3501925",
         "2767054",
         "2791241",
         "4313600",
         "3667568",
         "3177726",
         "3155842",
         "3093629",
         "4141798",
         "2855421",
         "2706005",
         "4185254",
         "2751308",
         "2407888",
         "3490380",
         "3396219",
         "3040813",
         "3345343",
         "2401513",
         "2964613",
         "3293365",
         "3741168",
         "4565585",
         "3819067",
         "5141671",
         "9839696",
         "3981606",
         "2837485",
         "3389545",
         "4038335",
         "5195693",
         "3987817",
         "4117215",
         "4996378",
         "3817723",
         "5346108",
         "4261729",
         "4566055",
         "3212872",
         "5074624",
         "4499672",
         "5990008",
         "4043265",
         "3338754",
         "5837645",
         "3763840",
         "5458585",
         "5120336",
         "5906576",
         "13623115",
         "7201256",
         "5610914",
         "5957623",
         "5140023",
         "3993168",
         "5965457",
         "4915270",
         "3590607",
         "5365264",
         "4442443",
         "4177972",
         "4043062",
         "5042756",
         "4720007",
         "5389025",
         "5871264",
         "5245624",
         "4727107",
         "3445302",
         "3955162",
         "4661735",
         "3476208",
         "7062060",
         "3658459",
         "2075156",
         "3538696",
         "2754744",
         "6377582",
         "4495924",
         "2899995",
         "2784767",
         "2847610",
         "3971285",
         "2665687",
         "3047581",
         "4032780",
         "8811553",
         "4205878",
         "6687744",
         "9834427",
         "5282860",
         "5156450",
         "3793700",
         "3337851",
         "2092715",
         "2742525",
         "2539577",
         "2337207",
         "2858110",
         "3338829",
         "3869236",
         "2866648",
         "3574042",
         "3987782",
         "2152172",
         "3268738",
         "2716118",
         "2455786",
         "2986461",
         "6445642",
         "4833924",
         "7153341",
         "5898436",
         "4407622",
         "7347453",
         "17548483",
         "8143146",
         "5375712",
         "7206448",
         "5428898",
         "6107793",
         "3755720",
         "4841300",
         "3737553",
         "4593748",
         "3918817",
         "5049571",
         "4403015",
         "3202172",
         "2507004",
         "2965495",
         "3466184",
         "4257210",
         "3200185",
         "3725648",
         "3015907",
         "2761326",
         "5143133",
         "3760678",
         "3340254",
         "2860286",
         "2982980",
         "3530439",
         "2778798",
         "5478317",
         "5990867",
         "8188369",
         "8114792",
         "5989339",
         "6440023",
         "37400167",
         "4588304",
         "3856345",
         "3549024",
         "4651936",
         "3812644",
         "6524113",
         "2889115",
         "3279846",
         "3561762",
         "4524686",
         "3840139",
         "3382783",
         "2898759",
         "3050581",
         "2614402",
         "3132430",
         "3957542",
         "5621512",
         "4180614",
         "3657929",
         "3193787",
         "7014368",
         "9749618",
         "6725426",
         "4043892",
         "4275396",
         "4058800",
         "3204889",
         "5061247",
         "2724992",
         "4445283",
         "4554212",
         "4468237",
         "4971936",
         "3663818",
         "4540047",
         "4189222",
         "3446452",
         "4564825",
         "2915725",
         "2749125",
         "4515134",
         "3797883",
         "4306657",
         "2806770",
         "4592280",
         "3915505",
         "4102854",
         "5612570",
         "3741050",
         "11086313",
         "4136086",
         "5375796",
         "3993516",
         "3297951",
         "5772024",
         "4128939",
         "3981748",
         "4500120",
         "3927331",
         "4514888",
         "3812582",
         "7473676",
         "4272511",
         "5501272",
         "6013021",
         "11324705",
         "4845649",
         "3219909",
         "2753779",
         "3639836",
         "4236677",
         "1477149",
         "2955870",
         "3508083",
         "2982738",
         "2369425",
         "2925238",
         "3732189",
         "3221422",
         "2861496",
         "3168419",
         "3852058",
         "5519992",
         "10896330",
         "5858741",
         "3475442",
         "3770813",
         "4046441",
         "6331563",
         "6686627",
         "6138902",
         "4798703",
         "4959381",
         "3952640",
         "4223204",
         "3438654",
         "4654582",
         "4073038",
         "4735763",
         "2526433",
         "4226563",
         "3656559",
         "3285347",
         "3742058",
         "3915480",
         "2937781",
         "3557734",
         "2559083",
         "2900244",
         "3660147",
         "3561347",
         "2778113",
         "2245402",
         "3885949",
         "2727796",
         "3731281",
         "2932203",
         "3333040",
         "3722927",
         "3273720",
         "4457695",
         "2627999",
         "2723200",
         "6234033",
         "2508062",
         "3945423",
         "9636681",
         "4944786",
         "2562216",
         "2694245",
         "4824654",
         "4439121",
         "5783422",
         "5703983",
         "3275461",
         "3284421",
         "2637779",
         "3223910",
         "3511347",
         "2354396",
         "3015784",
         "2511459",
         "3921142",
         "4583553",
         "3361468",
         "4172822",
         "3329985",
         "5314159",
         "4865615",
         "3457527",
         "3697975",
         "6472549",
         "11130170",
         "5469227",
         "4204190",
         "6592041",
         "4750081",
         "3902657",
         "3510495",
         "4597249",
         "3549853",
         "3618588",
         "3412713",
         "3179541",
         "2647288",
         "4321940",
         "4632519",
         "3519172",
         "4426676",
         "3658936",
         "2859508",
         "3045091",
         "1799161",
         "4053093",
         "2666182",
         "3568887",
         "6740622",
         "4871860",
         "5779017",
         "4556668",
         "3356432",
         "3665498",
         "4561342",
         "6077207",
         "5292290",
         "4989141",
         "6129804",
         "11016108",
         "3677533",
         "3717429",
         "4865797",
         "2982924",
         "2442715",
         "1772443",
         "3006612",
         "2071313",
         "2526169",
         "3825044",
         "4086065",
         "3212004",
         "3698961",
         "3321698",
         "2617186",
         "2967852",
         "3778395",
         "4958261",
         "4869635",
         "4288604",
         "3776990",
         "6929079",
         "4925964",
         "3983461",
         "7831157",
         "29596239",
         "9895941",
         "6107908",
         "4575058",
         "8876055",
         "4669444",
         "4055411",
         "4379602",
         "3338196",
         "4841188",
         "5161185",
         "5064641",
         "4724021",
         "4290453",
         "3173391",
         "4714301",
         "4842840",
         "4247181",
         "4728473",
         "5078398",
         "3433800",
         "4620815",
         "3641378",
         "3216345",
         "6458487",
         "4018354",
         "7938266",
         "5653641",
         "6945818",
         "4604458",
         "3943113",
         "4712688",
         "5862512",
         "3960737",
         "4102202",
         "8828184",
         "5410562",
         "5317341",
         "3238643",
         "6013561",
         "3988398",
         "3718289",
         "4229535",
         "3693305",
         "3742169",
         "2362586",
         "2689711",
         "2818910",
         "2924438",
         "2012428",
         "2673611",
         "2790673",
         "3081915",
         "2861736",
         "3547378",
         "3528140",
         "4473654",
         "3003033",
         "2886733",
         "3037990",
         "3076451",
         "5950229",
         "7616643",
         "16702150",
         "8983796",
         "5263342",
         "6011634",
         "4030960",
         "3829853",
         "3400405",
         "4222266",
         "3155260",
         "3522011",
         "4266616",
         "2255370",
         "2414859",
         "2600967",
         "4468823",
         "3492267",
         "2956387",
         "2726261",
         "6459800",
         "3294900",
         "3341335",
         "2587829",
         "2629645",
         "4206576",
         "3852963",
         "4905002",
         "2776058",
         "2594203",
         "3049377",
         "2207263",
         "3475495",
         "3444684",
         "2951251",
         "3522698",
         "3525717",
         "2777717",
         "3239815",
         "3386442",
         "4723078",
         "10182025",
         "4864735",
         "4119267",
         "2779016",
         "2894001",
         "4193459",
         "3320961",
         "2883275",
         "1649049",
         "2085970",
         "2503038",
         "2513305",
         "3462182",
         "2807145",
         "4785565",
         "2925794",
         "3374526",
         "4225302",
         "3487808",
         "3816039",
         "2488525",
         "2180225",
         "6962071",
         "9532802",
         "4294875",
         "3336806",
         "3064978",
         "5558405",
         "4085354",
         "4548824",
         "4975002",
         "3632517",
         "3801942",
         "3712698",
         "2773706",
         "2290421",
         "2178862",
         "1895114",
         "2471985",
         "2494472",
         "2361378",
         "1790371",
         "2579343",
         "1969496",
         "2321961",
         "2567217",
         "2617229",
         "2645244",
         "2989594",
         "4750999",
         "3874697",
         "3111332",
         "3229345",
         "3304491",
         "3705004",
         "3070644",
         "5554309",
         "4616446",
         "4572344",
         "4176257",
         "5635210",
         "3482764",
         "5279559",
         "9958980",
         "4074755",
         "3184114",
         "2537751",
         "2673210",
         "3830335",
         "3544264",
         "3548374",
         "3343399",
         "3788265",
         "3554328",
         "3457952",
         "3245342",
         "5083566",
         "3142031",
         "3469322",
         "2524389",
         "3350556",
         "2846669",
         "5040092",
         "4715688",
         "2733336",
         "3180807",
         "5791002",
         "11193440",
         "8482235",
         "4993343",
         "5258366",
         "6956624",
         "5925250",
         "3334308",
         "2594119",
         "2441535",
         "3934386",
         "3675812",
         "3201038",
         "3012987",
         "2818216",
         "3247830",
         "6372853",
         "3986460",
         "3406045",
         "2860746",
         "4562901",
         "5236434",
         "5320740",
         "7189260",
         "4449543",
         "2995121",
         "2640253",
         "2656181",
         "3163815",
         "4104195",
         "4791116",
         "4028430",
         "4970449",
         "4769531",
         "3872680",
         "4515741",
         "2757683",
         "3610257",
         "3651346",
         "4152517",
         "4430120",
         "12423200",
         "2988137",
         "1186216",
         "3287238",
         "1810760",
         "2095565",
         "2270512",
         "2579498",
         "3873578",
         "2847128",
         "3299701",
         "2619768",
         "3570497",
         "3716816",
         "3485829",
         "2951825",
         "3329060",
         "5506837",
         "3982203",
         "4759490",
         "3619651",
         "3233293",
         "4898355",
         "4485429",
         "7079804",
         "15381890",
         "7203519",
         "8408523",
         "6077652",
         "6165096",
         "6128293",
         "3370284",
         "3564400",
         "4801550",
         "3075308",
         "4531538",
         "3925277",
         "4262812",
         "3718678",
         "4884805",
         "5667874",
         "4398107",
         "6292487",
         "3460124",
         "3402234",
         "7988809",
         "2977699",
         "5342106",
         "4009813",
         "3254358",
         "6700184",
         "8126234",
         "5630570",
         "3849206",
         "3862416",
         "4045284",
         "3234149",
         "4172239",
         "3853598",
         "7026796",
         "9580084",
         "4753331",
         "3133809",
         "4452220",
         "2889328",
         "3125594",
         "6794972",
         "4413139",
         "4080832",
         "5309626",
         "7407096",
         "7797889",
         "6849996",
         "7302808",
         "5656108",
         "4325895",
         "3321717",
         "3363708",
         "4870299",
         "4635204",
         "4908923",
         "4232658",
         "7948259"
        ],
        [
         "MSFT",
         "53204626",
         "64285491",
         "65797116",
         "40105934",
         "59364547",
         "53315099",
         "49650790",
         "67091928",
         "48956588",
         "60013996",
         "78513345",
         "49899907",
         "48575897",
         "53796409",
         "46464828",
         "55614979",
         "95568749",
         "146477063",
         "84436432",
         "83745461",
         "62739100",
         "51915749",
         "70149743",
         "42246245",
         "43706567",
         "38889797",
         "62008506",
         "73561797",
         "74474466",
         "54272219",
         "63152405",
         "44891737",
         "37362381",
         "48948419",
         "70974110",
         "69228130",
         "74711746",
         "91287529",
         "62014847",
         "48096663",
         "37816283",
         "31666340",
         "56517146",
         "72842060",
         "88528487",
         "68856582",
         "68938974",
         "48362719",
         "51827283",
         "35874300",
         "51023104",
         "65270945",
         "45809490",
         "68695136",
         "37709674",
         "32842304",
         "51655177",
         "47572869",
         "39546151",
         "47099670",
         "42090553",
         "40621437",
         "32220131",
         "37193975",
         "35012268",
         "37329243",
         "32483974",
         "40187953",
         "36365123",
         "25524593",
         "28970419",
         "28368987",
         "51957046",
         "47054310",
         "32435057",
         "37654505",
         "45770902",
         "44525905",
         "96954207",
         "118923970",
         "63386083",
         "83195423",
         "58512638",
         "50988278",
         "49271416",
         "72141010",
         "43940895",
         "55550382",
         "42035757",
         "48160032",
         "34694235",
         "45203456",
         "38208034",
         "50882918",
         "44633240",
         "36454932",
         "39730364",
         "45595972",
         "70697560",
         "45833246",
         "30733309",
         "50884452",
         "32112797",
         "33667627",
         "30983542",
         "38450118",
         "35626800",
         "52674786",
         "56075420",
         "39087250",
         "35390887",
         "36886246",
         "43988946",
         "31494131",
         "32918071",
         "35407220",
         "54716887",
         "34039345",
         "30268863",
         "55280855",
         "31938100",
         "44066841",
         "49161427",
         "44370682",
         "30238811",
         "27210952",
         "28060431",
         "46946811",
         "60761614",
         "78595038",
         "61354474",
         "41440538",
         "31768139",
         "33649200",
         "36222447",
         "46164710",
         "58900203",
         "76756427",
         "115450607",
         "50999452",
         "42162332",
         "44455540",
         "33618097",
         "37011653",
         "33628268",
         "42884953",
         "69975968",
         "124138623",
         "98384461",
         "52903040",
         "38670405",
         "54951597",
         "97082814",
         "101685610",
         "48535789",
         "42929516",
         "40884745",
         "34560708",
         "48286510",
         "68501622",
         "128275471",
         "162206292",
         "103601599",
         "96774611",
         "84616056",
         "53164407",
         "56229271",
         "76845860",
         "61888812",
         "53233940",
         "49996311",
         "54843626",
         "85010804",
         "62892831",
         "49915473",
         "58363431",
         "43341155",
         "37173489",
         "64112641",
         "74285291",
         "50221965",
         "50346159",
         "35756716",
         "50219475",
         "56151926",
         "50782189",
         "73365384",
         "65041596",
         "63929100",
         "58019758",
         "52064743",
         "48856977",
         "46765550",
         "61979577",
         "52766140",
         "30467204",
         "33049256",
         "44462449",
         "37673452",
         "39232609",
         "29759153",
         "48967763",
         "42326974",
         "41654089",
         "59366914",
         "66333781",
         "69884400",
         "85551352",
         "51227334",
         "49365254",
         "32203267",
         "45518976",
         "44886050",
         "39552680",
         "33042283",
         "33871405",
         "59127931",
         "45217971",
         "32525579",
         "45812403",
         "38106701",
         "27583101",
         "46674697",
         "43295820",
         "34287096",
         "32482528",
         "42803172",
         "21388308",
         "13046445",
         "39180322",
         "34852374",
         "33386563",
         "41569509",
         "57776977",
         "32084249",
         "34309450",
         "46361357",
         "29212727",
         "46886161",
         "65003609",
         "53323105",
         "56238467",
         "44772827",
         "96453327",
         "47590610",
         "32789367",
         "32657354",
         "13596680",
         "26704210",
         "30931243",
         "25213777",
         "40912316",
         "67649387",
         "55790992",
         "68457388",
         "81094428",
         "70798016",
         "49739377",
         "49154227",
         "62439631",
         "63170127",
         "79833891",
         "53087747",
         "72334416",
         "52161463",
         "65800467",
         "51794525",
         "75077002",
         "133369674",
         "55678825",
         "64416504",
         "40943541",
         "37357215",
         "45964294",
         "46471652",
         "46418064",
         "54021375",
         "44331195",
         "42343601",
         "50074711",
         "40351381",
         "49057916",
         "44863243",
         "39020983",
         "35374173",
         "34280758",
         "31942633",
         "36255745",
         "27582659",
         "28991131",
         "35216277",
         "50407147",
         "33169560",
         "36955742",
         "46055100",
         "35915810",
         "31182194",
         "27201683",
         "33513577",
         "27408237",
         "25076062",
         "40067734",
         "38303493",
         "34420705",
         "44205171",
         "35502678",
         "32444375",
         "25703495",
         "26132955",
         "19411372",
         "31190083",
         "45601149",
         "25888449",
         "25873950",
         "37356204",
         "26578652",
         "26404077",
         "31801870",
         "23581740",
         "29407518",
         "27232325",
         "33257316",
         "25473923",
         "46938969",
         "60821461",
         "32384879",
         "30611030",
         "31552525",
         "33683121",
         "28031588",
         "56016165",
         "114602142",
         "82242690",
         "68531478",
         "48160104",
         "56831277",
         "41025475",
         "35890500",
         "43699886",
         "32936436",
         "33686836",
         "28719109",
         "76314690",
         "44392765",
         "61259756",
         "46916939",
         "42062391",
         "30442100",
         "32025968",
         "38018643",
         "35140174",
         "38642108",
         "56331159",
         "36341240",
         "42307212",
         "29173285",
         "40191600",
         "28504888",
         "23292504",
         "22409450",
         "20848131",
         "26601354",
         "31712936",
         "38020494",
         "31931944",
         "29445227",
         "31326815",
         "61008219",
         "34411901",
         "35546358",
         "29219122",
         "32240187",
         "75311356",
         "46622188",
         "40444914",
         "36531006",
         "35836356",
         "26026540",
         "27705210",
         "30949090",
         "25139558",
         "28912103",
         "23794945",
         "24167463",
         "25892171",
         "38918997",
         "30136990",
         "36493867",
         "23779924",
         "26275968",
         "32702028",
         "28313669",
         "40382921",
         "56239822",
         "92344820",
         "39869839",
         "27733688",
         "38167871",
         "33816556",
         "30202641",
         "27408650",
         "40553402",
         "28037220",
         "26315204",
         "24008505",
         "27484506",
         "18660434",
         "25868209",
         "33794448",
         "25355976",
         "21984703",
         "25368072",
         "25820230",
         "21257669",
         "23675081",
         "25086248",
         "27766291",
         "24970300",
         "24863945",
         "29662406",
         "26701523",
         "26802450",
         "26880391",
         "42364328",
         "53002026",
         "46556984",
         "45292770",
         "62176190",
         "112340318",
         "90613177",
         "79886911",
         "47023046",
         "34514269",
         "36003185",
         "31073984",
         "52481151",
         "29869442",
         "24607412",
         "29641085",
         "35886990",
         "36379106",
         "21701760",
         "29736835",
         "21453089",
         "28779313",
         "24358443",
         "36235956",
         "64041043",
         "37586787",
         "35192406",
         "35652191",
         "23624896",
         "24553478",
         "20034594",
         "24125801",
         "23192665",
         "23538673",
         "48128970",
         "66134219",
         "34562045",
         "37861662",
         "26419398",
         "43825812",
         "28331709",
         "26932602",
         "30836997",
         "32560000",
         "24254179",
         "59176361",
         "57134541",
         "34143898",
         "51175504",
         "32264510",
         "58840522",
         "27632003",
         "28428917",
         "29264571",
         "25965534",
         "27426394",
         "11475922",
         "27193983",
         "28528750",
         "36162258",
         "37086862",
         "26527997",
         "34324540",
         "26195462",
         "29998719",
         "27068316",
         "34402627",
         "26374377",
         "43733811",
         "34031834",
         "46524544",
         "44351134",
         "27779423",
         "21424965",
         "23783165",
         "26085854",
         "14249484",
         "18296855",
         "20905892",
         "15039519",
         "30586265",
         "28781865",
         "21118116",
         "22193587",
         "31751900",
         "33561948",
         "24462051",
         "27588593",
         "27086220",
         "26111948",
         "34439843",
         "23712961",
         "25597291",
         "32597892",
         "22050218",
         "23211038",
         "32586673",
         "26337576",
         "20562944",
         "30377503",
         "49200993",
         "111985040",
         "33710411",
         "24507301",
         "26845924",
         "38183841",
         "23004072",
         "28349859",
         "20065458",
         "23035421",
         "33226223",
         "35623100",
         "22584555",
         "22198197",
         "24507156",
         "20836932",
         "20788186",
         "21776585",
         "20257426",
         "23482860",
         "36414585",
         "26210984",
         "21571121",
         "21750044",
         "17446297",
         "18707236",
         "22155904",
         "19612801",
         "17421717",
         "15309065",
         "25691774",
         "19231998",
         "43884952",
         "21542038",
         "39529912",
         "25860165",
         "20346301",
         "22395563",
         "23575094",
         "33374805",
         "29189955",
         "21207252",
         "19661651",
         "19985714",
         "19891354",
         "27717854",
         "21149034",
         "16658543",
         "18933397",
         "30379376",
         "20350000",
         "17822880",
         "16582094",
         "14697544",
         "17328375",
         "23319562",
         "17320928",
         "17116599",
         "18216472",
         "19614287",
         "13948980",
         "20247187",
         "32818760",
         "39752670",
         "45142806",
         "23275690",
         "26787359",
         "48339210",
         "35942435",
         "25670456",
         "25596687",
         "32221756",
         "25700983",
         "19904679",
         "49482818",
         "33159664",
         "26733798",
         "22340069",
         "19430358",
         "19118319",
         "19044463",
         "21632202",
         "20034934",
         "23162873",
         "16180143",
         "27285861",
         "24803858",
         "26249630",
         "20678772",
         "20771367",
         "64882700",
         "71563614",
         "33749154",
         "31224203",
         "31348832",
         "49180748",
         "31449132",
         "24572170",
         "21064679",
         "18673365",
         "25997976",
         "25524661",
         "24423643",
         "21915939",
         "31116980",
         "22328979",
         "14258300",
         "20758795",
         "23374374",
         "18505351",
         "21030466",
         "18311156",
         "23617964",
         "24922788",
         "19961788",
         "23243713",
         "17713795",
         "20615419",
         "17053326",
         "24671002",
         "21122730",
         "18612649",
         "15172136",
         "32175875",
         "16832947",
         "19422655",
         "24725526",
         "69222793",
         "26000738",
         "20349532",
         "21870321",
         "35775675",
         "25640394",
         "39081017",
         "25943187",
         "21754810",
         "27936774",
         "27321761",
         "26925694",
         "27012525",
         "26145653",
         "21297812",
         "19198189",
         "19029621",
         "25015218",
         "25279674",
         "29307862",
         "26973946",
         "26412439",
         "16508568",
         "29317054",
         "21179047",
         "21722995",
         "28183159",
         "31028926",
         "71139119",
         "44393752",
         "23073646",
         "48203642",
         "27939718",
         "20347352",
         "51693239",
         "36643382",
         "46114424",
         "43922334",
         "35470985",
         "24959552",
         "21896592",
         "25856530",
         "18524860",
         "16146388",
         "19844177",
         "21032800",
         "16423749",
         "16200129",
         "15456331",
         "16607693",
         "16045720",
         "16287608",
         "23894630",
         "18816438",
         "16158659",
         "42111326",
         "23612246",
         "21654461",
         "17137731",
         "20126554",
         "16751691",
         "43904150",
         "43923292",
         "35474672",
         "33100847",
         "32710040",
         "58683826",
         "34242566",
         "23910914",
         "23907639",
         "28636531",
         "25061183",
         "16828025",
         "23588451",
         "28702351",
         "23497326",
         "21665811",
         "15974387",
         "24875471",
         "24997274",
         "14026519",
         "20536313",
         "25468442",
         "40788324",
         "40172368",
         "39590080",
         "32115052",
         "27008428",
         "28224357",
         "24469613",
         "23096872",
         "33092051",
         "18945457",
         "23142242",
         "20219307",
         "37054632",
         "28831533",
         "27078872",
         "23000392",
         "20356826",
         "16052615",
         "32968167",
         "21672062",
         "15997739",
         "25643711",
         "25048048",
         "28819653",
         "22211345",
         "23016177",
         "20134092",
         "21262614",
         "23589129",
         "17523256",
         "25039531",
         "29159005",
         "32752734",
         "30234512",
         "30827809",
         "26023683",
         "31702531",
         "50562257",
         "39661804",
         "37121805",
         "48434424",
         "45137026",
         "30984099",
         "38099665",
         "85436075",
         "66090446",
         "66625484",
         "50852130",
         "49594129",
         "66723743",
         "60560145",
         "32104756",
         "39669178",
         "50609595",
         "39638793",
         "33531012",
         "35833514",
         "30504116",
         "33329232",
         "36886432",
         "38685165",
         "33604574",
         "48801970",
         "38453950",
         "28401366",
         "23788506",
         "31703462",
         "23163767",
         "31385134",
         "32055405",
         "31168404",
         "29075469",
         "22584565",
         "36836456",
         "32804695",
         "19314039",
         "35247358",
         "41051076",
         "40248954",
         "36272617",
         "38962839",
         "41668545",
         "38398505",
         "37586791",
         "30278046",
         "34605489",
         "26933197",
         "35005290",
         "29017718",
         "28614241",
         "22431640",
         "22889285",
         "25124255",
         "21578420",
         "26605442",
         "20754538",
         "34808800",
         "65491140",
         "36515477",
         "33692017",
         "28382084",
         "27963014",
         "35655839",
         "42427424",
         "53569376",
         "66539371",
         "34068180",
         "56201317",
         "42451423",
         "28402777",
         "23211241",
         "27989289",
         "26212221",
         "20778772",
         "23695159",
         "19183064",
         "17294029",
         "18297728",
         "18400787",
         "15240704",
         "20058415",
         "23233975",
         "17460963",
         "22514075",
         "18690547",
         "27482793",
         "23442510",
         "26266174",
         "21565963",
         "20933619",
         "21347180",
         "26656799",
         "18308460",
         "16911141",
         "21638393",
         "21610074",
         "61719160",
         "18484865",
         "33578455",
         "20628701",
         "25711898",
         "27200447",
         "31663096",
         "24569201",
         "25285328",
         "17365235",
         "22737666",
         "17731343",
         "13954806",
         "16604248",
         "17485245",
         "19756634",
         "15939149",
         "18831470",
         "18041131",
         "12519792",
         "15043110",
         "15534523",
         "16393381",
         "20286752",
         "20706042",
         "15989365",
         "18697898",
         "16826483",
         "19075964",
         "24023972",
         "21029535",
         "39373038",
         "67935716",
         "62404012",
         "33447396",
         "25425387",
         "25587387",
         "22525487",
         "23492626",
         "24611202",
         "25890880",
         "20748010",
         "28807564",
         "28500367",
         "35426997",
         "30287695",
         "26159755",
         "19018131",
         "18883224",
         "18476356",
         "20525117",
         "22776766",
         "27254804",
         "48793824",
         "43340134",
         "27390132",
         "33332960",
         "34289976",
         "37619810",
         "39516453",
         "35749049",
         "49278740",
         "41706377",
         "31999289",
         "37195133",
         "31571712",
         "27123833",
         "26608794",
         "96246748",
         "27693358",
         "24554379",
         "23984706",
         "30181227",
         "22929364",
         "23600802",
         "24788170",
         "28654799",
         "32042000",
         "33580463",
         "29663923",
         "26891029",
         "41990554",
         "53124392",
         "40337851",
         "30791007",
         "29183963",
         "22885397",
         "32581315",
         "33078726",
         "28792082",
         "38767846",
         "40925163",
         "29855768",
         "47258375",
         "45935520",
         "36659990",
         "38358933",
         "58323180",
         "91328654",
         "66163669",
         "31882881",
         "33424434",
         "25362636",
         "34365750",
         "51135518",
         "46882936",
         "60800957",
         "46478801",
         "36928253",
         "41920872",
         "67825247",
         "31124210",
         "23623972",
         "44998520",
         "41387377",
         "46062539",
         "41769992",
         "39531549",
         "40798002",
         "41344282",
         "43098410",
         "42281631",
         "62025994",
         "47281665",
         "35627674",
         "31897827",
         "40703710",
         "44287922",
         "33841518",
         "49047297",
         "64772960",
         "95744384",
         "37169232",
         "58582544",
         "53117065",
         "42291424",
         "35003466",
         "37039737",
         "91312195",
         "58607070",
         "54777764",
         "41025314",
         "45099081",
         "35780670",
         "27023241",
         "32439186",
         "28710324",
         "30569706",
         "29821160",
         "33751023",
         "30393970",
         "23130570",
         "25441549",
         "33547893",
         "26192058",
         "41587239",
         "61109780",
         "40739649",
         "32668138",
         "31495582",
         "36101628",
         "28239591",
         "31741690",
         "23819966",
         "20993425",
         "22283523",
         "22490233",
         "21835747",
         "24626814",
         "18972826",
         "26114362",
         "17249670",
         "18913154",
         "21873358",
         "17070211",
         "27835389",
         "28215416",
         "25886167",
         "27436203",
         "19737419",
         "20810384",
         "24796374",
         "23999358",
         "32011034",
         "32467584",
         "31032524",
         "23579508",
         "39042912",
         "26219832",
         "31646369",
         "31035231",
         "51034237",
         "42407666",
         "43845293",
         "49800538",
         "29848427",
         "20780363",
         "23563961",
         "27861964",
         "22765732",
         "23271830",
         "19114275",
         "18526644",
         "25881697",
         "35768237",
         "21695288",
         "20900808",
         "27760668",
         "17536646",
         "25696385",
         "28906780",
         "24195766",
         "19439545",
         "23322991",
         "17540609",
         "18543206",
         "18649102",
         "22204716",
         "46534923",
         "64827328",
         "31996324",
         "20892378",
         "32443113",
         "38763698",
         "26339504",
         "34908607",
         "41208712",
         "57430623",
         "36529677",
         "26544718",
         "33031364",
         "32879090",
         "38612290",
         "28364848",
         "29748556",
         "36529736",
         "23714686",
         "27948160",
         "28481165",
         "21218412",
         "27043584",
         "40396069",
         "30967961",
         "29773427",
         "22526311",
         "30684393",
         "26220851",
         "26932882",
         "18253189",
         "21674625",
         "18761474",
         "14669144",
         "26551004",
         "21124235",
         "21513988",
         "47800589",
         "18220421",
         "21070334",
         "26067512",
         "20899717",
         "31110642",
         "27316739",
         "16935217",
         "11362045",
         "17265518",
         "25338628",
         "20578015",
         "17897138",
         "20191842",
         "17595212",
         "16947420",
         "16866816",
         "14107450",
         "18582161",
         "20929307",
         "22277932",
         "18355210",
         "14991567",
         "13909535",
         "17618874",
         "21673389",
         "33935718",
         "69281361",
         "54017922",
         "40862122",
         "52392969",
         "35824787",
         "33364400",
         "27009523",
         "24619746",
         "22481889",
         "47539786",
         "36547443",
         "27883363",
         "28813624",
         "24431915",
         "26919529",
         "21564747",
         "22267819",
         "46882843",
         "26066130",
         "25897344",
         "15957632",
         "21007652",
         "21162561",
         "20059574",
         "19216820",
         "23946984",
         "19362294",
         "27309401",
         "31777931",
         "44289646",
         "32226669",
         "39763296",
         "21158141",
         "18386468",
         "25643093",
         "22187876",
         "57977094",
         "19419648",
         "31434367",
         "22481006",
         "19088312",
         "25361285",
         "26318583",
         "36187163",
         "35767257",
         "30352686",
         "34755553",
         "30889269",
         "29282700",
         "19029424",
         "28962984",
         "41990210",
         "24413484",
         "23040483",
         "19286694",
         "17272897",
         "24248023",
         "21811567",
         "22684001",
         "19932545",
         "17916255",
         "18369296",
         "23655368",
         "35709867",
         "31130522",
         "34790520",
         "37781334",
         "25817952",
         "19974427",
         "18966124",
         "23735083",
         "17520495",
         "20507459",
         "21847226",
         "25817593",
         "22395556",
         "25093666",
         "21700897",
         "19069597",
         "26609919",
         "30348778",
         "16331263",
         "21029517",
         "26334882",
         "16386122",
         "11654363",
         "23693550",
         "29377268",
         "16810388",
         "18661343",
         "26547493",
         "32182645",
         "22632383",
         "19723391",
         "34437042",
         "33432806",
         "32081105",
         "28575798",
         "29024687",
         "24626947",
         "69032743",
         "24677883",
         "12119714",
         "23334004",
         "36592936",
         "36059614",
         "25247625",
         "33911864",
         "36633878",
         "29644644",
         "27877655",
         "33090946",
         "42621542",
         "35217272",
         "30028742",
         "40653457",
         "30480882",
         "27207254",
         "34454117",
         "27235039",
         "25458115",
         "26117993",
         "36634380",
         "40485005",
         "40558486",
         "54149928",
         "31685808",
         "49897096",
         "43496401",
         "34154134",
         "29706718",
         "26356385",
         "29421012",
         "27337215",
         "23580780",
         "28432573",
         "23686892",
         "20028447",
         "38190545",
         "23495991",
         "25141489",
         "32426415",
         "55548828",
         "57668364",
         "49678431",
         "80151381",
         "106721230",
         "85349339",
         "79868852",
         "54794568",
         "46893219",
         "56544246",
         "71686208",
         "71322520",
         "64094970",
         "104618517",
         "92683032",
         "80605865",
         "81013965",
         "75058406",
         "67964255",
         "100423346",
         "84188208",
         "71882773",
         "75900510",
         "63140169",
         "51054153",
         "41994110",
         "49250501",
         "44054638",
         "41483493",
         "32470017",
         "50455071",
         "50721831",
         "42223821",
         "40529123",
         "32755731",
         "48748672",
         "32788641",
         "39281290",
         "53812478",
         "32503750",
         "45247893",
         "29264342",
         "31203582",
         "31627183",
         "29271893",
         "28001187",
         "34320204",
         "45765968",
         "60154175",
         "33391986",
         "36937795",
         "35583438",
         "28803764",
         "33511985",
         "36486561",
         "40575263",
         "50155639",
         "39732269",
         "41587094",
         "33843125",
         "25432385",
         "27876215",
         "25672211",
         "20450754",
         "31380454",
         "28236274",
         "33449103",
         "38399532",
         "20254653",
         "21910704",
         "26122804",
         "21890091",
         "34312550",
         "23913634",
         "36928091",
         "41662938",
         "50415613",
         "50036513",
         "34702230",
         "41357182",
         "28601626",
         "24205096",
         "66118952",
         "33861316",
         "53038869",
         "48155849",
         "34380628",
         "51314211",
         "32661519",
         "35055821",
         "27690454",
         "28814516",
         "29745936",
         "28206999",
         "29274479",
         "31420357",
         "22564330",
         "47913079",
         "42748119",
         "38306874",
         "27645927",
         "23046755",
         "22397208",
         "25627347",
         "22250413",
         "49251108",
         "46359716",
         "30303548",
         "25906375",
         "22582314",
         "39532505",
         "93573867",
         "77037847",
         "43198092",
         "30497988",
         "50607225",
         "49511403",
         "53100856",
         "46975594",
         "41486205",
         "52520516",
         "41391302",
         "29431414",
         "26408385",
         "36384502",
         "31726797",
         "84513660",
         "86484442",
         "52873947",
         "40755567",
         "38888096",
         "46907479",
         "223505733",
         "152470142",
         "200118991",
         "257599640",
         "332607163",
         "231366563",
         "176940455",
         "182274391",
         "180860325",
         "140150087",
         "184642039",
         "155026675",
         "178010968",
         "287104882",
         "195713815",
         "183055373",
         "150718671",
         "167743349",
         "149981441",
         "137672403",
         "100060526",
         "142675184",
         "116120440",
         "144711986",
         "106243839",
         "161498212",
         "96848985",
         "83477153",
         "100506865",
         "240226769",
         "262330451",
         "151062308",
         "112559219",
         "115393808",
         "120639337",
         "124423728",
         "89945980",
         "101987954",
         "82572645",
         "111850657",
         "92276772",
         "143937823",
         "146129173",
         "190573476",
         "122866899",
         "107624448",
         "138235482",
         "126387074",
         "114457922",
         "154515315",
         "138023390",
         "112294954",
         "103350674",
         "81688586",
         "91183018",
         "74270973",
         "76322111",
         "74112972",
         "73604287",
         "127959318",
         "113226248",
         "76499234",
         "46691331",
         "169410176",
         "125920963",
         "89004195",
         "78967630",
         "78260421",
         "86711990",
         "82225512",
         "115089193",
         "81312170",
         "86939786",
         "79075988",
         "157572262",
         "98208591",
         "94359811",
         "192541496",
         "121251553",
         "169351825",
         "88223692",
         "54930064",
         "123124632",
         "121047324",
         "96452124",
         "99116586",
         "143301887",
         "97664898",
         "155087970",
         "109578157",
         "105158245",
         "100620880",
         "90440255",
         "88636831",
         "90221755",
         "111598531",
         "90757329",
         "104319489",
         "120529544",
         "114459360",
         "157611713",
         "98390555",
         "140843759",
         "142621128",
         "177523812",
         "106239823",
         "82266419",
         "89880937",
         "84183061",
         "75693830",
         "71297214",
         "75986989",
         "72647988",
         "64280029",
         "60145130",
         "80576316",
         "97372199",
         "96856748",
         "87668834",
         "102886922",
         "158273022",
         "111039904",
         "144766924",
         "163424672",
         "116307892",
         "102260945",
         "112966340",
         "178154975",
         "153766601",
         "154376610",
         "129525780",
         "111943326",
         "103026514",
         "88105050",
         "92590555",
         "115227936",
         "111932636",
         "121469755",
         "185549522",
         "111912284",
         "95467142",
         "88530485",
         "98844681",
         "94071234",
         "80819203",
         "85671919",
         "118323826",
         "75089134",
         "88651175",
         "80171253",
         "83466716",
         "88844591",
         "106686703",
         "91419983",
         "91266545",
         "87222782",
         "89347102",
         "84922386",
         "94264215",
         "94812349",
         "68847136",
         "84566456",
         "78756779",
         "66905069",
         "66015804",
         "107760097",
         "151100953",
         "109839466",
         "75135100",
         "137564718",
         "84000900",
         "78128334",
         "78973273",
         "88071229",
         "126142826",
         "112172282",
         "105861339",
         "81917951",
         "74244624",
         "63342929",
         "92611989",
         "76857123",
         "79295436",
         "63092945",
         "72009482",
         "56575920",
         "94625601",
         "71311109",
         "67637118",
         "59278862",
         "76229170",
         "75169343",
         "71057550",
         "74403774",
         "56877937",
         "71186421",
         "53522373",
         "96906490",
         "62746332",
         "91339351",
         "96721669",
         "108953309",
         "79663316",
         "74783618",
         "60214200",
         "68710998",
         "70783746",
         "62111303",
         "64556081",
         "63261393",
         "52485781",
         "78945572",
         "108181793",
         "104911589",
         "105575458",
         "99890800",
         "76299719",
         "100827099",
         "127050785",
         "106820297",
         "93251426",
         "121434571",
         "96350036",
         "74993460",
         "77338156",
         "71447416",
         "72434089",
         "104818578",
         "118931191",
         "54323047",
         "70440626",
         "62879961",
         "64786618",
         "56368271",
         "46397674",
         "54126813",
         "48908689",
         "69023081",
         "48493463",
         "73779113",
         "58846293",
         "103558782",
         "92229735",
         "86325990",
         "86960310",
         "60549630",
         "60131810",
         "48606428",
         "58991297",
         "48597195",
         "55802388",
         "90956723",
         "86453117",
         "80313711",
         "71171317",
         "57866066",
         "82278261",
         "74420207",
         "57305730",
         "140893235",
         "102404329",
         "109296295",
         "83281315",
         "68034149",
         "129868824",
         "123478863",
         "75833962",
         "76404341",
         "64838170",
         "53477869",
         "74150729",
         "108972340",
         "74602044",
         "89056664",
         "94639581",
         "98322008",
         "80861062",
         "83221119",
         "61732656",
         "58773155",
         "64452219",
         "73035859",
         "78762721",
         "69907100",
         "67940334",
         "85589175",
         "76378894",
         "58418788",
         "61420990",
         "58883443",
         "50720556",
         "60893395",
         "56094929",
         "100077888",
         "124953168",
         "73396551",
         "68922374",
         "54511534",
         "60394616",
         "65463883",
         "55020868",
         "56573449",
         "65187092",
         "40999950",
         "63245197",
         "59222803",
         "59256210",
         "88807000",
         "137827673",
         "117305597",
         "117467889",
         "96041899",
         "69463623",
         "76959752",
         "88748217",
         "174048056",
         "152423003",
         "136739174",
         "118023116",
         "107496982",
         "120405352",
         "116998901",
         "108923739",
         "115402731",
         "153237019",
         "139380382",
         "131063257",
         "150185843",
         "195923441",
         "107499114",
         "91185905",
         "92135303",
         "68356567",
         "74919582",
         "79144339",
         "62348931",
         "59773014",
         "61661433",
         "104701220",
         "99310438",
         "94537602",
         "96903955",
         "86709147",
         "106765552",
         "75937685",
         "74805173",
         "84505760",
         "80440780",
         "90500236",
         "92914792",
         "91420515",
         "122848858",
         "162706686",
         "115798367",
         "108275308",
         "121954638",
         "179935660",
         "115541590",
         "86213911",
         "84914256",
         "89418074",
         "82465400",
         "77251204",
         "74829217",
         "71285038",
         "90865899",
         "98670687",
         "86185530",
         "64286320",
         "61177398",
         "69589344",
         "82772674",
         "90457637",
         "90009247",
         "141147540",
         "91974222",
         "95056629",
         "83474425",
         "79724750",
         "76678441",
         "83819592",
         "96418845",
         "131148280",
         "91454905",
         "105342033",
         "96970102",
         "108732111",
         "92964302",
         "102300157",
         "75615376",
         "122055535",
         "89029269",
         "80979755",
         "98062674",
         "90131418",
         "80281664",
         "90371916",
         "100589440",
         "92633154",
         "103049285",
         "78751328",
         "76545983",
         "70902999",
         "89058782",
         "77594650",
         "76575508",
         "72246706",
         "79265181",
         "70618925",
         "75329376",
         "69023941",
         "67723833",
         "67718110",
         "87227768",
         "84882424",
         "96046376",
         "94008394",
         "88063191",
         "130216792",
         "131747571",
         "123055265",
         "88966526",
         "107521649",
         "130525275",
         "116124647",
         "131577921",
         "115366736",
         "142689825",
         "182602041",
         "113990852",
         "86643781",
         "78336254",
         "109742890",
         "136095640",
         "137426125",
         "117726265",
         "104132746",
         "92482696",
         "90601548",
         "90978503",
         "103718416",
         "74286635",
         "72348055",
         "88570289",
         "71598380",
         "67808150",
         "53950201",
         "69472976",
         "91566637",
         "122207099",
         "84784326",
         "91532972",
         "107961508",
         "134520290",
         "81000488",
         "73409234",
         "72433768",
         "89116837",
         "70207908",
         "67315328",
         "66242411",
         "98964467",
         "71051552",
         "73429641",
         "74064254",
         "66253709",
         "64547798",
         "63305113",
         "77588759",
         "71185560",
         "78140744",
         "76259931",
         "81420868",
         "82982367",
         "64823413",
         "65086636",
         "66675408",
         "53623945",
         "55138691",
         "78620688",
         "81378731",
         "101786860",
         "67829379",
         "59907025",
         "82507488",
         "55474144",
         "56696985",
         "60362338",
         "63135503",
         "70170540",
         "57149159",
         "68039382",
         "54091694",
         "56377050",
         "79542037",
         "62290075",
         "70346295",
         "69026809",
         "54147079",
         "53841524",
         "51218209",
         "78960980",
         "72724452",
         "77906197",
         "87991091",
         "74229896",
         "76957768",
         "73295539",
         "87449574",
         "84923847",
         "68081006",
         "104955962",
         "122656614",
         "87965409",
         "90481110",
         "162278841",
         "81474246",
         "107689796",
         "101696790",
         "86264792",
         "96029909",
         "93339409",
         "84442741",
         "146691387",
         "128138237",
         "124925274",
         "114311663",
         "87830064",
         "79470968",
         "68402169",
         "85925559",
         "74899002",
         "77033672",
         "70433744",
         "113223975",
         "88597969",
         "85250939",
         "99136610",
         "61758340",
         "64521989",
         "86548609",
         "75981918",
         "74732290",
         "88436172",
         "109180150",
         "164762371",
         "97943171",
         "80379345",
         "93604623",
         "97918516",
         "140814796",
         "83374628",
         "89908477",
         "74917794",
         "118854028",
         "93979665",
         "73374114",
         "89868332",
         "64218266",
         "80389400",
         "74829573",
         "58724070",
         "51804132",
         "58301395",
         "35195860",
         "69346522",
         "83763803",
         "111380880",
         "71250416",
         "65447446",
         "68826442",
         "64727186",
         "69721094",
         "62128338",
         "76097011",
         "70462654",
         "93886161",
         "82291182",
         "98931907",
         "160156900",
         "79592614",
         "77432819",
         "85927993",
         "77852108",
         "63814893",
         "69007830",
         "85438391",
         "75703710",
         "77034209",
         "112117471",
         "89113633",
         "80962708",
         "87754715",
         "70790813",
         "63896155",
         "69458949",
         "71379648",
         "57809719",
         "63646627",
         "69672800",
         "58280413",
         "80223626",
         "81760313",
         "66435142",
         "65799349",
         "54105068",
         "70555843",
         "64015274",
         "65874459",
         "77663633",
         "118338980",
         "154357337",
         "69858306",
         "83322551",
         "64120079",
         "56007143",
         "57450708",
         "62199013",
         "61707573",
         "65669252",
         "68167942",
         "59144118",
         "58867230",
         "51011305",
         "48394249",
         "55469606",
         "44998470",
         "50546998",
         "55478991",
         "52279761",
         "70732297",
         "87558028",
         "56182028",
         "47204791",
         "53833582",
         "68572400",
         "84457122",
         "73695893",
         "77167866",
         "76254419",
         "98944633",
         "73641415",
         "73938285",
         "75701811",
         "67622060",
         "59256343",
         "52390266",
         "45992152",
         "51305691",
         "49501689",
         "68749792",
         "56976187",
         "46278295",
         "51511744",
         "45390123",
         "47716882",
         "47644217",
         "50133062",
         "68445649",
         "49386480",
         "40713618",
         "49923008",
         "47720166",
         "52456377",
         "58337341",
         "41949581",
         "48714063",
         "44105745",
         "64902329",
         "55275851",
         "52472936",
         "48425696",
         "65136018",
         "81235427",
         "113453171",
         "55962793",
         "45326874",
         "53724501",
         "49514676",
         "45533138",
         "37266659",
         "42110293",
         "57951604",
         "65496657",
         "55809475",
         "43570932",
         "50747263",
         "45143488",
         "56058258",
         "54834975",
         "55964401",
         "99313268",
         "68901809",
         "61996913",
         "121946497",
         "64848374",
         "61944615",
         "50214881",
         "48899973",
         "54754995",
         "54929129",
         "57462882",
         "65433166",
         "101256225",
         "49799092",
         "49515697",
         "51245327",
         "53116996",
         "48088661",
         "50730846",
         "51216801",
         "46347308",
         "85213216",
         "31458198",
         "46920261",
         "45156009",
         "46814998",
         "59922163",
         "46638119",
         "60750248",
         "41342338",
         "41616242",
         "50520159",
         "48353774",
         "80507323",
         "59581196",
         "71951683",
         "45505097",
         "37283201",
         "47471868",
         "47460180",
         "48291443",
         "38824113",
         "35281426",
         "50389327",
         "62243282",
         "115956841",
         "97576069",
         "67823003",
         "60378492",
         "54686851",
         "52036672",
         "43675627",
         "43622593",
         "46964857",
         "66062882",
         "61172150",
         "46311879",
         "42084245",
         "52722752",
         "54945798",
         "51449594",
         "43820697",
         "53003948",
         "60813888",
         "60794467",
         "45766503",
         "45280027",
         "81755816",
         "112488803",
         "65602066",
         "58953052",
         "90370192",
         "84267928",
         "60895757",
         "109259461",
         "67257573",
         "51826941",
         "58436181",
         "63149116",
         "56725385",
         "46172740",
         "64588945",
         "66921808",
         "56294419",
         "51861083",
         "52164535",
         "49594613",
         "53020286",
         "48527918",
         "57266675",
         "42390772",
         "43698019",
         "47551098",
         "56743119",
         "51456082",
         "52516984",
         "57549350",
         "54764375",
         "59302863",
         "64244028",
         "55980109",
         "43816644",
         "57156962",
         "70625258",
         "58499129",
         "51130955",
         "44846017",
         "56934906",
         "77334752",
         "79829246",
         "63841310",
         "70529966",
         "49340282",
         "53763540",
         "66177922",
         "43627519",
         "60108378",
         "53790499",
         "54412915",
         "50941404",
         "46538614",
         "38134485",
         "39630011",
         "24048344",
         "40552609",
         "38415419",
         "43014224",
         "48794366",
         "45704823",
         "43389519",
         "66628398",
         "40895115",
         "47477655",
         "53406358",
         "60943699",
         "52696900",
         "70404183",
         "66831572",
         "128538401",
         "55751861",
         "40233138",
         "52242815",
         "46482549",
         "37149570",
         "28919310",
         "47899806",
         "34049898",
         "42672148",
         "82488674",
         "58414460",
         "71983570",
         "62196924",
         "59144470",
         "42841809",
         "46792908",
         "49128408",
         "40477782",
         "65603041",
         "47317433",
         "78005754",
         "68902985",
         "60133852",
         "42355590",
         "53463269",
         "54822126",
         "44594011",
         "47145622",
         "55859370",
         "55467803",
         "64885408",
         "102551680",
         "69668820",
         "43490759",
         "53438955",
         "40962046",
         "45155216",
         "41781934",
         "56529529",
         "54630517",
         "65434496",
         "49752465",
         "53665553",
         "41529674",
         "52292208",
         "45119677",
         "40867421",
         "54318851",
         "48953939",
         "136682597",
         "73563082",
         "81510101",
         "95132355",
         "68587707",
         "71765061",
         "76267041",
         "58929918",
         "59544927",
         "51948951",
         "72571635",
         "121752699",
         "75604184",
         "55215244",
         "53423102",
         "106181270",
         "71160138",
         "54288328",
         "57388449",
         "60273265",
         "65672690",
         "43772506",
         "49013991",
         "45571129",
         "53355055",
         "41975776",
         "37216858",
         "42231444",
         "49709336",
         "91070275",
         "101670886",
         "73531773",
         "73711235",
         "50901210",
         "43122903",
         "68149377",
         "48116443",
         "49537761",
         "48251835",
         "50558329",
         "44838354",
         "68169419",
         "65934776",
         "50383147",
         "94214915",
         "163224109",
         "78569667",
         "77305771",
         "45057087",
         "48982972",
         "50759496",
         "72044809",
         "52393619",
         "70399988",
         "52845230",
         "41282925",
         "44361275",
         "42309401",
         "34648547",
         "51005924",
         "36326975",
         "52280051",
         "53068016",
         "49947941",
         "75158277",
         "50080539",
         "47471445",
         "54156785",
         "41181753",
         "53103912",
         "97262077",
         "172373296",
         "198134293",
         "97862729",
         "70122748",
         "93728300",
         "79943254",
         "86172451",
         "246421353",
         "80727006",
         "56713868",
         "66213186",
         "49772707",
         "82542718",
         "60402929",
         "58046178",
         "37369801",
         "60412408",
         "59085861",
         "48169822",
         "62627687",
         "64710617",
         "53046527",
         "62631252",
         "43234278",
         "57345884",
         "66034585",
         "49151453",
         "48201835",
         "39960260",
         "61777576",
         "51391199",
         "41601345",
         "36311778",
         "41643840",
         "50036262",
         "62500996",
         "105568560",
         "119548589",
         "69660488",
         "63516417",
         "47161149",
         "42201646",
         "38028092",
         "44155331",
         "41960574",
         "46414013",
         "44340240",
         "40687813",
         "30299033",
         "34765480",
         "43695321",
         "38677250",
         "30602208",
         "35934559",
         "38052167",
         "51906297",
         "52990770",
         "50190574",
         "43262758",
         "36615398",
         "48423011",
         "67179965",
         "51591033",
         "44587072",
         "37498225",
         "36766619",
         "59357427",
         "45519339",
         "59894928",
         "66781315",
         "318679888",
         "54146023",
         "43556068",
         "42308715",
         "36636707",
         "34025967",
         "54793391",
         "63285048",
         "32880605",
         "34044158",
         "37345098",
         "39505354",
         "31855693",
         "33591091",
         "28183544",
         "31759188",
         "39882085",
         "64751367",
         "34082240",
         "32993810",
         "46431472",
         "36254470",
         "38846578",
         "52286979",
         "31109503",
         "38802304",
         "36087134",
         "35417247",
         "47070907",
         "64370086",
         "65276741",
         "44944468",
         "28111338",
         "54561121",
         "42137691",
         "38328824",
         "42005602",
         "40398299",
         "48566217",
         "44923941",
         "47923696",
         "44686020",
         "36211774",
         "35169566",
         "42108327",
         "38168252",
         "90152832",
         "45986189",
         "33498439",
         "28481377",
         "48137103",
         "38861017",
         "44383935",
         "40033878",
         "36870619",
         "44649232",
         "36914806",
         "45205814",
         "32777532",
         "33155290",
         "51694753",
         "51356360",
         "56774101",
         "60882264",
         "147495267",
         "40858774",
         "23234705",
         "27262983",
         "42355321",
         "35557542",
         "39480718",
         "55740731",
         "40244114",
         "45045571",
         "40855960",
         "37628940",
         "61710856",
         "49630725",
         "39435294",
         "39831969",
         "71759052",
         "68488301",
         "98070429",
         "64126500",
         "60234760",
         "54697907",
         "94863418",
         "75707569",
         "45486100",
         "55658279",
         "101075128",
         "73063301",
         "45067301",
         "39664989",
         "29925349",
         "39707224",
         "33115645",
         "53718362",
         "45243292",
         "53614054",
         "40896227",
         "48822491",
         "32204215",
         "32316907",
         "53197431",
         "51326396",
         "48013272",
         "44433564",
         "41153639",
         "56833360",
         "47183985",
         "53798062",
         "47227643",
         "45170419",
         "46273565",
         "71451281",
         "76137410",
         "62547467",
         "61368330",
         "60107582",
         "48073426",
         "42432426",
         "54385391",
         "48862947",
         "94127768",
         "44299483",
         "34493583",
         "34532656",
         "37094774",
         "39818617",
         "65299321",
         "36412740",
         "35905904",
         "103419006",
         "125910913",
         "160466286",
         "120859491",
         "184395885",
         "121879981",
         "87435915",
         "101352911",
         "51343872",
         "59732423",
         "52164675",
         "46742537",
         "52976371",
         "52929165"
        ],
        [
         "TSLA",
         "4764443",
         "5368477",
         "6261936",
         "2968390",
         "3442509",
         "4580722",
         "5950280",
         "4477320",
         "11551855",
         "5216524",
         "3603158",
         "4503182",
         "4153043",
         "4116905",
         "3442371",
         "3234522",
         "2781024",
         "3149606",
         "3548106",
         "3006959",
         "4149186",
         "4826244",
         "3305377",
         "3522947",
         "3243931",
         "3472423",
         "5390542",
         "9769102",
         "15649607",
         "6191003",
         "3979647",
         "2713598",
         "5154148",
         "5982089",
         "8499775",
         "6603560",
         "3909520",
         "6472855",
         "3882084",
         "7922065",
         "4432329",
         "4221962",
         "4877015",
         "6712438",
         "6736724",
         "5579691",
         "4974871",
         "4149294",
         "5434298",
         "5628783",
         "4894052",
         "4820936",
         "8475244",
         "4269467",
         "2631626",
         "3649860",
         "5730389",
         "4127956",
         "8604947",
         "10089516",
         "5026569",
         "3794621",
         "5010368",
         "12455811",
         "4347864",
         "6303117",
         "3800225",
         "4067676",
         "3758230",
         "3025963",
         "1952378",
         "1659059",
         "2469926",
         "2559251",
         "3432541",
         "7863037",
         "4411184",
         "2427843",
         "11672627",
         "6085379",
         "3936077",
         "3911857",
         "5281689",
         "4434596",
         "5796873",
         "5270933",
         "9455909",
         "4668236",
         "5672262",
         "6363429",
         "5440165",
         "2895936",
         "4527563",
         "3353212",
         "3674231",
         "3755569",
         "1970643",
         "2223089",
         "3498682",
         "3408200",
         "3647283",
         "3789283",
         "2505057",
         "2134809",
         "1781505",
         "2453615",
         "3022026",
         "5016997",
         "2611146",
         "3454453",
         "2044058",
         "1422335",
         "2186175",
         "1984678",
         "5512920",
         "2782703",
         "2463013",
         "4561079",
         "3870818",
         "2412293",
         "2849204",
         "3838434",
         "3478909",
         "3086935",
         "2101224",
         "7163930",
         "4121933",
         "6105126",
         "6221077",
         "3334077",
         "2610858",
         "2960319",
         "1907641",
         "2021621",
         "1615961",
         "5004099",
         "4978454",
         "6108686",
         "3104960",
         "2227239",
         "2836498",
         "4694192",
         "3895808",
         "2790095",
         "2034560",
         "2222552",
         "2553474",
         "2352530",
         "4798058",
         "14623754",
         "5073390",
         "4185860",
         "4264939",
         "3739157",
         "4689182",
         "4364810",
         "7176690",
         "4195035",
         "3604282",
         "4905757",
         "6590234",
         "9581585",
         "4327294",
         "4963042",
         "7655959",
         "5513673",
         "4700232",
         "5454765",
         "4629174",
         "4194772",
         "3689153",
         "3138231",
         "3390788",
         "2709024",
         "2350844",
         "2890851",
         "2933466",
         "4417081",
         "3585812",
         "3763064",
         "6120155",
         "3664353",
         "2600778",
         "3448191",
         "3773392",
         "4881802",
         "3703154",
         "4879816",
         "4572964",
         "4423982",
         "3689865",
         "5235897",
         "6813959",
         "6133216",
         "6158370",
         "3836303",
         "5171535",
         "3104446",
         "2844233",
         "4334493",
         "2507895",
         "14900047",
         "4183471",
         "2825159",
         "4235462",
         "3391438",
         "3519449",
         "2728593",
         "1805032",
         "4438901",
         "3927944",
         "8332486",
         "12726366",
         "4496843",
         "2445293",
         "3850860",
         "4617007",
         "3347806",
         "2915900",
         "3430327",
         "2925395",
         "2148326",
         "2811900",
         "2504375",
         "4400722",
         "2526199",
         "2480293",
         "3990779",
         "1949353",
         "2659813",
         "3733955",
         "2981468",
         "2939564",
         "2573603",
         "3144223",
         "2687636",
         "3057753",
         "2071692",
         "3268726",
         "2831518",
         "2244424",
         "5104341",
         "3298638",
         "3014170",
         "1953174",
         "1961495",
         "1554979",
         "710277",
         "1901304",
         "2406290",
         "3697921",
         "2715038",
         "6827146",
         "3186752",
         "3779128",
         "3554251",
         "3628058",
         "4091422",
         "3091917",
         "4126416",
         "6490741",
         "5578640",
         "4038676",
         "5838608",
         "3166159",
         "3124055",
         "2698739",
         "4964180",
         "3617221",
         "4592754",
         "2852289",
         "5297639",
         "5773637",
         "7931362",
         "4385366",
         "9437591",
         "9312988",
         "8651648",
         "10406513",
         "14252364",
         "7235783",
         "5593794",
         "5825159",
         "3887574",
         "2959390",
         "5060051",
         "5984374",
         "5395609",
         "5750741",
         "6065117",
         "4498997",
         "6712159",
         "4862396",
         "4829018",
         "6489058",
         "5337072",
         "3978722",
         "3208554",
         "5192523",
         "3343077",
         "4065706",
         "3180452",
         "3516703",
         "3782891",
         "4711793",
         "5307822",
         "4315988",
         "4948841",
         "4960900",
         "3925685",
         "4014330",
         "4032982",
         "8012872",
         "15997509",
         "13475327",
         "9948699",
         "11705479",
         "8856171",
         "7363935",
         "9161693",
         "5763208",
         "4925595",
         "4132185",
         "3752366",
         "4271362",
         "6357526",
         "5194051",
         "2783059",
         "3786327",
         "3670348",
         "3223839",
         "3205808",
         "2518990",
         "5413787",
         "3843935",
         "4302222",
         "8700459",
         "11254827",
         "5685237",
         "4776383",
         "4070617",
         "5161864",
         "3650475",
         "2822781",
         "2949396",
         "2843597",
         "5617519",
         "6866321",
         "9007076",
         "5102479",
         "3013843",
         "3132615",
         "4072424",
         "3650272",
         "2789002",
         "2982695",
         "2032832",
         "2228970",
         "2249508",
         "6213573",
         "5971995",
         "4492075",
         "6026603",
         "4193022",
         "3580167",
         "2908522",
         "2440259",
         "3112620",
         "3555471",
         "4529005",
         "23742414",
         "10130748",
         "7026516",
         "7220323",
         "6212422",
         "5994908",
         "4843111",
         "5399951",
         "5175345",
         "4919855",
         "3612022",
         "4074785",
         "5429823",
         "4576165",
         "3567062",
         "2675834",
         "2234247",
         "3412055",
         "3115065",
         "2568498",
         "4428651",
         "2579692",
         "4490683",
         "3430042",
         "2889007",
         "2419059",
         "3070813",
         "4016284",
         "3934432",
         "3887759",
         "4146997",
         "3205215",
         "2263584",
         "2207833",
         "2338301",
         "1880936",
         "1813540",
         "2034328",
         "2267147",
         "1787127",
         "1714467",
         "1659530",
         "2065493",
         "4784418",
         "2570693",
         "1762519",
         "2238992",
         "3266334",
         "3168862",
         "3276548",
         "7943138",
         "5977413",
         "4390572",
         "3640923",
         "3377946",
         "3756992",
         "3715161",
         "3589379",
         "2259231",
         "3085115",
         "3107808",
         "2299498",
         "2410488",
         "2633503",
         "2382902",
         "2905229",
         "2394358",
         "3373180",
         "2088374",
         "2727029",
         "2586273",
         "5999892",
         "3541481",
         "1877534",
         "4703402",
         "3493018",
         "3316297",
         "2328422",
         "1970689",
         "2495413",
         "4269850",
         "4554080",
         "5680475",
         "6991183",
         "5072877",
         "2943402",
         "2751562",
         "2445014",
         "5632841",
         "13093744",
         "4280141",
         "4692273",
         "7060036",
         "4253382",
         "2653023",
         "5146043",
         "3870112",
         "3267580",
         "8173065",
         "6750341",
         "3988504",
         "6552205",
         "3902018",
         "3434437",
         "4887067",
         "5210347",
         "4361043",
         "5603361",
         "4891893",
         "2366098",
         "4529182",
         "4439256",
         "3547104",
         "5126401",
         "4042324",
         "4072239",
         "3391622",
         "5461851",
         "3194148",
         "2722505",
         "2438876",
         "6823884",
         "4150927",
         "3219567",
         "3796889",
         "3488071",
         "4689071",
         "5207622",
         "3111108",
         "4670464",
         "5915732",
         "3782456",
         "4044968",
         "4642620",
         "5923254",
         "11213471",
         "5911695",
         "5527893",
         "3979484",
         "3659955",
         "3650825",
         "3790229",
         "6092960",
         "4617522",
         "3768967",
         "7732303",
         "4204275",
         "6262938",
         "4965451",
         "5146361",
         "3152123",
         "3166336",
         "3801074",
         "4116104",
         "3958829",
         "2499775",
         "2186723",
         "3562517",
         "4244775",
         "3933014",
         "7820222",
         "3619739",
         "7029605",
         "7345224",
         "4947856",
         "7077322",
         "6257149",
         "5676747",
         "8754975",
         "14915249",
         "8171626",
         "11460810",
         "6078145",
         "4809488",
         "3351833",
         "2929234",
         "3355500",
         "3459470",
         "3728649",
         "3879293",
         "3066272",
         "3022625",
         "7598446",
         "5330806",
         "7132153",
         "6497496",
         "3614294",
         "6908554",
         "4059297",
         "3320245",
         "5647253",
         "6230795",
         "7987604",
         "3676157",
         "4148426",
         "3294640",
         "13888618",
         "10134556",
         "7880938",
         "5520588",
         "4562929",
         "7664458",
         "5724577",
         "6050682",
         "9284634",
         "4138736",
         "3035698",
         "3898024",
         "6149352",
         "4509756",
         "5077561",
         "6666406",
         "4184186",
         "3430245",
         "4447619",
         "8480546",
         "5242868",
         "6278906",
         "14039582",
         "8084153",
         "6981229",
         "9596356",
         "5681214",
         "4693235",
         "4114166",
         "7568594",
         "4121619",
         "6675795",
         "5590416",
         "4639506",
         "4279615",
         "4304658",
         "5016931",
         "4819412",
         "7705715",
         "7663064",
         "9863176",
         "7580447",
         "5570256",
         "6737855",
         "10951473",
         "9287888",
         "8975028",
         "17160231",
         "10476833",
         "11693404",
         "12731997",
         "10371559",
         "6259666",
         "6392331",
         "7396357",
         "4900356",
         "7485677",
         "6176578",
         "6575285",
         "6884529",
         "6245040",
         "8180408",
         "5759458",
         "6297330",
         "16883496",
         "19189195",
         "14053750",
         "13702080",
         "11400054",
         "10297839",
         "8540442",
         "5590393",
         "9784200",
         "6326961",
         "6300735",
         "5098707",
         "4826383",
         "8552012",
         "6958889",
         "4750198",
         "8259202",
         "4841257",
         "8499335",
         "8247544",
         "9911432",
         "13448583",
         "9151520",
         "6265570",
         "7363033",
         "6847245",
         "7035192",
         "4318835",
         "4461215",
         "3048074",
         "3328576",
         "4969222",
         "5335793",
         "6458812",
         "4288367",
         "4914201",
         "4540652",
         "3461744",
         "3718108",
         "4032825",
         "3390055",
         "4072795",
         "3049546",
         "3813862",
         "4058983",
         "4219997",
         "3248803",
         "7627917",
         "5929289",
         "4161382",
         "7141663",
         "5338678",
         "7149295",
         "6256035",
         "4892872",
         "4605428",
         "8105653",
         "7542161",
         "7126550",
         "6010631",
         "5279310",
         "5062297",
         "4901453",
         "9981885",
         "8120353",
         "4102286",
         "4171789",
         "7406324",
         "6914972",
         "4476769",
         "4047318",
         "3528413",
         "5353262",
         "3280670",
         "4898808",
         "5032884",
         "4888221",
         "5715817",
         "4463807",
         "8547764",
         "4980316",
         "6942493",
         "4236029",
         "5532647",
         "7028856",
         "19731322",
         "8835157",
         "6463227",
         "5209573",
         "4703127",
         "5419497",
         "4600097",
         "7536669",
         "5661102",
         "5909055",
         "5793324",
         "13682753",
         "8247650",
         "7230570",
         "4890091",
         "3242220",
         "4524921",
         "4916555",
         "8757414",
         "4345145",
         "4285954",
         "5811205",
         "4628462",
         "7160938",
         "4705140",
         "3442898",
         "7937981",
         "8648534",
         "6189204",
         "5744750",
         "6832071",
         "5441450",
         "6792009",
         "5937684",
         "4344701",
         "4186131",
         "4321909",
         "4645441",
         "4294689",
         "3727621",
         "4326988",
         "4185665",
         "9915932",
         "4578729",
         "9777059",
         "7109115",
         "4236168",
         "6619082",
         "4805025",
         "6392397",
         "7062337",
         "5619990",
         "4812052",
         "6157941",
         "5428872",
         "5251654",
         "6640964",
         "4515013",
         "4722025",
         "4696465",
         "6076998",
         "4163194",
         "3674909",
         "4053777",
         "4937928",
         "5846823",
         "9996464",
         "12795099",
         "6166161",
         "4506915",
         "3930911",
         "5892048",
         "5585810",
         "3996951",
         "3181755",
         "6940349",
         "5790795",
         "4312871",
         "4761537",
         "6042895",
         "6885601",
         "5092829",
         "3823769",
         "4285744",
         "5007297",
         "3476944",
         "5479716",
         "8212156",
         "5932110",
         "7932511",
         "6366922",
         "6058612",
         "7440766",
         "4726182",
         "5927881",
         "4914307",
         "6600538",
         "8324639",
         "13696168",
         "21001437",
         "15170749",
         "16113968",
         "18844384",
         "19896746",
         "19121101",
         "13520286",
         "10249805",
         "11024259",
         "7482945",
         "7608769",
         "7327223",
         "6338488",
         "7000023",
         "6557700",
         "6090599",
         "5627928",
         "4893378",
         "5685308",
         "4013574",
         "4356013",
         "4364626",
         "4228172",
         "4625603",
         "8970370",
         "17352130",
         "8569354",
         "8678224",
         "5930000",
         "5727365",
         "5651561",
         "4679649",
         "7286804",
         "9519173",
         "5674019",
         "4420612",
         "7251887",
         "9182571",
         "8945756",
         "5985053",
         "4176708",
         "3875082",
         "5666640",
         "7489686",
         "5919721",
         "5424386",
         "4797810",
         "5995157",
         "18767269",
         "14345271",
         "8205202",
         "13183473",
         "22347403",
         "9469804",
         "10981023",
         "10848254",
         "12073226",
         "12761903",
         "8383656",
         "7967145",
         "10266059",
         "6931304",
         "7452487",
         "8333727",
         "8398005",
         "6492396",
         "18759765",
         "12282638",
         "17476374",
         "8865451",
         "7596753",
         "9471498",
         "4884076",
         "5721166",
         "5875770",
         "7818655",
         "6996232",
         "5624211",
         "5915345",
         "5166547",
         "10992947",
         "9590784",
         "7094180",
         "4630522",
         "5703326",
         "6814072",
         "5076916",
         "10129430",
         "23214962",
         "13656486",
         "8564331",
         "30875768",
         "24571163",
         "17183811",
         "11552044",
         "10463881",
         "6986427",
         "9101258",
         "6064033",
         "18958612",
         "17402335",
         "13172230",
         "5945955",
         "5147286",
         "3602564",
         "13079288",
         "7649091",
         "7447392",
         "7216706",
         "5375104",
         "8350469",
         "7720821",
         "7480760",
         "22491931",
         "14283528",
         "9169989",
         "10015427",
         "6340336",
         "6765612",
         "6887577",
         "16547522",
         "8294917",
         "7349422",
         "5050478",
         "4842961",
         "4481729",
         "7843216",
         "8509084",
         "33649700",
         "21777597",
         "11743511",
         "7994988",
         "9814212",
         "17944537",
         "13472653",
         "12060574",
         "12815278",
         "8167738",
         "7201404",
         "6199965",
         "9526401",
         "8655542",
         "5421184",
         "9375549",
         "5600260",
         "19027753",
         "20058258",
         "20840724",
         "27425520",
         "14486027",
         "9126704",
         "7624348",
         "8000132",
         "7807971",
         "7831048",
         "6762889",
         "7374522",
         "7090674",
         "5098846",
         "6941523",
         "5448597",
         "5040287",
         "4625719",
         "7206191",
         "9708871",
         "8004709",
         "4686808",
         "4202642",
         "7992141",
         "6358300",
         "4127578",
         "3080724",
         "5628895",
         "8306511",
         "8461945",
         "7842508",
         "11511177",
         "6613455",
         "6308769",
         "5027048",
         "7365854",
         "6337555",
         "7674008",
         "7099999",
         "8274181",
         "9071858",
         "8016801",
         "5559913",
         "8163138",
         "8575133",
         "9938992",
         "6302338",
         "11658648",
         "6965184",
         "7394116",
         "7551225",
         "7008516",
         "5432945",
         "6056354",
         "5039052",
         "5247284",
         "6056590",
         "4691739",
         "3676733",
         "24150763",
         "12066741",
         "12529993",
         "8012155",
         "7258078",
         "6423279",
         "4621692",
         "11250318",
         "12569245",
         "7283441",
         "7352082",
         "6742765",
         "5038546",
         "6520611",
         "5844212",
         "7129713",
         "5517570",
         "5141617",
         "5200832",
         "3904947",
         "4168443",
         "7142117",
         "8909182",
         "5740558",
         "6626522",
         "8582535",
         "11183908",
         "10520653",
         "22911375",
         "17096818",
         "18764740",
         "10335485",
         "9442483",
         "8819625",
         "7392278",
         "7504137",
         "6844719",
         "7103447",
         "14785531",
         "10280980",
         "11800630",
         "6908224",
         "5947098",
         "8745609",
         "10215029",
         "7350948",
         "8779166",
         "6774093",
         "5991338",
         "8110439",
         "5478940",
         "7929864",
         "23720729",
         "13038257",
         "10410436",
         "5904031",
         "7061314",
         "9835927",
         "6745974",
         "10038579",
         "7272930",
         "5126468",
         "5876325",
         "12147141",
         "10943859",
         "10727454",
         "21849393",
         "22360709",
         "16714476",
         "9464628",
         "10704354",
         "18159339",
         "23706771",
         "10833943",
         "10131408",
         "6176440",
         "6711382",
         "7008336",
         "10834796",
         "7252412",
         "7295976",
         "7483273",
         "17786666",
         "20526195",
         "18003899",
         "18685187",
         "26547142",
         "14136572",
         "10312901",
         "11968638",
         "7926475",
         "10406732",
         "13064410",
         "13807522",
         "13510756",
         "20242151",
         "16003527",
         "10585039",
         "11653537",
         "15197544",
         "8168260",
         "7433402",
         "12316803",
         "12715788",
         "6575135",
         "11863462",
         "8202078",
         "5750771",
         "6182071",
         "8507208",
         "6339710",
         "6851384",
         "8237964",
         "9259027",
         "14201148",
         "7065738",
         "5880542",
         "6190835",
         "9145736",
         "7514430",
         "9200521",
         "11000092",
         "8148989",
         "9764727",
         "4764483",
         "7048410",
         "6846273",
         "5023121",
         "11072835",
         "22418252",
         "10027697",
         "9273331",
         "8109014",
         "9178208",
         "8259516",
         "6136481",
         "7028279",
         "5564200",
         "4776500",
         "5274349",
         "3898244",
         "4663937",
         "4868998",
         "9562591",
         "8231952",
         "5207376",
         "5311748",
         "4170527",
         "7799744",
         "6564964",
         "8559704",
         "5054414",
         "5420727",
         "3223082",
         "5183104",
         "9327775",
         "5360546",
         "5768696",
         "7403322",
         "4189372",
         "4802669",
         "4883714",
         "10042777",
         "8581210",
         "5313145",
         "4728096",
         "3946909",
         "4228103",
         "4883135",
         "6506264",
         "4391630",
         "12941112",
         "9444286",
         "12078785",
         "11123179",
         "5946161",
         "6196290",
         "6256548",
         "15137763",
         "8021180",
         "8086957",
         "8702338",
         "6935033",
         "6313417",
         "8488159",
         "10226863",
         "6479456",
         "6704303",
         "4779043",
         "5720888",
         "5020339",
         "4625095",
         "11216182",
         "29819231",
         "30006091",
         "18737839",
         "12684267",
         "9641810",
         "5066956",
         "6383929",
         "8787040",
         "6943417",
         "7940932",
         "14467348",
         "6074221",
         "9993689",
         "7359383",
         "8467863",
         "6471703",
         "4812563",
         "4408505",
         "7736078",
         "6733965",
         "6110013",
         "16870642",
         "12345765",
         "7956239",
         "5563459",
         "2465629",
         "6081986",
         "6613476",
         "5536255",
         "3736976",
         "7618937",
         "9040217",
         "8839951",
         "6919162",
         "7776211",
         "6574281",
         "18220940",
         "8503775",
         "14136392",
         "18120307",
         "14785206",
         "13332821",
         "8054720",
         "10648289",
         "9956827",
         "12601265",
         "10292456",
         "9558386",
         "17794697",
         "10157499",
         "18209138",
         "31199393",
         "28463186",
         "12976832",
         "26307458",
         "29061377",
         "17368831",
         "21736653",
         "13629073",
         "17447270",
         "31369028",
         "19651042",
         "14353600",
         "13608068",
         "11788493",
         "18216672",
         "29005676",
         "15719266",
         "47233495",
         "60938758",
         "48423837",
         "39880752",
         "17063521",
         "24689163",
         "11697473",
         "12022470",
         "26289348",
         "15693711",
         "16698369",
         "25422958",
         "17634893",
         "14339446",
         "15192163",
         "17290481",
         "14153843",
         "24277160",
         "24564171",
         "20194991",
         "25784003",
         "15048977",
         "10852657",
         "12662918",
         "17073740",
         "15594443",
         "13413587",
         "18909052",
         "22640254",
         "20489464",
         "23994580",
         "23625005",
         "30195460",
         "28285502",
         "16454549",
         "22895170",
         "21222745",
         "17422082",
         "14377408",
         "11998067",
         "17771485",
         "13353180",
         "19858427",
         "22562076",
         "14901836",
         "17919784",
         "12656024",
         "13650000",
         "22475421",
         "30576511",
         "23577001",
         "20657862",
         "13128237",
         "14746577",
         "20209093",
         "14224831",
         "13236697",
         "13237612",
         "20681442",
         "15221964",
         "16215982",
         "28471854",
         "32531807",
         "19237090",
         "16991656",
         "11123231",
         "11527686",
         "16130087",
         "16519601",
         "15906905",
         "19065491",
         "13682188",
         "10518428",
         "11698102",
         "9636522",
         "7309271",
         "12182524",
         "9987475",
         "8089736",
         "11549530",
         "7275774",
         "11812489",
         "15085297",
         "13565596",
         "7949469",
         "8887713",
         "7811917",
         "14174727",
         "11388154",
         "18563413",
         "15916482",
         "16763374",
         "15697178",
         "14051078",
         "9890800",
         "9751936",
         "8679749",
         "6362350",
         "6365271",
         "10959593",
         "9254549",
         "8854908",
         "9026404",
         "16918501",
         "13326897",
         "17250127",
         "20570284",
         "21493301",
         "16330188",
         "11718292",
         "23346353",
         "39003179",
         "23428079",
         "16368690",
         "14300795",
         "9332637",
         "16697299",
         "16029826",
         "14161080",
         "24328504",
         "19396616",
         "16048669",
         "15808700",
         "9426893",
         "7621039",
         "12246960",
         "8809346",
         "8414990",
         "4978015",
         "5992313",
         "8896420",
         "7522264",
         "8625834",
         "21898834",
         "20425308",
         "12577614",
         "20023104",
         "16474491",
         "12205331",
         "20611796",
         "21489559",
         "20063621",
         "10658893",
         "14239382",
         "23693043",
         "20081176",
         "115847020",
         "90119419",
         "96176128",
         "87596086",
         "110321885",
         "115465691",
         "79465769",
         "84930608",
         "60717459",
         "83020608",
         "97298228",
         "72546760",
         "76779163",
         "86406819",
         "109476800",
         "79580795",
         "95074176",
         "96561061",
         "67208459",
         "49719561",
         "50341404",
         "48145566",
         "50741454",
         "71430025",
         "44722786",
         "49146259",
         "43127709",
         "40421116",
         "28925656",
         "38791133",
         "34463665",
         "48045394",
         "35672354",
         "32775879",
         "36287843",
         "31656289",
         "32370461",
         "39993191",
         "33716980",
         "28239161",
         "22686506",
         "25451409",
         "22655308",
         "42587639",
         "29021118",
         "34351715",
         "32143057",
         "28414523",
         "21706014",
         "34833025",
         "30284224",
         "17357722",
         "19940500",
         "19830351",
         "26838635",
         "61188281",
         "78044024",
         "62475346",
         "32911922",
         "50260304",
         "52058771",
         "48930162",
         "37561078",
         "63003052",
         "39133346",
         "47775653",
         "42552003",
         "29401314",
         "56309709",
         "64265029",
         "71291190",
         "67083153",
         "46474974",
         "52040649",
         "45223559",
         "42095813",
         "56270144",
         "222126194",
         "58045264",
         "51861644",
         "33172972",
         "22865568",
         "31553561",
         "22910811",
         "42846021",
         "49649928",
         "48638189",
         "32245165",
         "44699965",
         "51498948",
         "75055528",
         "59554146",
         "45985569",
         "33312496",
         "31266327",
         "38777596",
         "25366980",
         "25665883",
         "20598133",
         "20066497",
         "41173397",
         "23131603",
         "27333955",
         "26378048",
         "34990754",
         "25391385",
         "23998098",
         "18343510",
         "15812661",
         "18566637",
         "20161719",
         "15027305",
         "35723444",
         "21622753",
         "23768313",
         "19802324",
         "25878526",
         "17957058",
         "18958255",
         "36594555",
         "66606882",
         "36766950",
         "38126722",
         "39767316",
         "27136239",
         "23732158",
         "30207960",
         "64799898",
         "89396459",
         "51786958",
         "67523328",
         "60605672",
         "36253892",
         "33583840",
         "29423479",
         "32195672",
         "40372453",
         "33369022",
         "42893978",
         "39512221",
         "30491870",
         "33795174",
         "39224850",
         "33852827",
         "28636985",
         "39432359",
         "33337288",
         "35298378",
         "41842767",
         "28271839",
         "26309433",
         "23924329",
         "21437087",
         "29135670",
         "44652808",
         "49017434",
         "27848900",
         "27979526",
         "39686226",
         "35609038",
         "31215514",
         "35590255",
         "28413889",
         "31038502",
         "29436995",
         "22271047",
         "28845449",
         "40758722",
         "27043143",
         "29739319",
         "21901894",
         "27784619",
         "23469172",
         "31392417",
         "46503896",
         "33823646",
         "44184916",
         "33370856",
         "32390360",
         "36830567",
         "39578395",
         "30821119",
         "26030595",
         "34558089",
         "28005933",
         "28639305",
         "26370593",
         "22737038",
         "18084890",
         "23302779",
         "30111893",
         "24036896",
         "22543682",
         "26053405",
         "16584566",
         "23919606",
         "16205303",
         "20423983",
         "17764145",
         "21845739",
         "22701350",
         "24560905",
         "24812741",
         "19158892",
         "31099228",
         "45982386",
         "32496707",
         "21628159",
         "17381313",
         "18924862",
         "18634522",
         "27097374",
         "23284450",
         "18791960",
         "22773316",
         "18140548",
         "25927042",
         "20966092",
         "21641190",
         "20209571",
         "16370970",
         "21297090",
         "15487127",
         "13953338",
         "15105727",
         "14604944",
         "25336556",
         "32813290",
         "16006596",
         "29688446",
         "29656411",
         "33615765",
         "21620253",
         "17002647",
         "12919637",
         "15623049",
         "14715349",
         "13432305",
         "9800558",
         "17681686",
         "16671844",
         "23103303",
         "23721279",
         "20349375",
         "14313486",
         "14841865",
         "20264859",
         "13083071",
         "12645562",
         "13214292",
         "13833763",
         "18604220",
         "20855436",
         "13204335",
         "12796739",
         "15271045",
         "20039825",
         "18793036",
         "14077731",
         "15184170",
         "22952482",
         "18524881",
         "15357685",
         "13923393",
         "28204176",
         "24757652",
         "16330723",
         "15126272",
         "11947527",
         "21373022",
         "28070657",
         "25381422",
         "20942877",
         "17955961",
         "17031414",
         "30483341",
         "18432625",
         "14632768",
         "19195782",
         "16738604",
         "14200322",
         "22020040",
         "14120075",
         "12247170",
         "18924567",
         "24207244",
         "17381128",
         "14032052",
         "31481454",
         "22880835",
         "62852099",
         "62414968",
         "38526459",
         "27213173",
         "29918417",
         "54868952",
         "42450935",
         "34628519",
         "25397410",
         "21628812",
         "33445715",
         "58525547",
         "42802722",
         "22396568",
         "25147852",
         "34775649",
         "26542359",
         "31445365",
         "20898930",
         "21642258",
         "33072509",
         "36171700",
         "22560238",
         "11680890",
         "19464467",
         "27092038",
         "22934698",
         "24371623",
         "30773995",
         "27221037",
         "18694857",
         "13968790",
         "19812832",
         "19888122",
         "26198502",
         "23602090",
         "25056410",
         "27590483",
         "33626754",
         "18826671",
         "23839305",
         "31211362",
         "30904429",
         "23715273",
         "20107969",
         "18718015",
         "15680313",
         "13466216",
         "34895349",
         "33416086",
         "26706599",
         "30112158",
         "28054916",
         "30604959",
         "21593308",
         "27913005",
         "32403264",
         "24308137",
         "22158412",
         "24870215",
         "23496248",
         "34472009",
         "50791714",
         "28865302",
         "34955761",
         "49036523",
         "44929650",
         "34812032",
         "24379446",
         "22264345",
         "26285186",
         "24541822",
         "20331488",
         "16909671",
         "17419848",
         "22042277",
         "26548623",
         "22585472",
         "19216514",
         "17098132",
         "18392806",
         "22833947",
         "27387874",
         "31752336",
         "45107425",
         "25355921",
         "33002289",
         "24922287",
         "24881146",
         "20541169",
         "22393287",
         "24164724",
         "26799702",
         "19727993",
         "19549548",
         "22345722",
         "23717421",
         "22280381",
         "28009607",
         "22194324",
         "33443159",
         "26640958",
         "34882278",
         "40225383",
         "22973626",
         "20496893",
         "34168693",
         "24538273",
         "19955002",
         "16330919",
         "18087741",
         "27392567",
         "26192187",
         "29782845",
         "26482353",
         "18337896",
         "19785735",
         "21992032",
         "18373737",
         "19474135",
         "17238407",
         "16615944",
         "21616141",
         "35138779",
         "23232186",
         "22780445",
         "44694524",
         "25652132",
         "41649509",
         "29377665",
         "25260457",
         "21236525",
         "27039655",
         "30839731",
         "24301037",
         "30270074",
         "28133877",
         "32408153",
         "46770954",
         "30716908",
         "28699513",
         "26745370",
         "29270604",
         "30098891",
         "48324435",
         "29634546",
         "29697505",
         "30713108",
         "35334448",
         "29764994",
         "33971457",
         "25749321",
         "31157706",
         "37464579",
         "28068174",
         "24269534",
         "25403540",
         "32163769",
         "32696966",
         "34255754",
         "32662932",
         "39710645",
         "35796900",
         "30880590",
         "40930985",
         "33842420",
         "34734226",
         "31923565",
         "29726104",
         "30222167",
         "27632418",
         "31533484",
         "24820148",
         "28259704",
         "23951210",
         "27310230",
         "33951362",
         "33169740",
         "29310320",
         "32651499",
         "26185833",
         "23227673",
         "27512476",
         "26963370",
         "29621363",
         "47344059",
         "34490949",
         "21357835",
         "22273586",
         "29369996",
         "28240997",
         "31770961",
         "39014296",
         "31859156",
         "26697035",
         "24085439",
         "37724299",
         "33121758",
         "28748227",
         "31639624",
         "23385015",
         "26552429",
         "29786389",
         "29378774",
         "22921990",
         "15833512",
         "20465129",
         "18614449",
         "21328348",
         "19086572",
         "52827378",
         "57163947",
         "41548729",
         "50541759",
         "52107337",
         "54287024",
         "50890090",
         "55605247",
         "50028916",
         "53713124",
         "54470854",
         "48674604",
         "68229619",
         "72628653",
         "64795523",
         "87087786",
         "60231156",
         "61642783",
         "62555656",
         "70107683",
         "63748362",
         "58076913",
         "61925185",
         "54664809",
         "77620642",
         "67726598",
         "98363541",
         "109578535",
         "86982673",
         "69298437",
         "83916800",
         "67925018",
         "77013202",
         "66860699",
         "91483045",
         "94124511",
         "79428810",
         "75891905",
         "66571479",
         "117798062",
         "75713754",
         "100446765",
         "96507870",
         "85327078",
         "61638824",
         "69152386",
         "61554341",
         "62688822",
         "63070293",
         "56538848",
         "98622212",
         "93916520",
         "128803404",
         "127062659",
         "132703015",
         "114403575",
         "92226649",
         "91293785",
         "66567599",
         "64335970",
         "76048866",
         "92882712",
         "78452327",
         "109536709",
         "50672739",
         "93038148",
         "83357111",
         "109186404",
         "80046213",
         "73645922",
         "93122667",
         "92150823",
         "84213284",
         "97624491",
         "104872336",
         "109794471",
         "175862722",
         "140682338",
         "122334459",
         "139032175",
         "139390634",
         "159563267",
         "145417412",
         "210090250",
         "166989688",
         "208643444",
         "221070537",
         "221923313",
         "157777339",
         "231402818",
         "180388976",
         "157986324",
         "220911051",
         "190283951",
         "167642485",
         "183810771",
         "169400913",
         "180714119",
         "186476985",
         "195680318",
         "170291880",
         "138858136",
         "203119211",
         "158699056",
         "192734347",
         "234815090",
         "306590613",
         "230878807",
         "196813541",
         "213806323",
         "217448287",
         "232662023",
         "186188131",
         "186010325",
         "180673644",
         "215431442",
         "204754129",
         "172475452",
         "216455708",
         "182108581",
         "229586538",
         "213738549",
         "180018588",
         "191828457",
         "146359950",
         "142228105",
         "161028315",
         "153144912",
         "156852790",
         "181979154",
         "154193277",
         "128100106",
         "148125790",
         "151897763",
         "170023794",
         "191488872",
         "167790256",
         "143717897",
         "145995583",
         "121374453",
         "133197140",
         "129684359",
         "153391444",
         "150376373",
         "144193876",
         "116531584",
         "120851587",
         "98654635",
         "123660026",
         "110252238",
         "170222118",
         "169545900",
         "126463845",
         "133882493",
         "123857932",
         "142154637",
         "115770892",
         "150256278",
         "112932985",
         "96438664",
         "116177121",
         "92067016",
         "125732687",
         "210970819",
         "123538954",
         "140006559",
         "121999312",
         "152247096",
         "127015177",
         "122515812",
         "109015048",
         "128259744",
         "119727972",
         "95108492",
         "107607259",
         "112249449",
         "88965043",
         "119840693",
         "103889930",
         "157849625",
         "105592510",
         "98288792",
         "125473558",
         "109520332",
         "136196668",
         "132001430",
         "156952130",
         "137605054",
         "96870719",
         "162061496",
         "128818746",
         "149356274",
         "148029931",
         "164398372",
         "151143052",
         "146911576",
         "185710777",
         "164489739",
         "200242371",
         "150740523",
         "162384343",
         "170575536",
         "160171238",
         "167915649",
         "165611217",
         "211797109",
         "166875944",
         "177460803",
         "179990552",
         "164968214",
         "159770797",
         "131283360",
         "112620784",
         "119685891",
         "131530862",
         "120707419",
         "113879174",
         "119425405",
         "91972358",
         "95672139",
         "112681458",
         "120062369",
         "131569593",
         "112434713",
         "142355353",
         "175158273",
         "161796073",
         "137005037",
         "112757327",
         "95856177",
         "103697263",
         "111446026",
         "84582172",
         "83645720",
         "101752865",
         "97829545",
         "99539907",
         "111097943",
         "96642183",
         "101596324",
         "109498608",
         "99038642",
         "98595331",
         "88197599",
         "112484520",
         "120718417",
         "136276584",
         "135702671",
         "130597886",
         "101077635",
         "99777432",
         "106612231",
         "107673727",
         "134047603",
         "121988437",
         "108861698",
         "132541640",
         "129469565",
         "116959759",
         "115312886",
         "118559635",
         "174667852",
         "135999866",
         "111673737",
         "107709842",
         "133692313",
         "101543305",
         "103704040",
         "122514643",
         "119951516",
         "127524083",
         "104636557",
         "101993631",
         "136597184",
         "117058870",
         "128522729",
         "123810402",
         "101985305",
         "129721567",
         "119159214",
         "118121812",
         "101377947",
         "122656030",
         "103706266",
         "111508114",
         "102296786",
         "88917176",
         "93562909",
         "125147846",
         "170772713",
         "138010095",
         "150683368",
         "118231113",
         "107065087",
         "115112635",
         "94881173",
         "136448167",
         "118068273",
         "121661656",
         "125987621",
         "119534790",
         "117335820",
         "116900130",
         "106584841",
         "142110454",
         "131310128",
         "140447569",
         "149771642",
         "150353975",
         "136816819",
         "142766234",
         "116562402",
         "122288000",
         "118117078",
         "65125203",
         "112031763",
         "148549913",
         "135401335",
         "132353196",
         "121331709",
         "104099817",
         "137971115",
         "125905295",
         "107142262",
         "103126829",
         "97913888",
         "95328313",
         "146286348",
         "160829239",
         "135932762",
         "116416490",
         "106287276",
         "125096987",
         "109594227",
         "93370094",
         "86892382",
         "105853348",
         "113619943",
         "100891578",
         "104654163",
         "121082599",
         "102629283",
         "92240035",
         "85166580",
         "96705664",
         "91628502",
         "105873612",
         "123043812",
         "115355046",
         "103164400",
         "108595431",
         "102260343",
         "117952527",
         "106605946",
         "112930989",
         "198076787",
         "107343231",
         "125013148",
         "109982327",
         "103221430",
         "91843275",
         "110612672",
         "134294447",
         "122675954",
         "111535217",
         "83034043",
         "84476347",
         "95498597",
         "86759478",
         "81202987",
         "120831762",
         "111346705",
         "104545762",
         "103844008",
         "92739461",
         "78841917",
         "111747116",
         "108645412",
         "99806173",
         "85906974",
         "82243119",
         "134334869",
         "119660758",
         "107920944",
         "102129004",
         "85544644",
         "85013157",
         "87009098",
         "104717978",
         "125494925",
         "97146832",
         "108214358",
         "77271428",
         "83846726",
         "73178014",
         "75580637",
         "74228615",
         "113186227",
         "81804043",
         "77654838",
         "80751684",
         "115344925",
         "82223543",
         "122061224",
         "136439809",
         "104039371",
         "102327658",
         "84532407",
         "94515987",
         "64722669",
         "100245310",
         "96999956",
         "82439718",
         "96098830",
         "87074500",
         "107097564",
         "124545104",
         "181178020",
         "126427521",
         "109815725",
         "243869678",
         "127031787",
         "92829719",
         "89148041",
         "75491539",
         "84390253",
         "75045854",
         "79969488",
         "65950292",
         "72627178",
         "67018903",
         "86407422",
         "79662993",
         "59812220",
         "77445845",
         "61727425",
         "115266512",
         "88313477",
         "71975496",
         "65584478",
         "59736620",
         "54782649",
         "77784755",
         "67314602",
         "68568920",
         "60056340",
         "57953756",
         "69887024",
         "56244932",
         "50869682",
         "64761928",
         "90389446",
         "118984122",
         "82038194",
         "109786083",
         "68982265",
         "55893139",
         "63029482",
         "61992070",
         "63678265",
         "95737066",
         "72746521",
         "95438068",
         "135691395",
         "205047920",
         "166561471",
         "154501152",
         "157219580",
         "160742516",
         "128519430",
         "221707273",
         "155955773",
         "146912920",
         "126332470",
         "115584810",
         "110869037",
         "87403903",
         "101225430",
         "111928192",
         "167942939",
         "100636466",
         "94604145",
         "129201789",
         "100560334",
         "67497011",
         "83861898",
         "82880120",
         "100308836",
         "73783942",
         "71159778",
         "65033874",
         "58648274",
         "64044903",
         "76247387",
         "70250014",
         "89848530",
         "88765122",
         "76435222",
         "74001182",
         "70145964",
         "79514482",
         "81525207",
         "59301187",
         "62821390",
         "64116350",
         "62308818",
         "63370608",
         "76714222",
         "80217329",
         "119355013",
         "112177004",
         "67443518",
         "78891136",
         "83548633",
         "72020042",
         "59515114",
         "54322995",
         "66761636",
         "78010204",
         "102694576",
         "99879070",
         "86927194",
         "88490999",
         "65034318",
         "67142193",
         "70988067",
         "80873381",
         "87397613",
         "93983930",
         "80729240",
         "86726285",
         "68113270",
         "56303160",
         "66289529",
         "83087063",
         "142628874",
         "86291923",
         "62988787",
         "49632824",
         "50791784",
         "49611867",
         "47328988",
         "43268741",
         "80938892",
         "204491903",
         "161611931",
         "107653603",
         "80521751",
         "53993576",
         "66575292",
         "57544757",
         "68802354",
         "69282505",
         "165228710",
         "117309232",
         "204782763",
         "210521625",
         "155726016",
         "125405599",
         "120726109",
         "114440286",
         "126547455",
         "88852452",
         "66340650",
         "58011719",
         "89140722",
         "95890899",
         "62295857",
         "57896439",
         "37167621",
         "77986478",
         "58267196",
         "50810874",
         "81403569",
         "81455834",
         "96359173",
         "97563578",
         "104287559",
         "87752225",
         "89000158",
         "114083811",
         "131222978",
         "149340788",
         "118566146",
         "132216176",
         "72698055",
         "59551750",
         "76651210",
         "82666821",
         "64941012",
         "76825121",
         "109710749",
         "95423329",
         "85516534",
         "75699525",
         "73038805",
         "62287333",
         "67580494",
         "84565022",
         "81375460",
         "68335151",
         "94991429",
         "87320894",
         "60963342",
         "50690592",
         "56427149",
         "58125510",
         "48910676",
         "68033648",
         "98092879",
         "83568219",
         "93732122",
         "57072235",
         "57614721",
         "77918230",
         "70298258",
         "77514903",
         "118543400",
         "105382729",
         "89441519",
         "68277279",
         "51631702",
         "67094374",
         "45965354",
         "74058648",
         "76052321",
         "134228777",
         "100118276",
         "101748197",
         "115696968",
         "115551414",
         "126706623",
         "94042913",
         "98451566",
         "102369640",
         "185037825",
         "174896415",
         "142215681",
         "114813525",
         "100242264",
         "111900565",
         "111477636",
         "111993753",
         "99028270",
         "132728684",
         "169079865",
         "150361538",
         "156254441",
         "162572146",
         "123809389",
         "134008936",
         "146486911",
         "212787817",
         "136174291",
         "181229353",
         "183453776",
         "171603472",
         "219433373",
         "181722604",
         "128948085",
         "100135241",
         "79594318",
         "112378737",
         "83404775",
         "97768007",
         "120858452",
         "150381903"
        ]
       ],
       "shape": {
        "columns": 2592,
        "rows": 4
       }
      },
      "text/html": [
       "<div>\n",
       "<style scoped>\n",
       "    .dataframe tbody tr th:only-of-type {\n",
       "        vertical-align: middle;\n",
       "    }\n",
       "\n",
       "    .dataframe tbody tr th {\n",
       "        vertical-align: top;\n",
       "    }\n",
       "\n",
       "    .dataframe thead tr th {\n",
       "        text-align: left;\n",
       "    }\n",
       "\n",
       "    .dataframe thead tr:last-of-type th {\n",
       "        text-align: right;\n",
       "    }\n",
       "</style>\n",
       "<table border=\"1\" class=\"dataframe\">\n",
       "  <thead>\n",
       "    <tr>\n",
       "      <th></th>\n",
       "      <th colspan=\"21\" halign=\"left\">volume</th>\n",
       "    </tr>\n",
       "    <tr>\n",
       "      <th></th>\n",
       "      <th>2015-01-02</th>\n",
       "      <th>2015-01-05</th>\n",
       "      <th>2015-01-06</th>\n",
       "      <th>2015-01-07</th>\n",
       "      <th>2015-01-08</th>\n",
       "      <th>2015-01-09</th>\n",
       "      <th>2015-01-12</th>\n",
       "      <th>2015-01-13</th>\n",
       "      <th>2015-01-14</th>\n",
       "      <th>2015-01-15</th>\n",
       "      <th>...</th>\n",
       "      <th>2025-04-09</th>\n",
       "      <th>2025-04-10</th>\n",
       "      <th>2025-04-11</th>\n",
       "      <th>2025-04-14</th>\n",
       "      <th>2025-04-15</th>\n",
       "      <th>2025-04-16</th>\n",
       "      <th>2025-04-17</th>\n",
       "      <th>2025-04-21</th>\n",
       "      <th>2025-04-22</th>\n",
       "      <th>2025-04-23</th>\n",
       "    </tr>\n",
       "    <tr>\n",
       "      <th>stock</th>\n",
       "      <th></th>\n",
       "      <th></th>\n",
       "      <th></th>\n",
       "      <th></th>\n",
       "      <th></th>\n",
       "      <th></th>\n",
       "      <th></th>\n",
       "      <th></th>\n",
       "      <th></th>\n",
       "      <th></th>\n",
       "      <th></th>\n",
       "      <th></th>\n",
       "      <th></th>\n",
       "      <th></th>\n",
       "      <th></th>\n",
       "      <th></th>\n",
       "      <th></th>\n",
       "      <th></th>\n",
       "      <th></th>\n",
       "      <th></th>\n",
       "      <th></th>\n",
       "    </tr>\n",
       "  </thead>\n",
       "  <tbody>\n",
       "    <tr>\n",
       "      <th>AAPL</th>\n",
       "      <td>53204626</td>\n",
       "      <td>64285491</td>\n",
       "      <td>65797116</td>\n",
       "      <td>40105934</td>\n",
       "      <td>59364547</td>\n",
       "      <td>53315099</td>\n",
       "      <td>49650790</td>\n",
       "      <td>67091928</td>\n",
       "      <td>48956588</td>\n",
       "      <td>60013996</td>\n",
       "      <td>...</td>\n",
       "      <td>184395885</td>\n",
       "      <td>121879981</td>\n",
       "      <td>87435915</td>\n",
       "      <td>101352911</td>\n",
       "      <td>51343872</td>\n",
       "      <td>59732423</td>\n",
       "      <td>52164675</td>\n",
       "      <td>46742537</td>\n",
       "      <td>52976371</td>\n",
       "      <td>52929165</td>\n",
       "    </tr>\n",
       "    <tr>\n",
       "      <th>IBM</th>\n",
       "      <td>5525341</td>\n",
       "      <td>4880389</td>\n",
       "      <td>6145670</td>\n",
       "      <td>4701015</td>\n",
       "      <td>4240585</td>\n",
       "      <td>4472701</td>\n",
       "      <td>4187588</td>\n",
       "      <td>4386989</td>\n",
       "      <td>4689740</td>\n",
       "      <td>4251698</td>\n",
       "      <td>...</td>\n",
       "      <td>7302808</td>\n",
       "      <td>5656108</td>\n",
       "      <td>4325895</td>\n",
       "      <td>3321717</td>\n",
       "      <td>3363708</td>\n",
       "      <td>4870299</td>\n",
       "      <td>4635204</td>\n",
       "      <td>4908923</td>\n",
       "      <td>4232658</td>\n",
       "      <td>7948259</td>\n",
       "    </tr>\n",
       "    <tr>\n",
       "      <th>MSFT</th>\n",
       "      <td>53204626</td>\n",
       "      <td>64285491</td>\n",
       "      <td>65797116</td>\n",
       "      <td>40105934</td>\n",
       "      <td>59364547</td>\n",
       "      <td>53315099</td>\n",
       "      <td>49650790</td>\n",
       "      <td>67091928</td>\n",
       "      <td>48956588</td>\n",
       "      <td>60013996</td>\n",
       "      <td>...</td>\n",
       "      <td>184395885</td>\n",
       "      <td>121879981</td>\n",
       "      <td>87435915</td>\n",
       "      <td>101352911</td>\n",
       "      <td>51343872</td>\n",
       "      <td>59732423</td>\n",
       "      <td>52164675</td>\n",
       "      <td>46742537</td>\n",
       "      <td>52976371</td>\n",
       "      <td>52929165</td>\n",
       "    </tr>\n",
       "    <tr>\n",
       "      <th>TSLA</th>\n",
       "      <td>4764443</td>\n",
       "      <td>5368477</td>\n",
       "      <td>6261936</td>\n",
       "      <td>2968390</td>\n",
       "      <td>3442509</td>\n",
       "      <td>4580722</td>\n",
       "      <td>5950280</td>\n",
       "      <td>4477320</td>\n",
       "      <td>11551855</td>\n",
       "      <td>5216524</td>\n",
       "      <td>...</td>\n",
       "      <td>219433373</td>\n",
       "      <td>181722604</td>\n",
       "      <td>128948085</td>\n",
       "      <td>100135241</td>\n",
       "      <td>79594318</td>\n",
       "      <td>112378737</td>\n",
       "      <td>83404775</td>\n",
       "      <td>97768007</td>\n",
       "      <td>120858452</td>\n",
       "      <td>150381903</td>\n",
       "    </tr>\n",
       "  </tbody>\n",
       "</table>\n",
       "<p>4 rows × 2592 columns</p>\n",
       "</div>"
      ],
      "text/plain": [
       "          volume                                                         \\\n",
       "      2015-01-02 2015-01-05 2015-01-06 2015-01-07 2015-01-08 2015-01-09   \n",
       "stock                                                                     \n",
       "AAPL    53204626   64285491   65797116   40105934   59364547   53315099   \n",
       "IBM      5525341    4880389    6145670    4701015    4240585    4472701   \n",
       "MSFT    53204626   64285491   65797116   40105934   59364547   53315099   \n",
       "TSLA     4764443    5368477    6261936    2968390    3442509    4580722   \n",
       "\n",
       "                                                   ...                        \\\n",
       "      2015-01-12 2015-01-13 2015-01-14 2015-01-15  ... 2025-04-09 2025-04-10   \n",
       "stock                                              ...                         \n",
       "AAPL    49650790   67091928   48956588   60013996  ...  184395885  121879981   \n",
       "IBM      4187588    4386989    4689740    4251698  ...    7302808    5656108   \n",
       "MSFT    49650790   67091928   48956588   60013996  ...  184395885  121879981   \n",
       "TSLA     5950280    4477320   11551855    5216524  ...  219433373  181722604   \n",
       "\n",
       "                                                                         \\\n",
       "      2025-04-11 2025-04-14 2025-04-15 2025-04-16 2025-04-17 2025-04-21   \n",
       "stock                                                                     \n",
       "AAPL    87435915  101352911   51343872   59732423   52164675   46742537   \n",
       "IBM      4325895    3321717    3363708    4870299    4635204    4908923   \n",
       "MSFT    87435915  101352911   51343872   59732423   52164675   46742537   \n",
       "TSLA   128948085  100135241   79594318  112378737   83404775   97768007   \n",
       "\n",
       "                             \n",
       "      2025-04-22 2025-04-23  \n",
       "stock                        \n",
       "AAPL    52976371   52929165  \n",
       "IBM      4232658    7948259  \n",
       "MSFT    52976371   52929165  \n",
       "TSLA   120858452  150381903  \n",
       "\n",
       "[4 rows x 2592 columns]"
      ]
     },
     "execution_count": 71,
     "metadata": {},
     "output_type": "execute_result"
    }
   ],
   "source": [
    "vol.unstack(level=0)"
   ]
  },
  {
   "cell_type": "code",
   "execution_count": 72,
   "metadata": {},
   "outputs": [],
   "source": [
    "vol = vol.groupby(level=1).resample('W', level=0).mean().unstack(level=0)"
   ]
  },
  {
   "cell_type": "markdown",
   "metadata": {},
   "source": [
    "### Step 9. Find all the volume traded in the year of 2015"
   ]
  },
  {
   "cell_type": "code",
   "execution_count": 75,
   "metadata": {},
   "outputs": [
    {
     "data": {
      "text/plain": [
       "        stock\n",
       "volume  AAPL     2.700338e+09\n",
       "        IBM      2.293805e+08\n",
       "        MSFT     2.700338e+09\n",
       "        TSLA     2.248519e+08\n",
       "dtype: float64"
      ]
     },
     "execution_count": 75,
     "metadata": {},
     "output_type": "execute_result"
    }
   ],
   "source": [
    "vol[vol.index.year == 2015].sum()"
   ]
  }
 ],
 "metadata": {
  "kernelspec": {
   "display_name": "Python 3",
   "language": "python",
   "name": "python3"
  },
  "language_info": {
   "codemirror_mode": {
    "name": "ipython",
    "version": 3
   },
   "file_extension": ".py",
   "mimetype": "text/x-python",
   "name": "python",
   "nbconvert_exporter": "python",
   "pygments_lexer": "ipython3",
   "version": "3.13.3"
  }
 },
 "nbformat": 4,
 "nbformat_minor": 1
}
