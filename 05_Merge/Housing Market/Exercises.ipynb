{
 "cells": [
  {
   "cell_type": "markdown",
   "metadata": {},
   "source": [
    "# Housing Market"
   ]
  },
  {
   "cell_type": "markdown",
   "metadata": {},
   "source": [
    "### Introduction:\n",
    "\n",
    "This time we will create our own dataset with fictional numbers to describe a house market. As we are going to create random data don't try to reason of the numbers.\n",
    "\n",
    "### Step 1. Import the necessary libraries"
   ]
  },
  {
   "cell_type": "code",
   "execution_count": 12,
   "metadata": {
    "collapsed": false
   },
   "outputs": [],
   "source": [
    "import pandas as pd \n",
    "import numpy as np"
   ]
  },
  {
   "cell_type": "markdown",
   "metadata": {},
   "source": [
    "### Step 2. Create 3 differents Series, each of length 100, as follows: \n",
    "1. The first a random number from 1 to 4 \n",
    "2. The second a random number from 1 to 3\n",
    "3. The third a random number from 10,000 to 30,000"
   ]
  },
  {
   "cell_type": "code",
   "execution_count": 13,
   "metadata": {
    "collapsed": false
   },
   "outputs": [],
   "source": [
    "s1 = pd.Series(np.random.randint(1,4,100))\n",
    "s2 = pd.Series(np.random.randint(1,3,100))\n",
    "s3 = pd.Series(np.random.randint(10000,30000,100))"
   ]
  },
  {
   "cell_type": "markdown",
   "metadata": {},
   "source": [
    "### Step 3. Let's create a DataFrame by joinning the Series by column"
   ]
  },
  {
   "cell_type": "code",
   "execution_count": 14,
   "metadata": {
    "collapsed": false
   },
   "outputs": [
    {
     "data": {
      "application/vnd.microsoft.datawrangler.viewer.v0+json": {
       "columns": [
        {
         "name": "index",
         "rawType": "int64",
         "type": "integer"
        },
        {
         "name": "0",
         "rawType": "int64",
         "type": "integer"
        },
        {
         "name": "1",
         "rawType": "int64",
         "type": "integer"
        },
        {
         "name": "2",
         "rawType": "int64",
         "type": "integer"
        }
       ],
       "conversionMethod": "pd.DataFrame",
       "ref": "e0f7e51a-7e1f-4755-a14e-56aca865f7c7",
       "rows": [
        [
         "0",
         "2",
         "2",
         "27028"
        ],
        [
         "1",
         "2",
         "1",
         "23160"
        ],
        [
         "2",
         "3",
         "2",
         "15063"
        ],
        [
         "3",
         "3",
         "2",
         "26680"
        ],
        [
         "4",
         "3",
         "2",
         "14691"
        ],
        [
         "5",
         "1",
         "2",
         "21583"
        ],
        [
         "6",
         "3",
         "1",
         "11643"
        ],
        [
         "7",
         "3",
         "2",
         "16431"
        ],
        [
         "8",
         "2",
         "1",
         "28721"
        ],
        [
         "9",
         "1",
         "1",
         "14673"
        ],
        [
         "10",
         "3",
         "1",
         "29576"
        ],
        [
         "11",
         "1",
         "1",
         "27133"
        ],
        [
         "12",
         "3",
         "1",
         "21352"
        ],
        [
         "13",
         "3",
         "1",
         "19668"
        ],
        [
         "14",
         "1",
         "2",
         "16316"
        ],
        [
         "15",
         "1",
         "1",
         "16730"
        ],
        [
         "16",
         "2",
         "1",
         "29910"
        ],
        [
         "17",
         "2",
         "1",
         "29131"
        ],
        [
         "18",
         "3",
         "2",
         "13196"
        ],
        [
         "19",
         "1",
         "1",
         "21580"
        ],
        [
         "20",
         "2",
         "1",
         "15696"
        ],
        [
         "21",
         "1",
         "2",
         "18293"
        ],
        [
         "22",
         "1",
         "2",
         "25007"
        ],
        [
         "23",
         "3",
         "1",
         "10915"
        ],
        [
         "24",
         "3",
         "2",
         "18191"
        ],
        [
         "25",
         "2",
         "1",
         "20963"
        ],
        [
         "26",
         "3",
         "1",
         "29273"
        ],
        [
         "27",
         "1",
         "1",
         "16761"
        ],
        [
         "28",
         "1",
         "1",
         "13647"
        ],
        [
         "29",
         "3",
         "2",
         "26154"
        ],
        [
         "30",
         "2",
         "2",
         "25373"
        ],
        [
         "31",
         "1",
         "2",
         "23400"
        ],
        [
         "32",
         "2",
         "1",
         "23777"
        ],
        [
         "33",
         "3",
         "1",
         "11926"
        ],
        [
         "34",
         "3",
         "2",
         "19060"
        ],
        [
         "35",
         "3",
         "2",
         "22519"
        ],
        [
         "36",
         "3",
         "2",
         "23140"
        ],
        [
         "37",
         "1",
         "2",
         "27916"
        ],
        [
         "38",
         "1",
         "1",
         "29520"
        ],
        [
         "39",
         "1",
         "2",
         "29193"
        ],
        [
         "40",
         "2",
         "1",
         "24584"
        ],
        [
         "41",
         "2",
         "1",
         "18937"
        ],
        [
         "42",
         "3",
         "2",
         "12964"
        ],
        [
         "43",
         "3",
         "2",
         "11816"
        ],
        [
         "44",
         "1",
         "1",
         "28528"
        ],
        [
         "45",
         "3",
         "2",
         "26380"
        ],
        [
         "46",
         "3",
         "2",
         "11563"
        ],
        [
         "47",
         "1",
         "1",
         "22799"
        ],
        [
         "48",
         "1",
         "1",
         "18721"
        ],
        [
         "49",
         "2",
         "2",
         "29906"
        ]
       ],
       "shape": {
        "columns": 3,
        "rows": 100
       }
      },
      "text/html": [
       "<div>\n",
       "<style scoped>\n",
       "    .dataframe tbody tr th:only-of-type {\n",
       "        vertical-align: middle;\n",
       "    }\n",
       "\n",
       "    .dataframe tbody tr th {\n",
       "        vertical-align: top;\n",
       "    }\n",
       "\n",
       "    .dataframe thead th {\n",
       "        text-align: right;\n",
       "    }\n",
       "</style>\n",
       "<table border=\"1\" class=\"dataframe\">\n",
       "  <thead>\n",
       "    <tr style=\"text-align: right;\">\n",
       "      <th></th>\n",
       "      <th>0</th>\n",
       "      <th>1</th>\n",
       "      <th>2</th>\n",
       "    </tr>\n",
       "  </thead>\n",
       "  <tbody>\n",
       "    <tr>\n",
       "      <th>0</th>\n",
       "      <td>2</td>\n",
       "      <td>2</td>\n",
       "      <td>27028</td>\n",
       "    </tr>\n",
       "    <tr>\n",
       "      <th>1</th>\n",
       "      <td>2</td>\n",
       "      <td>1</td>\n",
       "      <td>23160</td>\n",
       "    </tr>\n",
       "    <tr>\n",
       "      <th>2</th>\n",
       "      <td>3</td>\n",
       "      <td>2</td>\n",
       "      <td>15063</td>\n",
       "    </tr>\n",
       "    <tr>\n",
       "      <th>3</th>\n",
       "      <td>3</td>\n",
       "      <td>2</td>\n",
       "      <td>26680</td>\n",
       "    </tr>\n",
       "    <tr>\n",
       "      <th>4</th>\n",
       "      <td>3</td>\n",
       "      <td>2</td>\n",
       "      <td>14691</td>\n",
       "    </tr>\n",
       "    <tr>\n",
       "      <th>...</th>\n",
       "      <td>...</td>\n",
       "      <td>...</td>\n",
       "      <td>...</td>\n",
       "    </tr>\n",
       "    <tr>\n",
       "      <th>95</th>\n",
       "      <td>3</td>\n",
       "      <td>1</td>\n",
       "      <td>20784</td>\n",
       "    </tr>\n",
       "    <tr>\n",
       "      <th>96</th>\n",
       "      <td>1</td>\n",
       "      <td>1</td>\n",
       "      <td>12341</td>\n",
       "    </tr>\n",
       "    <tr>\n",
       "      <th>97</th>\n",
       "      <td>1</td>\n",
       "      <td>2</td>\n",
       "      <td>17368</td>\n",
       "    </tr>\n",
       "    <tr>\n",
       "      <th>98</th>\n",
       "      <td>1</td>\n",
       "      <td>1</td>\n",
       "      <td>21168</td>\n",
       "    </tr>\n",
       "    <tr>\n",
       "      <th>99</th>\n",
       "      <td>3</td>\n",
       "      <td>1</td>\n",
       "      <td>29980</td>\n",
       "    </tr>\n",
       "  </tbody>\n",
       "</table>\n",
       "<p>100 rows × 3 columns</p>\n",
       "</div>"
      ],
      "text/plain": [
       "    0  1      2\n",
       "0   2  2  27028\n",
       "1   2  1  23160\n",
       "2   3  2  15063\n",
       "3   3  2  26680\n",
       "4   3  2  14691\n",
       ".. .. ..    ...\n",
       "95  3  1  20784\n",
       "96  1  1  12341\n",
       "97  1  2  17368\n",
       "98  1  1  21168\n",
       "99  3  1  29980\n",
       "\n",
       "[100 rows x 3 columns]"
      ]
     },
     "execution_count": 14,
     "metadata": {},
     "output_type": "execute_result"
    }
   ],
   "source": [
    "df = pd.concat([s1,s2,s3], axis=1)\n",
    "df"
   ]
  },
  {
   "cell_type": "markdown",
   "metadata": {},
   "source": [
    "### Step 4. Change the name of the columns to bedrs, bathrs, price_sqr_meter"
   ]
  },
  {
   "cell_type": "code",
   "execution_count": 15,
   "metadata": {
    "collapsed": false
   },
   "outputs": [
    {
     "data": {
      "application/vnd.microsoft.datawrangler.viewer.v0+json": {
       "columns": [
        {
         "name": "index",
         "rawType": "int64",
         "type": "integer"
        },
        {
         "name": "bedrs",
         "rawType": "int64",
         "type": "integer"
        },
        {
         "name": "bathrs",
         "rawType": "int64",
         "type": "integer"
        },
        {
         "name": "price_sqr_meter",
         "rawType": "int64",
         "type": "integer"
        }
       ],
       "conversionMethod": "pd.DataFrame",
       "ref": "6849fad3-ae9d-4b4f-8206-d1df0cee9b53",
       "rows": [
        [
         "0",
         "2",
         "2",
         "27028"
        ],
        [
         "1",
         "2",
         "1",
         "23160"
        ],
        [
         "2",
         "3",
         "2",
         "15063"
        ],
        [
         "3",
         "3",
         "2",
         "26680"
        ],
        [
         "4",
         "3",
         "2",
         "14691"
        ],
        [
         "5",
         "1",
         "2",
         "21583"
        ],
        [
         "6",
         "3",
         "1",
         "11643"
        ],
        [
         "7",
         "3",
         "2",
         "16431"
        ],
        [
         "8",
         "2",
         "1",
         "28721"
        ],
        [
         "9",
         "1",
         "1",
         "14673"
        ],
        [
         "10",
         "3",
         "1",
         "29576"
        ],
        [
         "11",
         "1",
         "1",
         "27133"
        ],
        [
         "12",
         "3",
         "1",
         "21352"
        ],
        [
         "13",
         "3",
         "1",
         "19668"
        ],
        [
         "14",
         "1",
         "2",
         "16316"
        ],
        [
         "15",
         "1",
         "1",
         "16730"
        ],
        [
         "16",
         "2",
         "1",
         "29910"
        ],
        [
         "17",
         "2",
         "1",
         "29131"
        ],
        [
         "18",
         "3",
         "2",
         "13196"
        ],
        [
         "19",
         "1",
         "1",
         "21580"
        ],
        [
         "20",
         "2",
         "1",
         "15696"
        ],
        [
         "21",
         "1",
         "2",
         "18293"
        ],
        [
         "22",
         "1",
         "2",
         "25007"
        ],
        [
         "23",
         "3",
         "1",
         "10915"
        ],
        [
         "24",
         "3",
         "2",
         "18191"
        ],
        [
         "25",
         "2",
         "1",
         "20963"
        ],
        [
         "26",
         "3",
         "1",
         "29273"
        ],
        [
         "27",
         "1",
         "1",
         "16761"
        ],
        [
         "28",
         "1",
         "1",
         "13647"
        ],
        [
         "29",
         "3",
         "2",
         "26154"
        ],
        [
         "30",
         "2",
         "2",
         "25373"
        ],
        [
         "31",
         "1",
         "2",
         "23400"
        ],
        [
         "32",
         "2",
         "1",
         "23777"
        ],
        [
         "33",
         "3",
         "1",
         "11926"
        ],
        [
         "34",
         "3",
         "2",
         "19060"
        ],
        [
         "35",
         "3",
         "2",
         "22519"
        ],
        [
         "36",
         "3",
         "2",
         "23140"
        ],
        [
         "37",
         "1",
         "2",
         "27916"
        ],
        [
         "38",
         "1",
         "1",
         "29520"
        ],
        [
         "39",
         "1",
         "2",
         "29193"
        ],
        [
         "40",
         "2",
         "1",
         "24584"
        ],
        [
         "41",
         "2",
         "1",
         "18937"
        ],
        [
         "42",
         "3",
         "2",
         "12964"
        ],
        [
         "43",
         "3",
         "2",
         "11816"
        ],
        [
         "44",
         "1",
         "1",
         "28528"
        ],
        [
         "45",
         "3",
         "2",
         "26380"
        ],
        [
         "46",
         "3",
         "2",
         "11563"
        ],
        [
         "47",
         "1",
         "1",
         "22799"
        ],
        [
         "48",
         "1",
         "1",
         "18721"
        ],
        [
         "49",
         "2",
         "2",
         "29906"
        ]
       ],
       "shape": {
        "columns": 3,
        "rows": 100
       }
      },
      "text/html": [
       "<div>\n",
       "<style scoped>\n",
       "    .dataframe tbody tr th:only-of-type {\n",
       "        vertical-align: middle;\n",
       "    }\n",
       "\n",
       "    .dataframe tbody tr th {\n",
       "        vertical-align: top;\n",
       "    }\n",
       "\n",
       "    .dataframe thead th {\n",
       "        text-align: right;\n",
       "    }\n",
       "</style>\n",
       "<table border=\"1\" class=\"dataframe\">\n",
       "  <thead>\n",
       "    <tr style=\"text-align: right;\">\n",
       "      <th></th>\n",
       "      <th>bedrs</th>\n",
       "      <th>bathrs</th>\n",
       "      <th>price_sqr_meter</th>\n",
       "    </tr>\n",
       "  </thead>\n",
       "  <tbody>\n",
       "    <tr>\n",
       "      <th>0</th>\n",
       "      <td>2</td>\n",
       "      <td>2</td>\n",
       "      <td>27028</td>\n",
       "    </tr>\n",
       "    <tr>\n",
       "      <th>1</th>\n",
       "      <td>2</td>\n",
       "      <td>1</td>\n",
       "      <td>23160</td>\n",
       "    </tr>\n",
       "    <tr>\n",
       "      <th>2</th>\n",
       "      <td>3</td>\n",
       "      <td>2</td>\n",
       "      <td>15063</td>\n",
       "    </tr>\n",
       "    <tr>\n",
       "      <th>3</th>\n",
       "      <td>3</td>\n",
       "      <td>2</td>\n",
       "      <td>26680</td>\n",
       "    </tr>\n",
       "    <tr>\n",
       "      <th>4</th>\n",
       "      <td>3</td>\n",
       "      <td>2</td>\n",
       "      <td>14691</td>\n",
       "    </tr>\n",
       "    <tr>\n",
       "      <th>...</th>\n",
       "      <td>...</td>\n",
       "      <td>...</td>\n",
       "      <td>...</td>\n",
       "    </tr>\n",
       "    <tr>\n",
       "      <th>95</th>\n",
       "      <td>3</td>\n",
       "      <td>1</td>\n",
       "      <td>20784</td>\n",
       "    </tr>\n",
       "    <tr>\n",
       "      <th>96</th>\n",
       "      <td>1</td>\n",
       "      <td>1</td>\n",
       "      <td>12341</td>\n",
       "    </tr>\n",
       "    <tr>\n",
       "      <th>97</th>\n",
       "      <td>1</td>\n",
       "      <td>2</td>\n",
       "      <td>17368</td>\n",
       "    </tr>\n",
       "    <tr>\n",
       "      <th>98</th>\n",
       "      <td>1</td>\n",
       "      <td>1</td>\n",
       "      <td>21168</td>\n",
       "    </tr>\n",
       "    <tr>\n",
       "      <th>99</th>\n",
       "      <td>3</td>\n",
       "      <td>1</td>\n",
       "      <td>29980</td>\n",
       "    </tr>\n",
       "  </tbody>\n",
       "</table>\n",
       "<p>100 rows × 3 columns</p>\n",
       "</div>"
      ],
      "text/plain": [
       "    bedrs  bathrs  price_sqr_meter\n",
       "0       2       2            27028\n",
       "1       2       1            23160\n",
       "2       3       2            15063\n",
       "3       3       2            26680\n",
       "4       3       2            14691\n",
       "..    ...     ...              ...\n",
       "95      3       1            20784\n",
       "96      1       1            12341\n",
       "97      1       2            17368\n",
       "98      1       1            21168\n",
       "99      3       1            29980\n",
       "\n",
       "[100 rows x 3 columns]"
      ]
     },
     "execution_count": 15,
     "metadata": {},
     "output_type": "execute_result"
    }
   ],
   "source": [
    "df.columns = ['bedrs', 'bathrs', 'price_sqr_meter']\n",
    "df"
   ]
  },
  {
   "cell_type": "markdown",
   "metadata": {},
   "source": [
    "### Step 5. Create a one column DataFrame with the values of the 3 Series and assign it to 'bigcolumn'"
   ]
  },
  {
   "cell_type": "code",
   "execution_count": 16,
   "metadata": {
    "collapsed": false
   },
   "outputs": [
    {
     "data": {
      "application/vnd.microsoft.datawrangler.viewer.v0+json": {
       "columns": [
        {
         "name": "index",
         "rawType": "int64",
         "type": "integer"
        },
        {
         "name": "0",
         "rawType": "int64",
         "type": "integer"
        }
       ],
       "conversionMethod": "pd.DataFrame",
       "ref": "197bbea9-68a4-4787-bdf7-319cab17a760",
       "rows": [
        [
         "0",
         "2"
        ],
        [
         "1",
         "2"
        ],
        [
         "2",
         "3"
        ],
        [
         "3",
         "3"
        ],
        [
         "4",
         "3"
        ],
        [
         "5",
         "1"
        ],
        [
         "6",
         "3"
        ],
        [
         "7",
         "3"
        ],
        [
         "8",
         "2"
        ],
        [
         "9",
         "1"
        ],
        [
         "10",
         "3"
        ],
        [
         "11",
         "1"
        ],
        [
         "12",
         "3"
        ],
        [
         "13",
         "3"
        ],
        [
         "14",
         "1"
        ],
        [
         "15",
         "1"
        ],
        [
         "16",
         "2"
        ],
        [
         "17",
         "2"
        ],
        [
         "18",
         "3"
        ],
        [
         "19",
         "1"
        ],
        [
         "20",
         "2"
        ],
        [
         "21",
         "1"
        ],
        [
         "22",
         "1"
        ],
        [
         "23",
         "3"
        ],
        [
         "24",
         "3"
        ],
        [
         "25",
         "2"
        ],
        [
         "26",
         "3"
        ],
        [
         "27",
         "1"
        ],
        [
         "28",
         "1"
        ],
        [
         "29",
         "3"
        ],
        [
         "30",
         "2"
        ],
        [
         "31",
         "1"
        ],
        [
         "32",
         "2"
        ],
        [
         "33",
         "3"
        ],
        [
         "34",
         "3"
        ],
        [
         "35",
         "3"
        ],
        [
         "36",
         "3"
        ],
        [
         "37",
         "1"
        ],
        [
         "38",
         "1"
        ],
        [
         "39",
         "1"
        ],
        [
         "40",
         "2"
        ],
        [
         "41",
         "2"
        ],
        [
         "42",
         "3"
        ],
        [
         "43",
         "3"
        ],
        [
         "44",
         "1"
        ],
        [
         "45",
         "3"
        ],
        [
         "46",
         "3"
        ],
        [
         "47",
         "1"
        ],
        [
         "48",
         "1"
        ],
        [
         "49",
         "2"
        ]
       ],
       "shape": {
        "columns": 1,
        "rows": 300
       }
      },
      "text/html": [
       "<div>\n",
       "<style scoped>\n",
       "    .dataframe tbody tr th:only-of-type {\n",
       "        vertical-align: middle;\n",
       "    }\n",
       "\n",
       "    .dataframe tbody tr th {\n",
       "        vertical-align: top;\n",
       "    }\n",
       "\n",
       "    .dataframe thead th {\n",
       "        text-align: right;\n",
       "    }\n",
       "</style>\n",
       "<table border=\"1\" class=\"dataframe\">\n",
       "  <thead>\n",
       "    <tr style=\"text-align: right;\">\n",
       "      <th></th>\n",
       "      <th>0</th>\n",
       "    </tr>\n",
       "  </thead>\n",
       "  <tbody>\n",
       "    <tr>\n",
       "      <th>0</th>\n",
       "      <td>2</td>\n",
       "    </tr>\n",
       "    <tr>\n",
       "      <th>1</th>\n",
       "      <td>2</td>\n",
       "    </tr>\n",
       "    <tr>\n",
       "      <th>2</th>\n",
       "      <td>3</td>\n",
       "    </tr>\n",
       "    <tr>\n",
       "      <th>3</th>\n",
       "      <td>3</td>\n",
       "    </tr>\n",
       "    <tr>\n",
       "      <th>4</th>\n",
       "      <td>3</td>\n",
       "    </tr>\n",
       "    <tr>\n",
       "      <th>...</th>\n",
       "      <td>...</td>\n",
       "    </tr>\n",
       "    <tr>\n",
       "      <th>95</th>\n",
       "      <td>20784</td>\n",
       "    </tr>\n",
       "    <tr>\n",
       "      <th>96</th>\n",
       "      <td>12341</td>\n",
       "    </tr>\n",
       "    <tr>\n",
       "      <th>97</th>\n",
       "      <td>17368</td>\n",
       "    </tr>\n",
       "    <tr>\n",
       "      <th>98</th>\n",
       "      <td>21168</td>\n",
       "    </tr>\n",
       "    <tr>\n",
       "      <th>99</th>\n",
       "      <td>29980</td>\n",
       "    </tr>\n",
       "  </tbody>\n",
       "</table>\n",
       "<p>300 rows × 1 columns</p>\n",
       "</div>"
      ],
      "text/plain": [
       "        0\n",
       "0       2\n",
       "1       2\n",
       "2       3\n",
       "3       3\n",
       "4       3\n",
       "..    ...\n",
       "95  20784\n",
       "96  12341\n",
       "97  17368\n",
       "98  21168\n",
       "99  29980\n",
       "\n",
       "[300 rows x 1 columns]"
      ]
     },
     "execution_count": 16,
     "metadata": {},
     "output_type": "execute_result"
    }
   ],
   "source": [
    "df2 = pd.DataFrame(pd.concat([s1,s2,s3], axis=0))\n",
    "df2"
   ]
  },
  {
   "cell_type": "markdown",
   "metadata": {},
   "source": [
    "### Step 6. Oops, it seems it is going only until index 99. Is it true?"
   ]
  },
  {
   "cell_type": "code",
   "execution_count": 17,
   "metadata": {
    "collapsed": false
   },
   "outputs": [
    {
     "data": {
      "text/plain": [
       "'yes'"
      ]
     },
     "execution_count": 17,
     "metadata": {},
     "output_type": "execute_result"
    }
   ],
   "source": [
    "'yes'"
   ]
  },
  {
   "cell_type": "markdown",
   "metadata": {},
   "source": [
    "### Step 7. Reindex the DataFrame so it goes from 0 to 299"
   ]
  },
  {
   "cell_type": "code",
   "execution_count": 18,
   "metadata": {
    "collapsed": false
   },
   "outputs": [
    {
     "data": {
      "application/vnd.microsoft.datawrangler.viewer.v0+json": {
       "columns": [
        {
         "name": "index",
         "rawType": "int64",
         "type": "integer"
        },
        {
         "name": "index",
         "rawType": "int64",
         "type": "integer"
        },
        {
         "name": "0",
         "rawType": "int64",
         "type": "integer"
        }
       ],
       "conversionMethod": "pd.DataFrame",
       "ref": "8ad863a9-5605-47fa-b2a8-18bea7a33125",
       "rows": [
        [
         "0",
         "0",
         "2"
        ],
        [
         "1",
         "1",
         "2"
        ],
        [
         "2",
         "2",
         "3"
        ],
        [
         "3",
         "3",
         "3"
        ],
        [
         "4",
         "4",
         "3"
        ],
        [
         "5",
         "5",
         "1"
        ],
        [
         "6",
         "6",
         "3"
        ],
        [
         "7",
         "7",
         "3"
        ],
        [
         "8",
         "8",
         "2"
        ],
        [
         "9",
         "9",
         "1"
        ],
        [
         "10",
         "10",
         "3"
        ],
        [
         "11",
         "11",
         "1"
        ],
        [
         "12",
         "12",
         "3"
        ],
        [
         "13",
         "13",
         "3"
        ],
        [
         "14",
         "14",
         "1"
        ],
        [
         "15",
         "15",
         "1"
        ],
        [
         "16",
         "16",
         "2"
        ],
        [
         "17",
         "17",
         "2"
        ],
        [
         "18",
         "18",
         "3"
        ],
        [
         "19",
         "19",
         "1"
        ],
        [
         "20",
         "20",
         "2"
        ],
        [
         "21",
         "21",
         "1"
        ],
        [
         "22",
         "22",
         "1"
        ],
        [
         "23",
         "23",
         "3"
        ],
        [
         "24",
         "24",
         "3"
        ],
        [
         "25",
         "25",
         "2"
        ],
        [
         "26",
         "26",
         "3"
        ],
        [
         "27",
         "27",
         "1"
        ],
        [
         "28",
         "28",
         "1"
        ],
        [
         "29",
         "29",
         "3"
        ],
        [
         "30",
         "30",
         "2"
        ],
        [
         "31",
         "31",
         "1"
        ],
        [
         "32",
         "32",
         "2"
        ],
        [
         "33",
         "33",
         "3"
        ],
        [
         "34",
         "34",
         "3"
        ],
        [
         "35",
         "35",
         "3"
        ],
        [
         "36",
         "36",
         "3"
        ],
        [
         "37",
         "37",
         "1"
        ],
        [
         "38",
         "38",
         "1"
        ],
        [
         "39",
         "39",
         "1"
        ],
        [
         "40",
         "40",
         "2"
        ],
        [
         "41",
         "41",
         "2"
        ],
        [
         "42",
         "42",
         "3"
        ],
        [
         "43",
         "43",
         "3"
        ],
        [
         "44",
         "44",
         "1"
        ],
        [
         "45",
         "45",
         "3"
        ],
        [
         "46",
         "46",
         "3"
        ],
        [
         "47",
         "47",
         "1"
        ],
        [
         "48",
         "48",
         "1"
        ],
        [
         "49",
         "49",
         "2"
        ]
       ],
       "shape": {
        "columns": 2,
        "rows": 300
       }
      },
      "text/html": [
       "<div>\n",
       "<style scoped>\n",
       "    .dataframe tbody tr th:only-of-type {\n",
       "        vertical-align: middle;\n",
       "    }\n",
       "\n",
       "    .dataframe tbody tr th {\n",
       "        vertical-align: top;\n",
       "    }\n",
       "\n",
       "    .dataframe thead th {\n",
       "        text-align: right;\n",
       "    }\n",
       "</style>\n",
       "<table border=\"1\" class=\"dataframe\">\n",
       "  <thead>\n",
       "    <tr style=\"text-align: right;\">\n",
       "      <th></th>\n",
       "      <th>index</th>\n",
       "      <th>0</th>\n",
       "    </tr>\n",
       "  </thead>\n",
       "  <tbody>\n",
       "    <tr>\n",
       "      <th>0</th>\n",
       "      <td>0</td>\n",
       "      <td>2</td>\n",
       "    </tr>\n",
       "    <tr>\n",
       "      <th>1</th>\n",
       "      <td>1</td>\n",
       "      <td>2</td>\n",
       "    </tr>\n",
       "    <tr>\n",
       "      <th>2</th>\n",
       "      <td>2</td>\n",
       "      <td>3</td>\n",
       "    </tr>\n",
       "    <tr>\n",
       "      <th>3</th>\n",
       "      <td>3</td>\n",
       "      <td>3</td>\n",
       "    </tr>\n",
       "    <tr>\n",
       "      <th>4</th>\n",
       "      <td>4</td>\n",
       "      <td>3</td>\n",
       "    </tr>\n",
       "    <tr>\n",
       "      <th>...</th>\n",
       "      <td>...</td>\n",
       "      <td>...</td>\n",
       "    </tr>\n",
       "    <tr>\n",
       "      <th>295</th>\n",
       "      <td>95</td>\n",
       "      <td>20784</td>\n",
       "    </tr>\n",
       "    <tr>\n",
       "      <th>296</th>\n",
       "      <td>96</td>\n",
       "      <td>12341</td>\n",
       "    </tr>\n",
       "    <tr>\n",
       "      <th>297</th>\n",
       "      <td>97</td>\n",
       "      <td>17368</td>\n",
       "    </tr>\n",
       "    <tr>\n",
       "      <th>298</th>\n",
       "      <td>98</td>\n",
       "      <td>21168</td>\n",
       "    </tr>\n",
       "    <tr>\n",
       "      <th>299</th>\n",
       "      <td>99</td>\n",
       "      <td>29980</td>\n",
       "    </tr>\n",
       "  </tbody>\n",
       "</table>\n",
       "<p>300 rows × 2 columns</p>\n",
       "</div>"
      ],
      "text/plain": [
       "     index      0\n",
       "0        0      2\n",
       "1        1      2\n",
       "2        2      3\n",
       "3        3      3\n",
       "4        4      3\n",
       "..     ...    ...\n",
       "295     95  20784\n",
       "296     96  12341\n",
       "297     97  17368\n",
       "298     98  21168\n",
       "299     99  29980\n",
       "\n",
       "[300 rows x 2 columns]"
      ]
     },
     "execution_count": 18,
     "metadata": {},
     "output_type": "execute_result"
    }
   ],
   "source": [
    "df2.reset_index(inplace=True)\n",
    "df2"
   ]
  }
 ],
 "metadata": {
  "kernelspec": {
   "display_name": "Python 3",
   "language": "python",
   "name": "python3"
  },
  "language_info": {
   "codemirror_mode": {
    "name": "ipython",
    "version": 3
   },
   "file_extension": ".py",
   "mimetype": "text/x-python",
   "name": "python",
   "nbconvert_exporter": "python",
   "pygments_lexer": "ipython3",
   "version": "3.9.6"
  }
 },
 "nbformat": 4,
 "nbformat_minor": 0
}
