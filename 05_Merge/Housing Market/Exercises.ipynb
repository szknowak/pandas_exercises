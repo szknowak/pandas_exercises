{
 "cells": [
  {
   "cell_type": "markdown",
   "metadata": {},
   "source": [
    "# Housing Market"
   ]
  },
  {
   "cell_type": "markdown",
   "metadata": {},
   "source": [
    "### Introduction:\n",
    "\n",
    "This time we will create our own dataset with fictional numbers to describe a house market. As we are going to create random data don't try to reason of the numbers.\n",
    "\n",
    "### Step 1. Import the necessary libraries"
   ]
  },
  {
   "cell_type": "code",
   "execution_count": 1,
   "metadata": {
    "collapsed": false
   },
   "outputs": [],
   "source": [
    "import pandas as pd \n",
    "import numpy as np"
   ]
  },
  {
   "cell_type": "markdown",
   "metadata": {},
   "source": [
    "### Step 2. Create 3 differents Series, each of length 100, as follows: \n",
    "1. The first a random number from 1 to 4 \n",
    "2. The second a random number from 1 to 3\n",
    "3. The third a random number from 10,000 to 30,000"
   ]
  },
  {
   "cell_type": "code",
   "execution_count": 2,
   "metadata": {
    "collapsed": false
   },
   "outputs": [],
   "source": [
    "s1 = pd.Series(np.random.randint(1,4,100))\n",
    "s2 = pd.Series(np.random.randint(1,3,100))\n",
    "s3 = pd.Series(np.random.randint(10000,30000,100))"
   ]
  },
  {
   "cell_type": "markdown",
   "metadata": {},
   "source": [
    "### Step 3. Let's create a DataFrame by joinning the Series by column"
   ]
  },
  {
   "cell_type": "code",
   "execution_count": 4,
   "metadata": {
    "collapsed": false
   },
   "outputs": [
    {
     "data": {
      "application/vnd.microsoft.datawrangler.viewer.v0+json": {
       "columns": [
        {
         "name": "index",
         "rawType": "int64",
         "type": "integer"
        },
        {
         "name": "0",
         "rawType": "int64",
         "type": "integer"
        },
        {
         "name": "1",
         "rawType": "int64",
         "type": "integer"
        },
        {
         "name": "2",
         "rawType": "int64",
         "type": "integer"
        }
       ],
       "conversionMethod": "pd.DataFrame",
       "ref": "d10160ee-d6a5-4492-9a1b-e71237252190",
       "rows": [
        [
         "0",
         "1",
         "1",
         "13899"
        ],
        [
         "1",
         "2",
         "1",
         "11678"
        ],
        [
         "2",
         "3",
         "2",
         "12439"
        ],
        [
         "3",
         "3",
         "2",
         "18570"
        ],
        [
         "4",
         "2",
         "1",
         "14934"
        ],
        [
         "5",
         "3",
         "2",
         "25008"
        ],
        [
         "6",
         "3",
         "1",
         "20546"
        ],
        [
         "7",
         "1",
         "1",
         "28628"
        ],
        [
         "8",
         "3",
         "1",
         "23364"
        ],
        [
         "9",
         "3",
         "2",
         "29802"
        ],
        [
         "10",
         "3",
         "2",
         "11745"
        ],
        [
         "11",
         "3",
         "1",
         "15098"
        ],
        [
         "12",
         "2",
         "2",
         "17485"
        ],
        [
         "13",
         "3",
         "2",
         "28070"
        ],
        [
         "14",
         "3",
         "1",
         "21944"
        ],
        [
         "15",
         "1",
         "1",
         "23494"
        ],
        [
         "16",
         "1",
         "2",
         "13876"
        ],
        [
         "17",
         "3",
         "1",
         "16407"
        ],
        [
         "18",
         "1",
         "2",
         "29193"
        ],
        [
         "19",
         "1",
         "1",
         "16134"
        ],
        [
         "20",
         "1",
         "1",
         "11264"
        ],
        [
         "21",
         "2",
         "1",
         "20091"
        ],
        [
         "22",
         "1",
         "1",
         "17610"
        ],
        [
         "23",
         "1",
         "2",
         "12979"
        ],
        [
         "24",
         "1",
         "2",
         "11739"
        ],
        [
         "25",
         "2",
         "1",
         "27314"
        ],
        [
         "26",
         "2",
         "2",
         "18143"
        ],
        [
         "27",
         "3",
         "1",
         "20552"
        ],
        [
         "28",
         "1",
         "2",
         "18262"
        ],
        [
         "29",
         "3",
         "1",
         "23837"
        ],
        [
         "30",
         "2",
         "1",
         "15132"
        ],
        [
         "31",
         "3",
         "2",
         "19969"
        ],
        [
         "32",
         "2",
         "2",
         "23962"
        ],
        [
         "33",
         "3",
         "2",
         "13556"
        ],
        [
         "34",
         "2",
         "1",
         "29862"
        ],
        [
         "35",
         "2",
         "1",
         "12060"
        ],
        [
         "36",
         "3",
         "2",
         "16062"
        ],
        [
         "37",
         "2",
         "1",
         "28851"
        ],
        [
         "38",
         "1",
         "1",
         "10563"
        ],
        [
         "39",
         "3",
         "1",
         "27455"
        ],
        [
         "40",
         "2",
         "2",
         "21449"
        ],
        [
         "41",
         "3",
         "1",
         "15470"
        ],
        [
         "42",
         "3",
         "2",
         "10976"
        ],
        [
         "43",
         "3",
         "1",
         "24943"
        ],
        [
         "44",
         "3",
         "2",
         "27427"
        ],
        [
         "45",
         "1",
         "2",
         "26715"
        ],
        [
         "46",
         "2",
         "1",
         "25083"
        ],
        [
         "47",
         "2",
         "2",
         "17973"
        ],
        [
         "48",
         "3",
         "2",
         "18403"
        ],
        [
         "49",
         "3",
         "1",
         "19368"
        ]
       ],
       "shape": {
        "columns": 3,
        "rows": 100
       }
      },
      "text/html": [
       "<div>\n",
       "<style scoped>\n",
       "    .dataframe tbody tr th:only-of-type {\n",
       "        vertical-align: middle;\n",
       "    }\n",
       "\n",
       "    .dataframe tbody tr th {\n",
       "        vertical-align: top;\n",
       "    }\n",
       "\n",
       "    .dataframe thead th {\n",
       "        text-align: right;\n",
       "    }\n",
       "</style>\n",
       "<table border=\"1\" class=\"dataframe\">\n",
       "  <thead>\n",
       "    <tr style=\"text-align: right;\">\n",
       "      <th></th>\n",
       "      <th>0</th>\n",
       "      <th>1</th>\n",
       "      <th>2</th>\n",
       "    </tr>\n",
       "  </thead>\n",
       "  <tbody>\n",
       "    <tr>\n",
       "      <th>0</th>\n",
       "      <td>1</td>\n",
       "      <td>1</td>\n",
       "      <td>13899</td>\n",
       "    </tr>\n",
       "    <tr>\n",
       "      <th>1</th>\n",
       "      <td>2</td>\n",
       "      <td>1</td>\n",
       "      <td>11678</td>\n",
       "    </tr>\n",
       "    <tr>\n",
       "      <th>2</th>\n",
       "      <td>3</td>\n",
       "      <td>2</td>\n",
       "      <td>12439</td>\n",
       "    </tr>\n",
       "    <tr>\n",
       "      <th>3</th>\n",
       "      <td>3</td>\n",
       "      <td>2</td>\n",
       "      <td>18570</td>\n",
       "    </tr>\n",
       "    <tr>\n",
       "      <th>4</th>\n",
       "      <td>2</td>\n",
       "      <td>1</td>\n",
       "      <td>14934</td>\n",
       "    </tr>\n",
       "    <tr>\n",
       "      <th>...</th>\n",
       "      <td>...</td>\n",
       "      <td>...</td>\n",
       "      <td>...</td>\n",
       "    </tr>\n",
       "    <tr>\n",
       "      <th>95</th>\n",
       "      <td>3</td>\n",
       "      <td>1</td>\n",
       "      <td>17635</td>\n",
       "    </tr>\n",
       "    <tr>\n",
       "      <th>96</th>\n",
       "      <td>2</td>\n",
       "      <td>2</td>\n",
       "      <td>19664</td>\n",
       "    </tr>\n",
       "    <tr>\n",
       "      <th>97</th>\n",
       "      <td>2</td>\n",
       "      <td>2</td>\n",
       "      <td>14131</td>\n",
       "    </tr>\n",
       "    <tr>\n",
       "      <th>98</th>\n",
       "      <td>1</td>\n",
       "      <td>2</td>\n",
       "      <td>28056</td>\n",
       "    </tr>\n",
       "    <tr>\n",
       "      <th>99</th>\n",
       "      <td>3</td>\n",
       "      <td>2</td>\n",
       "      <td>20496</td>\n",
       "    </tr>\n",
       "  </tbody>\n",
       "</table>\n",
       "<p>100 rows × 3 columns</p>\n",
       "</div>"
      ],
      "text/plain": [
       "    0  1      2\n",
       "0   1  1  13899\n",
       "1   2  1  11678\n",
       "2   3  2  12439\n",
       "3   3  2  18570\n",
       "4   2  1  14934\n",
       ".. .. ..    ...\n",
       "95  3  1  17635\n",
       "96  2  2  19664\n",
       "97  2  2  14131\n",
       "98  1  2  28056\n",
       "99  3  2  20496\n",
       "\n",
       "[100 rows x 3 columns]"
      ]
     },
     "execution_count": 4,
     "metadata": {},
     "output_type": "execute_result"
    }
   ],
   "source": [
    "df = pd.concat([s1,s2,s3], axis=1)\n",
    "df"
   ]
  },
  {
   "cell_type": "markdown",
   "metadata": {},
   "source": [
    "### Step 4. Change the name of the columns to bedrs, bathrs, price_sqr_meter"
   ]
  },
  {
   "cell_type": "code",
   "execution_count": 5,
   "metadata": {
    "collapsed": false
   },
   "outputs": [
    {
     "data": {
      "application/vnd.microsoft.datawrangler.viewer.v0+json": {
       "columns": [
        {
         "name": "index",
         "rawType": "int64",
         "type": "integer"
        },
        {
         "name": "bedrs",
         "rawType": "int64",
         "type": "integer"
        },
        {
         "name": "bathrs",
         "rawType": "int64",
         "type": "integer"
        },
        {
         "name": "price_sqr_meter",
         "rawType": "int64",
         "type": "integer"
        }
       ],
       "conversionMethod": "pd.DataFrame",
       "ref": "99dbf49e-72f1-4a9b-bea4-8fd7b22c9049",
       "rows": [
        [
         "0",
         "1",
         "1",
         "13899"
        ],
        [
         "1",
         "2",
         "1",
         "11678"
        ],
        [
         "2",
         "3",
         "2",
         "12439"
        ],
        [
         "3",
         "3",
         "2",
         "18570"
        ],
        [
         "4",
         "2",
         "1",
         "14934"
        ],
        [
         "5",
         "3",
         "2",
         "25008"
        ],
        [
         "6",
         "3",
         "1",
         "20546"
        ],
        [
         "7",
         "1",
         "1",
         "28628"
        ],
        [
         "8",
         "3",
         "1",
         "23364"
        ],
        [
         "9",
         "3",
         "2",
         "29802"
        ],
        [
         "10",
         "3",
         "2",
         "11745"
        ],
        [
         "11",
         "3",
         "1",
         "15098"
        ],
        [
         "12",
         "2",
         "2",
         "17485"
        ],
        [
         "13",
         "3",
         "2",
         "28070"
        ],
        [
         "14",
         "3",
         "1",
         "21944"
        ],
        [
         "15",
         "1",
         "1",
         "23494"
        ],
        [
         "16",
         "1",
         "2",
         "13876"
        ],
        [
         "17",
         "3",
         "1",
         "16407"
        ],
        [
         "18",
         "1",
         "2",
         "29193"
        ],
        [
         "19",
         "1",
         "1",
         "16134"
        ],
        [
         "20",
         "1",
         "1",
         "11264"
        ],
        [
         "21",
         "2",
         "1",
         "20091"
        ],
        [
         "22",
         "1",
         "1",
         "17610"
        ],
        [
         "23",
         "1",
         "2",
         "12979"
        ],
        [
         "24",
         "1",
         "2",
         "11739"
        ],
        [
         "25",
         "2",
         "1",
         "27314"
        ],
        [
         "26",
         "2",
         "2",
         "18143"
        ],
        [
         "27",
         "3",
         "1",
         "20552"
        ],
        [
         "28",
         "1",
         "2",
         "18262"
        ],
        [
         "29",
         "3",
         "1",
         "23837"
        ],
        [
         "30",
         "2",
         "1",
         "15132"
        ],
        [
         "31",
         "3",
         "2",
         "19969"
        ],
        [
         "32",
         "2",
         "2",
         "23962"
        ],
        [
         "33",
         "3",
         "2",
         "13556"
        ],
        [
         "34",
         "2",
         "1",
         "29862"
        ],
        [
         "35",
         "2",
         "1",
         "12060"
        ],
        [
         "36",
         "3",
         "2",
         "16062"
        ],
        [
         "37",
         "2",
         "1",
         "28851"
        ],
        [
         "38",
         "1",
         "1",
         "10563"
        ],
        [
         "39",
         "3",
         "1",
         "27455"
        ],
        [
         "40",
         "2",
         "2",
         "21449"
        ],
        [
         "41",
         "3",
         "1",
         "15470"
        ],
        [
         "42",
         "3",
         "2",
         "10976"
        ],
        [
         "43",
         "3",
         "1",
         "24943"
        ],
        [
         "44",
         "3",
         "2",
         "27427"
        ],
        [
         "45",
         "1",
         "2",
         "26715"
        ],
        [
         "46",
         "2",
         "1",
         "25083"
        ],
        [
         "47",
         "2",
         "2",
         "17973"
        ],
        [
         "48",
         "3",
         "2",
         "18403"
        ],
        [
         "49",
         "3",
         "1",
         "19368"
        ]
       ],
       "shape": {
        "columns": 3,
        "rows": 100
       }
      },
      "text/html": [
       "<div>\n",
       "<style scoped>\n",
       "    .dataframe tbody tr th:only-of-type {\n",
       "        vertical-align: middle;\n",
       "    }\n",
       "\n",
       "    .dataframe tbody tr th {\n",
       "        vertical-align: top;\n",
       "    }\n",
       "\n",
       "    .dataframe thead th {\n",
       "        text-align: right;\n",
       "    }\n",
       "</style>\n",
       "<table border=\"1\" class=\"dataframe\">\n",
       "  <thead>\n",
       "    <tr style=\"text-align: right;\">\n",
       "      <th></th>\n",
       "      <th>bedrs</th>\n",
       "      <th>bathrs</th>\n",
       "      <th>price_sqr_meter</th>\n",
       "    </tr>\n",
       "  </thead>\n",
       "  <tbody>\n",
       "    <tr>\n",
       "      <th>0</th>\n",
       "      <td>1</td>\n",
       "      <td>1</td>\n",
       "      <td>13899</td>\n",
       "    </tr>\n",
       "    <tr>\n",
       "      <th>1</th>\n",
       "      <td>2</td>\n",
       "      <td>1</td>\n",
       "      <td>11678</td>\n",
       "    </tr>\n",
       "    <tr>\n",
       "      <th>2</th>\n",
       "      <td>3</td>\n",
       "      <td>2</td>\n",
       "      <td>12439</td>\n",
       "    </tr>\n",
       "    <tr>\n",
       "      <th>3</th>\n",
       "      <td>3</td>\n",
       "      <td>2</td>\n",
       "      <td>18570</td>\n",
       "    </tr>\n",
       "    <tr>\n",
       "      <th>4</th>\n",
       "      <td>2</td>\n",
       "      <td>1</td>\n",
       "      <td>14934</td>\n",
       "    </tr>\n",
       "    <tr>\n",
       "      <th>...</th>\n",
       "      <td>...</td>\n",
       "      <td>...</td>\n",
       "      <td>...</td>\n",
       "    </tr>\n",
       "    <tr>\n",
       "      <th>95</th>\n",
       "      <td>3</td>\n",
       "      <td>1</td>\n",
       "      <td>17635</td>\n",
       "    </tr>\n",
       "    <tr>\n",
       "      <th>96</th>\n",
       "      <td>2</td>\n",
       "      <td>2</td>\n",
       "      <td>19664</td>\n",
       "    </tr>\n",
       "    <tr>\n",
       "      <th>97</th>\n",
       "      <td>2</td>\n",
       "      <td>2</td>\n",
       "      <td>14131</td>\n",
       "    </tr>\n",
       "    <tr>\n",
       "      <th>98</th>\n",
       "      <td>1</td>\n",
       "      <td>2</td>\n",
       "      <td>28056</td>\n",
       "    </tr>\n",
       "    <tr>\n",
       "      <th>99</th>\n",
       "      <td>3</td>\n",
       "      <td>2</td>\n",
       "      <td>20496</td>\n",
       "    </tr>\n",
       "  </tbody>\n",
       "</table>\n",
       "<p>100 rows × 3 columns</p>\n",
       "</div>"
      ],
      "text/plain": [
       "    bedrs  bathrs  price_sqr_meter\n",
       "0       1       1            13899\n",
       "1       2       1            11678\n",
       "2       3       2            12439\n",
       "3       3       2            18570\n",
       "4       2       1            14934\n",
       "..    ...     ...              ...\n",
       "95      3       1            17635\n",
       "96      2       2            19664\n",
       "97      2       2            14131\n",
       "98      1       2            28056\n",
       "99      3       2            20496\n",
       "\n",
       "[100 rows x 3 columns]"
      ]
     },
     "execution_count": 5,
     "metadata": {},
     "output_type": "execute_result"
    }
   ],
   "source": [
    "df.columns = ['bedrs', 'bathrs', 'price_sqr_meter']\n",
    "df"
   ]
  },
  {
   "cell_type": "markdown",
   "metadata": {},
   "source": [
    "### Step 5. Create a one column DataFrame with the values of the 3 Series and assign it to 'bigcolumn'"
   ]
  },
  {
   "cell_type": "code",
   "execution_count": 10,
   "metadata": {
    "collapsed": false
   },
   "outputs": [
    {
     "data": {
      "application/vnd.microsoft.datawrangler.viewer.v0+json": {
       "columns": [
        {
         "name": "index",
         "rawType": "int64",
         "type": "integer"
        },
        {
         "name": "0",
         "rawType": "int64",
         "type": "integer"
        }
       ],
       "conversionMethod": "pd.DataFrame",
       "ref": "a751ec73-0e98-4bc1-bb5b-a7ebea6e2485",
       "rows": [
        [
         "0",
         "1"
        ],
        [
         "1",
         "2"
        ],
        [
         "2",
         "3"
        ],
        [
         "3",
         "3"
        ],
        [
         "4",
         "2"
        ],
        [
         "5",
         "3"
        ],
        [
         "6",
         "3"
        ],
        [
         "7",
         "1"
        ],
        [
         "8",
         "3"
        ],
        [
         "9",
         "3"
        ],
        [
         "10",
         "3"
        ],
        [
         "11",
         "3"
        ],
        [
         "12",
         "2"
        ],
        [
         "13",
         "3"
        ],
        [
         "14",
         "3"
        ],
        [
         "15",
         "1"
        ],
        [
         "16",
         "1"
        ],
        [
         "17",
         "3"
        ],
        [
         "18",
         "1"
        ],
        [
         "19",
         "1"
        ],
        [
         "20",
         "1"
        ],
        [
         "21",
         "2"
        ],
        [
         "22",
         "1"
        ],
        [
         "23",
         "1"
        ],
        [
         "24",
         "1"
        ],
        [
         "25",
         "2"
        ],
        [
         "26",
         "2"
        ],
        [
         "27",
         "3"
        ],
        [
         "28",
         "1"
        ],
        [
         "29",
         "3"
        ],
        [
         "30",
         "2"
        ],
        [
         "31",
         "3"
        ],
        [
         "32",
         "2"
        ],
        [
         "33",
         "3"
        ],
        [
         "34",
         "2"
        ],
        [
         "35",
         "2"
        ],
        [
         "36",
         "3"
        ],
        [
         "37",
         "2"
        ],
        [
         "38",
         "1"
        ],
        [
         "39",
         "3"
        ],
        [
         "40",
         "2"
        ],
        [
         "41",
         "3"
        ],
        [
         "42",
         "3"
        ],
        [
         "43",
         "3"
        ],
        [
         "44",
         "3"
        ],
        [
         "45",
         "1"
        ],
        [
         "46",
         "2"
        ],
        [
         "47",
         "2"
        ],
        [
         "48",
         "3"
        ],
        [
         "49",
         "3"
        ]
       ],
       "shape": {
        "columns": 1,
        "rows": 300
       }
      },
      "text/html": [
       "<div>\n",
       "<style scoped>\n",
       "    .dataframe tbody tr th:only-of-type {\n",
       "        vertical-align: middle;\n",
       "    }\n",
       "\n",
       "    .dataframe tbody tr th {\n",
       "        vertical-align: top;\n",
       "    }\n",
       "\n",
       "    .dataframe thead th {\n",
       "        text-align: right;\n",
       "    }\n",
       "</style>\n",
       "<table border=\"1\" class=\"dataframe\">\n",
       "  <thead>\n",
       "    <tr style=\"text-align: right;\">\n",
       "      <th></th>\n",
       "      <th>0</th>\n",
       "    </tr>\n",
       "  </thead>\n",
       "  <tbody>\n",
       "    <tr>\n",
       "      <th>0</th>\n",
       "      <td>1</td>\n",
       "    </tr>\n",
       "    <tr>\n",
       "      <th>1</th>\n",
       "      <td>2</td>\n",
       "    </tr>\n",
       "    <tr>\n",
       "      <th>2</th>\n",
       "      <td>3</td>\n",
       "    </tr>\n",
       "    <tr>\n",
       "      <th>3</th>\n",
       "      <td>3</td>\n",
       "    </tr>\n",
       "    <tr>\n",
       "      <th>4</th>\n",
       "      <td>2</td>\n",
       "    </tr>\n",
       "    <tr>\n",
       "      <th>...</th>\n",
       "      <td>...</td>\n",
       "    </tr>\n",
       "    <tr>\n",
       "      <th>95</th>\n",
       "      <td>17635</td>\n",
       "    </tr>\n",
       "    <tr>\n",
       "      <th>96</th>\n",
       "      <td>19664</td>\n",
       "    </tr>\n",
       "    <tr>\n",
       "      <th>97</th>\n",
       "      <td>14131</td>\n",
       "    </tr>\n",
       "    <tr>\n",
       "      <th>98</th>\n",
       "      <td>28056</td>\n",
       "    </tr>\n",
       "    <tr>\n",
       "      <th>99</th>\n",
       "      <td>20496</td>\n",
       "    </tr>\n",
       "  </tbody>\n",
       "</table>\n",
       "<p>300 rows × 1 columns</p>\n",
       "</div>"
      ],
      "text/plain": [
       "        0\n",
       "0       1\n",
       "1       2\n",
       "2       3\n",
       "3       3\n",
       "4       2\n",
       "..    ...\n",
       "95  17635\n",
       "96  19664\n",
       "97  14131\n",
       "98  28056\n",
       "99  20496\n",
       "\n",
       "[300 rows x 1 columns]"
      ]
     },
     "execution_count": 10,
     "metadata": {},
     "output_type": "execute_result"
    }
   ],
   "source": [
    "df2 = pd.DataFrame(pd.concat([s1,s2,s3], axis=0))\n",
    "df2"
   ]
  },
  {
   "cell_type": "markdown",
   "metadata": {},
   "source": [
    "### Step 6. Oops, it seems it is going only until index 99. Is it true?"
   ]
  },
  {
   "cell_type": "code",
   "execution_count": null,
   "metadata": {
    "collapsed": false
   },
   "outputs": [],
   "source": [
    "'yes'"
   ]
  },
  {
   "cell_type": "markdown",
   "metadata": {},
   "source": [
    "### Step 7. Reindex the DataFrame so it goes from 0 to 299"
   ]
  },
  {
   "cell_type": "code",
   "execution_count": 11,
   "metadata": {
    "collapsed": false
   },
   "outputs": [
    {
     "data": {
      "application/vnd.microsoft.datawrangler.viewer.v0+json": {
       "columns": [
        {
         "name": "index",
         "rawType": "int64",
         "type": "integer"
        },
        {
         "name": "index",
         "rawType": "int64",
         "type": "integer"
        },
        {
         "name": "0",
         "rawType": "int64",
         "type": "integer"
        }
       ],
       "conversionMethod": "pd.DataFrame",
       "ref": "a5ab75c0-dfbd-4349-8504-2b526f627986",
       "rows": [
        [
         "0",
         "0",
         "1"
        ],
        [
         "1",
         "1",
         "2"
        ],
        [
         "2",
         "2",
         "3"
        ],
        [
         "3",
         "3",
         "3"
        ],
        [
         "4",
         "4",
         "2"
        ],
        [
         "5",
         "5",
         "3"
        ],
        [
         "6",
         "6",
         "3"
        ],
        [
         "7",
         "7",
         "1"
        ],
        [
         "8",
         "8",
         "3"
        ],
        [
         "9",
         "9",
         "3"
        ],
        [
         "10",
         "10",
         "3"
        ],
        [
         "11",
         "11",
         "3"
        ],
        [
         "12",
         "12",
         "2"
        ],
        [
         "13",
         "13",
         "3"
        ],
        [
         "14",
         "14",
         "3"
        ],
        [
         "15",
         "15",
         "1"
        ],
        [
         "16",
         "16",
         "1"
        ],
        [
         "17",
         "17",
         "3"
        ],
        [
         "18",
         "18",
         "1"
        ],
        [
         "19",
         "19",
         "1"
        ],
        [
         "20",
         "20",
         "1"
        ],
        [
         "21",
         "21",
         "2"
        ],
        [
         "22",
         "22",
         "1"
        ],
        [
         "23",
         "23",
         "1"
        ],
        [
         "24",
         "24",
         "1"
        ],
        [
         "25",
         "25",
         "2"
        ],
        [
         "26",
         "26",
         "2"
        ],
        [
         "27",
         "27",
         "3"
        ],
        [
         "28",
         "28",
         "1"
        ],
        [
         "29",
         "29",
         "3"
        ],
        [
         "30",
         "30",
         "2"
        ],
        [
         "31",
         "31",
         "3"
        ],
        [
         "32",
         "32",
         "2"
        ],
        [
         "33",
         "33",
         "3"
        ],
        [
         "34",
         "34",
         "2"
        ],
        [
         "35",
         "35",
         "2"
        ],
        [
         "36",
         "36",
         "3"
        ],
        [
         "37",
         "37",
         "2"
        ],
        [
         "38",
         "38",
         "1"
        ],
        [
         "39",
         "39",
         "3"
        ],
        [
         "40",
         "40",
         "2"
        ],
        [
         "41",
         "41",
         "3"
        ],
        [
         "42",
         "42",
         "3"
        ],
        [
         "43",
         "43",
         "3"
        ],
        [
         "44",
         "44",
         "3"
        ],
        [
         "45",
         "45",
         "1"
        ],
        [
         "46",
         "46",
         "2"
        ],
        [
         "47",
         "47",
         "2"
        ],
        [
         "48",
         "48",
         "3"
        ],
        [
         "49",
         "49",
         "3"
        ]
       ],
       "shape": {
        "columns": 2,
        "rows": 300
       }
      },
      "text/html": [
       "<div>\n",
       "<style scoped>\n",
       "    .dataframe tbody tr th:only-of-type {\n",
       "        vertical-align: middle;\n",
       "    }\n",
       "\n",
       "    .dataframe tbody tr th {\n",
       "        vertical-align: top;\n",
       "    }\n",
       "\n",
       "    .dataframe thead th {\n",
       "        text-align: right;\n",
       "    }\n",
       "</style>\n",
       "<table border=\"1\" class=\"dataframe\">\n",
       "  <thead>\n",
       "    <tr style=\"text-align: right;\">\n",
       "      <th></th>\n",
       "      <th>index</th>\n",
       "      <th>0</th>\n",
       "    </tr>\n",
       "  </thead>\n",
       "  <tbody>\n",
       "    <tr>\n",
       "      <th>0</th>\n",
       "      <td>0</td>\n",
       "      <td>1</td>\n",
       "    </tr>\n",
       "    <tr>\n",
       "      <th>1</th>\n",
       "      <td>1</td>\n",
       "      <td>2</td>\n",
       "    </tr>\n",
       "    <tr>\n",
       "      <th>2</th>\n",
       "      <td>2</td>\n",
       "      <td>3</td>\n",
       "    </tr>\n",
       "    <tr>\n",
       "      <th>3</th>\n",
       "      <td>3</td>\n",
       "      <td>3</td>\n",
       "    </tr>\n",
       "    <tr>\n",
       "      <th>4</th>\n",
       "      <td>4</td>\n",
       "      <td>2</td>\n",
       "    </tr>\n",
       "    <tr>\n",
       "      <th>...</th>\n",
       "      <td>...</td>\n",
       "      <td>...</td>\n",
       "    </tr>\n",
       "    <tr>\n",
       "      <th>295</th>\n",
       "      <td>95</td>\n",
       "      <td>17635</td>\n",
       "    </tr>\n",
       "    <tr>\n",
       "      <th>296</th>\n",
       "      <td>96</td>\n",
       "      <td>19664</td>\n",
       "    </tr>\n",
       "    <tr>\n",
       "      <th>297</th>\n",
       "      <td>97</td>\n",
       "      <td>14131</td>\n",
       "    </tr>\n",
       "    <tr>\n",
       "      <th>298</th>\n",
       "      <td>98</td>\n",
       "      <td>28056</td>\n",
       "    </tr>\n",
       "    <tr>\n",
       "      <th>299</th>\n",
       "      <td>99</td>\n",
       "      <td>20496</td>\n",
       "    </tr>\n",
       "  </tbody>\n",
       "</table>\n",
       "<p>300 rows × 2 columns</p>\n",
       "</div>"
      ],
      "text/plain": [
       "     index      0\n",
       "0        0      1\n",
       "1        1      2\n",
       "2        2      3\n",
       "3        3      3\n",
       "4        4      2\n",
       "..     ...    ...\n",
       "295     95  17635\n",
       "296     96  19664\n",
       "297     97  14131\n",
       "298     98  28056\n",
       "299     99  20496\n",
       "\n",
       "[300 rows x 2 columns]"
      ]
     },
     "execution_count": 11,
     "metadata": {},
     "output_type": "execute_result"
    }
   ],
   "source": [
    "df2.reset_index(inplace=True)\n",
    "df2"
   ]
  }
 ],
 "metadata": {
  "kernelspec": {
   "display_name": "Python 3",
   "language": "python",
   "name": "python3"
  },
  "language_info": {
   "codemirror_mode": {
    "name": "ipython",
    "version": 3
   },
   "file_extension": ".py",
   "mimetype": "text/x-python",
   "name": "python",
   "nbconvert_exporter": "python",
   "pygments_lexer": "ipython3",
   "version": "3.9.6"
  }
 },
 "nbformat": 4,
 "nbformat_minor": 0
}
