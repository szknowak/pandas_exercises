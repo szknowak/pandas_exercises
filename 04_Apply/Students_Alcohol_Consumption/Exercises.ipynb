{
 "cells": [
  {
   "cell_type": "markdown",
   "metadata": {},
   "source": [
    "# Student Alcohol Consumption"
   ]
  },
  {
   "cell_type": "markdown",
   "metadata": {},
   "source": [
    "### Introduction:\n",
    "\n",
    "This time you will download a dataset from the UCI.\n",
    "\n",
    "### Step 1. Import the necessary libraries"
   ]
  },
  {
   "cell_type": "code",
   "execution_count": 1,
   "metadata": {
    "collapsed": false
   },
   "outputs": [],
   "source": [
    "import pandas as pd \n",
    "import numpy as np"
   ]
  },
  {
   "cell_type": "markdown",
   "metadata": {},
   "source": [
    "### Step 2. Import the dataset from this [address](https://raw.githubusercontent.com/guipsamora/pandas_exercises/master/04_Apply/Students_Alcohol_Consumption/student-mat.csv)."
   ]
  },
  {
   "cell_type": "markdown",
   "metadata": {},
   "source": [
    "### Step 3. Assign it to a variable called df."
   ]
  },
  {
   "cell_type": "code",
   "execution_count": 2,
   "metadata": {
    "collapsed": false
   },
   "outputs": [],
   "source": [
    "df = pd.read_csv('https://raw.githubusercontent.com/guipsamora/pandas_exercises/master/04_Apply/Students_Alcohol_Consumption/student-mat.csv')"
   ]
  },
  {
   "cell_type": "markdown",
   "metadata": {},
   "source": [
    "### Step 4. For the purpose of this exercise slice the dataframe from 'school' until the 'guardian' column"
   ]
  },
  {
   "cell_type": "code",
   "execution_count": 4,
   "metadata": {
    "collapsed": false
   },
   "outputs": [
    {
     "data": {
      "application/vnd.microsoft.datawrangler.viewer.v0+json": {
       "columns": [
        {
         "name": "index",
         "rawType": "int64",
         "type": "integer"
        },
        {
         "name": "school",
         "rawType": "object",
         "type": "string"
        },
        {
         "name": "sex",
         "rawType": "object",
         "type": "string"
        },
        {
         "name": "age",
         "rawType": "int64",
         "type": "integer"
        },
        {
         "name": "address",
         "rawType": "object",
         "type": "string"
        },
        {
         "name": "famsize",
         "rawType": "object",
         "type": "string"
        },
        {
         "name": "Pstatus",
         "rawType": "object",
         "type": "string"
        },
        {
         "name": "Medu",
         "rawType": "int64",
         "type": "integer"
        },
        {
         "name": "Fedu",
         "rawType": "int64",
         "type": "integer"
        },
        {
         "name": "Mjob",
         "rawType": "object",
         "type": "string"
        },
        {
         "name": "Fjob",
         "rawType": "object",
         "type": "string"
        },
        {
         "name": "reason",
         "rawType": "object",
         "type": "string"
        },
        {
         "name": "guardian",
         "rawType": "object",
         "type": "string"
        }
       ],
       "conversionMethod": "pd.DataFrame",
       "ref": "221cc4aa-5ac1-4564-bb1e-72868c64aba0",
       "rows": [
        [
         "0",
         "GP",
         "F",
         "18",
         "U",
         "GT3",
         "A",
         "4",
         "4",
         "at_home",
         "teacher",
         "course",
         "mother"
        ],
        [
         "1",
         "GP",
         "F",
         "17",
         "U",
         "GT3",
         "T",
         "1",
         "1",
         "at_home",
         "other",
         "course",
         "father"
        ],
        [
         "2",
         "GP",
         "F",
         "15",
         "U",
         "LE3",
         "T",
         "1",
         "1",
         "at_home",
         "other",
         "other",
         "mother"
        ],
        [
         "3",
         "GP",
         "F",
         "15",
         "U",
         "GT3",
         "T",
         "4",
         "2",
         "health",
         "services",
         "home",
         "mother"
        ],
        [
         "4",
         "GP",
         "F",
         "16",
         "U",
         "GT3",
         "T",
         "3",
         "3",
         "other",
         "other",
         "home",
         "father"
        ],
        [
         "5",
         "GP",
         "M",
         "16",
         "U",
         "LE3",
         "T",
         "4",
         "3",
         "services",
         "other",
         "reputation",
         "mother"
        ],
        [
         "6",
         "GP",
         "M",
         "16",
         "U",
         "LE3",
         "T",
         "2",
         "2",
         "other",
         "other",
         "home",
         "mother"
        ],
        [
         "7",
         "GP",
         "F",
         "17",
         "U",
         "GT3",
         "A",
         "4",
         "4",
         "other",
         "teacher",
         "home",
         "mother"
        ],
        [
         "8",
         "GP",
         "M",
         "15",
         "U",
         "LE3",
         "A",
         "3",
         "2",
         "services",
         "other",
         "home",
         "mother"
        ],
        [
         "9",
         "GP",
         "M",
         "15",
         "U",
         "GT3",
         "T",
         "3",
         "4",
         "other",
         "other",
         "home",
         "mother"
        ],
        [
         "10",
         "GP",
         "F",
         "15",
         "U",
         "GT3",
         "T",
         "4",
         "4",
         "teacher",
         "health",
         "reputation",
         "mother"
        ],
        [
         "11",
         "GP",
         "F",
         "15",
         "U",
         "GT3",
         "T",
         "2",
         "1",
         "services",
         "other",
         "reputation",
         "father"
        ],
        [
         "12",
         "GP",
         "M",
         "15",
         "U",
         "LE3",
         "T",
         "4",
         "4",
         "health",
         "services",
         "course",
         "father"
        ],
        [
         "13",
         "GP",
         "M",
         "15",
         "U",
         "GT3",
         "T",
         "4",
         "3",
         "teacher",
         "other",
         "course",
         "mother"
        ],
        [
         "14",
         "GP",
         "M",
         "15",
         "U",
         "GT3",
         "A",
         "2",
         "2",
         "other",
         "other",
         "home",
         "other"
        ],
        [
         "15",
         "GP",
         "F",
         "16",
         "U",
         "GT3",
         "T",
         "4",
         "4",
         "health",
         "other",
         "home",
         "mother"
        ],
        [
         "16",
         "GP",
         "F",
         "16",
         "U",
         "GT3",
         "T",
         "4",
         "4",
         "services",
         "services",
         "reputation",
         "mother"
        ],
        [
         "17",
         "GP",
         "F",
         "16",
         "U",
         "GT3",
         "T",
         "3",
         "3",
         "other",
         "other",
         "reputation",
         "mother"
        ],
        [
         "18",
         "GP",
         "M",
         "17",
         "U",
         "GT3",
         "T",
         "3",
         "2",
         "services",
         "services",
         "course",
         "mother"
        ],
        [
         "19",
         "GP",
         "M",
         "16",
         "U",
         "LE3",
         "T",
         "4",
         "3",
         "health",
         "other",
         "home",
         "father"
        ],
        [
         "20",
         "GP",
         "M",
         "15",
         "U",
         "GT3",
         "T",
         "4",
         "3",
         "teacher",
         "other",
         "reputation",
         "mother"
        ],
        [
         "21",
         "GP",
         "M",
         "15",
         "U",
         "GT3",
         "T",
         "4",
         "4",
         "health",
         "health",
         "other",
         "father"
        ],
        [
         "22",
         "GP",
         "M",
         "16",
         "U",
         "LE3",
         "T",
         "4",
         "2",
         "teacher",
         "other",
         "course",
         "mother"
        ],
        [
         "23",
         "GP",
         "M",
         "16",
         "U",
         "LE3",
         "T",
         "2",
         "2",
         "other",
         "other",
         "reputation",
         "mother"
        ],
        [
         "24",
         "GP",
         "F",
         "15",
         "R",
         "GT3",
         "T",
         "2",
         "4",
         "services",
         "health",
         "course",
         "mother"
        ],
        [
         "25",
         "GP",
         "F",
         "16",
         "U",
         "GT3",
         "T",
         "2",
         "2",
         "services",
         "services",
         "home",
         "mother"
        ],
        [
         "26",
         "GP",
         "M",
         "15",
         "U",
         "GT3",
         "T",
         "2",
         "2",
         "other",
         "other",
         "home",
         "mother"
        ],
        [
         "27",
         "GP",
         "M",
         "15",
         "U",
         "GT3",
         "T",
         "4",
         "2",
         "health",
         "services",
         "other",
         "mother"
        ],
        [
         "28",
         "GP",
         "M",
         "16",
         "U",
         "LE3",
         "A",
         "3",
         "4",
         "services",
         "other",
         "home",
         "mother"
        ],
        [
         "29",
         "GP",
         "M",
         "16",
         "U",
         "GT3",
         "T",
         "4",
         "4",
         "teacher",
         "teacher",
         "home",
         "mother"
        ],
        [
         "30",
         "GP",
         "M",
         "15",
         "U",
         "GT3",
         "T",
         "4",
         "4",
         "health",
         "services",
         "home",
         "mother"
        ],
        [
         "31",
         "GP",
         "M",
         "15",
         "U",
         "GT3",
         "T",
         "4",
         "4",
         "services",
         "services",
         "reputation",
         "mother"
        ],
        [
         "32",
         "GP",
         "M",
         "15",
         "R",
         "GT3",
         "T",
         "4",
         "3",
         "teacher",
         "at_home",
         "course",
         "mother"
        ],
        [
         "33",
         "GP",
         "M",
         "15",
         "U",
         "LE3",
         "T",
         "3",
         "3",
         "other",
         "other",
         "course",
         "mother"
        ],
        [
         "34",
         "GP",
         "M",
         "16",
         "U",
         "GT3",
         "T",
         "3",
         "2",
         "other",
         "other",
         "home",
         "mother"
        ],
        [
         "35",
         "GP",
         "F",
         "15",
         "U",
         "GT3",
         "T",
         "2",
         "3",
         "other",
         "other",
         "other",
         "father"
        ],
        [
         "36",
         "GP",
         "M",
         "15",
         "U",
         "LE3",
         "T",
         "4",
         "3",
         "teacher",
         "services",
         "home",
         "mother"
        ],
        [
         "37",
         "GP",
         "M",
         "16",
         "R",
         "GT3",
         "A",
         "4",
         "4",
         "other",
         "teacher",
         "reputation",
         "mother"
        ],
        [
         "38",
         "GP",
         "F",
         "15",
         "R",
         "GT3",
         "T",
         "3",
         "4",
         "services",
         "health",
         "course",
         "mother"
        ],
        [
         "39",
         "GP",
         "F",
         "15",
         "R",
         "GT3",
         "T",
         "2",
         "2",
         "at_home",
         "other",
         "reputation",
         "mother"
        ],
        [
         "40",
         "GP",
         "F",
         "16",
         "U",
         "LE3",
         "T",
         "2",
         "2",
         "other",
         "other",
         "home",
         "mother"
        ],
        [
         "41",
         "GP",
         "M",
         "15",
         "U",
         "LE3",
         "T",
         "4",
         "4",
         "teacher",
         "other",
         "home",
         "other"
        ],
        [
         "42",
         "GP",
         "M",
         "15",
         "U",
         "GT3",
         "T",
         "4",
         "4",
         "services",
         "teacher",
         "course",
         "father"
        ],
        [
         "43",
         "GP",
         "M",
         "15",
         "U",
         "GT3",
         "T",
         "2",
         "2",
         "services",
         "services",
         "course",
         "father"
        ],
        [
         "44",
         "GP",
         "F",
         "16",
         "U",
         "LE3",
         "T",
         "2",
         "2",
         "other",
         "at_home",
         "course",
         "father"
        ],
        [
         "45",
         "GP",
         "F",
         "15",
         "U",
         "LE3",
         "A",
         "4",
         "3",
         "other",
         "other",
         "course",
         "mother"
        ],
        [
         "46",
         "GP",
         "F",
         "16",
         "U",
         "LE3",
         "A",
         "3",
         "3",
         "other",
         "services",
         "home",
         "mother"
        ],
        [
         "47",
         "GP",
         "M",
         "16",
         "U",
         "GT3",
         "T",
         "4",
         "3",
         "health",
         "services",
         "reputation",
         "mother"
        ],
        [
         "48",
         "GP",
         "M",
         "15",
         "U",
         "GT3",
         "T",
         "4",
         "2",
         "teacher",
         "other",
         "home",
         "mother"
        ],
        [
         "49",
         "GP",
         "F",
         "15",
         "U",
         "GT3",
         "T",
         "4",
         "4",
         "services",
         "teacher",
         "other",
         "father"
        ]
       ],
       "shape": {
        "columns": 12,
        "rows": 395
       }
      },
      "text/html": [
       "<div>\n",
       "<style scoped>\n",
       "    .dataframe tbody tr th:only-of-type {\n",
       "        vertical-align: middle;\n",
       "    }\n",
       "\n",
       "    .dataframe tbody tr th {\n",
       "        vertical-align: top;\n",
       "    }\n",
       "\n",
       "    .dataframe thead th {\n",
       "        text-align: right;\n",
       "    }\n",
       "</style>\n",
       "<table border=\"1\" class=\"dataframe\">\n",
       "  <thead>\n",
       "    <tr style=\"text-align: right;\">\n",
       "      <th></th>\n",
       "      <th>school</th>\n",
       "      <th>sex</th>\n",
       "      <th>age</th>\n",
       "      <th>address</th>\n",
       "      <th>famsize</th>\n",
       "      <th>Pstatus</th>\n",
       "      <th>Medu</th>\n",
       "      <th>Fedu</th>\n",
       "      <th>Mjob</th>\n",
       "      <th>Fjob</th>\n",
       "      <th>reason</th>\n",
       "      <th>guardian</th>\n",
       "    </tr>\n",
       "  </thead>\n",
       "  <tbody>\n",
       "    <tr>\n",
       "      <th>0</th>\n",
       "      <td>GP</td>\n",
       "      <td>F</td>\n",
       "      <td>18</td>\n",
       "      <td>U</td>\n",
       "      <td>GT3</td>\n",
       "      <td>A</td>\n",
       "      <td>4</td>\n",
       "      <td>4</td>\n",
       "      <td>at_home</td>\n",
       "      <td>teacher</td>\n",
       "      <td>course</td>\n",
       "      <td>mother</td>\n",
       "    </tr>\n",
       "    <tr>\n",
       "      <th>1</th>\n",
       "      <td>GP</td>\n",
       "      <td>F</td>\n",
       "      <td>17</td>\n",
       "      <td>U</td>\n",
       "      <td>GT3</td>\n",
       "      <td>T</td>\n",
       "      <td>1</td>\n",
       "      <td>1</td>\n",
       "      <td>at_home</td>\n",
       "      <td>other</td>\n",
       "      <td>course</td>\n",
       "      <td>father</td>\n",
       "    </tr>\n",
       "    <tr>\n",
       "      <th>2</th>\n",
       "      <td>GP</td>\n",
       "      <td>F</td>\n",
       "      <td>15</td>\n",
       "      <td>U</td>\n",
       "      <td>LE3</td>\n",
       "      <td>T</td>\n",
       "      <td>1</td>\n",
       "      <td>1</td>\n",
       "      <td>at_home</td>\n",
       "      <td>other</td>\n",
       "      <td>other</td>\n",
       "      <td>mother</td>\n",
       "    </tr>\n",
       "    <tr>\n",
       "      <th>3</th>\n",
       "      <td>GP</td>\n",
       "      <td>F</td>\n",
       "      <td>15</td>\n",
       "      <td>U</td>\n",
       "      <td>GT3</td>\n",
       "      <td>T</td>\n",
       "      <td>4</td>\n",
       "      <td>2</td>\n",
       "      <td>health</td>\n",
       "      <td>services</td>\n",
       "      <td>home</td>\n",
       "      <td>mother</td>\n",
       "    </tr>\n",
       "    <tr>\n",
       "      <th>4</th>\n",
       "      <td>GP</td>\n",
       "      <td>F</td>\n",
       "      <td>16</td>\n",
       "      <td>U</td>\n",
       "      <td>GT3</td>\n",
       "      <td>T</td>\n",
       "      <td>3</td>\n",
       "      <td>3</td>\n",
       "      <td>other</td>\n",
       "      <td>other</td>\n",
       "      <td>home</td>\n",
       "      <td>father</td>\n",
       "    </tr>\n",
       "    <tr>\n",
       "      <th>...</th>\n",
       "      <td>...</td>\n",
       "      <td>...</td>\n",
       "      <td>...</td>\n",
       "      <td>...</td>\n",
       "      <td>...</td>\n",
       "      <td>...</td>\n",
       "      <td>...</td>\n",
       "      <td>...</td>\n",
       "      <td>...</td>\n",
       "      <td>...</td>\n",
       "      <td>...</td>\n",
       "      <td>...</td>\n",
       "    </tr>\n",
       "    <tr>\n",
       "      <th>390</th>\n",
       "      <td>MS</td>\n",
       "      <td>M</td>\n",
       "      <td>20</td>\n",
       "      <td>U</td>\n",
       "      <td>LE3</td>\n",
       "      <td>A</td>\n",
       "      <td>2</td>\n",
       "      <td>2</td>\n",
       "      <td>services</td>\n",
       "      <td>services</td>\n",
       "      <td>course</td>\n",
       "      <td>other</td>\n",
       "    </tr>\n",
       "    <tr>\n",
       "      <th>391</th>\n",
       "      <td>MS</td>\n",
       "      <td>M</td>\n",
       "      <td>17</td>\n",
       "      <td>U</td>\n",
       "      <td>LE3</td>\n",
       "      <td>T</td>\n",
       "      <td>3</td>\n",
       "      <td>1</td>\n",
       "      <td>services</td>\n",
       "      <td>services</td>\n",
       "      <td>course</td>\n",
       "      <td>mother</td>\n",
       "    </tr>\n",
       "    <tr>\n",
       "      <th>392</th>\n",
       "      <td>MS</td>\n",
       "      <td>M</td>\n",
       "      <td>21</td>\n",
       "      <td>R</td>\n",
       "      <td>GT3</td>\n",
       "      <td>T</td>\n",
       "      <td>1</td>\n",
       "      <td>1</td>\n",
       "      <td>other</td>\n",
       "      <td>other</td>\n",
       "      <td>course</td>\n",
       "      <td>other</td>\n",
       "    </tr>\n",
       "    <tr>\n",
       "      <th>393</th>\n",
       "      <td>MS</td>\n",
       "      <td>M</td>\n",
       "      <td>18</td>\n",
       "      <td>R</td>\n",
       "      <td>LE3</td>\n",
       "      <td>T</td>\n",
       "      <td>3</td>\n",
       "      <td>2</td>\n",
       "      <td>services</td>\n",
       "      <td>other</td>\n",
       "      <td>course</td>\n",
       "      <td>mother</td>\n",
       "    </tr>\n",
       "    <tr>\n",
       "      <th>394</th>\n",
       "      <td>MS</td>\n",
       "      <td>M</td>\n",
       "      <td>19</td>\n",
       "      <td>U</td>\n",
       "      <td>LE3</td>\n",
       "      <td>T</td>\n",
       "      <td>1</td>\n",
       "      <td>1</td>\n",
       "      <td>other</td>\n",
       "      <td>at_home</td>\n",
       "      <td>course</td>\n",
       "      <td>father</td>\n",
       "    </tr>\n",
       "  </tbody>\n",
       "</table>\n",
       "<p>395 rows × 12 columns</p>\n",
       "</div>"
      ],
      "text/plain": [
       "    school sex  age address famsize Pstatus  Medu  Fedu      Mjob      Fjob  \\\n",
       "0       GP   F   18       U     GT3       A     4     4   at_home   teacher   \n",
       "1       GP   F   17       U     GT3       T     1     1   at_home     other   \n",
       "2       GP   F   15       U     LE3       T     1     1   at_home     other   \n",
       "3       GP   F   15       U     GT3       T     4     2    health  services   \n",
       "4       GP   F   16       U     GT3       T     3     3     other     other   \n",
       "..     ...  ..  ...     ...     ...     ...   ...   ...       ...       ...   \n",
       "390     MS   M   20       U     LE3       A     2     2  services  services   \n",
       "391     MS   M   17       U     LE3       T     3     1  services  services   \n",
       "392     MS   M   21       R     GT3       T     1     1     other     other   \n",
       "393     MS   M   18       R     LE3       T     3     2  services     other   \n",
       "394     MS   M   19       U     LE3       T     1     1     other   at_home   \n",
       "\n",
       "     reason guardian  \n",
       "0    course   mother  \n",
       "1    course   father  \n",
       "2     other   mother  \n",
       "3      home   mother  \n",
       "4      home   father  \n",
       "..      ...      ...  \n",
       "390  course    other  \n",
       "391  course   mother  \n",
       "392  course    other  \n",
       "393  course   mother  \n",
       "394  course   father  \n",
       "\n",
       "[395 rows x 12 columns]"
      ]
     },
     "execution_count": 4,
     "metadata": {},
     "output_type": "execute_result"
    }
   ],
   "source": [
    "df = df.loc[:,'school':'guardian']\n",
    "df"
   ]
  },
  {
   "cell_type": "markdown",
   "metadata": {},
   "source": [
    "### Step 5. Create a lambda function that will capitalize strings."
   ]
  },
  {
   "cell_type": "code",
   "execution_count": 5,
   "metadata": {
    "collapsed": false
   },
   "outputs": [],
   "source": [
    "def cap_str(x : str):\n",
    "    return x.capitalize()"
   ]
  },
  {
   "cell_type": "markdown",
   "metadata": {},
   "source": [
    "### Step 6. Capitalize both Mjob and Fjob"
   ]
  },
  {
   "cell_type": "code",
   "execution_count": 7,
   "metadata": {
    "collapsed": false
   },
   "outputs": [
    {
     "data": {
      "application/vnd.microsoft.datawrangler.viewer.v0+json": {
       "columns": [
        {
         "name": "index",
         "rawType": "int64",
         "type": "integer"
        },
        {
         "name": "Mjob",
         "rawType": "object",
         "type": "string"
        },
        {
         "name": "Fjob",
         "rawType": "object",
         "type": "string"
        }
       ],
       "conversionMethod": "pd.DataFrame",
       "ref": "ef9978eb-ea75-4858-a7af-f410a0fb0e51",
       "rows": [
        [
         "0",
         "At_home",
         "Teacher"
        ],
        [
         "1",
         "At_home",
         "Other"
        ],
        [
         "2",
         "At_home",
         "Other"
        ],
        [
         "3",
         "Health",
         "Services"
        ],
        [
         "4",
         "Other",
         "Other"
        ],
        [
         "5",
         "Services",
         "Other"
        ],
        [
         "6",
         "Other",
         "Other"
        ],
        [
         "7",
         "Other",
         "Teacher"
        ],
        [
         "8",
         "Services",
         "Other"
        ],
        [
         "9",
         "Other",
         "Other"
        ],
        [
         "10",
         "Teacher",
         "Health"
        ],
        [
         "11",
         "Services",
         "Other"
        ],
        [
         "12",
         "Health",
         "Services"
        ],
        [
         "13",
         "Teacher",
         "Other"
        ],
        [
         "14",
         "Other",
         "Other"
        ],
        [
         "15",
         "Health",
         "Other"
        ],
        [
         "16",
         "Services",
         "Services"
        ],
        [
         "17",
         "Other",
         "Other"
        ],
        [
         "18",
         "Services",
         "Services"
        ],
        [
         "19",
         "Health",
         "Other"
        ],
        [
         "20",
         "Teacher",
         "Other"
        ],
        [
         "21",
         "Health",
         "Health"
        ],
        [
         "22",
         "Teacher",
         "Other"
        ],
        [
         "23",
         "Other",
         "Other"
        ],
        [
         "24",
         "Services",
         "Health"
        ],
        [
         "25",
         "Services",
         "Services"
        ],
        [
         "26",
         "Other",
         "Other"
        ],
        [
         "27",
         "Health",
         "Services"
        ],
        [
         "28",
         "Services",
         "Other"
        ],
        [
         "29",
         "Teacher",
         "Teacher"
        ],
        [
         "30",
         "Health",
         "Services"
        ],
        [
         "31",
         "Services",
         "Services"
        ],
        [
         "32",
         "Teacher",
         "At_home"
        ],
        [
         "33",
         "Other",
         "Other"
        ],
        [
         "34",
         "Other",
         "Other"
        ],
        [
         "35",
         "Other",
         "Other"
        ],
        [
         "36",
         "Teacher",
         "Services"
        ],
        [
         "37",
         "Other",
         "Teacher"
        ],
        [
         "38",
         "Services",
         "Health"
        ],
        [
         "39",
         "At_home",
         "Other"
        ],
        [
         "40",
         "Other",
         "Other"
        ],
        [
         "41",
         "Teacher",
         "Other"
        ],
        [
         "42",
         "Services",
         "Teacher"
        ],
        [
         "43",
         "Services",
         "Services"
        ],
        [
         "44",
         "Other",
         "At_home"
        ],
        [
         "45",
         "Other",
         "Other"
        ],
        [
         "46",
         "Other",
         "Services"
        ],
        [
         "47",
         "Health",
         "Services"
        ],
        [
         "48",
         "Teacher",
         "Other"
        ],
        [
         "49",
         "Services",
         "Teacher"
        ]
       ],
       "shape": {
        "columns": 2,
        "rows": 395
       }
      },
      "text/html": [
       "<div>\n",
       "<style scoped>\n",
       "    .dataframe tbody tr th:only-of-type {\n",
       "        vertical-align: middle;\n",
       "    }\n",
       "\n",
       "    .dataframe tbody tr th {\n",
       "        vertical-align: top;\n",
       "    }\n",
       "\n",
       "    .dataframe thead th {\n",
       "        text-align: right;\n",
       "    }\n",
       "</style>\n",
       "<table border=\"1\" class=\"dataframe\">\n",
       "  <thead>\n",
       "    <tr style=\"text-align: right;\">\n",
       "      <th></th>\n",
       "      <th>Mjob</th>\n",
       "      <th>Fjob</th>\n",
       "    </tr>\n",
       "  </thead>\n",
       "  <tbody>\n",
       "    <tr>\n",
       "      <th>0</th>\n",
       "      <td>At_home</td>\n",
       "      <td>Teacher</td>\n",
       "    </tr>\n",
       "    <tr>\n",
       "      <th>1</th>\n",
       "      <td>At_home</td>\n",
       "      <td>Other</td>\n",
       "    </tr>\n",
       "    <tr>\n",
       "      <th>2</th>\n",
       "      <td>At_home</td>\n",
       "      <td>Other</td>\n",
       "    </tr>\n",
       "    <tr>\n",
       "      <th>3</th>\n",
       "      <td>Health</td>\n",
       "      <td>Services</td>\n",
       "    </tr>\n",
       "    <tr>\n",
       "      <th>4</th>\n",
       "      <td>Other</td>\n",
       "      <td>Other</td>\n",
       "    </tr>\n",
       "    <tr>\n",
       "      <th>...</th>\n",
       "      <td>...</td>\n",
       "      <td>...</td>\n",
       "    </tr>\n",
       "    <tr>\n",
       "      <th>390</th>\n",
       "      <td>Services</td>\n",
       "      <td>Services</td>\n",
       "    </tr>\n",
       "    <tr>\n",
       "      <th>391</th>\n",
       "      <td>Services</td>\n",
       "      <td>Services</td>\n",
       "    </tr>\n",
       "    <tr>\n",
       "      <th>392</th>\n",
       "      <td>Other</td>\n",
       "      <td>Other</td>\n",
       "    </tr>\n",
       "    <tr>\n",
       "      <th>393</th>\n",
       "      <td>Services</td>\n",
       "      <td>Other</td>\n",
       "    </tr>\n",
       "    <tr>\n",
       "      <th>394</th>\n",
       "      <td>Other</td>\n",
       "      <td>At_home</td>\n",
       "    </tr>\n",
       "  </tbody>\n",
       "</table>\n",
       "<p>395 rows × 2 columns</p>\n",
       "</div>"
      ],
      "text/plain": [
       "         Mjob      Fjob\n",
       "0     At_home   Teacher\n",
       "1     At_home     Other\n",
       "2     At_home     Other\n",
       "3      Health  Services\n",
       "4       Other     Other\n",
       "..        ...       ...\n",
       "390  Services  Services\n",
       "391  Services  Services\n",
       "392     Other     Other\n",
       "393  Services     Other\n",
       "394     Other   At_home\n",
       "\n",
       "[395 rows x 2 columns]"
      ]
     },
     "execution_count": 7,
     "metadata": {},
     "output_type": "execute_result"
    }
   ],
   "source": [
    "df['Mjob'] = df['Mjob'].apply(cap_str)\n",
    "df['Fjob'] = df['Fjob'].apply(cap_str)\n",
    "df[['Mjob', 'Fjob']]"
   ]
  },
  {
   "cell_type": "markdown",
   "metadata": {},
   "source": [
    "### Step 7. Print the last elements of the data set."
   ]
  },
  {
   "cell_type": "code",
   "execution_count": 9,
   "metadata": {
    "collapsed": false
   },
   "outputs": [
    {
     "data": {
      "text/plain": [
       "school           MS\n",
       "sex               M\n",
       "age              19\n",
       "address           U\n",
       "famsize         LE3\n",
       "Pstatus           T\n",
       "Medu              1\n",
       "Fedu              1\n",
       "Mjob          Other\n",
       "Fjob        At_home\n",
       "reason       course\n",
       "guardian     father\n",
       "Name: 394, dtype: object"
      ]
     },
     "execution_count": 9,
     "metadata": {},
     "output_type": "execute_result"
    }
   ],
   "source": [
    "df.iloc[-1,:]"
   ]
  },
  {
   "cell_type": "markdown",
   "metadata": {},
   "source": [
    "### Step 8. Did you notice the original dataframe is still lowercase? Why is that? Fix it and capitalize Mjob and Fjob."
   ]
  },
  {
   "cell_type": "code",
   "execution_count": 10,
   "metadata": {
    "collapsed": false
   },
   "outputs": [
    {
     "data": {
      "text/plain": [
       "'no i made it correctly'"
      ]
     },
     "execution_count": 10,
     "metadata": {},
     "output_type": "execute_result"
    }
   ],
   "source": [
    "\"no i made it correctly\""
   ]
  },
  {
   "cell_type": "markdown",
   "metadata": {},
   "source": [
    "### Step 9. Create a function called majority that returns a boolean value to a new column called legal_drinker (Consider majority as older than 17 years old)"
   ]
  },
  {
   "cell_type": "code",
   "execution_count": 12,
   "metadata": {
    "collapsed": false
   },
   "outputs": [],
   "source": [
    "def majority(x):\n",
    "    if x <= 17:\n",
    "        return False\n",
    "    else:\n",
    "        return True"
   ]
  },
  {
   "cell_type": "code",
   "execution_count": 14,
   "metadata": {
    "collapsed": false
   },
   "outputs": [
    {
     "data": {
      "application/vnd.microsoft.datawrangler.viewer.v0+json": {
       "columns": [
        {
         "name": "index",
         "rawType": "int64",
         "type": "integer"
        },
        {
         "name": "legal_drinker",
         "rawType": "bool",
         "type": "boolean"
        },
        {
         "name": "age",
         "rawType": "int64",
         "type": "integer"
        }
       ],
       "conversionMethod": "pd.DataFrame",
       "ref": "62304be2-8f19-45a2-86a0-f63ce99d5ddd",
       "rows": [
        [
         "0",
         "True",
         "18"
        ],
        [
         "1",
         "False",
         "17"
        ],
        [
         "2",
         "False",
         "15"
        ],
        [
         "3",
         "False",
         "15"
        ],
        [
         "4",
         "False",
         "16"
        ],
        [
         "5",
         "False",
         "16"
        ],
        [
         "6",
         "False",
         "16"
        ],
        [
         "7",
         "False",
         "17"
        ],
        [
         "8",
         "False",
         "15"
        ],
        [
         "9",
         "False",
         "15"
        ],
        [
         "10",
         "False",
         "15"
        ],
        [
         "11",
         "False",
         "15"
        ],
        [
         "12",
         "False",
         "15"
        ],
        [
         "13",
         "False",
         "15"
        ],
        [
         "14",
         "False",
         "15"
        ],
        [
         "15",
         "False",
         "16"
        ],
        [
         "16",
         "False",
         "16"
        ],
        [
         "17",
         "False",
         "16"
        ],
        [
         "18",
         "False",
         "17"
        ],
        [
         "19",
         "False",
         "16"
        ],
        [
         "20",
         "False",
         "15"
        ],
        [
         "21",
         "False",
         "15"
        ],
        [
         "22",
         "False",
         "16"
        ],
        [
         "23",
         "False",
         "16"
        ],
        [
         "24",
         "False",
         "15"
        ],
        [
         "25",
         "False",
         "16"
        ],
        [
         "26",
         "False",
         "15"
        ],
        [
         "27",
         "False",
         "15"
        ],
        [
         "28",
         "False",
         "16"
        ],
        [
         "29",
         "False",
         "16"
        ],
        [
         "30",
         "False",
         "15"
        ],
        [
         "31",
         "False",
         "15"
        ],
        [
         "32",
         "False",
         "15"
        ],
        [
         "33",
         "False",
         "15"
        ],
        [
         "34",
         "False",
         "16"
        ],
        [
         "35",
         "False",
         "15"
        ],
        [
         "36",
         "False",
         "15"
        ],
        [
         "37",
         "False",
         "16"
        ],
        [
         "38",
         "False",
         "15"
        ],
        [
         "39",
         "False",
         "15"
        ],
        [
         "40",
         "False",
         "16"
        ],
        [
         "41",
         "False",
         "15"
        ],
        [
         "42",
         "False",
         "15"
        ],
        [
         "43",
         "False",
         "15"
        ],
        [
         "44",
         "False",
         "16"
        ],
        [
         "45",
         "False",
         "15"
        ],
        [
         "46",
         "False",
         "16"
        ],
        [
         "47",
         "False",
         "16"
        ],
        [
         "48",
         "False",
         "15"
        ],
        [
         "49",
         "False",
         "15"
        ]
       ],
       "shape": {
        "columns": 2,
        "rows": 395
       }
      },
      "text/html": [
       "<div>\n",
       "<style scoped>\n",
       "    .dataframe tbody tr th:only-of-type {\n",
       "        vertical-align: middle;\n",
       "    }\n",
       "\n",
       "    .dataframe tbody tr th {\n",
       "        vertical-align: top;\n",
       "    }\n",
       "\n",
       "    .dataframe thead th {\n",
       "        text-align: right;\n",
       "    }\n",
       "</style>\n",
       "<table border=\"1\" class=\"dataframe\">\n",
       "  <thead>\n",
       "    <tr style=\"text-align: right;\">\n",
       "      <th></th>\n",
       "      <th>legal_drinker</th>\n",
       "      <th>age</th>\n",
       "    </tr>\n",
       "  </thead>\n",
       "  <tbody>\n",
       "    <tr>\n",
       "      <th>0</th>\n",
       "      <td>True</td>\n",
       "      <td>18</td>\n",
       "    </tr>\n",
       "    <tr>\n",
       "      <th>1</th>\n",
       "      <td>False</td>\n",
       "      <td>17</td>\n",
       "    </tr>\n",
       "    <tr>\n",
       "      <th>2</th>\n",
       "      <td>False</td>\n",
       "      <td>15</td>\n",
       "    </tr>\n",
       "    <tr>\n",
       "      <th>3</th>\n",
       "      <td>False</td>\n",
       "      <td>15</td>\n",
       "    </tr>\n",
       "    <tr>\n",
       "      <th>4</th>\n",
       "      <td>False</td>\n",
       "      <td>16</td>\n",
       "    </tr>\n",
       "    <tr>\n",
       "      <th>...</th>\n",
       "      <td>...</td>\n",
       "      <td>...</td>\n",
       "    </tr>\n",
       "    <tr>\n",
       "      <th>390</th>\n",
       "      <td>True</td>\n",
       "      <td>20</td>\n",
       "    </tr>\n",
       "    <tr>\n",
       "      <th>391</th>\n",
       "      <td>False</td>\n",
       "      <td>17</td>\n",
       "    </tr>\n",
       "    <tr>\n",
       "      <th>392</th>\n",
       "      <td>True</td>\n",
       "      <td>21</td>\n",
       "    </tr>\n",
       "    <tr>\n",
       "      <th>393</th>\n",
       "      <td>True</td>\n",
       "      <td>18</td>\n",
       "    </tr>\n",
       "    <tr>\n",
       "      <th>394</th>\n",
       "      <td>True</td>\n",
       "      <td>19</td>\n",
       "    </tr>\n",
       "  </tbody>\n",
       "</table>\n",
       "<p>395 rows × 2 columns</p>\n",
       "</div>"
      ],
      "text/plain": [
       "     legal_drinker  age\n",
       "0             True   18\n",
       "1            False   17\n",
       "2            False   15\n",
       "3            False   15\n",
       "4            False   16\n",
       "..             ...  ...\n",
       "390           True   20\n",
       "391          False   17\n",
       "392           True   21\n",
       "393           True   18\n",
       "394           True   19\n",
       "\n",
       "[395 rows x 2 columns]"
      ]
     },
     "execution_count": 14,
     "metadata": {},
     "output_type": "execute_result"
    }
   ],
   "source": [
    "df['legal_drinker'] = df['age'].apply(majority)\n",
    "df[['legal_drinker', 'age']]"
   ]
  },
  {
   "cell_type": "markdown",
   "metadata": {},
   "source": [
    "### Step 10. Multiply every number of the dataset by 10. \n",
    "##### I know this makes no sense, don't forget it is just an exercise"
   ]
  },
  {
   "cell_type": "code",
   "execution_count": 16,
   "metadata": {
    "collapsed": false
   },
   "outputs": [],
   "source": [
    "df[df.select_dtypes(np.number).columns] = df[df.select_dtypes(np.number).columns].apply(lambda x: x * 10)"
   ]
  },
  {
   "cell_type": "code",
   "execution_count": 17,
   "metadata": {
    "collapsed": false
   },
   "outputs": [
    {
     "data": {
      "application/vnd.microsoft.datawrangler.viewer.v0+json": {
       "columns": [
        {
         "name": "index",
         "rawType": "int64",
         "type": "integer"
        },
        {
         "name": "school",
         "rawType": "object",
         "type": "string"
        },
        {
         "name": "sex",
         "rawType": "object",
         "type": "string"
        },
        {
         "name": "age",
         "rawType": "int64",
         "type": "integer"
        },
        {
         "name": "address",
         "rawType": "object",
         "type": "string"
        },
        {
         "name": "famsize",
         "rawType": "object",
         "type": "string"
        },
        {
         "name": "Pstatus",
         "rawType": "object",
         "type": "string"
        },
        {
         "name": "Medu",
         "rawType": "int64",
         "type": "integer"
        },
        {
         "name": "Fedu",
         "rawType": "int64",
         "type": "integer"
        },
        {
         "name": "Mjob",
         "rawType": "object",
         "type": "string"
        },
        {
         "name": "Fjob",
         "rawType": "object",
         "type": "string"
        },
        {
         "name": "reason",
         "rawType": "object",
         "type": "string"
        },
        {
         "name": "guardian",
         "rawType": "object",
         "type": "string"
        },
        {
         "name": "legal_drinker",
         "rawType": "bool",
         "type": "boolean"
        }
       ],
       "conversionMethod": "pd.DataFrame",
       "ref": "c841b1ef-fc3c-4f53-b8fc-6283019f8c1a",
       "rows": [
        [
         "0",
         "GP",
         "F",
         "180",
         "U",
         "GT3",
         "A",
         "40",
         "40",
         "At_home",
         "Teacher",
         "course",
         "mother",
         "True"
        ],
        [
         "1",
         "GP",
         "F",
         "170",
         "U",
         "GT3",
         "T",
         "10",
         "10",
         "At_home",
         "Other",
         "course",
         "father",
         "False"
        ],
        [
         "2",
         "GP",
         "F",
         "150",
         "U",
         "LE3",
         "T",
         "10",
         "10",
         "At_home",
         "Other",
         "other",
         "mother",
         "False"
        ],
        [
         "3",
         "GP",
         "F",
         "150",
         "U",
         "GT3",
         "T",
         "40",
         "20",
         "Health",
         "Services",
         "home",
         "mother",
         "False"
        ],
        [
         "4",
         "GP",
         "F",
         "160",
         "U",
         "GT3",
         "T",
         "30",
         "30",
         "Other",
         "Other",
         "home",
         "father",
         "False"
        ],
        [
         "5",
         "GP",
         "M",
         "160",
         "U",
         "LE3",
         "T",
         "40",
         "30",
         "Services",
         "Other",
         "reputation",
         "mother",
         "False"
        ],
        [
         "6",
         "GP",
         "M",
         "160",
         "U",
         "LE3",
         "T",
         "20",
         "20",
         "Other",
         "Other",
         "home",
         "mother",
         "False"
        ],
        [
         "7",
         "GP",
         "F",
         "170",
         "U",
         "GT3",
         "A",
         "40",
         "40",
         "Other",
         "Teacher",
         "home",
         "mother",
         "False"
        ],
        [
         "8",
         "GP",
         "M",
         "150",
         "U",
         "LE3",
         "A",
         "30",
         "20",
         "Services",
         "Other",
         "home",
         "mother",
         "False"
        ],
        [
         "9",
         "GP",
         "M",
         "150",
         "U",
         "GT3",
         "T",
         "30",
         "40",
         "Other",
         "Other",
         "home",
         "mother",
         "False"
        ],
        [
         "10",
         "GP",
         "F",
         "150",
         "U",
         "GT3",
         "T",
         "40",
         "40",
         "Teacher",
         "Health",
         "reputation",
         "mother",
         "False"
        ],
        [
         "11",
         "GP",
         "F",
         "150",
         "U",
         "GT3",
         "T",
         "20",
         "10",
         "Services",
         "Other",
         "reputation",
         "father",
         "False"
        ],
        [
         "12",
         "GP",
         "M",
         "150",
         "U",
         "LE3",
         "T",
         "40",
         "40",
         "Health",
         "Services",
         "course",
         "father",
         "False"
        ],
        [
         "13",
         "GP",
         "M",
         "150",
         "U",
         "GT3",
         "T",
         "40",
         "30",
         "Teacher",
         "Other",
         "course",
         "mother",
         "False"
        ],
        [
         "14",
         "GP",
         "M",
         "150",
         "U",
         "GT3",
         "A",
         "20",
         "20",
         "Other",
         "Other",
         "home",
         "other",
         "False"
        ],
        [
         "15",
         "GP",
         "F",
         "160",
         "U",
         "GT3",
         "T",
         "40",
         "40",
         "Health",
         "Other",
         "home",
         "mother",
         "False"
        ],
        [
         "16",
         "GP",
         "F",
         "160",
         "U",
         "GT3",
         "T",
         "40",
         "40",
         "Services",
         "Services",
         "reputation",
         "mother",
         "False"
        ],
        [
         "17",
         "GP",
         "F",
         "160",
         "U",
         "GT3",
         "T",
         "30",
         "30",
         "Other",
         "Other",
         "reputation",
         "mother",
         "False"
        ],
        [
         "18",
         "GP",
         "M",
         "170",
         "U",
         "GT3",
         "T",
         "30",
         "20",
         "Services",
         "Services",
         "course",
         "mother",
         "False"
        ],
        [
         "19",
         "GP",
         "M",
         "160",
         "U",
         "LE3",
         "T",
         "40",
         "30",
         "Health",
         "Other",
         "home",
         "father",
         "False"
        ],
        [
         "20",
         "GP",
         "M",
         "150",
         "U",
         "GT3",
         "T",
         "40",
         "30",
         "Teacher",
         "Other",
         "reputation",
         "mother",
         "False"
        ],
        [
         "21",
         "GP",
         "M",
         "150",
         "U",
         "GT3",
         "T",
         "40",
         "40",
         "Health",
         "Health",
         "other",
         "father",
         "False"
        ],
        [
         "22",
         "GP",
         "M",
         "160",
         "U",
         "LE3",
         "T",
         "40",
         "20",
         "Teacher",
         "Other",
         "course",
         "mother",
         "False"
        ],
        [
         "23",
         "GP",
         "M",
         "160",
         "U",
         "LE3",
         "T",
         "20",
         "20",
         "Other",
         "Other",
         "reputation",
         "mother",
         "False"
        ],
        [
         "24",
         "GP",
         "F",
         "150",
         "R",
         "GT3",
         "T",
         "20",
         "40",
         "Services",
         "Health",
         "course",
         "mother",
         "False"
        ],
        [
         "25",
         "GP",
         "F",
         "160",
         "U",
         "GT3",
         "T",
         "20",
         "20",
         "Services",
         "Services",
         "home",
         "mother",
         "False"
        ],
        [
         "26",
         "GP",
         "M",
         "150",
         "U",
         "GT3",
         "T",
         "20",
         "20",
         "Other",
         "Other",
         "home",
         "mother",
         "False"
        ],
        [
         "27",
         "GP",
         "M",
         "150",
         "U",
         "GT3",
         "T",
         "40",
         "20",
         "Health",
         "Services",
         "other",
         "mother",
         "False"
        ],
        [
         "28",
         "GP",
         "M",
         "160",
         "U",
         "LE3",
         "A",
         "30",
         "40",
         "Services",
         "Other",
         "home",
         "mother",
         "False"
        ],
        [
         "29",
         "GP",
         "M",
         "160",
         "U",
         "GT3",
         "T",
         "40",
         "40",
         "Teacher",
         "Teacher",
         "home",
         "mother",
         "False"
        ],
        [
         "30",
         "GP",
         "M",
         "150",
         "U",
         "GT3",
         "T",
         "40",
         "40",
         "Health",
         "Services",
         "home",
         "mother",
         "False"
        ],
        [
         "31",
         "GP",
         "M",
         "150",
         "U",
         "GT3",
         "T",
         "40",
         "40",
         "Services",
         "Services",
         "reputation",
         "mother",
         "False"
        ],
        [
         "32",
         "GP",
         "M",
         "150",
         "R",
         "GT3",
         "T",
         "40",
         "30",
         "Teacher",
         "At_home",
         "course",
         "mother",
         "False"
        ],
        [
         "33",
         "GP",
         "M",
         "150",
         "U",
         "LE3",
         "T",
         "30",
         "30",
         "Other",
         "Other",
         "course",
         "mother",
         "False"
        ],
        [
         "34",
         "GP",
         "M",
         "160",
         "U",
         "GT3",
         "T",
         "30",
         "20",
         "Other",
         "Other",
         "home",
         "mother",
         "False"
        ],
        [
         "35",
         "GP",
         "F",
         "150",
         "U",
         "GT3",
         "T",
         "20",
         "30",
         "Other",
         "Other",
         "other",
         "father",
         "False"
        ],
        [
         "36",
         "GP",
         "M",
         "150",
         "U",
         "LE3",
         "T",
         "40",
         "30",
         "Teacher",
         "Services",
         "home",
         "mother",
         "False"
        ],
        [
         "37",
         "GP",
         "M",
         "160",
         "R",
         "GT3",
         "A",
         "40",
         "40",
         "Other",
         "Teacher",
         "reputation",
         "mother",
         "False"
        ],
        [
         "38",
         "GP",
         "F",
         "150",
         "R",
         "GT3",
         "T",
         "30",
         "40",
         "Services",
         "Health",
         "course",
         "mother",
         "False"
        ],
        [
         "39",
         "GP",
         "F",
         "150",
         "R",
         "GT3",
         "T",
         "20",
         "20",
         "At_home",
         "Other",
         "reputation",
         "mother",
         "False"
        ],
        [
         "40",
         "GP",
         "F",
         "160",
         "U",
         "LE3",
         "T",
         "20",
         "20",
         "Other",
         "Other",
         "home",
         "mother",
         "False"
        ],
        [
         "41",
         "GP",
         "M",
         "150",
         "U",
         "LE3",
         "T",
         "40",
         "40",
         "Teacher",
         "Other",
         "home",
         "other",
         "False"
        ],
        [
         "42",
         "GP",
         "M",
         "150",
         "U",
         "GT3",
         "T",
         "40",
         "40",
         "Services",
         "Teacher",
         "course",
         "father",
         "False"
        ],
        [
         "43",
         "GP",
         "M",
         "150",
         "U",
         "GT3",
         "T",
         "20",
         "20",
         "Services",
         "Services",
         "course",
         "father",
         "False"
        ],
        [
         "44",
         "GP",
         "F",
         "160",
         "U",
         "LE3",
         "T",
         "20",
         "20",
         "Other",
         "At_home",
         "course",
         "father",
         "False"
        ],
        [
         "45",
         "GP",
         "F",
         "150",
         "U",
         "LE3",
         "A",
         "40",
         "30",
         "Other",
         "Other",
         "course",
         "mother",
         "False"
        ],
        [
         "46",
         "GP",
         "F",
         "160",
         "U",
         "LE3",
         "A",
         "30",
         "30",
         "Other",
         "Services",
         "home",
         "mother",
         "False"
        ],
        [
         "47",
         "GP",
         "M",
         "160",
         "U",
         "GT3",
         "T",
         "40",
         "30",
         "Health",
         "Services",
         "reputation",
         "mother",
         "False"
        ],
        [
         "48",
         "GP",
         "M",
         "150",
         "U",
         "GT3",
         "T",
         "40",
         "20",
         "Teacher",
         "Other",
         "home",
         "mother",
         "False"
        ],
        [
         "49",
         "GP",
         "F",
         "150",
         "U",
         "GT3",
         "T",
         "40",
         "40",
         "Services",
         "Teacher",
         "other",
         "father",
         "False"
        ]
       ],
       "shape": {
        "columns": 13,
        "rows": 395
       }
      },
      "text/html": [
       "<div>\n",
       "<style scoped>\n",
       "    .dataframe tbody tr th:only-of-type {\n",
       "        vertical-align: middle;\n",
       "    }\n",
       "\n",
       "    .dataframe tbody tr th {\n",
       "        vertical-align: top;\n",
       "    }\n",
       "\n",
       "    .dataframe thead th {\n",
       "        text-align: right;\n",
       "    }\n",
       "</style>\n",
       "<table border=\"1\" class=\"dataframe\">\n",
       "  <thead>\n",
       "    <tr style=\"text-align: right;\">\n",
       "      <th></th>\n",
       "      <th>school</th>\n",
       "      <th>sex</th>\n",
       "      <th>age</th>\n",
       "      <th>address</th>\n",
       "      <th>famsize</th>\n",
       "      <th>Pstatus</th>\n",
       "      <th>Medu</th>\n",
       "      <th>Fedu</th>\n",
       "      <th>Mjob</th>\n",
       "      <th>Fjob</th>\n",
       "      <th>reason</th>\n",
       "      <th>guardian</th>\n",
       "      <th>legal_drinker</th>\n",
       "    </tr>\n",
       "  </thead>\n",
       "  <tbody>\n",
       "    <tr>\n",
       "      <th>0</th>\n",
       "      <td>GP</td>\n",
       "      <td>F</td>\n",
       "      <td>180</td>\n",
       "      <td>U</td>\n",
       "      <td>GT3</td>\n",
       "      <td>A</td>\n",
       "      <td>40</td>\n",
       "      <td>40</td>\n",
       "      <td>At_home</td>\n",
       "      <td>Teacher</td>\n",
       "      <td>course</td>\n",
       "      <td>mother</td>\n",
       "      <td>True</td>\n",
       "    </tr>\n",
       "    <tr>\n",
       "      <th>1</th>\n",
       "      <td>GP</td>\n",
       "      <td>F</td>\n",
       "      <td>170</td>\n",
       "      <td>U</td>\n",
       "      <td>GT3</td>\n",
       "      <td>T</td>\n",
       "      <td>10</td>\n",
       "      <td>10</td>\n",
       "      <td>At_home</td>\n",
       "      <td>Other</td>\n",
       "      <td>course</td>\n",
       "      <td>father</td>\n",
       "      <td>False</td>\n",
       "    </tr>\n",
       "    <tr>\n",
       "      <th>2</th>\n",
       "      <td>GP</td>\n",
       "      <td>F</td>\n",
       "      <td>150</td>\n",
       "      <td>U</td>\n",
       "      <td>LE3</td>\n",
       "      <td>T</td>\n",
       "      <td>10</td>\n",
       "      <td>10</td>\n",
       "      <td>At_home</td>\n",
       "      <td>Other</td>\n",
       "      <td>other</td>\n",
       "      <td>mother</td>\n",
       "      <td>False</td>\n",
       "    </tr>\n",
       "    <tr>\n",
       "      <th>3</th>\n",
       "      <td>GP</td>\n",
       "      <td>F</td>\n",
       "      <td>150</td>\n",
       "      <td>U</td>\n",
       "      <td>GT3</td>\n",
       "      <td>T</td>\n",
       "      <td>40</td>\n",
       "      <td>20</td>\n",
       "      <td>Health</td>\n",
       "      <td>Services</td>\n",
       "      <td>home</td>\n",
       "      <td>mother</td>\n",
       "      <td>False</td>\n",
       "    </tr>\n",
       "    <tr>\n",
       "      <th>4</th>\n",
       "      <td>GP</td>\n",
       "      <td>F</td>\n",
       "      <td>160</td>\n",
       "      <td>U</td>\n",
       "      <td>GT3</td>\n",
       "      <td>T</td>\n",
       "      <td>30</td>\n",
       "      <td>30</td>\n",
       "      <td>Other</td>\n",
       "      <td>Other</td>\n",
       "      <td>home</td>\n",
       "      <td>father</td>\n",
       "      <td>False</td>\n",
       "    </tr>\n",
       "    <tr>\n",
       "      <th>...</th>\n",
       "      <td>...</td>\n",
       "      <td>...</td>\n",
       "      <td>...</td>\n",
       "      <td>...</td>\n",
       "      <td>...</td>\n",
       "      <td>...</td>\n",
       "      <td>...</td>\n",
       "      <td>...</td>\n",
       "      <td>...</td>\n",
       "      <td>...</td>\n",
       "      <td>...</td>\n",
       "      <td>...</td>\n",
       "      <td>...</td>\n",
       "    </tr>\n",
       "    <tr>\n",
       "      <th>390</th>\n",
       "      <td>MS</td>\n",
       "      <td>M</td>\n",
       "      <td>200</td>\n",
       "      <td>U</td>\n",
       "      <td>LE3</td>\n",
       "      <td>A</td>\n",
       "      <td>20</td>\n",
       "      <td>20</td>\n",
       "      <td>Services</td>\n",
       "      <td>Services</td>\n",
       "      <td>course</td>\n",
       "      <td>other</td>\n",
       "      <td>True</td>\n",
       "    </tr>\n",
       "    <tr>\n",
       "      <th>391</th>\n",
       "      <td>MS</td>\n",
       "      <td>M</td>\n",
       "      <td>170</td>\n",
       "      <td>U</td>\n",
       "      <td>LE3</td>\n",
       "      <td>T</td>\n",
       "      <td>30</td>\n",
       "      <td>10</td>\n",
       "      <td>Services</td>\n",
       "      <td>Services</td>\n",
       "      <td>course</td>\n",
       "      <td>mother</td>\n",
       "      <td>False</td>\n",
       "    </tr>\n",
       "    <tr>\n",
       "      <th>392</th>\n",
       "      <td>MS</td>\n",
       "      <td>M</td>\n",
       "      <td>210</td>\n",
       "      <td>R</td>\n",
       "      <td>GT3</td>\n",
       "      <td>T</td>\n",
       "      <td>10</td>\n",
       "      <td>10</td>\n",
       "      <td>Other</td>\n",
       "      <td>Other</td>\n",
       "      <td>course</td>\n",
       "      <td>other</td>\n",
       "      <td>True</td>\n",
       "    </tr>\n",
       "    <tr>\n",
       "      <th>393</th>\n",
       "      <td>MS</td>\n",
       "      <td>M</td>\n",
       "      <td>180</td>\n",
       "      <td>R</td>\n",
       "      <td>LE3</td>\n",
       "      <td>T</td>\n",
       "      <td>30</td>\n",
       "      <td>20</td>\n",
       "      <td>Services</td>\n",
       "      <td>Other</td>\n",
       "      <td>course</td>\n",
       "      <td>mother</td>\n",
       "      <td>True</td>\n",
       "    </tr>\n",
       "    <tr>\n",
       "      <th>394</th>\n",
       "      <td>MS</td>\n",
       "      <td>M</td>\n",
       "      <td>190</td>\n",
       "      <td>U</td>\n",
       "      <td>LE3</td>\n",
       "      <td>T</td>\n",
       "      <td>10</td>\n",
       "      <td>10</td>\n",
       "      <td>Other</td>\n",
       "      <td>At_home</td>\n",
       "      <td>course</td>\n",
       "      <td>father</td>\n",
       "      <td>True</td>\n",
       "    </tr>\n",
       "  </tbody>\n",
       "</table>\n",
       "<p>395 rows × 13 columns</p>\n",
       "</div>"
      ],
      "text/plain": [
       "    school sex  age address famsize Pstatus  Medu  Fedu      Mjob      Fjob  \\\n",
       "0       GP   F  180       U     GT3       A    40    40   At_home   Teacher   \n",
       "1       GP   F  170       U     GT3       T    10    10   At_home     Other   \n",
       "2       GP   F  150       U     LE3       T    10    10   At_home     Other   \n",
       "3       GP   F  150       U     GT3       T    40    20    Health  Services   \n",
       "4       GP   F  160       U     GT3       T    30    30     Other     Other   \n",
       "..     ...  ..  ...     ...     ...     ...   ...   ...       ...       ...   \n",
       "390     MS   M  200       U     LE3       A    20    20  Services  Services   \n",
       "391     MS   M  170       U     LE3       T    30    10  Services  Services   \n",
       "392     MS   M  210       R     GT3       T    10    10     Other     Other   \n",
       "393     MS   M  180       R     LE3       T    30    20  Services     Other   \n",
       "394     MS   M  190       U     LE3       T    10    10     Other   At_home   \n",
       "\n",
       "     reason guardian  legal_drinker  \n",
       "0    course   mother           True  \n",
       "1    course   father          False  \n",
       "2     other   mother          False  \n",
       "3      home   mother          False  \n",
       "4      home   father          False  \n",
       "..      ...      ...            ...  \n",
       "390  course    other           True  \n",
       "391  course   mother          False  \n",
       "392  course    other           True  \n",
       "393  course   mother           True  \n",
       "394  course   father           True  \n",
       "\n",
       "[395 rows x 13 columns]"
      ]
     },
     "execution_count": 17,
     "metadata": {},
     "output_type": "execute_result"
    }
   ],
   "source": [
    "df"
   ]
  }
 ],
 "metadata": {
  "anaconda-cloud": {},
  "kernelspec": {
   "display_name": "Python 3",
   "language": "python",
   "name": "python3"
  },
  "language_info": {
   "codemirror_mode": {
    "name": "ipython",
    "version": 3
   },
   "file_extension": ".py",
   "mimetype": "text/x-python",
   "name": "python",
   "nbconvert_exporter": "python",
   "pygments_lexer": "ipython3",
   "version": "3.9.6"
  }
 },
 "nbformat": 4,
 "nbformat_minor": 0
}
